{
 "cells": [
  {
   "cell_type": "code",
   "execution_count": 18,
   "metadata": {},
   "outputs": [
    {
     "name": "stdout",
     "output_type": "stream",
     "text": [
      "Requirement already satisfied: pyreadr in d:\\student-job\\my_virtual_env\\lib\\site-packages (0.5.2)Note: you may need to restart the kernel to use updated packages.\n",
      "\n",
      "Requirement already satisfied: pandas>=1.2.0 in d:\\student-job\\my_virtual_env\\lib\\site-packages (from pyreadr) (2.2.2)\n",
      "Requirement already satisfied: pytz>=2020.1 in d:\\student-job\\my_virtual_env\\lib\\site-packages (from pandas>=1.2.0->pyreadr) (2024.1)\n",
      "Requirement already satisfied: numpy>=1.22.4 in d:\\student-job\\my_virtual_env\\lib\\site-packages (from pandas>=1.2.0->pyreadr) (2.1.0)\n",
      "Requirement already satisfied: python-dateutil>=2.8.2 in d:\\student-job\\my_virtual_env\\lib\\site-packages (from pandas>=1.2.0->pyreadr) (2.9.0.post0)\n",
      "Requirement already satisfied: tzdata>=2022.7 in d:\\student-job\\my_virtual_env\\lib\\site-packages (from pandas>=1.2.0->pyreadr) (2024.1)\n",
      "Requirement already satisfied: six>=1.5 in d:\\student-job\\my_virtual_env\\lib\\site-packages (from python-dateutil>=2.8.2->pandas>=1.2.0->pyreadr) (1.16.0)\n"
     ]
    },
    {
     "name": "stderr",
     "output_type": "stream",
     "text": [
      "\n",
      "[notice] A new release of pip is available: 23.0.1 -> 24.2\n",
      "[notice] To update, run: python.exe -m pip install --upgrade pip\n"
     ]
    },
    {
     "name": "stdout",
     "output_type": "stream",
     "text": [
      "Requirement already satisfied: pandas in d:\\student-job\\my_virtual_env\\lib\\site-packages (2.2.2)\n",
      "Requirement already satisfied: python-dateutil>=2.8.2 in d:\\student-job\\my_virtual_env\\lib\\site-packages (from pandas) (2.9.0.post0)\n",
      "Requirement already satisfied: pytz>=2020.1 in d:\\student-job\\my_virtual_env\\lib\\site-packages (from pandas) (2024.1)\n",
      "Requirement already satisfied: tzdata>=2022.7 in d:\\student-job\\my_virtual_env\\lib\\site-packages (from pandas) (2024.1)\n",
      "Requirement already satisfied: numpy>=1.22.4 in d:\\student-job\\my_virtual_env\\lib\\site-packages (from pandas) (2.1.0)\n",
      "Requirement already satisfied: six>=1.5 in d:\\student-job\\my_virtual_env\\lib\\site-packages (from python-dateutil>=2.8.2->pandas) (1.16.0)\n",
      "Note: you may need to restart the kernel to use updated packages.\n"
     ]
    },
    {
     "name": "stderr",
     "output_type": "stream",
     "text": [
      "\n",
      "[notice] A new release of pip is available: 23.0.1 -> 24.2\n",
      "[notice] To update, run: python.exe -m pip install --upgrade pip\n"
     ]
    },
    {
     "name": "stdout",
     "output_type": "stream",
     "text": [
      "Note: you may need to restart the kernel to use updated packages.\n"
     ]
    },
    {
     "name": "stderr",
     "output_type": "stream",
     "text": [
      "ERROR: Could not find a version that satisfies the requirement glob (from versions: none)\n",
      "ERROR: No matching distribution found for glob\n",
      "\n",
      "[notice] A new release of pip is available: 23.0.1 -> 24.2\n",
      "[notice] To update, run: python.exe -m pip install --upgrade pip\n"
     ]
    },
    {
     "name": "stdout",
     "output_type": "stream",
     "text": [
      "Requirement already satisfied: folium in d:\\student-job\\my_virtual_env\\lib\\site-packages (0.17.0)\n",
      "Requirement already satisfied: jinja2>=2.9 in d:\\student-job\\my_virtual_env\\lib\\site-packages (from folium) (3.1.4)\n",
      "Requirement already satisfied: numpy in d:\\student-job\\my_virtual_env\\lib\\site-packages (from folium) (2.1.0)\n",
      "Requirement already satisfied: requests in d:\\student-job\\my_virtual_env\\lib\\site-packages (from folium) (2.32.3)\n",
      "Requirement already satisfied: xyzservices in d:\\student-job\\my_virtual_env\\lib\\site-packages (from folium) (2024.6.0)\n",
      "Requirement already satisfied: branca>=0.6.0 in d:\\student-job\\my_virtual_env\\lib\\site-packages (from folium) (0.7.2)\n",
      "Requirement already satisfied: MarkupSafe>=2.0 in d:\\student-job\\my_virtual_env\\lib\\site-packages (from jinja2>=2.9->folium) (2.1.5)\n",
      "Requirement already satisfied: idna<4,>=2.5 in d:\\student-job\\my_virtual_env\\lib\\site-packages (from requests->folium) (3.7)\n",
      "Requirement already satisfied: charset-normalizer<4,>=2 in d:\\student-job\\my_virtual_env\\lib\\site-packages (from requests->folium) (3.3.2)\n",
      "Requirement already satisfied: certifi>=2017.4.17 in d:\\student-job\\my_virtual_env\\lib\\site-packages (from requests->folium) (2024.7.4)\n",
      "Requirement already satisfied: urllib3<3,>=1.21.1 in d:\\student-job\\my_virtual_env\\lib\\site-packages (from requests->folium) (2.2.2)\n",
      "Note: you may need to restart the kernel to use updated packages.\n"
     ]
    },
    {
     "name": "stderr",
     "output_type": "stream",
     "text": [
      "\n",
      "[notice] A new release of pip is available: 23.0.1 -> 24.2\n",
      "[notice] To update, run: python.exe -m pip install --upgrade pip\n"
     ]
    },
    {
     "name": "stdout",
     "output_type": "stream",
     "text": [
      "Requirement already satisfied: matplotlib in d:\\student-job\\my_virtual_env\\lib\\site-packages (3.9.2)\n",
      "Requirement already satisfied: kiwisolver>=1.3.1 in d:\\student-job\\my_virtual_env\\lib\\site-packages (from matplotlib) (1.4.5)\n",
      "Requirement already satisfied: numpy>=1.23 in d:\\student-job\\my_virtual_env\\lib\\site-packages (from matplotlib) (2.1.0)\n",
      "Requirement already satisfied: pyparsing>=2.3.1 in d:\\student-job\\my_virtual_env\\lib\\site-packages (from matplotlib) (3.1.2)\n",
      "Requirement already satisfied: python-dateutil>=2.7 in d:\\student-job\\my_virtual_env\\lib\\site-packages (from matplotlib) (2.9.0.post0)\n",
      "Requirement already satisfied: packaging>=20.0 in d:\\student-job\\my_virtual_env\\lib\\site-packages (from matplotlib) (24.1)\n",
      "Requirement already satisfied: pillow>=8 in d:\\student-job\\my_virtual_env\\lib\\site-packages (from matplotlib) (10.4.0)\n",
      "Requirement already satisfied: cycler>=0.10 in d:\\student-job\\my_virtual_env\\lib\\site-packages (from matplotlib) (0.12.1)\n",
      "Requirement already satisfied: contourpy>=1.0.1 in d:\\student-job\\my_virtual_env\\lib\\site-packages (from matplotlib) (1.2.1)\n",
      "Requirement already satisfied: fonttools>=4.22.0 in d:\\student-job\\my_virtual_env\\lib\\site-packages (from matplotlib) (4.53.1)\n",
      "Requirement already satisfied: six>=1.5 in d:\\student-job\\my_virtual_env\\lib\\site-packages (from python-dateutil>=2.7->matplotlib) (1.16.0)\n",
      "Note: you may need to restart the kernel to use updated packages.\n"
     ]
    },
    {
     "name": "stderr",
     "output_type": "stream",
     "text": [
      "\n",
      "[notice] A new release of pip is available: 23.0.1 -> 24.2\n",
      "[notice] To update, run: python.exe -m pip install --upgrade pip\n"
     ]
    },
    {
     "name": "stdout",
     "output_type": "stream",
     "text": [
      "Requirement already satisfied: seaborn in d:\\student-job\\my_virtual_env\\lib\\site-packages (0.13.2)\n",
      "Requirement already satisfied: numpy!=1.24.0,>=1.20 in d:\\student-job\\my_virtual_env\\lib\\site-packages (from seaborn) (2.1.0)\n",
      "Requirement already satisfied: matplotlib!=3.6.1,>=3.4 in d:\\student-job\\my_virtual_env\\lib\\site-packages (from seaborn) (3.9.2)\n",
      "Requirement already satisfied: pandas>=1.2 in d:\\student-job\\my_virtual_env\\lib\\site-packages (from seaborn) (2.2.2)\n",
      "Requirement already satisfied: python-dateutil>=2.7 in d:\\student-job\\my_virtual_env\\lib\\site-packages (from matplotlib!=3.6.1,>=3.4->seaborn) (2.9.0.post0)\n",
      "Requirement already satisfied: cycler>=0.10 in d:\\student-job\\my_virtual_env\\lib\\site-packages (from matplotlib!=3.6.1,>=3.4->seaborn) (0.12.1)\n",
      "Requirement already satisfied: kiwisolver>=1.3.1 in d:\\student-job\\my_virtual_env\\lib\\site-packages (from matplotlib!=3.6.1,>=3.4->seaborn) (1.4.5)\n",
      "Requirement already satisfied: pillow>=8 in d:\\student-job\\my_virtual_env\\lib\\site-packages (from matplotlib!=3.6.1,>=3.4->seaborn) (10.4.0)\n",
      "Requirement already satisfied: pyparsing>=2.3.1 in d:\\student-job\\my_virtual_env\\lib\\site-packages (from matplotlib!=3.6.1,>=3.4->seaborn) (3.1.2)\n",
      "Requirement already satisfied: packaging>=20.0 in d:\\student-job\\my_virtual_env\\lib\\site-packages (from matplotlib!=3.6.1,>=3.4->seaborn) (24.1)\n",
      "Requirement already satisfied: contourpy>=1.0.1 in d:\\student-job\\my_virtual_env\\lib\\site-packages (from matplotlib!=3.6.1,>=3.4->seaborn) (1.2.1)\n",
      "Requirement already satisfied: fonttools>=4.22.0 in d:\\student-job\\my_virtual_env\\lib\\site-packages (from matplotlib!=3.6.1,>=3.4->seaborn) (4.53.1)\n",
      "Requirement already satisfied: tzdata>=2022.7 in d:\\student-job\\my_virtual_env\\lib\\site-packages (from pandas>=1.2->seaborn) (2024.1)\n",
      "Requirement already satisfied: pytz>=2020.1 in d:\\student-job\\my_virtual_env\\lib\\site-packages (from pandas>=1.2->seaborn) (2024.1)\n",
      "Requirement already satisfied: six>=1.5 in d:\\student-job\\my_virtual_env\\lib\\site-packages (from python-dateutil>=2.7->matplotlib!=3.6.1,>=3.4->seaborn) (1.16.0)\n",
      "Note: you may need to restart the kernel to use updated packages.\n"
     ]
    },
    {
     "name": "stderr",
     "output_type": "stream",
     "text": [
      "\n",
      "[notice] A new release of pip is available: 23.0.1 -> 24.2\n",
      "[notice] To update, run: python.exe -m pip install --upgrade pip\n"
     ]
    },
    {
     "name": "stdout",
     "output_type": "stream",
     "text": [
      "Note: you may need to restart the kernel to use updated packages.\n"
     ]
    },
    {
     "name": "stderr",
     "output_type": "stream",
     "text": [
      "\n",
      "[notice] A new release of pip is available: 23.0.1 -> 24.2\n",
      "[notice] To update, run: python.exe -m pip install --upgrade pip\n"
     ]
    },
    {
     "name": "stdout",
     "output_type": "stream",
     "text": [
      "Requirement already satisfied: tabulate in d:\\student-job\\my_virtual_env\\lib\\site-packages (0.9.0)\n"
     ]
    }
   ],
   "source": [
    "%pip install pyreadr\n",
    "%pip install pandas\n",
    "%pip install glob\n",
    "%pip install folium\n",
    "%pip install matplotlib\n",
    "%pip install seaborn\n",
    "%pip install tabulate\n"
   ]
  },
  {
   "cell_type": "code",
   "execution_count": 19,
   "metadata": {},
   "outputs": [],
   "source": [
    "import folium as fm\n",
    "import pandas as pd\n",
    "import pyreadr \n",
    "import matplotlib as plt\n",
    "import seaborn as sns\n",
    "import glob\n",
    "import os\n",
    "import sys\n",
    "from tabulate import tabulate"
   ]
  },
  {
   "cell_type": "code",
   "execution_count": 28,
   "metadata": {},
   "outputs": [],
   "source": [
    "def read_rds_file_per_day(address):\n",
    "    rds_files = glob.glob(address + \"/*.rds\")\n",
    "    if not rds_files:\n",
    "        print(\"No .rds files found in the directory.\")\n",
    "        return None\n",
    "    dataframes = []\n",
    "    for file in rds_files:\n",
    "        result = pyreadr.read_r(file)  # Read the .rds file\n",
    "        df = list(result.values())[0]  # Extract the DataFrame from the result\n",
    "        dataframes.append(df)\n",
    "\n",
    "    return dataframes\n",
    "    "
   ]
  },
  {
   "cell_type": "code",
   "execution_count": 29,
   "metadata": {},
   "outputs": [],
   "source": [
    "def print_df(x):\n",
    "    print(tabulate(x, headers='keys', tablefmt='psql'))"
   ]
  },
  {
   "cell_type": "code",
   "execution_count": 30,
   "metadata": {},
   "outputs": [],
   "source": [
    "def clean_df(data):\n",
    "    list_to_remove = ['pedelec_battery', 'terminal_type', 'place_type', 'boardcomputer',\n",
    "                      'bike_type', 'lock_types', 'active', 'state', 'electric_lock', 'bike_racks', \n",
    "                      'free_racks', 'rack_locks', 'no_registration', 'bike', 'uid', 'city']\n",
    "    for i in range(len(data)):\n",
    "        data[i] = data[i].drop(list_to_remove, axis=1)\n",
    "        data[i] = data[i].dropna()\n",
    "    return(data)"
   ]
  },
  {
   "cell_type": "code",
   "execution_count": 77,
   "metadata": {},
   "outputs": [],
   "source": [
    "def maintenance_map(data, folder_path, file_index):\n",
    "    # Ensure the output folder exists\n",
    "    os.makedirs(folder_path, exist_ok=True)\n",
    "\n",
    "    # Get the first DataFrame in the list\n",
    "    df = data[file_index]\n",
    "\n",
    "    # Group the DataFrame by 'maintenance' and filter the group where 'maintenance' is True\n",
    "    data_grouped = df.groupby(df['maintenance'])\n",
    "    df_new = data_grouped.get_group(True)\n",
    "\n",
    "    # Calculate the value counts of the 'name' column\n",
    "    col_maintenance = df_new['name'].value_counts().reset_index()\n",
    "    col_maintenance.columns = ['name', 'count']\n",
    "\n",
    "    # Aggregate lat and lng by name to ensure unique index for mapping\n",
    "    df_unique = df_new.groupby('name').agg({'lat': 'first', 'lng': 'first'}).reset_index()\n",
    "\n",
    "    # Merge col_maintenance with df_unique on the 'name' column\n",
    "    col_maintenance = pd.merge(col_maintenance, df_unique, on='name', how='left')\n",
    "    col_maintenance = col_maintenance.dropna()\n",
    "    \n",
    "    # Initialize a Folium map centered around the average coordinates\n",
    "    map_center = [col_maintenance['lat'].mean(), col_maintenance['lng'].mean()]\n",
    "    mymap = fm.Map(location=map_center, zoom_start=14)\n",
    "\n",
    "    # Add markers to the map\n",
    "    for idx, row in col_maintenance.iterrows():\n",
    "        fm.Marker(\n",
    "            location=[row['lat'], row['lng']],\n",
    "            popup=f\"{row['name']} ({row['count']} times)\",\n",
    "            icon=fm.Icon(icon='info-sign')\n",
    "        ).add_to(mymap)\n",
    "\n",
    "    # Save the map as an HTML file\n",
    "    map_filename = os.path.join(folder_path, f'map_{file_index+1}.html')\n",
    "    mymap.save(map_filename)\n",
    "    print(f\"Map saved as {map_filename}\")\n"
   ]
  },
  {
   "cell_type": "code",
   "execution_count": 37,
   "metadata": {},
   "outputs": [
    {
     "name": "stdout",
     "output_type": "stream",
     "text": [
      "c:\\Users\\Fenin Jose\\OneDrive\\Desktop\n",
      "D:\\df\\2023-06-01\n"
     ]
    }
   ],
   "source": [
    "if __name__ == \"__main__\":\n",
    "    print(os.getcwd())\n",
    "    path = \"D:\\\\df\\\\2023-06-01\"\n",
    "\n",
    "    print(path)\n",
    "    data = read_rds_file_per_day(path)\n",
    "    data = clean_df(data)\n",
    "    \n",
    "\n",
    "    "
   ]
  },
  {
   "cell_type": "code",
   "execution_count": 79,
   "metadata": {},
   "outputs": [
    {
     "name": "stderr",
     "output_type": "stream",
     "text": [
      "C:\\Users\\Fenin Jose\\AppData\\Local\\Temp\\ipykernel_17548\\574676199.py:17: FutureWarning: The default of observed=False is deprecated and will be changed to True in a future version of pandas. Pass observed=False to retain current behavior or observed=True to adopt the future default and silence this warning.\n",
      "  df_unique = df_new.groupby('name').agg({'lat': 'first', 'lng': 'first'}).reset_index()\n",
      "C:\\Users\\Fenin Jose\\AppData\\Local\\Temp\\ipykernel_17548\\574676199.py:17: FutureWarning: The default of observed=False is deprecated and will be changed to True in a future version of pandas. Pass observed=False to retain current behavior or observed=True to adopt the future default and silence this warning.\n",
      "  df_unique = df_new.groupby('name').agg({'lat': 'first', 'lng': 'first'}).reset_index()\n",
      "C:\\Users\\Fenin Jose\\AppData\\Local\\Temp\\ipykernel_17548\\574676199.py:17: FutureWarning: The default of observed=False is deprecated and will be changed to True in a future version of pandas. Pass observed=False to retain current behavior or observed=True to adopt the future default and silence this warning.\n",
      "  df_unique = df_new.groupby('name').agg({'lat': 'first', 'lng': 'first'}).reset_index()\n",
      "C:\\Users\\Fenin Jose\\AppData\\Local\\Temp\\ipykernel_17548\\574676199.py:17: FutureWarning: The default of observed=False is deprecated and will be changed to True in a future version of pandas. Pass observed=False to retain current behavior or observed=True to adopt the future default and silence this warning.\n",
      "  df_unique = df_new.groupby('name').agg({'lat': 'first', 'lng': 'first'}).reset_index()\n"
     ]
    },
    {
     "name": "stdout",
     "output_type": "stream",
     "text": [
      "Map saved as D:\\df\\maps\\map_1.html\n",
      "Map saved as D:\\df\\maps\\map_2.html\n",
      "Map saved as D:\\df\\maps\\map_3.html\n",
      "Map saved as D:\\df\\maps\\map_4.html\n"
     ]
    },
    {
     "name": "stderr",
     "output_type": "stream",
     "text": [
      "C:\\Users\\Fenin Jose\\AppData\\Local\\Temp\\ipykernel_17548\\574676199.py:17: FutureWarning: The default of observed=False is deprecated and will be changed to True in a future version of pandas. Pass observed=False to retain current behavior or observed=True to adopt the future default and silence this warning.\n",
      "  df_unique = df_new.groupby('name').agg({'lat': 'first', 'lng': 'first'}).reset_index()\n",
      "C:\\Users\\Fenin Jose\\AppData\\Local\\Temp\\ipykernel_17548\\574676199.py:17: FutureWarning: The default of observed=False is deprecated and will be changed to True in a future version of pandas. Pass observed=False to retain current behavior or observed=True to adopt the future default and silence this warning.\n",
      "  df_unique = df_new.groupby('name').agg({'lat': 'first', 'lng': 'first'}).reset_index()\n",
      "C:\\Users\\Fenin Jose\\AppData\\Local\\Temp\\ipykernel_17548\\574676199.py:17: FutureWarning: The default of observed=False is deprecated and will be changed to True in a future version of pandas. Pass observed=False to retain current behavior or observed=True to adopt the future default and silence this warning.\n",
      "  df_unique = df_new.groupby('name').agg({'lat': 'first', 'lng': 'first'}).reset_index()\n",
      "C:\\Users\\Fenin Jose\\AppData\\Local\\Temp\\ipykernel_17548\\574676199.py:17: FutureWarning: The default of observed=False is deprecated and will be changed to True in a future version of pandas. Pass observed=False to retain current behavior or observed=True to adopt the future default and silence this warning.\n",
      "  df_unique = df_new.groupby('name').agg({'lat': 'first', 'lng': 'first'}).reset_index()\n"
     ]
    },
    {
     "name": "stdout",
     "output_type": "stream",
     "text": [
      "Map saved as D:\\df\\maps\\map_5.html\n",
      "Map saved as D:\\df\\maps\\map_6.html\n",
      "Map saved as D:\\df\\maps\\map_7.html\n",
      "Map saved as D:\\df\\maps\\map_8.html\n"
     ]
    },
    {
     "name": "stderr",
     "output_type": "stream",
     "text": [
      "C:\\Users\\Fenin Jose\\AppData\\Local\\Temp\\ipykernel_17548\\574676199.py:17: FutureWarning: The default of observed=False is deprecated and will be changed to True in a future version of pandas. Pass observed=False to retain current behavior or observed=True to adopt the future default and silence this warning.\n",
      "  df_unique = df_new.groupby('name').agg({'lat': 'first', 'lng': 'first'}).reset_index()\n",
      "C:\\Users\\Fenin Jose\\AppData\\Local\\Temp\\ipykernel_17548\\574676199.py:17: FutureWarning: The default of observed=False is deprecated and will be changed to True in a future version of pandas. Pass observed=False to retain current behavior or observed=True to adopt the future default and silence this warning.\n",
      "  df_unique = df_new.groupby('name').agg({'lat': 'first', 'lng': 'first'}).reset_index()\n",
      "C:\\Users\\Fenin Jose\\AppData\\Local\\Temp\\ipykernel_17548\\574676199.py:17: FutureWarning: The default of observed=False is deprecated and will be changed to True in a future version of pandas. Pass observed=False to retain current behavior or observed=True to adopt the future default and silence this warning.\n",
      "  df_unique = df_new.groupby('name').agg({'lat': 'first', 'lng': 'first'}).reset_index()\n",
      "C:\\Users\\Fenin Jose\\AppData\\Local\\Temp\\ipykernel_17548\\574676199.py:17: FutureWarning: The default of observed=False is deprecated and will be changed to True in a future version of pandas. Pass observed=False to retain current behavior or observed=True to adopt the future default and silence this warning.\n",
      "  df_unique = df_new.groupby('name').agg({'lat': 'first', 'lng': 'first'}).reset_index()\n"
     ]
    },
    {
     "name": "stdout",
     "output_type": "stream",
     "text": [
      "Map saved as D:\\df\\maps\\map_9.html\n",
      "Map saved as D:\\df\\maps\\map_10.html\n",
      "Map saved as D:\\df\\maps\\map_11.html\n",
      "Map saved as D:\\df\\maps\\map_12.html\n",
      "Map saved as D:\\df\\maps\\map_13.html\n",
      "Map saved as D:\\df\\maps\\map_14.html\n",
      "Map saved as D:\\df\\maps\\map_15.html\n"
     ]
    },
    {
     "name": "stderr",
     "output_type": "stream",
     "text": [
      "C:\\Users\\Fenin Jose\\AppData\\Local\\Temp\\ipykernel_17548\\574676199.py:17: FutureWarning: The default of observed=False is deprecated and will be changed to True in a future version of pandas. Pass observed=False to retain current behavior or observed=True to adopt the future default and silence this warning.\n",
      "  df_unique = df_new.groupby('name').agg({'lat': 'first', 'lng': 'first'}).reset_index()\n",
      "C:\\Users\\Fenin Jose\\AppData\\Local\\Temp\\ipykernel_17548\\574676199.py:17: FutureWarning: The default of observed=False is deprecated and will be changed to True in a future version of pandas. Pass observed=False to retain current behavior or observed=True to adopt the future default and silence this warning.\n",
      "  df_unique = df_new.groupby('name').agg({'lat': 'first', 'lng': 'first'}).reset_index()\n",
      "C:\\Users\\Fenin Jose\\AppData\\Local\\Temp\\ipykernel_17548\\574676199.py:17: FutureWarning: The default of observed=False is deprecated and will be changed to True in a future version of pandas. Pass observed=False to retain current behavior or observed=True to adopt the future default and silence this warning.\n",
      "  df_unique = df_new.groupby('name').agg({'lat': 'first', 'lng': 'first'}).reset_index()\n",
      "C:\\Users\\Fenin Jose\\AppData\\Local\\Temp\\ipykernel_17548\\574676199.py:17: FutureWarning: The default of observed=False is deprecated and will be changed to True in a future version of pandas. Pass observed=False to retain current behavior or observed=True to adopt the future default and silence this warning.\n",
      "  df_unique = df_new.groupby('name').agg({'lat': 'first', 'lng': 'first'}).reset_index()\n"
     ]
    },
    {
     "name": "stdout",
     "output_type": "stream",
     "text": [
      "Map saved as D:\\df\\maps\\map_16.html\n",
      "Map saved as D:\\df\\maps\\map_17.html\n",
      "Map saved as D:\\df\\maps\\map_18.html\n",
      "Map saved as D:\\df\\maps\\map_19.html\n"
     ]
    },
    {
     "name": "stderr",
     "output_type": "stream",
     "text": [
      "C:\\Users\\Fenin Jose\\AppData\\Local\\Temp\\ipykernel_17548\\574676199.py:17: FutureWarning: The default of observed=False is deprecated and will be changed to True in a future version of pandas. Pass observed=False to retain current behavior or observed=True to adopt the future default and silence this warning.\n",
      "  df_unique = df_new.groupby('name').agg({'lat': 'first', 'lng': 'first'}).reset_index()\n",
      "C:\\Users\\Fenin Jose\\AppData\\Local\\Temp\\ipykernel_17548\\574676199.py:17: FutureWarning: The default of observed=False is deprecated and will be changed to True in a future version of pandas. Pass observed=False to retain current behavior or observed=True to adopt the future default and silence this warning.\n",
      "  df_unique = df_new.groupby('name').agg({'lat': 'first', 'lng': 'first'}).reset_index()\n",
      "C:\\Users\\Fenin Jose\\AppData\\Local\\Temp\\ipykernel_17548\\574676199.py:17: FutureWarning: The default of observed=False is deprecated and will be changed to True in a future version of pandas. Pass observed=False to retain current behavior or observed=True to adopt the future default and silence this warning.\n",
      "  df_unique = df_new.groupby('name').agg({'lat': 'first', 'lng': 'first'}).reset_index()\n",
      "C:\\Users\\Fenin Jose\\AppData\\Local\\Temp\\ipykernel_17548\\574676199.py:17: FutureWarning: The default of observed=False is deprecated and will be changed to True in a future version of pandas. Pass observed=False to retain current behavior or observed=True to adopt the future default and silence this warning.\n",
      "  df_unique = df_new.groupby('name').agg({'lat': 'first', 'lng': 'first'}).reset_index()\n"
     ]
    },
    {
     "name": "stdout",
     "output_type": "stream",
     "text": [
      "Map saved as D:\\df\\maps\\map_20.html\n",
      "Map saved as D:\\df\\maps\\map_21.html\n",
      "Map saved as D:\\df\\maps\\map_22.html\n"
     ]
    },
    {
     "name": "stderr",
     "output_type": "stream",
     "text": [
      "C:\\Users\\Fenin Jose\\AppData\\Local\\Temp\\ipykernel_17548\\574676199.py:17: FutureWarning: The default of observed=False is deprecated and will be changed to True in a future version of pandas. Pass observed=False to retain current behavior or observed=True to adopt the future default and silence this warning.\n",
      "  df_unique = df_new.groupby('name').agg({'lat': 'first', 'lng': 'first'}).reset_index()\n",
      "C:\\Users\\Fenin Jose\\AppData\\Local\\Temp\\ipykernel_17548\\574676199.py:17: FutureWarning: The default of observed=False is deprecated and will be changed to True in a future version of pandas. Pass observed=False to retain current behavior or observed=True to adopt the future default and silence this warning.\n",
      "  df_unique = df_new.groupby('name').agg({'lat': 'first', 'lng': 'first'}).reset_index()\n",
      "C:\\Users\\Fenin Jose\\AppData\\Local\\Temp\\ipykernel_17548\\574676199.py:17: FutureWarning: The default of observed=False is deprecated and will be changed to True in a future version of pandas. Pass observed=False to retain current behavior or observed=True to adopt the future default and silence this warning.\n",
      "  df_unique = df_new.groupby('name').agg({'lat': 'first', 'lng': 'first'}).reset_index()\n"
     ]
    },
    {
     "name": "stdout",
     "output_type": "stream",
     "text": [
      "Map saved as D:\\df\\maps\\map_23.html\n",
      "Map saved as D:\\df\\maps\\map_24.html\n",
      "Map saved as D:\\df\\maps\\map_25.html\n"
     ]
    },
    {
     "name": "stderr",
     "output_type": "stream",
     "text": [
      "C:\\Users\\Fenin Jose\\AppData\\Local\\Temp\\ipykernel_17548\\574676199.py:17: FutureWarning: The default of observed=False is deprecated and will be changed to True in a future version of pandas. Pass observed=False to retain current behavior or observed=True to adopt the future default and silence this warning.\n",
      "  df_unique = df_new.groupby('name').agg({'lat': 'first', 'lng': 'first'}).reset_index()\n",
      "C:\\Users\\Fenin Jose\\AppData\\Local\\Temp\\ipykernel_17548\\574676199.py:17: FutureWarning: The default of observed=False is deprecated and will be changed to True in a future version of pandas. Pass observed=False to retain current behavior or observed=True to adopt the future default and silence this warning.\n",
      "  df_unique = df_new.groupby('name').agg({'lat': 'first', 'lng': 'first'}).reset_index()\n",
      "C:\\Users\\Fenin Jose\\AppData\\Local\\Temp\\ipykernel_17548\\574676199.py:17: FutureWarning: The default of observed=False is deprecated and will be changed to True in a future version of pandas. Pass observed=False to retain current behavior or observed=True to adopt the future default and silence this warning.\n",
      "  df_unique = df_new.groupby('name').agg({'lat': 'first', 'lng': 'first'}).reset_index()\n"
     ]
    },
    {
     "name": "stdout",
     "output_type": "stream",
     "text": [
      "Map saved as D:\\df\\maps\\map_26.html\n",
      "Map saved as D:\\df\\maps\\map_27.html\n",
      "Map saved as D:\\df\\maps\\map_28.html\n"
     ]
    },
    {
     "name": "stderr",
     "output_type": "stream",
     "text": [
      "C:\\Users\\Fenin Jose\\AppData\\Local\\Temp\\ipykernel_17548\\574676199.py:17: FutureWarning: The default of observed=False is deprecated and will be changed to True in a future version of pandas. Pass observed=False to retain current behavior or observed=True to adopt the future default and silence this warning.\n",
      "  df_unique = df_new.groupby('name').agg({'lat': 'first', 'lng': 'first'}).reset_index()\n",
      "C:\\Users\\Fenin Jose\\AppData\\Local\\Temp\\ipykernel_17548\\574676199.py:17: FutureWarning: The default of observed=False is deprecated and will be changed to True in a future version of pandas. Pass observed=False to retain current behavior or observed=True to adopt the future default and silence this warning.\n",
      "  df_unique = df_new.groupby('name').agg({'lat': 'first', 'lng': 'first'}).reset_index()\n",
      "C:\\Users\\Fenin Jose\\AppData\\Local\\Temp\\ipykernel_17548\\574676199.py:17: FutureWarning: The default of observed=False is deprecated and will be changed to True in a future version of pandas. Pass observed=False to retain current behavior or observed=True to adopt the future default and silence this warning.\n",
      "  df_unique = df_new.groupby('name').agg({'lat': 'first', 'lng': 'first'}).reset_index()\n"
     ]
    },
    {
     "name": "stdout",
     "output_type": "stream",
     "text": [
      "Map saved as D:\\df\\maps\\map_29.html\n",
      "Map saved as D:\\df\\maps\\map_30.html\n"
     ]
    },
    {
     "name": "stderr",
     "output_type": "stream",
     "text": [
      "C:\\Users\\Fenin Jose\\AppData\\Local\\Temp\\ipykernel_17548\\574676199.py:17: FutureWarning: The default of observed=False is deprecated and will be changed to True in a future version of pandas. Pass observed=False to retain current behavior or observed=True to adopt the future default and silence this warning.\n",
      "  df_unique = df_new.groupby('name').agg({'lat': 'first', 'lng': 'first'}).reset_index()\n",
      "C:\\Users\\Fenin Jose\\AppData\\Local\\Temp\\ipykernel_17548\\574676199.py:17: FutureWarning: The default of observed=False is deprecated and will be changed to True in a future version of pandas. Pass observed=False to retain current behavior or observed=True to adopt the future default and silence this warning.\n",
      "  df_unique = df_new.groupby('name').agg({'lat': 'first', 'lng': 'first'}).reset_index()\n"
     ]
    },
    {
     "name": "stdout",
     "output_type": "stream",
     "text": [
      "Map saved as D:\\df\\maps\\map_31.html\n",
      "Map saved as D:\\df\\maps\\map_32.html\n",
      "Map saved as D:\\df\\maps\\map_33.html\n"
     ]
    },
    {
     "name": "stderr",
     "output_type": "stream",
     "text": [
      "C:\\Users\\Fenin Jose\\AppData\\Local\\Temp\\ipykernel_17548\\574676199.py:17: FutureWarning: The default of observed=False is deprecated and will be changed to True in a future version of pandas. Pass observed=False to retain current behavior or observed=True to adopt the future default and silence this warning.\n",
      "  df_unique = df_new.groupby('name').agg({'lat': 'first', 'lng': 'first'}).reset_index()\n",
      "C:\\Users\\Fenin Jose\\AppData\\Local\\Temp\\ipykernel_17548\\574676199.py:17: FutureWarning: The default of observed=False is deprecated and will be changed to True in a future version of pandas. Pass observed=False to retain current behavior or observed=True to adopt the future default and silence this warning.\n",
      "  df_unique = df_new.groupby('name').agg({'lat': 'first', 'lng': 'first'}).reset_index()\n",
      "C:\\Users\\Fenin Jose\\AppData\\Local\\Temp\\ipykernel_17548\\574676199.py:17: FutureWarning: The default of observed=False is deprecated and will be changed to True in a future version of pandas. Pass observed=False to retain current behavior or observed=True to adopt the future default and silence this warning.\n",
      "  df_unique = df_new.groupby('name').agg({'lat': 'first', 'lng': 'first'}).reset_index()\n"
     ]
    },
    {
     "name": "stdout",
     "output_type": "stream",
     "text": [
      "Map saved as D:\\df\\maps\\map_34.html\n",
      "Map saved as D:\\df\\maps\\map_35.html\n",
      "Map saved as D:\\df\\maps\\map_36.html\n",
      "Map saved as D:\\df\\maps\\map_37.html\n"
     ]
    },
    {
     "name": "stderr",
     "output_type": "stream",
     "text": [
      "C:\\Users\\Fenin Jose\\AppData\\Local\\Temp\\ipykernel_17548\\574676199.py:17: FutureWarning: The default of observed=False is deprecated and will be changed to True in a future version of pandas. Pass observed=False to retain current behavior or observed=True to adopt the future default and silence this warning.\n",
      "  df_unique = df_new.groupby('name').agg({'lat': 'first', 'lng': 'first'}).reset_index()\n",
      "C:\\Users\\Fenin Jose\\AppData\\Local\\Temp\\ipykernel_17548\\574676199.py:17: FutureWarning: The default of observed=False is deprecated and will be changed to True in a future version of pandas. Pass observed=False to retain current behavior or observed=True to adopt the future default and silence this warning.\n",
      "  df_unique = df_new.groupby('name').agg({'lat': 'first', 'lng': 'first'}).reset_index()\n",
      "C:\\Users\\Fenin Jose\\AppData\\Local\\Temp\\ipykernel_17548\\574676199.py:17: FutureWarning: The default of observed=False is deprecated and will be changed to True in a future version of pandas. Pass observed=False to retain current behavior or observed=True to adopt the future default and silence this warning.\n",
      "  df_unique = df_new.groupby('name').agg({'lat': 'first', 'lng': 'first'}).reset_index()\n",
      "C:\\Users\\Fenin Jose\\AppData\\Local\\Temp\\ipykernel_17548\\574676199.py:17: FutureWarning: The default of observed=False is deprecated and will be changed to True in a future version of pandas. Pass observed=False to retain current behavior or observed=True to adopt the future default and silence this warning.\n",
      "  df_unique = df_new.groupby('name').agg({'lat': 'first', 'lng': 'first'}).reset_index()\n"
     ]
    },
    {
     "name": "stdout",
     "output_type": "stream",
     "text": [
      "Map saved as D:\\df\\maps\\map_38.html\n",
      "Map saved as D:\\df\\maps\\map_39.html\n",
      "Map saved as D:\\df\\maps\\map_40.html\n",
      "Map saved as D:\\df\\maps\\map_41.html\n"
     ]
    },
    {
     "name": "stderr",
     "output_type": "stream",
     "text": [
      "C:\\Users\\Fenin Jose\\AppData\\Local\\Temp\\ipykernel_17548\\574676199.py:17: FutureWarning: The default of observed=False is deprecated and will be changed to True in a future version of pandas. Pass observed=False to retain current behavior or observed=True to adopt the future default and silence this warning.\n",
      "  df_unique = df_new.groupby('name').agg({'lat': 'first', 'lng': 'first'}).reset_index()\n",
      "C:\\Users\\Fenin Jose\\AppData\\Local\\Temp\\ipykernel_17548\\574676199.py:17: FutureWarning: The default of observed=False is deprecated and will be changed to True in a future version of pandas. Pass observed=False to retain current behavior or observed=True to adopt the future default and silence this warning.\n",
      "  df_unique = df_new.groupby('name').agg({'lat': 'first', 'lng': 'first'}).reset_index()\n",
      "C:\\Users\\Fenin Jose\\AppData\\Local\\Temp\\ipykernel_17548\\574676199.py:17: FutureWarning: The default of observed=False is deprecated and will be changed to True in a future version of pandas. Pass observed=False to retain current behavior or observed=True to adopt the future default and silence this warning.\n",
      "  df_unique = df_new.groupby('name').agg({'lat': 'first', 'lng': 'first'}).reset_index()\n",
      "C:\\Users\\Fenin Jose\\AppData\\Local\\Temp\\ipykernel_17548\\574676199.py:17: FutureWarning: The default of observed=False is deprecated and will be changed to True in a future version of pandas. Pass observed=False to retain current behavior or observed=True to adopt the future default and silence this warning.\n",
      "  df_unique = df_new.groupby('name').agg({'lat': 'first', 'lng': 'first'}).reset_index()\n"
     ]
    },
    {
     "name": "stdout",
     "output_type": "stream",
     "text": [
      "Map saved as D:\\df\\maps\\map_42.html\n",
      "Map saved as D:\\df\\maps\\map_43.html\n",
      "Map saved as D:\\df\\maps\\map_44.html\n",
      "Map saved as D:\\df\\maps\\map_45.html\n"
     ]
    },
    {
     "name": "stderr",
     "output_type": "stream",
     "text": [
      "C:\\Users\\Fenin Jose\\AppData\\Local\\Temp\\ipykernel_17548\\574676199.py:17: FutureWarning: The default of observed=False is deprecated and will be changed to True in a future version of pandas. Pass observed=False to retain current behavior or observed=True to adopt the future default and silence this warning.\n",
      "  df_unique = df_new.groupby('name').agg({'lat': 'first', 'lng': 'first'}).reset_index()\n",
      "C:\\Users\\Fenin Jose\\AppData\\Local\\Temp\\ipykernel_17548\\574676199.py:17: FutureWarning: The default of observed=False is deprecated and will be changed to True in a future version of pandas. Pass observed=False to retain current behavior or observed=True to adopt the future default and silence this warning.\n",
      "  df_unique = df_new.groupby('name').agg({'lat': 'first', 'lng': 'first'}).reset_index()\n",
      "C:\\Users\\Fenin Jose\\AppData\\Local\\Temp\\ipykernel_17548\\574676199.py:17: FutureWarning: The default of observed=False is deprecated and will be changed to True in a future version of pandas. Pass observed=False to retain current behavior or observed=True to adopt the future default and silence this warning.\n",
      "  df_unique = df_new.groupby('name').agg({'lat': 'first', 'lng': 'first'}).reset_index()\n",
      "C:\\Users\\Fenin Jose\\AppData\\Local\\Temp\\ipykernel_17548\\574676199.py:17: FutureWarning: The default of observed=False is deprecated and will be changed to True in a future version of pandas. Pass observed=False to retain current behavior or observed=True to adopt the future default and silence this warning.\n",
      "  df_unique = df_new.groupby('name').agg({'lat': 'first', 'lng': 'first'}).reset_index()\n"
     ]
    },
    {
     "name": "stdout",
     "output_type": "stream",
     "text": [
      "Map saved as D:\\df\\maps\\map_46.html\n",
      "Map saved as D:\\df\\maps\\map_47.html\n",
      "Map saved as D:\\df\\maps\\map_48.html\n",
      "Map saved as D:\\df\\maps\\map_49.html\n"
     ]
    },
    {
     "name": "stderr",
     "output_type": "stream",
     "text": [
      "C:\\Users\\Fenin Jose\\AppData\\Local\\Temp\\ipykernel_17548\\574676199.py:17: FutureWarning: The default of observed=False is deprecated and will be changed to True in a future version of pandas. Pass observed=False to retain current behavior or observed=True to adopt the future default and silence this warning.\n",
      "  df_unique = df_new.groupby('name').agg({'lat': 'first', 'lng': 'first'}).reset_index()\n",
      "C:\\Users\\Fenin Jose\\AppData\\Local\\Temp\\ipykernel_17548\\574676199.py:17: FutureWarning: The default of observed=False is deprecated and will be changed to True in a future version of pandas. Pass observed=False to retain current behavior or observed=True to adopt the future default and silence this warning.\n",
      "  df_unique = df_new.groupby('name').agg({'lat': 'first', 'lng': 'first'}).reset_index()\n",
      "C:\\Users\\Fenin Jose\\AppData\\Local\\Temp\\ipykernel_17548\\574676199.py:17: FutureWarning: The default of observed=False is deprecated and will be changed to True in a future version of pandas. Pass observed=False to retain current behavior or observed=True to adopt the future default and silence this warning.\n",
      "  df_unique = df_new.groupby('name').agg({'lat': 'first', 'lng': 'first'}).reset_index()\n",
      "C:\\Users\\Fenin Jose\\AppData\\Local\\Temp\\ipykernel_17548\\574676199.py:17: FutureWarning: The default of observed=False is deprecated and will be changed to True in a future version of pandas. Pass observed=False to retain current behavior or observed=True to adopt the future default and silence this warning.\n",
      "  df_unique = df_new.groupby('name').agg({'lat': 'first', 'lng': 'first'}).reset_index()\n"
     ]
    },
    {
     "name": "stdout",
     "output_type": "stream",
     "text": [
      "Map saved as D:\\df\\maps\\map_50.html\n",
      "Map saved as D:\\df\\maps\\map_51.html\n",
      "Map saved as D:\\df\\maps\\map_52.html\n",
      "Map saved as D:\\df\\maps\\map_53.html\n"
     ]
    },
    {
     "name": "stderr",
     "output_type": "stream",
     "text": [
      "C:\\Users\\Fenin Jose\\AppData\\Local\\Temp\\ipykernel_17548\\574676199.py:17: FutureWarning: The default of observed=False is deprecated and will be changed to True in a future version of pandas. Pass observed=False to retain current behavior or observed=True to adopt the future default and silence this warning.\n",
      "  df_unique = df_new.groupby('name').agg({'lat': 'first', 'lng': 'first'}).reset_index()\n",
      "C:\\Users\\Fenin Jose\\AppData\\Local\\Temp\\ipykernel_17548\\574676199.py:17: FutureWarning: The default of observed=False is deprecated and will be changed to True in a future version of pandas. Pass observed=False to retain current behavior or observed=True to adopt the future default and silence this warning.\n",
      "  df_unique = df_new.groupby('name').agg({'lat': 'first', 'lng': 'first'}).reset_index()\n",
      "C:\\Users\\Fenin Jose\\AppData\\Local\\Temp\\ipykernel_17548\\574676199.py:17: FutureWarning: The default of observed=False is deprecated and will be changed to True in a future version of pandas. Pass observed=False to retain current behavior or observed=True to adopt the future default and silence this warning.\n",
      "  df_unique = df_new.groupby('name').agg({'lat': 'first', 'lng': 'first'}).reset_index()\n",
      "C:\\Users\\Fenin Jose\\AppData\\Local\\Temp\\ipykernel_17548\\574676199.py:17: FutureWarning: The default of observed=False is deprecated and will be changed to True in a future version of pandas. Pass observed=False to retain current behavior or observed=True to adopt the future default and silence this warning.\n",
      "  df_unique = df_new.groupby('name').agg({'lat': 'first', 'lng': 'first'}).reset_index()\n"
     ]
    },
    {
     "name": "stdout",
     "output_type": "stream",
     "text": [
      "Map saved as D:\\df\\maps\\map_54.html\n",
      "Map saved as D:\\df\\maps\\map_55.html\n",
      "Map saved as D:\\df\\maps\\map_56.html\n",
      "Map saved as D:\\df\\maps\\map_57.html\n"
     ]
    },
    {
     "name": "stderr",
     "output_type": "stream",
     "text": [
      "C:\\Users\\Fenin Jose\\AppData\\Local\\Temp\\ipykernel_17548\\574676199.py:17: FutureWarning: The default of observed=False is deprecated and will be changed to True in a future version of pandas. Pass observed=False to retain current behavior or observed=True to adopt the future default and silence this warning.\n",
      "  df_unique = df_new.groupby('name').agg({'lat': 'first', 'lng': 'first'}).reset_index()\n",
      "C:\\Users\\Fenin Jose\\AppData\\Local\\Temp\\ipykernel_17548\\574676199.py:17: FutureWarning: The default of observed=False is deprecated and will be changed to True in a future version of pandas. Pass observed=False to retain current behavior or observed=True to adopt the future default and silence this warning.\n",
      "  df_unique = df_new.groupby('name').agg({'lat': 'first', 'lng': 'first'}).reset_index()\n",
      "C:\\Users\\Fenin Jose\\AppData\\Local\\Temp\\ipykernel_17548\\574676199.py:17: FutureWarning: The default of observed=False is deprecated and will be changed to True in a future version of pandas. Pass observed=False to retain current behavior or observed=True to adopt the future default and silence this warning.\n",
      "  df_unique = df_new.groupby('name').agg({'lat': 'first', 'lng': 'first'}).reset_index()\n",
      "C:\\Users\\Fenin Jose\\AppData\\Local\\Temp\\ipykernel_17548\\574676199.py:17: FutureWarning: The default of observed=False is deprecated and will be changed to True in a future version of pandas. Pass observed=False to retain current behavior or observed=True to adopt the future default and silence this warning.\n",
      "  df_unique = df_new.groupby('name').agg({'lat': 'first', 'lng': 'first'}).reset_index()\n"
     ]
    },
    {
     "name": "stdout",
     "output_type": "stream",
     "text": [
      "Map saved as D:\\df\\maps\\map_58.html\n",
      "Map saved as D:\\df\\maps\\map_59.html\n",
      "Map saved as D:\\df\\maps\\map_60.html\n",
      "Map saved as D:\\df\\maps\\map_61.html\n"
     ]
    },
    {
     "name": "stderr",
     "output_type": "stream",
     "text": [
      "C:\\Users\\Fenin Jose\\AppData\\Local\\Temp\\ipykernel_17548\\574676199.py:17: FutureWarning: The default of observed=False is deprecated and will be changed to True in a future version of pandas. Pass observed=False to retain current behavior or observed=True to adopt the future default and silence this warning.\n",
      "  df_unique = df_new.groupby('name').agg({'lat': 'first', 'lng': 'first'}).reset_index()\n",
      "C:\\Users\\Fenin Jose\\AppData\\Local\\Temp\\ipykernel_17548\\574676199.py:17: FutureWarning: The default of observed=False is deprecated and will be changed to True in a future version of pandas. Pass observed=False to retain current behavior or observed=True to adopt the future default and silence this warning.\n",
      "  df_unique = df_new.groupby('name').agg({'lat': 'first', 'lng': 'first'}).reset_index()\n",
      "C:\\Users\\Fenin Jose\\AppData\\Local\\Temp\\ipykernel_17548\\574676199.py:17: FutureWarning: The default of observed=False is deprecated and will be changed to True in a future version of pandas. Pass observed=False to retain current behavior or observed=True to adopt the future default and silence this warning.\n",
      "  df_unique = df_new.groupby('name').agg({'lat': 'first', 'lng': 'first'}).reset_index()\n",
      "C:\\Users\\Fenin Jose\\AppData\\Local\\Temp\\ipykernel_17548\\574676199.py:17: FutureWarning: The default of observed=False is deprecated and will be changed to True in a future version of pandas. Pass observed=False to retain current behavior or observed=True to adopt the future default and silence this warning.\n",
      "  df_unique = df_new.groupby('name').agg({'lat': 'first', 'lng': 'first'}).reset_index()\n"
     ]
    },
    {
     "name": "stdout",
     "output_type": "stream",
     "text": [
      "Map saved as D:\\df\\maps\\map_62.html\n",
      "Map saved as D:\\df\\maps\\map_63.html\n",
      "Map saved as D:\\df\\maps\\map_64.html\n",
      "Map saved as D:\\df\\maps\\map_65.html\n"
     ]
    },
    {
     "name": "stderr",
     "output_type": "stream",
     "text": [
      "C:\\Users\\Fenin Jose\\AppData\\Local\\Temp\\ipykernel_17548\\574676199.py:17: FutureWarning: The default of observed=False is deprecated and will be changed to True in a future version of pandas. Pass observed=False to retain current behavior or observed=True to adopt the future default and silence this warning.\n",
      "  df_unique = df_new.groupby('name').agg({'lat': 'first', 'lng': 'first'}).reset_index()\n",
      "C:\\Users\\Fenin Jose\\AppData\\Local\\Temp\\ipykernel_17548\\574676199.py:17: FutureWarning: The default of observed=False is deprecated and will be changed to True in a future version of pandas. Pass observed=False to retain current behavior or observed=True to adopt the future default and silence this warning.\n",
      "  df_unique = df_new.groupby('name').agg({'lat': 'first', 'lng': 'first'}).reset_index()\n",
      "C:\\Users\\Fenin Jose\\AppData\\Local\\Temp\\ipykernel_17548\\574676199.py:17: FutureWarning: The default of observed=False is deprecated and will be changed to True in a future version of pandas. Pass observed=False to retain current behavior or observed=True to adopt the future default and silence this warning.\n",
      "  df_unique = df_new.groupby('name').agg({'lat': 'first', 'lng': 'first'}).reset_index()\n",
      "C:\\Users\\Fenin Jose\\AppData\\Local\\Temp\\ipykernel_17548\\574676199.py:17: FutureWarning: The default of observed=False is deprecated and will be changed to True in a future version of pandas. Pass observed=False to retain current behavior or observed=True to adopt the future default and silence this warning.\n",
      "  df_unique = df_new.groupby('name').agg({'lat': 'first', 'lng': 'first'}).reset_index()\n"
     ]
    },
    {
     "name": "stdout",
     "output_type": "stream",
     "text": [
      "Map saved as D:\\df\\maps\\map_66.html\n",
      "Map saved as D:\\df\\maps\\map_67.html\n",
      "Map saved as D:\\df\\maps\\map_68.html\n",
      "Map saved as D:\\df\\maps\\map_69.html\n"
     ]
    },
    {
     "name": "stderr",
     "output_type": "stream",
     "text": [
      "C:\\Users\\Fenin Jose\\AppData\\Local\\Temp\\ipykernel_17548\\574676199.py:17: FutureWarning: The default of observed=False is deprecated and will be changed to True in a future version of pandas. Pass observed=False to retain current behavior or observed=True to adopt the future default and silence this warning.\n",
      "  df_unique = df_new.groupby('name').agg({'lat': 'first', 'lng': 'first'}).reset_index()\n",
      "C:\\Users\\Fenin Jose\\AppData\\Local\\Temp\\ipykernel_17548\\574676199.py:17: FutureWarning: The default of observed=False is deprecated and will be changed to True in a future version of pandas. Pass observed=False to retain current behavior or observed=True to adopt the future default and silence this warning.\n",
      "  df_unique = df_new.groupby('name').agg({'lat': 'first', 'lng': 'first'}).reset_index()\n",
      "C:\\Users\\Fenin Jose\\AppData\\Local\\Temp\\ipykernel_17548\\574676199.py:17: FutureWarning: The default of observed=False is deprecated and will be changed to True in a future version of pandas. Pass observed=False to retain current behavior or observed=True to adopt the future default and silence this warning.\n",
      "  df_unique = df_new.groupby('name').agg({'lat': 'first', 'lng': 'first'}).reset_index()\n",
      "C:\\Users\\Fenin Jose\\AppData\\Local\\Temp\\ipykernel_17548\\574676199.py:17: FutureWarning: The default of observed=False is deprecated and will be changed to True in a future version of pandas. Pass observed=False to retain current behavior or observed=True to adopt the future default and silence this warning.\n",
      "  df_unique = df_new.groupby('name').agg({'lat': 'first', 'lng': 'first'}).reset_index()\n"
     ]
    },
    {
     "name": "stdout",
     "output_type": "stream",
     "text": [
      "Map saved as D:\\df\\maps\\map_70.html\n",
      "Map saved as D:\\df\\maps\\map_71.html\n",
      "Map saved as D:\\df\\maps\\map_72.html\n",
      "Map saved as D:\\df\\maps\\map_73.html\n"
     ]
    },
    {
     "name": "stderr",
     "output_type": "stream",
     "text": [
      "C:\\Users\\Fenin Jose\\AppData\\Local\\Temp\\ipykernel_17548\\574676199.py:17: FutureWarning: The default of observed=False is deprecated and will be changed to True in a future version of pandas. Pass observed=False to retain current behavior or observed=True to adopt the future default and silence this warning.\n",
      "  df_unique = df_new.groupby('name').agg({'lat': 'first', 'lng': 'first'}).reset_index()\n",
      "C:\\Users\\Fenin Jose\\AppData\\Local\\Temp\\ipykernel_17548\\574676199.py:17: FutureWarning: The default of observed=False is deprecated and will be changed to True in a future version of pandas. Pass observed=False to retain current behavior or observed=True to adopt the future default and silence this warning.\n",
      "  df_unique = df_new.groupby('name').agg({'lat': 'first', 'lng': 'first'}).reset_index()\n",
      "C:\\Users\\Fenin Jose\\AppData\\Local\\Temp\\ipykernel_17548\\574676199.py:17: FutureWarning: The default of observed=False is deprecated and will be changed to True in a future version of pandas. Pass observed=False to retain current behavior or observed=True to adopt the future default and silence this warning.\n",
      "  df_unique = df_new.groupby('name').agg({'lat': 'first', 'lng': 'first'}).reset_index()\n",
      "C:\\Users\\Fenin Jose\\AppData\\Local\\Temp\\ipykernel_17548\\574676199.py:17: FutureWarning: The default of observed=False is deprecated and will be changed to True in a future version of pandas. Pass observed=False to retain current behavior or observed=True to adopt the future default and silence this warning.\n",
      "  df_unique = df_new.groupby('name').agg({'lat': 'first', 'lng': 'first'}).reset_index()\n"
     ]
    },
    {
     "name": "stdout",
     "output_type": "stream",
     "text": [
      "Map saved as D:\\df\\maps\\map_74.html\n",
      "Map saved as D:\\df\\maps\\map_75.html\n",
      "Map saved as D:\\df\\maps\\map_76.html\n",
      "Map saved as D:\\df\\maps\\map_77.html\n"
     ]
    },
    {
     "name": "stderr",
     "output_type": "stream",
     "text": [
      "C:\\Users\\Fenin Jose\\AppData\\Local\\Temp\\ipykernel_17548\\574676199.py:17: FutureWarning: The default of observed=False is deprecated and will be changed to True in a future version of pandas. Pass observed=False to retain current behavior or observed=True to adopt the future default and silence this warning.\n",
      "  df_unique = df_new.groupby('name').agg({'lat': 'first', 'lng': 'first'}).reset_index()\n",
      "C:\\Users\\Fenin Jose\\AppData\\Local\\Temp\\ipykernel_17548\\574676199.py:17: FutureWarning: The default of observed=False is deprecated and will be changed to True in a future version of pandas. Pass observed=False to retain current behavior or observed=True to adopt the future default and silence this warning.\n",
      "  df_unique = df_new.groupby('name').agg({'lat': 'first', 'lng': 'first'}).reset_index()\n",
      "C:\\Users\\Fenin Jose\\AppData\\Local\\Temp\\ipykernel_17548\\574676199.py:17: FutureWarning: The default of observed=False is deprecated and will be changed to True in a future version of pandas. Pass observed=False to retain current behavior or observed=True to adopt the future default and silence this warning.\n",
      "  df_unique = df_new.groupby('name').agg({'lat': 'first', 'lng': 'first'}).reset_index()\n",
      "C:\\Users\\Fenin Jose\\AppData\\Local\\Temp\\ipykernel_17548\\574676199.py:17: FutureWarning: The default of observed=False is deprecated and will be changed to True in a future version of pandas. Pass observed=False to retain current behavior or observed=True to adopt the future default and silence this warning.\n",
      "  df_unique = df_new.groupby('name').agg({'lat': 'first', 'lng': 'first'}).reset_index()\n"
     ]
    },
    {
     "name": "stdout",
     "output_type": "stream",
     "text": [
      "Map saved as D:\\df\\maps\\map_78.html\n",
      "Map saved as D:\\df\\maps\\map_79.html\n",
      "Map saved as D:\\df\\maps\\map_80.html\n"
     ]
    },
    {
     "name": "stderr",
     "output_type": "stream",
     "text": [
      "C:\\Users\\Fenin Jose\\AppData\\Local\\Temp\\ipykernel_17548\\574676199.py:17: FutureWarning: The default of observed=False is deprecated and will be changed to True in a future version of pandas. Pass observed=False to retain current behavior or observed=True to adopt the future default and silence this warning.\n",
      "  df_unique = df_new.groupby('name').agg({'lat': 'first', 'lng': 'first'}).reset_index()\n",
      "C:\\Users\\Fenin Jose\\AppData\\Local\\Temp\\ipykernel_17548\\574676199.py:17: FutureWarning: The default of observed=False is deprecated and will be changed to True in a future version of pandas. Pass observed=False to retain current behavior or observed=True to adopt the future default and silence this warning.\n",
      "  df_unique = df_new.groupby('name').agg({'lat': 'first', 'lng': 'first'}).reset_index()\n",
      "C:\\Users\\Fenin Jose\\AppData\\Local\\Temp\\ipykernel_17548\\574676199.py:17: FutureWarning: The default of observed=False is deprecated and will be changed to True in a future version of pandas. Pass observed=False to retain current behavior or observed=True to adopt the future default and silence this warning.\n",
      "  df_unique = df_new.groupby('name').agg({'lat': 'first', 'lng': 'first'}).reset_index()\n"
     ]
    },
    {
     "name": "stdout",
     "output_type": "stream",
     "text": [
      "Map saved as D:\\df\\maps\\map_81.html\n",
      "Map saved as D:\\df\\maps\\map_82.html\n",
      "Map saved as D:\\df\\maps\\map_83.html\n"
     ]
    },
    {
     "name": "stderr",
     "output_type": "stream",
     "text": [
      "C:\\Users\\Fenin Jose\\AppData\\Local\\Temp\\ipykernel_17548\\574676199.py:17: FutureWarning: The default of observed=False is deprecated and will be changed to True in a future version of pandas. Pass observed=False to retain current behavior or observed=True to adopt the future default and silence this warning.\n",
      "  df_unique = df_new.groupby('name').agg({'lat': 'first', 'lng': 'first'}).reset_index()\n",
      "C:\\Users\\Fenin Jose\\AppData\\Local\\Temp\\ipykernel_17548\\574676199.py:17: FutureWarning: The default of observed=False is deprecated and will be changed to True in a future version of pandas. Pass observed=False to retain current behavior or observed=True to adopt the future default and silence this warning.\n",
      "  df_unique = df_new.groupby('name').agg({'lat': 'first', 'lng': 'first'}).reset_index()\n",
      "C:\\Users\\Fenin Jose\\AppData\\Local\\Temp\\ipykernel_17548\\574676199.py:17: FutureWarning: The default of observed=False is deprecated and will be changed to True in a future version of pandas. Pass observed=False to retain current behavior or observed=True to adopt the future default and silence this warning.\n",
      "  df_unique = df_new.groupby('name').agg({'lat': 'first', 'lng': 'first'}).reset_index()\n"
     ]
    },
    {
     "name": "stdout",
     "output_type": "stream",
     "text": [
      "Map saved as D:\\df\\maps\\map_84.html\n",
      "Map saved as D:\\df\\maps\\map_85.html\n",
      "Map saved as D:\\df\\maps\\map_86.html\n"
     ]
    },
    {
     "name": "stderr",
     "output_type": "stream",
     "text": [
      "C:\\Users\\Fenin Jose\\AppData\\Local\\Temp\\ipykernel_17548\\574676199.py:17: FutureWarning: The default of observed=False is deprecated and will be changed to True in a future version of pandas. Pass observed=False to retain current behavior or observed=True to adopt the future default and silence this warning.\n",
      "  df_unique = df_new.groupby('name').agg({'lat': 'first', 'lng': 'first'}).reset_index()\n",
      "C:\\Users\\Fenin Jose\\AppData\\Local\\Temp\\ipykernel_17548\\574676199.py:17: FutureWarning: The default of observed=False is deprecated and will be changed to True in a future version of pandas. Pass observed=False to retain current behavior or observed=True to adopt the future default and silence this warning.\n",
      "  df_unique = df_new.groupby('name').agg({'lat': 'first', 'lng': 'first'}).reset_index()\n",
      "C:\\Users\\Fenin Jose\\AppData\\Local\\Temp\\ipykernel_17548\\574676199.py:17: FutureWarning: The default of observed=False is deprecated and will be changed to True in a future version of pandas. Pass observed=False to retain current behavior or observed=True to adopt the future default and silence this warning.\n",
      "  df_unique = df_new.groupby('name').agg({'lat': 'first', 'lng': 'first'}).reset_index()\n"
     ]
    },
    {
     "name": "stdout",
     "output_type": "stream",
     "text": [
      "Map saved as D:\\df\\maps\\map_87.html\n",
      "Map saved as D:\\df\\maps\\map_88.html\n",
      "Map saved as D:\\df\\maps\\map_89.html\n",
      "Map saved as D:\\df\\maps\\map_90.html\n"
     ]
    },
    {
     "name": "stderr",
     "output_type": "stream",
     "text": [
      "C:\\Users\\Fenin Jose\\AppData\\Local\\Temp\\ipykernel_17548\\574676199.py:17: FutureWarning: The default of observed=False is deprecated and will be changed to True in a future version of pandas. Pass observed=False to retain current behavior or observed=True to adopt the future default and silence this warning.\n",
      "  df_unique = df_new.groupby('name').agg({'lat': 'first', 'lng': 'first'}).reset_index()\n",
      "C:\\Users\\Fenin Jose\\AppData\\Local\\Temp\\ipykernel_17548\\574676199.py:17: FutureWarning: The default of observed=False is deprecated and will be changed to True in a future version of pandas. Pass observed=False to retain current behavior or observed=True to adopt the future default and silence this warning.\n",
      "  df_unique = df_new.groupby('name').agg({'lat': 'first', 'lng': 'first'}).reset_index()\n",
      "C:\\Users\\Fenin Jose\\AppData\\Local\\Temp\\ipykernel_17548\\574676199.py:17: FutureWarning: The default of observed=False is deprecated and will be changed to True in a future version of pandas. Pass observed=False to retain current behavior or observed=True to adopt the future default and silence this warning.\n",
      "  df_unique = df_new.groupby('name').agg({'lat': 'first', 'lng': 'first'}).reset_index()\n",
      "C:\\Users\\Fenin Jose\\AppData\\Local\\Temp\\ipykernel_17548\\574676199.py:17: FutureWarning: The default of observed=False is deprecated and will be changed to True in a future version of pandas. Pass observed=False to retain current behavior or observed=True to adopt the future default and silence this warning.\n",
      "  df_unique = df_new.groupby('name').agg({'lat': 'first', 'lng': 'first'}).reset_index()\n"
     ]
    },
    {
     "name": "stdout",
     "output_type": "stream",
     "text": [
      "Map saved as D:\\df\\maps\\map_91.html\n",
      "Map saved as D:\\df\\maps\\map_92.html\n",
      "Map saved as D:\\df\\maps\\map_93.html\n",
      "Map saved as D:\\df\\maps\\map_94.html\n"
     ]
    },
    {
     "name": "stderr",
     "output_type": "stream",
     "text": [
      "C:\\Users\\Fenin Jose\\AppData\\Local\\Temp\\ipykernel_17548\\574676199.py:17: FutureWarning: The default of observed=False is deprecated and will be changed to True in a future version of pandas. Pass observed=False to retain current behavior or observed=True to adopt the future default and silence this warning.\n",
      "  df_unique = df_new.groupby('name').agg({'lat': 'first', 'lng': 'first'}).reset_index()\n",
      "C:\\Users\\Fenin Jose\\AppData\\Local\\Temp\\ipykernel_17548\\574676199.py:17: FutureWarning: The default of observed=False is deprecated and will be changed to True in a future version of pandas. Pass observed=False to retain current behavior or observed=True to adopt the future default and silence this warning.\n",
      "  df_unique = df_new.groupby('name').agg({'lat': 'first', 'lng': 'first'}).reset_index()\n",
      "C:\\Users\\Fenin Jose\\AppData\\Local\\Temp\\ipykernel_17548\\574676199.py:17: FutureWarning: The default of observed=False is deprecated and will be changed to True in a future version of pandas. Pass observed=False to retain current behavior or observed=True to adopt the future default and silence this warning.\n",
      "  df_unique = df_new.groupby('name').agg({'lat': 'first', 'lng': 'first'}).reset_index()\n",
      "C:\\Users\\Fenin Jose\\AppData\\Local\\Temp\\ipykernel_17548\\574676199.py:17: FutureWarning: The default of observed=False is deprecated and will be changed to True in a future version of pandas. Pass observed=False to retain current behavior or observed=True to adopt the future default and silence this warning.\n",
      "  df_unique = df_new.groupby('name').agg({'lat': 'first', 'lng': 'first'}).reset_index()\n"
     ]
    },
    {
     "name": "stdout",
     "output_type": "stream",
     "text": [
      "Map saved as D:\\df\\maps\\map_95.html\n",
      "Map saved as D:\\df\\maps\\map_96.html\n",
      "Map saved as D:\\df\\maps\\map_97.html\n",
      "Map saved as D:\\df\\maps\\map_98.html\n"
     ]
    },
    {
     "name": "stderr",
     "output_type": "stream",
     "text": [
      "C:\\Users\\Fenin Jose\\AppData\\Local\\Temp\\ipykernel_17548\\574676199.py:17: FutureWarning: The default of observed=False is deprecated and will be changed to True in a future version of pandas. Pass observed=False to retain current behavior or observed=True to adopt the future default and silence this warning.\n",
      "  df_unique = df_new.groupby('name').agg({'lat': 'first', 'lng': 'first'}).reset_index()\n",
      "C:\\Users\\Fenin Jose\\AppData\\Local\\Temp\\ipykernel_17548\\574676199.py:17: FutureWarning: The default of observed=False is deprecated and will be changed to True in a future version of pandas. Pass observed=False to retain current behavior or observed=True to adopt the future default and silence this warning.\n",
      "  df_unique = df_new.groupby('name').agg({'lat': 'first', 'lng': 'first'}).reset_index()\n",
      "C:\\Users\\Fenin Jose\\AppData\\Local\\Temp\\ipykernel_17548\\574676199.py:17: FutureWarning: The default of observed=False is deprecated and will be changed to True in a future version of pandas. Pass observed=False to retain current behavior or observed=True to adopt the future default and silence this warning.\n",
      "  df_unique = df_new.groupby('name').agg({'lat': 'first', 'lng': 'first'}).reset_index()\n",
      "C:\\Users\\Fenin Jose\\AppData\\Local\\Temp\\ipykernel_17548\\574676199.py:17: FutureWarning: The default of observed=False is deprecated and will be changed to True in a future version of pandas. Pass observed=False to retain current behavior or observed=True to adopt the future default and silence this warning.\n",
      "  df_unique = df_new.groupby('name').agg({'lat': 'first', 'lng': 'first'}).reset_index()\n"
     ]
    },
    {
     "name": "stdout",
     "output_type": "stream",
     "text": [
      "Map saved as D:\\df\\maps\\map_99.html\n",
      "Map saved as D:\\df\\maps\\map_100.html\n",
      "Map saved as D:\\df\\maps\\map_101.html\n"
     ]
    },
    {
     "name": "stderr",
     "output_type": "stream",
     "text": [
      "C:\\Users\\Fenin Jose\\AppData\\Local\\Temp\\ipykernel_17548\\574676199.py:17: FutureWarning: The default of observed=False is deprecated and will be changed to True in a future version of pandas. Pass observed=False to retain current behavior or observed=True to adopt the future default and silence this warning.\n",
      "  df_unique = df_new.groupby('name').agg({'lat': 'first', 'lng': 'first'}).reset_index()\n",
      "C:\\Users\\Fenin Jose\\AppData\\Local\\Temp\\ipykernel_17548\\574676199.py:17: FutureWarning: The default of observed=False is deprecated and will be changed to True in a future version of pandas. Pass observed=False to retain current behavior or observed=True to adopt the future default and silence this warning.\n",
      "  df_unique = df_new.groupby('name').agg({'lat': 'first', 'lng': 'first'}).reset_index()\n",
      "C:\\Users\\Fenin Jose\\AppData\\Local\\Temp\\ipykernel_17548\\574676199.py:17: FutureWarning: The default of observed=False is deprecated and will be changed to True in a future version of pandas. Pass observed=False to retain current behavior or observed=True to adopt the future default and silence this warning.\n",
      "  df_unique = df_new.groupby('name').agg({'lat': 'first', 'lng': 'first'}).reset_index()\n"
     ]
    },
    {
     "name": "stdout",
     "output_type": "stream",
     "text": [
      "Map saved as D:\\df\\maps\\map_102.html\n",
      "Map saved as D:\\df\\maps\\map_103.html\n",
      "Map saved as D:\\df\\maps\\map_104.html\n"
     ]
    },
    {
     "name": "stderr",
     "output_type": "stream",
     "text": [
      "C:\\Users\\Fenin Jose\\AppData\\Local\\Temp\\ipykernel_17548\\574676199.py:17: FutureWarning: The default of observed=False is deprecated and will be changed to True in a future version of pandas. Pass observed=False to retain current behavior or observed=True to adopt the future default and silence this warning.\n",
      "  df_unique = df_new.groupby('name').agg({'lat': 'first', 'lng': 'first'}).reset_index()\n",
      "C:\\Users\\Fenin Jose\\AppData\\Local\\Temp\\ipykernel_17548\\574676199.py:17: FutureWarning: The default of observed=False is deprecated and will be changed to True in a future version of pandas. Pass observed=False to retain current behavior or observed=True to adopt the future default and silence this warning.\n",
      "  df_unique = df_new.groupby('name').agg({'lat': 'first', 'lng': 'first'}).reset_index()\n",
      "C:\\Users\\Fenin Jose\\AppData\\Local\\Temp\\ipykernel_17548\\574676199.py:17: FutureWarning: The default of observed=False is deprecated and will be changed to True in a future version of pandas. Pass observed=False to retain current behavior or observed=True to adopt the future default and silence this warning.\n",
      "  df_unique = df_new.groupby('name').agg({'lat': 'first', 'lng': 'first'}).reset_index()\n"
     ]
    },
    {
     "name": "stdout",
     "output_type": "stream",
     "text": [
      "Map saved as D:\\df\\maps\\map_105.html\n",
      "Map saved as D:\\df\\maps\\map_106.html\n",
      "Map saved as D:\\df\\maps\\map_107.html\n"
     ]
    },
    {
     "name": "stderr",
     "output_type": "stream",
     "text": [
      "C:\\Users\\Fenin Jose\\AppData\\Local\\Temp\\ipykernel_17548\\574676199.py:17: FutureWarning: The default of observed=False is deprecated and will be changed to True in a future version of pandas. Pass observed=False to retain current behavior or observed=True to adopt the future default and silence this warning.\n",
      "  df_unique = df_new.groupby('name').agg({'lat': 'first', 'lng': 'first'}).reset_index()\n",
      "C:\\Users\\Fenin Jose\\AppData\\Local\\Temp\\ipykernel_17548\\574676199.py:17: FutureWarning: The default of observed=False is deprecated and will be changed to True in a future version of pandas. Pass observed=False to retain current behavior or observed=True to adopt the future default and silence this warning.\n",
      "  df_unique = df_new.groupby('name').agg({'lat': 'first', 'lng': 'first'}).reset_index()\n",
      "C:\\Users\\Fenin Jose\\AppData\\Local\\Temp\\ipykernel_17548\\574676199.py:17: FutureWarning: The default of observed=False is deprecated and will be changed to True in a future version of pandas. Pass observed=False to retain current behavior or observed=True to adopt the future default and silence this warning.\n",
      "  df_unique = df_new.groupby('name').agg({'lat': 'first', 'lng': 'first'}).reset_index()\n"
     ]
    },
    {
     "name": "stdout",
     "output_type": "stream",
     "text": [
      "Map saved as D:\\df\\maps\\map_108.html\n",
      "Map saved as D:\\df\\maps\\map_109.html\n",
      "Map saved as D:\\df\\maps\\map_110.html\n",
      "Map saved as D:\\df\\maps\\map_111.html\n"
     ]
    },
    {
     "name": "stderr",
     "output_type": "stream",
     "text": [
      "C:\\Users\\Fenin Jose\\AppData\\Local\\Temp\\ipykernel_17548\\574676199.py:17: FutureWarning: The default of observed=False is deprecated and will be changed to True in a future version of pandas. Pass observed=False to retain current behavior or observed=True to adopt the future default and silence this warning.\n",
      "  df_unique = df_new.groupby('name').agg({'lat': 'first', 'lng': 'first'}).reset_index()\n",
      "C:\\Users\\Fenin Jose\\AppData\\Local\\Temp\\ipykernel_17548\\574676199.py:17: FutureWarning: The default of observed=False is deprecated and will be changed to True in a future version of pandas. Pass observed=False to retain current behavior or observed=True to adopt the future default and silence this warning.\n",
      "  df_unique = df_new.groupby('name').agg({'lat': 'first', 'lng': 'first'}).reset_index()\n",
      "C:\\Users\\Fenin Jose\\AppData\\Local\\Temp\\ipykernel_17548\\574676199.py:17: FutureWarning: The default of observed=False is deprecated and will be changed to True in a future version of pandas. Pass observed=False to retain current behavior or observed=True to adopt the future default and silence this warning.\n",
      "  df_unique = df_new.groupby('name').agg({'lat': 'first', 'lng': 'first'}).reset_index()\n",
      "C:\\Users\\Fenin Jose\\AppData\\Local\\Temp\\ipykernel_17548\\574676199.py:17: FutureWarning: The default of observed=False is deprecated and will be changed to True in a future version of pandas. Pass observed=False to retain current behavior or observed=True to adopt the future default and silence this warning.\n",
      "  df_unique = df_new.groupby('name').agg({'lat': 'first', 'lng': 'first'}).reset_index()\n"
     ]
    },
    {
     "name": "stdout",
     "output_type": "stream",
     "text": [
      "Map saved as D:\\df\\maps\\map_112.html\n",
      "Map saved as D:\\df\\maps\\map_113.html\n",
      "Map saved as D:\\df\\maps\\map_114.html\n",
      "Map saved as D:\\df\\maps\\map_115.html\n"
     ]
    },
    {
     "name": "stderr",
     "output_type": "stream",
     "text": [
      "C:\\Users\\Fenin Jose\\AppData\\Local\\Temp\\ipykernel_17548\\574676199.py:17: FutureWarning: The default of observed=False is deprecated and will be changed to True in a future version of pandas. Pass observed=False to retain current behavior or observed=True to adopt the future default and silence this warning.\n",
      "  df_unique = df_new.groupby('name').agg({'lat': 'first', 'lng': 'first'}).reset_index()\n",
      "C:\\Users\\Fenin Jose\\AppData\\Local\\Temp\\ipykernel_17548\\574676199.py:17: FutureWarning: The default of observed=False is deprecated and will be changed to True in a future version of pandas. Pass observed=False to retain current behavior or observed=True to adopt the future default and silence this warning.\n",
      "  df_unique = df_new.groupby('name').agg({'lat': 'first', 'lng': 'first'}).reset_index()\n",
      "C:\\Users\\Fenin Jose\\AppData\\Local\\Temp\\ipykernel_17548\\574676199.py:17: FutureWarning: The default of observed=False is deprecated and will be changed to True in a future version of pandas. Pass observed=False to retain current behavior or observed=True to adopt the future default and silence this warning.\n",
      "  df_unique = df_new.groupby('name').agg({'lat': 'first', 'lng': 'first'}).reset_index()\n",
      "C:\\Users\\Fenin Jose\\AppData\\Local\\Temp\\ipykernel_17548\\574676199.py:17: FutureWarning: The default of observed=False is deprecated and will be changed to True in a future version of pandas. Pass observed=False to retain current behavior or observed=True to adopt the future default and silence this warning.\n",
      "  df_unique = df_new.groupby('name').agg({'lat': 'first', 'lng': 'first'}).reset_index()\n"
     ]
    },
    {
     "name": "stdout",
     "output_type": "stream",
     "text": [
      "Map saved as D:\\df\\maps\\map_116.html\n",
      "Map saved as D:\\df\\maps\\map_117.html\n",
      "Map saved as D:\\df\\maps\\map_118.html\n"
     ]
    },
    {
     "name": "stderr",
     "output_type": "stream",
     "text": [
      "C:\\Users\\Fenin Jose\\AppData\\Local\\Temp\\ipykernel_17548\\574676199.py:17: FutureWarning: The default of observed=False is deprecated and will be changed to True in a future version of pandas. Pass observed=False to retain current behavior or observed=True to adopt the future default and silence this warning.\n",
      "  df_unique = df_new.groupby('name').agg({'lat': 'first', 'lng': 'first'}).reset_index()\n",
      "C:\\Users\\Fenin Jose\\AppData\\Local\\Temp\\ipykernel_17548\\574676199.py:17: FutureWarning: The default of observed=False is deprecated and will be changed to True in a future version of pandas. Pass observed=False to retain current behavior or observed=True to adopt the future default and silence this warning.\n",
      "  df_unique = df_new.groupby('name').agg({'lat': 'first', 'lng': 'first'}).reset_index()\n",
      "C:\\Users\\Fenin Jose\\AppData\\Local\\Temp\\ipykernel_17548\\574676199.py:17: FutureWarning: The default of observed=False is deprecated and will be changed to True in a future version of pandas. Pass observed=False to retain current behavior or observed=True to adopt the future default and silence this warning.\n",
      "  df_unique = df_new.groupby('name').agg({'lat': 'first', 'lng': 'first'}).reset_index()\n",
      "C:\\Users\\Fenin Jose\\AppData\\Local\\Temp\\ipykernel_17548\\574676199.py:17: FutureWarning: The default of observed=False is deprecated and will be changed to True in a future version of pandas. Pass observed=False to retain current behavior or observed=True to adopt the future default and silence this warning.\n",
      "  df_unique = df_new.groupby('name').agg({'lat': 'first', 'lng': 'first'}).reset_index()\n"
     ]
    },
    {
     "name": "stdout",
     "output_type": "stream",
     "text": [
      "Map saved as D:\\df\\maps\\map_119.html\n",
      "Map saved as D:\\df\\maps\\map_120.html\n",
      "Map saved as D:\\df\\maps\\map_121.html\n",
      "Map saved as D:\\df\\maps\\map_122.html\n"
     ]
    },
    {
     "name": "stderr",
     "output_type": "stream",
     "text": [
      "C:\\Users\\Fenin Jose\\AppData\\Local\\Temp\\ipykernel_17548\\574676199.py:17: FutureWarning: The default of observed=False is deprecated and will be changed to True in a future version of pandas. Pass observed=False to retain current behavior or observed=True to adopt the future default and silence this warning.\n",
      "  df_unique = df_new.groupby('name').agg({'lat': 'first', 'lng': 'first'}).reset_index()\n",
      "C:\\Users\\Fenin Jose\\AppData\\Local\\Temp\\ipykernel_17548\\574676199.py:17: FutureWarning: The default of observed=False is deprecated and will be changed to True in a future version of pandas. Pass observed=False to retain current behavior or observed=True to adopt the future default and silence this warning.\n",
      "  df_unique = df_new.groupby('name').agg({'lat': 'first', 'lng': 'first'}).reset_index()\n",
      "C:\\Users\\Fenin Jose\\AppData\\Local\\Temp\\ipykernel_17548\\574676199.py:17: FutureWarning: The default of observed=False is deprecated and will be changed to True in a future version of pandas. Pass observed=False to retain current behavior or observed=True to adopt the future default and silence this warning.\n",
      "  df_unique = df_new.groupby('name').agg({'lat': 'first', 'lng': 'first'}).reset_index()\n",
      "C:\\Users\\Fenin Jose\\AppData\\Local\\Temp\\ipykernel_17548\\574676199.py:17: FutureWarning: The default of observed=False is deprecated and will be changed to True in a future version of pandas. Pass observed=False to retain current behavior or observed=True to adopt the future default and silence this warning.\n",
      "  df_unique = df_new.groupby('name').agg({'lat': 'first', 'lng': 'first'}).reset_index()\n"
     ]
    },
    {
     "name": "stdout",
     "output_type": "stream",
     "text": [
      "Map saved as D:\\df\\maps\\map_123.html\n",
      "Map saved as D:\\df\\maps\\map_124.html\n",
      "Map saved as D:\\df\\maps\\map_125.html\n"
     ]
    },
    {
     "name": "stderr",
     "output_type": "stream",
     "text": [
      "C:\\Users\\Fenin Jose\\AppData\\Local\\Temp\\ipykernel_17548\\574676199.py:17: FutureWarning: The default of observed=False is deprecated and will be changed to True in a future version of pandas. Pass observed=False to retain current behavior or observed=True to adopt the future default and silence this warning.\n",
      "  df_unique = df_new.groupby('name').agg({'lat': 'first', 'lng': 'first'}).reset_index()\n",
      "C:\\Users\\Fenin Jose\\AppData\\Local\\Temp\\ipykernel_17548\\574676199.py:17: FutureWarning: The default of observed=False is deprecated and will be changed to True in a future version of pandas. Pass observed=False to retain current behavior or observed=True to adopt the future default and silence this warning.\n",
      "  df_unique = df_new.groupby('name').agg({'lat': 'first', 'lng': 'first'}).reset_index()\n",
      "C:\\Users\\Fenin Jose\\AppData\\Local\\Temp\\ipykernel_17548\\574676199.py:17: FutureWarning: The default of observed=False is deprecated and will be changed to True in a future version of pandas. Pass observed=False to retain current behavior or observed=True to adopt the future default and silence this warning.\n",
      "  df_unique = df_new.groupby('name').agg({'lat': 'first', 'lng': 'first'}).reset_index()\n",
      "C:\\Users\\Fenin Jose\\AppData\\Local\\Temp\\ipykernel_17548\\574676199.py:17: FutureWarning: The default of observed=False is deprecated and will be changed to True in a future version of pandas. Pass observed=False to retain current behavior or observed=True to adopt the future default and silence this warning.\n",
      "  df_unique = df_new.groupby('name').agg({'lat': 'first', 'lng': 'first'}).reset_index()\n"
     ]
    },
    {
     "name": "stdout",
     "output_type": "stream",
     "text": [
      "Map saved as D:\\df\\maps\\map_126.html\n",
      "Map saved as D:\\df\\maps\\map_127.html\n",
      "Map saved as D:\\df\\maps\\map_128.html\n",
      "Map saved as D:\\df\\maps\\map_129.html\n"
     ]
    },
    {
     "name": "stderr",
     "output_type": "stream",
     "text": [
      "C:\\Users\\Fenin Jose\\AppData\\Local\\Temp\\ipykernel_17548\\574676199.py:17: FutureWarning: The default of observed=False is deprecated and will be changed to True in a future version of pandas. Pass observed=False to retain current behavior or observed=True to adopt the future default and silence this warning.\n",
      "  df_unique = df_new.groupby('name').agg({'lat': 'first', 'lng': 'first'}).reset_index()\n",
      "C:\\Users\\Fenin Jose\\AppData\\Local\\Temp\\ipykernel_17548\\574676199.py:17: FutureWarning: The default of observed=False is deprecated and will be changed to True in a future version of pandas. Pass observed=False to retain current behavior or observed=True to adopt the future default and silence this warning.\n",
      "  df_unique = df_new.groupby('name').agg({'lat': 'first', 'lng': 'first'}).reset_index()\n",
      "C:\\Users\\Fenin Jose\\AppData\\Local\\Temp\\ipykernel_17548\\574676199.py:17: FutureWarning: The default of observed=False is deprecated and will be changed to True in a future version of pandas. Pass observed=False to retain current behavior or observed=True to adopt the future default and silence this warning.\n",
      "  df_unique = df_new.groupby('name').agg({'lat': 'first', 'lng': 'first'}).reset_index()\n",
      "C:\\Users\\Fenin Jose\\AppData\\Local\\Temp\\ipykernel_17548\\574676199.py:17: FutureWarning: The default of observed=False is deprecated and will be changed to True in a future version of pandas. Pass observed=False to retain current behavior or observed=True to adopt the future default and silence this warning.\n",
      "  df_unique = df_new.groupby('name').agg({'lat': 'first', 'lng': 'first'}).reset_index()\n",
      "C:\\Users\\Fenin Jose\\AppData\\Local\\Temp\\ipykernel_17548\\574676199.py:17: FutureWarning: The default of observed=False is deprecated and will be changed to True in a future version of pandas. Pass observed=False to retain current behavior or observed=True to adopt the future default and silence this warning.\n",
      "  df_unique = df_new.groupby('name').agg({'lat': 'first', 'lng': 'first'}).reset_index()\n"
     ]
    },
    {
     "name": "stdout",
     "output_type": "stream",
     "text": [
      "Map saved as D:\\df\\maps\\map_130.html\n",
      "Map saved as D:\\df\\maps\\map_131.html\n",
      "Map saved as D:\\df\\maps\\map_132.html\n",
      "Map saved as D:\\df\\maps\\map_133.html\n"
     ]
    },
    {
     "name": "stderr",
     "output_type": "stream",
     "text": [
      "C:\\Users\\Fenin Jose\\AppData\\Local\\Temp\\ipykernel_17548\\574676199.py:17: FutureWarning: The default of observed=False is deprecated and will be changed to True in a future version of pandas. Pass observed=False to retain current behavior or observed=True to adopt the future default and silence this warning.\n",
      "  df_unique = df_new.groupby('name').agg({'lat': 'first', 'lng': 'first'}).reset_index()\n",
      "C:\\Users\\Fenin Jose\\AppData\\Local\\Temp\\ipykernel_17548\\574676199.py:17: FutureWarning: The default of observed=False is deprecated and will be changed to True in a future version of pandas. Pass observed=False to retain current behavior or observed=True to adopt the future default and silence this warning.\n",
      "  df_unique = df_new.groupby('name').agg({'lat': 'first', 'lng': 'first'}).reset_index()\n",
      "C:\\Users\\Fenin Jose\\AppData\\Local\\Temp\\ipykernel_17548\\574676199.py:17: FutureWarning: The default of observed=False is deprecated and will be changed to True in a future version of pandas. Pass observed=False to retain current behavior or observed=True to adopt the future default and silence this warning.\n",
      "  df_unique = df_new.groupby('name').agg({'lat': 'first', 'lng': 'first'}).reset_index()\n",
      "C:\\Users\\Fenin Jose\\AppData\\Local\\Temp\\ipykernel_17548\\574676199.py:17: FutureWarning: The default of observed=False is deprecated and will be changed to True in a future version of pandas. Pass observed=False to retain current behavior or observed=True to adopt the future default and silence this warning.\n",
      "  df_unique = df_new.groupby('name').agg({'lat': 'first', 'lng': 'first'}).reset_index()\n"
     ]
    },
    {
     "name": "stdout",
     "output_type": "stream",
     "text": [
      "Map saved as D:\\df\\maps\\map_134.html\n",
      "Map saved as D:\\df\\maps\\map_135.html\n",
      "Map saved as D:\\df\\maps\\map_136.html\n",
      "Map saved as D:\\df\\maps\\map_137.html\n"
     ]
    },
    {
     "name": "stderr",
     "output_type": "stream",
     "text": [
      "C:\\Users\\Fenin Jose\\AppData\\Local\\Temp\\ipykernel_17548\\574676199.py:17: FutureWarning: The default of observed=False is deprecated and will be changed to True in a future version of pandas. Pass observed=False to retain current behavior or observed=True to adopt the future default and silence this warning.\n",
      "  df_unique = df_new.groupby('name').agg({'lat': 'first', 'lng': 'first'}).reset_index()\n",
      "C:\\Users\\Fenin Jose\\AppData\\Local\\Temp\\ipykernel_17548\\574676199.py:17: FutureWarning: The default of observed=False is deprecated and will be changed to True in a future version of pandas. Pass observed=False to retain current behavior or observed=True to adopt the future default and silence this warning.\n",
      "  df_unique = df_new.groupby('name').agg({'lat': 'first', 'lng': 'first'}).reset_index()\n",
      "C:\\Users\\Fenin Jose\\AppData\\Local\\Temp\\ipykernel_17548\\574676199.py:17: FutureWarning: The default of observed=False is deprecated and will be changed to True in a future version of pandas. Pass observed=False to retain current behavior or observed=True to adopt the future default and silence this warning.\n",
      "  df_unique = df_new.groupby('name').agg({'lat': 'first', 'lng': 'first'}).reset_index()\n",
      "C:\\Users\\Fenin Jose\\AppData\\Local\\Temp\\ipykernel_17548\\574676199.py:17: FutureWarning: The default of observed=False is deprecated and will be changed to True in a future version of pandas. Pass observed=False to retain current behavior or observed=True to adopt the future default and silence this warning.\n",
      "  df_unique = df_new.groupby('name').agg({'lat': 'first', 'lng': 'first'}).reset_index()\n"
     ]
    },
    {
     "name": "stdout",
     "output_type": "stream",
     "text": [
      "Map saved as D:\\df\\maps\\map_138.html\n",
      "Map saved as D:\\df\\maps\\map_139.html\n",
      "Map saved as D:\\df\\maps\\map_140.html\n",
      "Map saved as D:\\df\\maps\\map_141.html\n"
     ]
    },
    {
     "name": "stderr",
     "output_type": "stream",
     "text": [
      "C:\\Users\\Fenin Jose\\AppData\\Local\\Temp\\ipykernel_17548\\574676199.py:17: FutureWarning: The default of observed=False is deprecated and will be changed to True in a future version of pandas. Pass observed=False to retain current behavior or observed=True to adopt the future default and silence this warning.\n",
      "  df_unique = df_new.groupby('name').agg({'lat': 'first', 'lng': 'first'}).reset_index()\n",
      "C:\\Users\\Fenin Jose\\AppData\\Local\\Temp\\ipykernel_17548\\574676199.py:17: FutureWarning: The default of observed=False is deprecated and will be changed to True in a future version of pandas. Pass observed=False to retain current behavior or observed=True to adopt the future default and silence this warning.\n",
      "  df_unique = df_new.groupby('name').agg({'lat': 'first', 'lng': 'first'}).reset_index()\n",
      "C:\\Users\\Fenin Jose\\AppData\\Local\\Temp\\ipykernel_17548\\574676199.py:17: FutureWarning: The default of observed=False is deprecated and will be changed to True in a future version of pandas. Pass observed=False to retain current behavior or observed=True to adopt the future default and silence this warning.\n",
      "  df_unique = df_new.groupby('name').agg({'lat': 'first', 'lng': 'first'}).reset_index()\n",
      "C:\\Users\\Fenin Jose\\AppData\\Local\\Temp\\ipykernel_17548\\574676199.py:17: FutureWarning: The default of observed=False is deprecated and will be changed to True in a future version of pandas. Pass observed=False to retain current behavior or observed=True to adopt the future default and silence this warning.\n",
      "  df_unique = df_new.groupby('name').agg({'lat': 'first', 'lng': 'first'}).reset_index()\n"
     ]
    },
    {
     "name": "stdout",
     "output_type": "stream",
     "text": [
      "Map saved as D:\\df\\maps\\map_142.html\n",
      "Map saved as D:\\df\\maps\\map_143.html\n",
      "Map saved as D:\\df\\maps\\map_144.html\n",
      "Map saved as D:\\df\\maps\\map_145.html\n"
     ]
    },
    {
     "name": "stderr",
     "output_type": "stream",
     "text": [
      "C:\\Users\\Fenin Jose\\AppData\\Local\\Temp\\ipykernel_17548\\574676199.py:17: FutureWarning: The default of observed=False is deprecated and will be changed to True in a future version of pandas. Pass observed=False to retain current behavior or observed=True to adopt the future default and silence this warning.\n",
      "  df_unique = df_new.groupby('name').agg({'lat': 'first', 'lng': 'first'}).reset_index()\n",
      "C:\\Users\\Fenin Jose\\AppData\\Local\\Temp\\ipykernel_17548\\574676199.py:17: FutureWarning: The default of observed=False is deprecated and will be changed to True in a future version of pandas. Pass observed=False to retain current behavior or observed=True to adopt the future default and silence this warning.\n",
      "  df_unique = df_new.groupby('name').agg({'lat': 'first', 'lng': 'first'}).reset_index()\n",
      "C:\\Users\\Fenin Jose\\AppData\\Local\\Temp\\ipykernel_17548\\574676199.py:17: FutureWarning: The default of observed=False is deprecated and will be changed to True in a future version of pandas. Pass observed=False to retain current behavior or observed=True to adopt the future default and silence this warning.\n",
      "  df_unique = df_new.groupby('name').agg({'lat': 'first', 'lng': 'first'}).reset_index()\n",
      "C:\\Users\\Fenin Jose\\AppData\\Local\\Temp\\ipykernel_17548\\574676199.py:17: FutureWarning: The default of observed=False is deprecated and will be changed to True in a future version of pandas. Pass observed=False to retain current behavior or observed=True to adopt the future default and silence this warning.\n",
      "  df_unique = df_new.groupby('name').agg({'lat': 'first', 'lng': 'first'}).reset_index()\n"
     ]
    },
    {
     "name": "stdout",
     "output_type": "stream",
     "text": [
      "Map saved as D:\\df\\maps\\map_146.html\n",
      "Map saved as D:\\df\\maps\\map_147.html\n",
      "Map saved as D:\\df\\maps\\map_148.html\n",
      "Map saved as D:\\df\\maps\\map_149.html\n"
     ]
    },
    {
     "name": "stderr",
     "output_type": "stream",
     "text": [
      "C:\\Users\\Fenin Jose\\AppData\\Local\\Temp\\ipykernel_17548\\574676199.py:17: FutureWarning: The default of observed=False is deprecated and will be changed to True in a future version of pandas. Pass observed=False to retain current behavior or observed=True to adopt the future default and silence this warning.\n",
      "  df_unique = df_new.groupby('name').agg({'lat': 'first', 'lng': 'first'}).reset_index()\n",
      "C:\\Users\\Fenin Jose\\AppData\\Local\\Temp\\ipykernel_17548\\574676199.py:17: FutureWarning: The default of observed=False is deprecated and will be changed to True in a future version of pandas. Pass observed=False to retain current behavior or observed=True to adopt the future default and silence this warning.\n",
      "  df_unique = df_new.groupby('name').agg({'lat': 'first', 'lng': 'first'}).reset_index()\n",
      "C:\\Users\\Fenin Jose\\AppData\\Local\\Temp\\ipykernel_17548\\574676199.py:17: FutureWarning: The default of observed=False is deprecated and will be changed to True in a future version of pandas. Pass observed=False to retain current behavior or observed=True to adopt the future default and silence this warning.\n",
      "  df_unique = df_new.groupby('name').agg({'lat': 'first', 'lng': 'first'}).reset_index()\n",
      "C:\\Users\\Fenin Jose\\AppData\\Local\\Temp\\ipykernel_17548\\574676199.py:17: FutureWarning: The default of observed=False is deprecated and will be changed to True in a future version of pandas. Pass observed=False to retain current behavior or observed=True to adopt the future default and silence this warning.\n",
      "  df_unique = df_new.groupby('name').agg({'lat': 'first', 'lng': 'first'}).reset_index()\n"
     ]
    },
    {
     "name": "stdout",
     "output_type": "stream",
     "text": [
      "Map saved as D:\\df\\maps\\map_150.html\n",
      "Map saved as D:\\df\\maps\\map_151.html\n",
      "Map saved as D:\\df\\maps\\map_152.html\n",
      "Map saved as D:\\df\\maps\\map_153.html\n"
     ]
    },
    {
     "name": "stderr",
     "output_type": "stream",
     "text": [
      "C:\\Users\\Fenin Jose\\AppData\\Local\\Temp\\ipykernel_17548\\574676199.py:17: FutureWarning: The default of observed=False is deprecated and will be changed to True in a future version of pandas. Pass observed=False to retain current behavior or observed=True to adopt the future default and silence this warning.\n",
      "  df_unique = df_new.groupby('name').agg({'lat': 'first', 'lng': 'first'}).reset_index()\n",
      "C:\\Users\\Fenin Jose\\AppData\\Local\\Temp\\ipykernel_17548\\574676199.py:17: FutureWarning: The default of observed=False is deprecated and will be changed to True in a future version of pandas. Pass observed=False to retain current behavior or observed=True to adopt the future default and silence this warning.\n",
      "  df_unique = df_new.groupby('name').agg({'lat': 'first', 'lng': 'first'}).reset_index()\n",
      "C:\\Users\\Fenin Jose\\AppData\\Local\\Temp\\ipykernel_17548\\574676199.py:17: FutureWarning: The default of observed=False is deprecated and will be changed to True in a future version of pandas. Pass observed=False to retain current behavior or observed=True to adopt the future default and silence this warning.\n",
      "  df_unique = df_new.groupby('name').agg({'lat': 'first', 'lng': 'first'}).reset_index()\n",
      "C:\\Users\\Fenin Jose\\AppData\\Local\\Temp\\ipykernel_17548\\574676199.py:17: FutureWarning: The default of observed=False is deprecated and will be changed to True in a future version of pandas. Pass observed=False to retain current behavior or observed=True to adopt the future default and silence this warning.\n",
      "  df_unique = df_new.groupby('name').agg({'lat': 'first', 'lng': 'first'}).reset_index()\n"
     ]
    },
    {
     "name": "stdout",
     "output_type": "stream",
     "text": [
      "Map saved as D:\\df\\maps\\map_154.html\n",
      "Map saved as D:\\df\\maps\\map_155.html\n",
      "Map saved as D:\\df\\maps\\map_156.html\n",
      "Map saved as D:\\df\\maps\\map_157.html\n"
     ]
    },
    {
     "name": "stderr",
     "output_type": "stream",
     "text": [
      "C:\\Users\\Fenin Jose\\AppData\\Local\\Temp\\ipykernel_17548\\574676199.py:17: FutureWarning: The default of observed=False is deprecated and will be changed to True in a future version of pandas. Pass observed=False to retain current behavior or observed=True to adopt the future default and silence this warning.\n",
      "  df_unique = df_new.groupby('name').agg({'lat': 'first', 'lng': 'first'}).reset_index()\n",
      "C:\\Users\\Fenin Jose\\AppData\\Local\\Temp\\ipykernel_17548\\574676199.py:17: FutureWarning: The default of observed=False is deprecated and will be changed to True in a future version of pandas. Pass observed=False to retain current behavior or observed=True to adopt the future default and silence this warning.\n",
      "  df_unique = df_new.groupby('name').agg({'lat': 'first', 'lng': 'first'}).reset_index()\n"
     ]
    },
    {
     "name": "stdout",
     "output_type": "stream",
     "text": [
      "Map saved as D:\\df\\maps\\map_158.html\n",
      "Map saved as D:\\df\\maps\\map_159.html\n",
      "Map saved as D:\\df\\maps\\map_160.html\n",
      "Map saved as D:\\df\\maps\\map_161.html\n"
     ]
    },
    {
     "name": "stderr",
     "output_type": "stream",
     "text": [
      "C:\\Users\\Fenin Jose\\AppData\\Local\\Temp\\ipykernel_17548\\574676199.py:17: FutureWarning: The default of observed=False is deprecated and will be changed to True in a future version of pandas. Pass observed=False to retain current behavior or observed=True to adopt the future default and silence this warning.\n",
      "  df_unique = df_new.groupby('name').agg({'lat': 'first', 'lng': 'first'}).reset_index()\n",
      "C:\\Users\\Fenin Jose\\AppData\\Local\\Temp\\ipykernel_17548\\574676199.py:17: FutureWarning: The default of observed=False is deprecated and will be changed to True in a future version of pandas. Pass observed=False to retain current behavior or observed=True to adopt the future default and silence this warning.\n",
      "  df_unique = df_new.groupby('name').agg({'lat': 'first', 'lng': 'first'}).reset_index()\n",
      "C:\\Users\\Fenin Jose\\AppData\\Local\\Temp\\ipykernel_17548\\574676199.py:17: FutureWarning: The default of observed=False is deprecated and will be changed to True in a future version of pandas. Pass observed=False to retain current behavior or observed=True to adopt the future default and silence this warning.\n",
      "  df_unique = df_new.groupby('name').agg({'lat': 'first', 'lng': 'first'}).reset_index()\n",
      "C:\\Users\\Fenin Jose\\AppData\\Local\\Temp\\ipykernel_17548\\574676199.py:17: FutureWarning: The default of observed=False is deprecated and will be changed to True in a future version of pandas. Pass observed=False to retain current behavior or observed=True to adopt the future default and silence this warning.\n",
      "  df_unique = df_new.groupby('name').agg({'lat': 'first', 'lng': 'first'}).reset_index()\n"
     ]
    },
    {
     "name": "stdout",
     "output_type": "stream",
     "text": [
      "Map saved as D:\\df\\maps\\map_162.html\n",
      "Map saved as D:\\df\\maps\\map_163.html\n",
      "Map saved as D:\\df\\maps\\map_164.html\n"
     ]
    },
    {
     "name": "stderr",
     "output_type": "stream",
     "text": [
      "C:\\Users\\Fenin Jose\\AppData\\Local\\Temp\\ipykernel_17548\\574676199.py:17: FutureWarning: The default of observed=False is deprecated and will be changed to True in a future version of pandas. Pass observed=False to retain current behavior or observed=True to adopt the future default and silence this warning.\n",
      "  df_unique = df_new.groupby('name').agg({'lat': 'first', 'lng': 'first'}).reset_index()\n",
      "C:\\Users\\Fenin Jose\\AppData\\Local\\Temp\\ipykernel_17548\\574676199.py:17: FutureWarning: The default of observed=False is deprecated and will be changed to True in a future version of pandas. Pass observed=False to retain current behavior or observed=True to adopt the future default and silence this warning.\n",
      "  df_unique = df_new.groupby('name').agg({'lat': 'first', 'lng': 'first'}).reset_index()\n",
      "C:\\Users\\Fenin Jose\\AppData\\Local\\Temp\\ipykernel_17548\\574676199.py:17: FutureWarning: The default of observed=False is deprecated and will be changed to True in a future version of pandas. Pass observed=False to retain current behavior or observed=True to adopt the future default and silence this warning.\n",
      "  df_unique = df_new.groupby('name').agg({'lat': 'first', 'lng': 'first'}).reset_index()\n",
      "C:\\Users\\Fenin Jose\\AppData\\Local\\Temp\\ipykernel_17548\\574676199.py:17: FutureWarning: The default of observed=False is deprecated and will be changed to True in a future version of pandas. Pass observed=False to retain current behavior or observed=True to adopt the future default and silence this warning.\n",
      "  df_unique = df_new.groupby('name').agg({'lat': 'first', 'lng': 'first'}).reset_index()\n"
     ]
    },
    {
     "name": "stdout",
     "output_type": "stream",
     "text": [
      "Map saved as D:\\df\\maps\\map_165.html\n",
      "Map saved as D:\\df\\maps\\map_166.html\n",
      "Map saved as D:\\df\\maps\\map_167.html\n",
      "Map saved as D:\\df\\maps\\map_168.html\n"
     ]
    },
    {
     "name": "stderr",
     "output_type": "stream",
     "text": [
      "C:\\Users\\Fenin Jose\\AppData\\Local\\Temp\\ipykernel_17548\\574676199.py:17: FutureWarning: The default of observed=False is deprecated and will be changed to True in a future version of pandas. Pass observed=False to retain current behavior or observed=True to adopt the future default and silence this warning.\n",
      "  df_unique = df_new.groupby('name').agg({'lat': 'first', 'lng': 'first'}).reset_index()\n",
      "C:\\Users\\Fenin Jose\\AppData\\Local\\Temp\\ipykernel_17548\\574676199.py:17: FutureWarning: The default of observed=False is deprecated and will be changed to True in a future version of pandas. Pass observed=False to retain current behavior or observed=True to adopt the future default and silence this warning.\n",
      "  df_unique = df_new.groupby('name').agg({'lat': 'first', 'lng': 'first'}).reset_index()\n",
      "C:\\Users\\Fenin Jose\\AppData\\Local\\Temp\\ipykernel_17548\\574676199.py:17: FutureWarning: The default of observed=False is deprecated and will be changed to True in a future version of pandas. Pass observed=False to retain current behavior or observed=True to adopt the future default and silence this warning.\n",
      "  df_unique = df_new.groupby('name').agg({'lat': 'first', 'lng': 'first'}).reset_index()\n",
      "C:\\Users\\Fenin Jose\\AppData\\Local\\Temp\\ipykernel_17548\\574676199.py:17: FutureWarning: The default of observed=False is deprecated and will be changed to True in a future version of pandas. Pass observed=False to retain current behavior or observed=True to adopt the future default and silence this warning.\n",
      "  df_unique = df_new.groupby('name').agg({'lat': 'first', 'lng': 'first'}).reset_index()\n"
     ]
    },
    {
     "name": "stdout",
     "output_type": "stream",
     "text": [
      "Map saved as D:\\df\\maps\\map_169.html\n",
      "Map saved as D:\\df\\maps\\map_170.html\n",
      "Map saved as D:\\df\\maps\\map_171.html\n",
      "Map saved as D:\\df\\maps\\map_172.html\n"
     ]
    },
    {
     "name": "stderr",
     "output_type": "stream",
     "text": [
      "C:\\Users\\Fenin Jose\\AppData\\Local\\Temp\\ipykernel_17548\\574676199.py:17: FutureWarning: The default of observed=False is deprecated and will be changed to True in a future version of pandas. Pass observed=False to retain current behavior or observed=True to adopt the future default and silence this warning.\n",
      "  df_unique = df_new.groupby('name').agg({'lat': 'first', 'lng': 'first'}).reset_index()\n",
      "C:\\Users\\Fenin Jose\\AppData\\Local\\Temp\\ipykernel_17548\\574676199.py:17: FutureWarning: The default of observed=False is deprecated and will be changed to True in a future version of pandas. Pass observed=False to retain current behavior or observed=True to adopt the future default and silence this warning.\n",
      "  df_unique = df_new.groupby('name').agg({'lat': 'first', 'lng': 'first'}).reset_index()\n",
      "C:\\Users\\Fenin Jose\\AppData\\Local\\Temp\\ipykernel_17548\\574676199.py:17: FutureWarning: The default of observed=False is deprecated and will be changed to True in a future version of pandas. Pass observed=False to retain current behavior or observed=True to adopt the future default and silence this warning.\n",
      "  df_unique = df_new.groupby('name').agg({'lat': 'first', 'lng': 'first'}).reset_index()\n",
      "C:\\Users\\Fenin Jose\\AppData\\Local\\Temp\\ipykernel_17548\\574676199.py:17: FutureWarning: The default of observed=False is deprecated and will be changed to True in a future version of pandas. Pass observed=False to retain current behavior or observed=True to adopt the future default and silence this warning.\n",
      "  df_unique = df_new.groupby('name').agg({'lat': 'first', 'lng': 'first'}).reset_index()\n"
     ]
    },
    {
     "name": "stdout",
     "output_type": "stream",
     "text": [
      "Map saved as D:\\df\\maps\\map_173.html\n",
      "Map saved as D:\\df\\maps\\map_174.html\n",
      "Map saved as D:\\df\\maps\\map_175.html\n",
      "Map saved as D:\\df\\maps\\map_176.html\n"
     ]
    },
    {
     "name": "stderr",
     "output_type": "stream",
     "text": [
      "C:\\Users\\Fenin Jose\\AppData\\Local\\Temp\\ipykernel_17548\\574676199.py:17: FutureWarning: The default of observed=False is deprecated and will be changed to True in a future version of pandas. Pass observed=False to retain current behavior or observed=True to adopt the future default and silence this warning.\n",
      "  df_unique = df_new.groupby('name').agg({'lat': 'first', 'lng': 'first'}).reset_index()\n",
      "C:\\Users\\Fenin Jose\\AppData\\Local\\Temp\\ipykernel_17548\\574676199.py:17: FutureWarning: The default of observed=False is deprecated and will be changed to True in a future version of pandas. Pass observed=False to retain current behavior or observed=True to adopt the future default and silence this warning.\n",
      "  df_unique = df_new.groupby('name').agg({'lat': 'first', 'lng': 'first'}).reset_index()\n",
      "C:\\Users\\Fenin Jose\\AppData\\Local\\Temp\\ipykernel_17548\\574676199.py:17: FutureWarning: The default of observed=False is deprecated and will be changed to True in a future version of pandas. Pass observed=False to retain current behavior or observed=True to adopt the future default and silence this warning.\n",
      "  df_unique = df_new.groupby('name').agg({'lat': 'first', 'lng': 'first'}).reset_index()\n",
      "C:\\Users\\Fenin Jose\\AppData\\Local\\Temp\\ipykernel_17548\\574676199.py:17: FutureWarning: The default of observed=False is deprecated and will be changed to True in a future version of pandas. Pass observed=False to retain current behavior or observed=True to adopt the future default and silence this warning.\n",
      "  df_unique = df_new.groupby('name').agg({'lat': 'first', 'lng': 'first'}).reset_index()\n"
     ]
    },
    {
     "name": "stdout",
     "output_type": "stream",
     "text": [
      "Map saved as D:\\df\\maps\\map_177.html\n",
      "Map saved as D:\\df\\maps\\map_178.html\n",
      "Map saved as D:\\df\\maps\\map_179.html\n",
      "Map saved as D:\\df\\maps\\map_180.html\n"
     ]
    },
    {
     "name": "stderr",
     "output_type": "stream",
     "text": [
      "C:\\Users\\Fenin Jose\\AppData\\Local\\Temp\\ipykernel_17548\\574676199.py:17: FutureWarning: The default of observed=False is deprecated and will be changed to True in a future version of pandas. Pass observed=False to retain current behavior or observed=True to adopt the future default and silence this warning.\n",
      "  df_unique = df_new.groupby('name').agg({'lat': 'first', 'lng': 'first'}).reset_index()\n",
      "C:\\Users\\Fenin Jose\\AppData\\Local\\Temp\\ipykernel_17548\\574676199.py:17: FutureWarning: The default of observed=False is deprecated and will be changed to True in a future version of pandas. Pass observed=False to retain current behavior or observed=True to adopt the future default and silence this warning.\n",
      "  df_unique = df_new.groupby('name').agg({'lat': 'first', 'lng': 'first'}).reset_index()\n",
      "C:\\Users\\Fenin Jose\\AppData\\Local\\Temp\\ipykernel_17548\\574676199.py:17: FutureWarning: The default of observed=False is deprecated and will be changed to True in a future version of pandas. Pass observed=False to retain current behavior or observed=True to adopt the future default and silence this warning.\n",
      "  df_unique = df_new.groupby('name').agg({'lat': 'first', 'lng': 'first'}).reset_index()\n",
      "C:\\Users\\Fenin Jose\\AppData\\Local\\Temp\\ipykernel_17548\\574676199.py:17: FutureWarning: The default of observed=False is deprecated and will be changed to True in a future version of pandas. Pass observed=False to retain current behavior or observed=True to adopt the future default and silence this warning.\n",
      "  df_unique = df_new.groupby('name').agg({'lat': 'first', 'lng': 'first'}).reset_index()\n"
     ]
    },
    {
     "name": "stdout",
     "output_type": "stream",
     "text": [
      "Map saved as D:\\df\\maps\\map_181.html\n",
      "Map saved as D:\\df\\maps\\map_182.html\n",
      "Map saved as D:\\df\\maps\\map_183.html\n",
      "Map saved as D:\\df\\maps\\map_184.html\n"
     ]
    },
    {
     "name": "stderr",
     "output_type": "stream",
     "text": [
      "C:\\Users\\Fenin Jose\\AppData\\Local\\Temp\\ipykernel_17548\\574676199.py:17: FutureWarning: The default of observed=False is deprecated and will be changed to True in a future version of pandas. Pass observed=False to retain current behavior or observed=True to adopt the future default and silence this warning.\n",
      "  df_unique = df_new.groupby('name').agg({'lat': 'first', 'lng': 'first'}).reset_index()\n",
      "C:\\Users\\Fenin Jose\\AppData\\Local\\Temp\\ipykernel_17548\\574676199.py:17: FutureWarning: The default of observed=False is deprecated and will be changed to True in a future version of pandas. Pass observed=False to retain current behavior or observed=True to adopt the future default and silence this warning.\n",
      "  df_unique = df_new.groupby('name').agg({'lat': 'first', 'lng': 'first'}).reset_index()\n",
      "C:\\Users\\Fenin Jose\\AppData\\Local\\Temp\\ipykernel_17548\\574676199.py:17: FutureWarning: The default of observed=False is deprecated and will be changed to True in a future version of pandas. Pass observed=False to retain current behavior or observed=True to adopt the future default and silence this warning.\n",
      "  df_unique = df_new.groupby('name').agg({'lat': 'first', 'lng': 'first'}).reset_index()\n",
      "C:\\Users\\Fenin Jose\\AppData\\Local\\Temp\\ipykernel_17548\\574676199.py:17: FutureWarning: The default of observed=False is deprecated and will be changed to True in a future version of pandas. Pass observed=False to retain current behavior or observed=True to adopt the future default and silence this warning.\n",
      "  df_unique = df_new.groupby('name').agg({'lat': 'first', 'lng': 'first'}).reset_index()\n"
     ]
    },
    {
     "name": "stdout",
     "output_type": "stream",
     "text": [
      "Map saved as D:\\df\\maps\\map_185.html\n",
      "Map saved as D:\\df\\maps\\map_186.html\n",
      "Map saved as D:\\df\\maps\\map_187.html\n",
      "Map saved as D:\\df\\maps\\map_188.html\n"
     ]
    },
    {
     "name": "stderr",
     "output_type": "stream",
     "text": [
      "C:\\Users\\Fenin Jose\\AppData\\Local\\Temp\\ipykernel_17548\\574676199.py:17: FutureWarning: The default of observed=False is deprecated and will be changed to True in a future version of pandas. Pass observed=False to retain current behavior or observed=True to adopt the future default and silence this warning.\n",
      "  df_unique = df_new.groupby('name').agg({'lat': 'first', 'lng': 'first'}).reset_index()\n",
      "C:\\Users\\Fenin Jose\\AppData\\Local\\Temp\\ipykernel_17548\\574676199.py:17: FutureWarning: The default of observed=False is deprecated and will be changed to True in a future version of pandas. Pass observed=False to retain current behavior or observed=True to adopt the future default and silence this warning.\n",
      "  df_unique = df_new.groupby('name').agg({'lat': 'first', 'lng': 'first'}).reset_index()\n",
      "C:\\Users\\Fenin Jose\\AppData\\Local\\Temp\\ipykernel_17548\\574676199.py:17: FutureWarning: The default of observed=False is deprecated and will be changed to True in a future version of pandas. Pass observed=False to retain current behavior or observed=True to adopt the future default and silence this warning.\n",
      "  df_unique = df_new.groupby('name').agg({'lat': 'first', 'lng': 'first'}).reset_index()\n",
      "C:\\Users\\Fenin Jose\\AppData\\Local\\Temp\\ipykernel_17548\\574676199.py:17: FutureWarning: The default of observed=False is deprecated and will be changed to True in a future version of pandas. Pass observed=False to retain current behavior or observed=True to adopt the future default and silence this warning.\n",
      "  df_unique = df_new.groupby('name').agg({'lat': 'first', 'lng': 'first'}).reset_index()\n"
     ]
    },
    {
     "name": "stdout",
     "output_type": "stream",
     "text": [
      "Map saved as D:\\df\\maps\\map_189.html\n",
      "Map saved as D:\\df\\maps\\map_190.html\n",
      "Map saved as D:\\df\\maps\\map_191.html\n",
      "Map saved as D:\\df\\maps\\map_192.html\n"
     ]
    },
    {
     "name": "stderr",
     "output_type": "stream",
     "text": [
      "C:\\Users\\Fenin Jose\\AppData\\Local\\Temp\\ipykernel_17548\\574676199.py:17: FutureWarning: The default of observed=False is deprecated and will be changed to True in a future version of pandas. Pass observed=False to retain current behavior or observed=True to adopt the future default and silence this warning.\n",
      "  df_unique = df_new.groupby('name').agg({'lat': 'first', 'lng': 'first'}).reset_index()\n",
      "C:\\Users\\Fenin Jose\\AppData\\Local\\Temp\\ipykernel_17548\\574676199.py:17: FutureWarning: The default of observed=False is deprecated and will be changed to True in a future version of pandas. Pass observed=False to retain current behavior or observed=True to adopt the future default and silence this warning.\n",
      "  df_unique = df_new.groupby('name').agg({'lat': 'first', 'lng': 'first'}).reset_index()\n",
      "C:\\Users\\Fenin Jose\\AppData\\Local\\Temp\\ipykernel_17548\\574676199.py:17: FutureWarning: The default of observed=False is deprecated and will be changed to True in a future version of pandas. Pass observed=False to retain current behavior or observed=True to adopt the future default and silence this warning.\n",
      "  df_unique = df_new.groupby('name').agg({'lat': 'first', 'lng': 'first'}).reset_index()\n",
      "C:\\Users\\Fenin Jose\\AppData\\Local\\Temp\\ipykernel_17548\\574676199.py:17: FutureWarning: The default of observed=False is deprecated and will be changed to True in a future version of pandas. Pass observed=False to retain current behavior or observed=True to adopt the future default and silence this warning.\n",
      "  df_unique = df_new.groupby('name').agg({'lat': 'first', 'lng': 'first'}).reset_index()\n"
     ]
    },
    {
     "name": "stdout",
     "output_type": "stream",
     "text": [
      "Map saved as D:\\df\\maps\\map_193.html\n",
      "Map saved as D:\\df\\maps\\map_194.html\n",
      "Map saved as D:\\df\\maps\\map_195.html\n",
      "Map saved as D:\\df\\maps\\map_196.html\n"
     ]
    },
    {
     "name": "stderr",
     "output_type": "stream",
     "text": [
      "C:\\Users\\Fenin Jose\\AppData\\Local\\Temp\\ipykernel_17548\\574676199.py:17: FutureWarning: The default of observed=False is deprecated and will be changed to True in a future version of pandas. Pass observed=False to retain current behavior or observed=True to adopt the future default and silence this warning.\n",
      "  df_unique = df_new.groupby('name').agg({'lat': 'first', 'lng': 'first'}).reset_index()\n",
      "C:\\Users\\Fenin Jose\\AppData\\Local\\Temp\\ipykernel_17548\\574676199.py:17: FutureWarning: The default of observed=False is deprecated and will be changed to True in a future version of pandas. Pass observed=False to retain current behavior or observed=True to adopt the future default and silence this warning.\n",
      "  df_unique = df_new.groupby('name').agg({'lat': 'first', 'lng': 'first'}).reset_index()\n",
      "C:\\Users\\Fenin Jose\\AppData\\Local\\Temp\\ipykernel_17548\\574676199.py:17: FutureWarning: The default of observed=False is deprecated and will be changed to True in a future version of pandas. Pass observed=False to retain current behavior or observed=True to adopt the future default and silence this warning.\n",
      "  df_unique = df_new.groupby('name').agg({'lat': 'first', 'lng': 'first'}).reset_index()\n"
     ]
    },
    {
     "name": "stdout",
     "output_type": "stream",
     "text": [
      "Map saved as D:\\df\\maps\\map_197.html\n",
      "Map saved as D:\\df\\maps\\map_198.html\n",
      "Map saved as D:\\df\\maps\\map_199.html\n"
     ]
    },
    {
     "name": "stderr",
     "output_type": "stream",
     "text": [
      "C:\\Users\\Fenin Jose\\AppData\\Local\\Temp\\ipykernel_17548\\574676199.py:17: FutureWarning: The default of observed=False is deprecated and will be changed to True in a future version of pandas. Pass observed=False to retain current behavior or observed=True to adopt the future default and silence this warning.\n",
      "  df_unique = df_new.groupby('name').agg({'lat': 'first', 'lng': 'first'}).reset_index()\n",
      "C:\\Users\\Fenin Jose\\AppData\\Local\\Temp\\ipykernel_17548\\574676199.py:17: FutureWarning: The default of observed=False is deprecated and will be changed to True in a future version of pandas. Pass observed=False to retain current behavior or observed=True to adopt the future default and silence this warning.\n",
      "  df_unique = df_new.groupby('name').agg({'lat': 'first', 'lng': 'first'}).reset_index()\n",
      "C:\\Users\\Fenin Jose\\AppData\\Local\\Temp\\ipykernel_17548\\574676199.py:17: FutureWarning: The default of observed=False is deprecated and will be changed to True in a future version of pandas. Pass observed=False to retain current behavior or observed=True to adopt the future default and silence this warning.\n",
      "  df_unique = df_new.groupby('name').agg({'lat': 'first', 'lng': 'first'}).reset_index()\n",
      "C:\\Users\\Fenin Jose\\AppData\\Local\\Temp\\ipykernel_17548\\574676199.py:17: FutureWarning: The default of observed=False is deprecated and will be changed to True in a future version of pandas. Pass observed=False to retain current behavior or observed=True to adopt the future default and silence this warning.\n",
      "  df_unique = df_new.groupby('name').agg({'lat': 'first', 'lng': 'first'}).reset_index()\n"
     ]
    },
    {
     "name": "stdout",
     "output_type": "stream",
     "text": [
      "Map saved as D:\\df\\maps\\map_200.html\n",
      "Map saved as D:\\df\\maps\\map_201.html\n",
      "Map saved as D:\\df\\maps\\map_202.html\n",
      "Map saved as D:\\df\\maps\\map_203.html\n"
     ]
    },
    {
     "name": "stderr",
     "output_type": "stream",
     "text": [
      "C:\\Users\\Fenin Jose\\AppData\\Local\\Temp\\ipykernel_17548\\574676199.py:17: FutureWarning: The default of observed=False is deprecated and will be changed to True in a future version of pandas. Pass observed=False to retain current behavior or observed=True to adopt the future default and silence this warning.\n",
      "  df_unique = df_new.groupby('name').agg({'lat': 'first', 'lng': 'first'}).reset_index()\n",
      "C:\\Users\\Fenin Jose\\AppData\\Local\\Temp\\ipykernel_17548\\574676199.py:17: FutureWarning: The default of observed=False is deprecated and will be changed to True in a future version of pandas. Pass observed=False to retain current behavior or observed=True to adopt the future default and silence this warning.\n",
      "  df_unique = df_new.groupby('name').agg({'lat': 'first', 'lng': 'first'}).reset_index()\n",
      "C:\\Users\\Fenin Jose\\AppData\\Local\\Temp\\ipykernel_17548\\574676199.py:17: FutureWarning: The default of observed=False is deprecated and will be changed to True in a future version of pandas. Pass observed=False to retain current behavior or observed=True to adopt the future default and silence this warning.\n",
      "  df_unique = df_new.groupby('name').agg({'lat': 'first', 'lng': 'first'}).reset_index()\n",
      "C:\\Users\\Fenin Jose\\AppData\\Local\\Temp\\ipykernel_17548\\574676199.py:17: FutureWarning: The default of observed=False is deprecated and will be changed to True in a future version of pandas. Pass observed=False to retain current behavior or observed=True to adopt the future default and silence this warning.\n",
      "  df_unique = df_new.groupby('name').agg({'lat': 'first', 'lng': 'first'}).reset_index()\n"
     ]
    },
    {
     "name": "stdout",
     "output_type": "stream",
     "text": [
      "Map saved as D:\\df\\maps\\map_204.html\n",
      "Map saved as D:\\df\\maps\\map_205.html\n",
      "Map saved as D:\\df\\maps\\map_206.html\n",
      "Map saved as D:\\df\\maps\\map_207.html\n"
     ]
    },
    {
     "name": "stderr",
     "output_type": "stream",
     "text": [
      "C:\\Users\\Fenin Jose\\AppData\\Local\\Temp\\ipykernel_17548\\574676199.py:17: FutureWarning: The default of observed=False is deprecated and will be changed to True in a future version of pandas. Pass observed=False to retain current behavior or observed=True to adopt the future default and silence this warning.\n",
      "  df_unique = df_new.groupby('name').agg({'lat': 'first', 'lng': 'first'}).reset_index()\n",
      "C:\\Users\\Fenin Jose\\AppData\\Local\\Temp\\ipykernel_17548\\574676199.py:17: FutureWarning: The default of observed=False is deprecated and will be changed to True in a future version of pandas. Pass observed=False to retain current behavior or observed=True to adopt the future default and silence this warning.\n",
      "  df_unique = df_new.groupby('name').agg({'lat': 'first', 'lng': 'first'}).reset_index()\n",
      "C:\\Users\\Fenin Jose\\AppData\\Local\\Temp\\ipykernel_17548\\574676199.py:17: FutureWarning: The default of observed=False is deprecated and will be changed to True in a future version of pandas. Pass observed=False to retain current behavior or observed=True to adopt the future default and silence this warning.\n",
      "  df_unique = df_new.groupby('name').agg({'lat': 'first', 'lng': 'first'}).reset_index()\n",
      "C:\\Users\\Fenin Jose\\AppData\\Local\\Temp\\ipykernel_17548\\574676199.py:17: FutureWarning: The default of observed=False is deprecated and will be changed to True in a future version of pandas. Pass observed=False to retain current behavior or observed=True to adopt the future default and silence this warning.\n",
      "  df_unique = df_new.groupby('name').agg({'lat': 'first', 'lng': 'first'}).reset_index()\n"
     ]
    },
    {
     "name": "stdout",
     "output_type": "stream",
     "text": [
      "Map saved as D:\\df\\maps\\map_208.html\n",
      "Map saved as D:\\df\\maps\\map_209.html\n",
      "Map saved as D:\\df\\maps\\map_210.html\n"
     ]
    },
    {
     "name": "stderr",
     "output_type": "stream",
     "text": [
      "C:\\Users\\Fenin Jose\\AppData\\Local\\Temp\\ipykernel_17548\\574676199.py:17: FutureWarning: The default of observed=False is deprecated and will be changed to True in a future version of pandas. Pass observed=False to retain current behavior or observed=True to adopt the future default and silence this warning.\n",
      "  df_unique = df_new.groupby('name').agg({'lat': 'first', 'lng': 'first'}).reset_index()\n",
      "C:\\Users\\Fenin Jose\\AppData\\Local\\Temp\\ipykernel_17548\\574676199.py:17: FutureWarning: The default of observed=False is deprecated and will be changed to True in a future version of pandas. Pass observed=False to retain current behavior or observed=True to adopt the future default and silence this warning.\n",
      "  df_unique = df_new.groupby('name').agg({'lat': 'first', 'lng': 'first'}).reset_index()\n",
      "C:\\Users\\Fenin Jose\\AppData\\Local\\Temp\\ipykernel_17548\\574676199.py:17: FutureWarning: The default of observed=False is deprecated and will be changed to True in a future version of pandas. Pass observed=False to retain current behavior or observed=True to adopt the future default and silence this warning.\n",
      "  df_unique = df_new.groupby('name').agg({'lat': 'first', 'lng': 'first'}).reset_index()\n"
     ]
    },
    {
     "name": "stdout",
     "output_type": "stream",
     "text": [
      "Map saved as D:\\df\\maps\\map_211.html\n",
      "Map saved as D:\\df\\maps\\map_212.html\n",
      "Map saved as D:\\df\\maps\\map_213.html\n"
     ]
    },
    {
     "name": "stderr",
     "output_type": "stream",
     "text": [
      "C:\\Users\\Fenin Jose\\AppData\\Local\\Temp\\ipykernel_17548\\574676199.py:17: FutureWarning: The default of observed=False is deprecated and will be changed to True in a future version of pandas. Pass observed=False to retain current behavior or observed=True to adopt the future default and silence this warning.\n",
      "  df_unique = df_new.groupby('name').agg({'lat': 'first', 'lng': 'first'}).reset_index()\n",
      "C:\\Users\\Fenin Jose\\AppData\\Local\\Temp\\ipykernel_17548\\574676199.py:17: FutureWarning: The default of observed=False is deprecated and will be changed to True in a future version of pandas. Pass observed=False to retain current behavior or observed=True to adopt the future default and silence this warning.\n",
      "  df_unique = df_new.groupby('name').agg({'lat': 'first', 'lng': 'first'}).reset_index()\n",
      "C:\\Users\\Fenin Jose\\AppData\\Local\\Temp\\ipykernel_17548\\574676199.py:17: FutureWarning: The default of observed=False is deprecated and will be changed to True in a future version of pandas. Pass observed=False to retain current behavior or observed=True to adopt the future default and silence this warning.\n",
      "  df_unique = df_new.groupby('name').agg({'lat': 'first', 'lng': 'first'}).reset_index()\n"
     ]
    },
    {
     "name": "stdout",
     "output_type": "stream",
     "text": [
      "Map saved as D:\\df\\maps\\map_214.html\n",
      "Map saved as D:\\df\\maps\\map_215.html\n",
      "Map saved as D:\\df\\maps\\map_216.html\n"
     ]
    },
    {
     "name": "stderr",
     "output_type": "stream",
     "text": [
      "C:\\Users\\Fenin Jose\\AppData\\Local\\Temp\\ipykernel_17548\\574676199.py:17: FutureWarning: The default of observed=False is deprecated and will be changed to True in a future version of pandas. Pass observed=False to retain current behavior or observed=True to adopt the future default and silence this warning.\n",
      "  df_unique = df_new.groupby('name').agg({'lat': 'first', 'lng': 'first'}).reset_index()\n",
      "C:\\Users\\Fenin Jose\\AppData\\Local\\Temp\\ipykernel_17548\\574676199.py:17: FutureWarning: The default of observed=False is deprecated and will be changed to True in a future version of pandas. Pass observed=False to retain current behavior or observed=True to adopt the future default and silence this warning.\n",
      "  df_unique = df_new.groupby('name').agg({'lat': 'first', 'lng': 'first'}).reset_index()\n",
      "C:\\Users\\Fenin Jose\\AppData\\Local\\Temp\\ipykernel_17548\\574676199.py:17: FutureWarning: The default of observed=False is deprecated and will be changed to True in a future version of pandas. Pass observed=False to retain current behavior or observed=True to adopt the future default and silence this warning.\n",
      "  df_unique = df_new.groupby('name').agg({'lat': 'first', 'lng': 'first'}).reset_index()\n",
      "C:\\Users\\Fenin Jose\\AppData\\Local\\Temp\\ipykernel_17548\\574676199.py:17: FutureWarning: The default of observed=False is deprecated and will be changed to True in a future version of pandas. Pass observed=False to retain current behavior or observed=True to adopt the future default and silence this warning.\n",
      "  df_unique = df_new.groupby('name').agg({'lat': 'first', 'lng': 'first'}).reset_index()\n"
     ]
    },
    {
     "name": "stdout",
     "output_type": "stream",
     "text": [
      "Map saved as D:\\df\\maps\\map_217.html\n",
      "Map saved as D:\\df\\maps\\map_218.html\n",
      "Map saved as D:\\df\\maps\\map_219.html\n",
      "Map saved as D:\\df\\maps\\map_220.html\n"
     ]
    },
    {
     "name": "stderr",
     "output_type": "stream",
     "text": [
      "C:\\Users\\Fenin Jose\\AppData\\Local\\Temp\\ipykernel_17548\\574676199.py:17: FutureWarning: The default of observed=False is deprecated and will be changed to True in a future version of pandas. Pass observed=False to retain current behavior or observed=True to adopt the future default and silence this warning.\n",
      "  df_unique = df_new.groupby('name').agg({'lat': 'first', 'lng': 'first'}).reset_index()\n",
      "C:\\Users\\Fenin Jose\\AppData\\Local\\Temp\\ipykernel_17548\\574676199.py:17: FutureWarning: The default of observed=False is deprecated and will be changed to True in a future version of pandas. Pass observed=False to retain current behavior or observed=True to adopt the future default and silence this warning.\n",
      "  df_unique = df_new.groupby('name').agg({'lat': 'first', 'lng': 'first'}).reset_index()\n",
      "C:\\Users\\Fenin Jose\\AppData\\Local\\Temp\\ipykernel_17548\\574676199.py:17: FutureWarning: The default of observed=False is deprecated and will be changed to True in a future version of pandas. Pass observed=False to retain current behavior or observed=True to adopt the future default and silence this warning.\n",
      "  df_unique = df_new.groupby('name').agg({'lat': 'first', 'lng': 'first'}).reset_index()\n",
      "C:\\Users\\Fenin Jose\\AppData\\Local\\Temp\\ipykernel_17548\\574676199.py:17: FutureWarning: The default of observed=False is deprecated and will be changed to True in a future version of pandas. Pass observed=False to retain current behavior or observed=True to adopt the future default and silence this warning.\n",
      "  df_unique = df_new.groupby('name').agg({'lat': 'first', 'lng': 'first'}).reset_index()\n"
     ]
    },
    {
     "name": "stdout",
     "output_type": "stream",
     "text": [
      "Map saved as D:\\df\\maps\\map_221.html\n",
      "Map saved as D:\\df\\maps\\map_222.html\n",
      "Map saved as D:\\df\\maps\\map_223.html\n",
      "Map saved as D:\\df\\maps\\map_224.html\n"
     ]
    },
    {
     "name": "stderr",
     "output_type": "stream",
     "text": [
      "C:\\Users\\Fenin Jose\\AppData\\Local\\Temp\\ipykernel_17548\\574676199.py:17: FutureWarning: The default of observed=False is deprecated and will be changed to True in a future version of pandas. Pass observed=False to retain current behavior or observed=True to adopt the future default and silence this warning.\n",
      "  df_unique = df_new.groupby('name').agg({'lat': 'first', 'lng': 'first'}).reset_index()\n",
      "C:\\Users\\Fenin Jose\\AppData\\Local\\Temp\\ipykernel_17548\\574676199.py:17: FutureWarning: The default of observed=False is deprecated and will be changed to True in a future version of pandas. Pass observed=False to retain current behavior or observed=True to adopt the future default and silence this warning.\n",
      "  df_unique = df_new.groupby('name').agg({'lat': 'first', 'lng': 'first'}).reset_index()\n",
      "C:\\Users\\Fenin Jose\\AppData\\Local\\Temp\\ipykernel_17548\\574676199.py:17: FutureWarning: The default of observed=False is deprecated and will be changed to True in a future version of pandas. Pass observed=False to retain current behavior or observed=True to adopt the future default and silence this warning.\n",
      "  df_unique = df_new.groupby('name').agg({'lat': 'first', 'lng': 'first'}).reset_index()\n",
      "C:\\Users\\Fenin Jose\\AppData\\Local\\Temp\\ipykernel_17548\\574676199.py:17: FutureWarning: The default of observed=False is deprecated and will be changed to True in a future version of pandas. Pass observed=False to retain current behavior or observed=True to adopt the future default and silence this warning.\n",
      "  df_unique = df_new.groupby('name').agg({'lat': 'first', 'lng': 'first'}).reset_index()\n"
     ]
    },
    {
     "name": "stdout",
     "output_type": "stream",
     "text": [
      "Map saved as D:\\df\\maps\\map_225.html\n",
      "Map saved as D:\\df\\maps\\map_226.html\n",
      "Map saved as D:\\df\\maps\\map_227.html\n",
      "Map saved as D:\\df\\maps\\map_228.html\n"
     ]
    },
    {
     "name": "stderr",
     "output_type": "stream",
     "text": [
      "C:\\Users\\Fenin Jose\\AppData\\Local\\Temp\\ipykernel_17548\\574676199.py:17: FutureWarning: The default of observed=False is deprecated and will be changed to True in a future version of pandas. Pass observed=False to retain current behavior or observed=True to adopt the future default and silence this warning.\n",
      "  df_unique = df_new.groupby('name').agg({'lat': 'first', 'lng': 'first'}).reset_index()\n",
      "C:\\Users\\Fenin Jose\\AppData\\Local\\Temp\\ipykernel_17548\\574676199.py:17: FutureWarning: The default of observed=False is deprecated and will be changed to True in a future version of pandas. Pass observed=False to retain current behavior or observed=True to adopt the future default and silence this warning.\n",
      "  df_unique = df_new.groupby('name').agg({'lat': 'first', 'lng': 'first'}).reset_index()\n",
      "C:\\Users\\Fenin Jose\\AppData\\Local\\Temp\\ipykernel_17548\\574676199.py:17: FutureWarning: The default of observed=False is deprecated and will be changed to True in a future version of pandas. Pass observed=False to retain current behavior or observed=True to adopt the future default and silence this warning.\n",
      "  df_unique = df_new.groupby('name').agg({'lat': 'first', 'lng': 'first'}).reset_index()\n",
      "C:\\Users\\Fenin Jose\\AppData\\Local\\Temp\\ipykernel_17548\\574676199.py:17: FutureWarning: The default of observed=False is deprecated and will be changed to True in a future version of pandas. Pass observed=False to retain current behavior or observed=True to adopt the future default and silence this warning.\n",
      "  df_unique = df_new.groupby('name').agg({'lat': 'first', 'lng': 'first'}).reset_index()\n"
     ]
    },
    {
     "name": "stdout",
     "output_type": "stream",
     "text": [
      "Map saved as D:\\df\\maps\\map_229.html\n",
      "Map saved as D:\\df\\maps\\map_230.html\n",
      "Map saved as D:\\df\\maps\\map_231.html\n",
      "Map saved as D:\\df\\maps\\map_232.html\n"
     ]
    },
    {
     "name": "stderr",
     "output_type": "stream",
     "text": [
      "C:\\Users\\Fenin Jose\\AppData\\Local\\Temp\\ipykernel_17548\\574676199.py:17: FutureWarning: The default of observed=False is deprecated and will be changed to True in a future version of pandas. Pass observed=False to retain current behavior or observed=True to adopt the future default and silence this warning.\n",
      "  df_unique = df_new.groupby('name').agg({'lat': 'first', 'lng': 'first'}).reset_index()\n",
      "C:\\Users\\Fenin Jose\\AppData\\Local\\Temp\\ipykernel_17548\\574676199.py:17: FutureWarning: The default of observed=False is deprecated and will be changed to True in a future version of pandas. Pass observed=False to retain current behavior or observed=True to adopt the future default and silence this warning.\n",
      "  df_unique = df_new.groupby('name').agg({'lat': 'first', 'lng': 'first'}).reset_index()\n",
      "C:\\Users\\Fenin Jose\\AppData\\Local\\Temp\\ipykernel_17548\\574676199.py:17: FutureWarning: The default of observed=False is deprecated and will be changed to True in a future version of pandas. Pass observed=False to retain current behavior or observed=True to adopt the future default and silence this warning.\n",
      "  df_unique = df_new.groupby('name').agg({'lat': 'first', 'lng': 'first'}).reset_index()\n"
     ]
    },
    {
     "name": "stdout",
     "output_type": "stream",
     "text": [
      "Map saved as D:\\df\\maps\\map_233.html\n",
      "Map saved as D:\\df\\maps\\map_234.html\n",
      "Map saved as D:\\df\\maps\\map_235.html\n",
      "Map saved as D:\\df\\maps\\map_236.html\n",
      "Map saved as D:\\df\\maps\\map_237.html\n",
      "Map saved as D:\\df\\maps\\map_238.html\n"
     ]
    },
    {
     "name": "stderr",
     "output_type": "stream",
     "text": [
      "C:\\Users\\Fenin Jose\\AppData\\Local\\Temp\\ipykernel_17548\\574676199.py:17: FutureWarning: The default of observed=False is deprecated and will be changed to True in a future version of pandas. Pass observed=False to retain current behavior or observed=True to adopt the future default and silence this warning.\n",
      "  df_unique = df_new.groupby('name').agg({'lat': 'first', 'lng': 'first'}).reset_index()\n",
      "C:\\Users\\Fenin Jose\\AppData\\Local\\Temp\\ipykernel_17548\\574676199.py:17: FutureWarning: The default of observed=False is deprecated and will be changed to True in a future version of pandas. Pass observed=False to retain current behavior or observed=True to adopt the future default and silence this warning.\n",
      "  df_unique = df_new.groupby('name').agg({'lat': 'first', 'lng': 'first'}).reset_index()\n",
      "C:\\Users\\Fenin Jose\\AppData\\Local\\Temp\\ipykernel_17548\\574676199.py:17: FutureWarning: The default of observed=False is deprecated and will be changed to True in a future version of pandas. Pass observed=False to retain current behavior or observed=True to adopt the future default and silence this warning.\n",
      "  df_unique = df_new.groupby('name').agg({'lat': 'first', 'lng': 'first'}).reset_index()\n",
      "C:\\Users\\Fenin Jose\\AppData\\Local\\Temp\\ipykernel_17548\\574676199.py:17: FutureWarning: The default of observed=False is deprecated and will be changed to True in a future version of pandas. Pass observed=False to retain current behavior or observed=True to adopt the future default and silence this warning.\n",
      "  df_unique = df_new.groupby('name').agg({'lat': 'first', 'lng': 'first'}).reset_index()\n"
     ]
    },
    {
     "name": "stdout",
     "output_type": "stream",
     "text": [
      "Map saved as D:\\df\\maps\\map_239.html\n",
      "Map saved as D:\\df\\maps\\map_240.html\n",
      "Map saved as D:\\df\\maps\\map_241.html\n",
      "Map saved as D:\\df\\maps\\map_242.html\n"
     ]
    },
    {
     "name": "stderr",
     "output_type": "stream",
     "text": [
      "C:\\Users\\Fenin Jose\\AppData\\Local\\Temp\\ipykernel_17548\\574676199.py:17: FutureWarning: The default of observed=False is deprecated and will be changed to True in a future version of pandas. Pass observed=False to retain current behavior or observed=True to adopt the future default and silence this warning.\n",
      "  df_unique = df_new.groupby('name').agg({'lat': 'first', 'lng': 'first'}).reset_index()\n",
      "C:\\Users\\Fenin Jose\\AppData\\Local\\Temp\\ipykernel_17548\\574676199.py:17: FutureWarning: The default of observed=False is deprecated and will be changed to True in a future version of pandas. Pass observed=False to retain current behavior or observed=True to adopt the future default and silence this warning.\n",
      "  df_unique = df_new.groupby('name').agg({'lat': 'first', 'lng': 'first'}).reset_index()\n",
      "C:\\Users\\Fenin Jose\\AppData\\Local\\Temp\\ipykernel_17548\\574676199.py:17: FutureWarning: The default of observed=False is deprecated and will be changed to True in a future version of pandas. Pass observed=False to retain current behavior or observed=True to adopt the future default and silence this warning.\n",
      "  df_unique = df_new.groupby('name').agg({'lat': 'first', 'lng': 'first'}).reset_index()\n",
      "C:\\Users\\Fenin Jose\\AppData\\Local\\Temp\\ipykernel_17548\\574676199.py:17: FutureWarning: The default of observed=False is deprecated and will be changed to True in a future version of pandas. Pass observed=False to retain current behavior or observed=True to adopt the future default and silence this warning.\n",
      "  df_unique = df_new.groupby('name').agg({'lat': 'first', 'lng': 'first'}).reset_index()\n"
     ]
    },
    {
     "name": "stdout",
     "output_type": "stream",
     "text": [
      "Map saved as D:\\df\\maps\\map_243.html\n",
      "Map saved as D:\\df\\maps\\map_244.html\n",
      "Map saved as D:\\df\\maps\\map_245.html\n",
      "Map saved as D:\\df\\maps\\map_246.html\n"
     ]
    },
    {
     "name": "stderr",
     "output_type": "stream",
     "text": [
      "C:\\Users\\Fenin Jose\\AppData\\Local\\Temp\\ipykernel_17548\\574676199.py:17: FutureWarning: The default of observed=False is deprecated and will be changed to True in a future version of pandas. Pass observed=False to retain current behavior or observed=True to adopt the future default and silence this warning.\n",
      "  df_unique = df_new.groupby('name').agg({'lat': 'first', 'lng': 'first'}).reset_index()\n",
      "C:\\Users\\Fenin Jose\\AppData\\Local\\Temp\\ipykernel_17548\\574676199.py:17: FutureWarning: The default of observed=False is deprecated and will be changed to True in a future version of pandas. Pass observed=False to retain current behavior or observed=True to adopt the future default and silence this warning.\n",
      "  df_unique = df_new.groupby('name').agg({'lat': 'first', 'lng': 'first'}).reset_index()\n",
      "C:\\Users\\Fenin Jose\\AppData\\Local\\Temp\\ipykernel_17548\\574676199.py:17: FutureWarning: The default of observed=False is deprecated and will be changed to True in a future version of pandas. Pass observed=False to retain current behavior or observed=True to adopt the future default and silence this warning.\n",
      "  df_unique = df_new.groupby('name').agg({'lat': 'first', 'lng': 'first'}).reset_index()\n",
      "C:\\Users\\Fenin Jose\\AppData\\Local\\Temp\\ipykernel_17548\\574676199.py:17: FutureWarning: The default of observed=False is deprecated and will be changed to True in a future version of pandas. Pass observed=False to retain current behavior or observed=True to adopt the future default and silence this warning.\n",
      "  df_unique = df_new.groupby('name').agg({'lat': 'first', 'lng': 'first'}).reset_index()\n"
     ]
    },
    {
     "name": "stdout",
     "output_type": "stream",
     "text": [
      "Map saved as D:\\df\\maps\\map_247.html\n",
      "Map saved as D:\\df\\maps\\map_248.html\n",
      "Map saved as D:\\df\\maps\\map_249.html\n",
      "Map saved as D:\\df\\maps\\map_250.html\n"
     ]
    },
    {
     "name": "stderr",
     "output_type": "stream",
     "text": [
      "C:\\Users\\Fenin Jose\\AppData\\Local\\Temp\\ipykernel_17548\\574676199.py:17: FutureWarning: The default of observed=False is deprecated and will be changed to True in a future version of pandas. Pass observed=False to retain current behavior or observed=True to adopt the future default and silence this warning.\n",
      "  df_unique = df_new.groupby('name').agg({'lat': 'first', 'lng': 'first'}).reset_index()\n",
      "C:\\Users\\Fenin Jose\\AppData\\Local\\Temp\\ipykernel_17548\\574676199.py:17: FutureWarning: The default of observed=False is deprecated and will be changed to True in a future version of pandas. Pass observed=False to retain current behavior or observed=True to adopt the future default and silence this warning.\n",
      "  df_unique = df_new.groupby('name').agg({'lat': 'first', 'lng': 'first'}).reset_index()\n",
      "C:\\Users\\Fenin Jose\\AppData\\Local\\Temp\\ipykernel_17548\\574676199.py:17: FutureWarning: The default of observed=False is deprecated and will be changed to True in a future version of pandas. Pass observed=False to retain current behavior or observed=True to adopt the future default and silence this warning.\n",
      "  df_unique = df_new.groupby('name').agg({'lat': 'first', 'lng': 'first'}).reset_index()\n",
      "C:\\Users\\Fenin Jose\\AppData\\Local\\Temp\\ipykernel_17548\\574676199.py:17: FutureWarning: The default of observed=False is deprecated and will be changed to True in a future version of pandas. Pass observed=False to retain current behavior or observed=True to adopt the future default and silence this warning.\n",
      "  df_unique = df_new.groupby('name').agg({'lat': 'first', 'lng': 'first'}).reset_index()\n"
     ]
    },
    {
     "name": "stdout",
     "output_type": "stream",
     "text": [
      "Map saved as D:\\df\\maps\\map_251.html\n",
      "Map saved as D:\\df\\maps\\map_252.html\n",
      "Map saved as D:\\df\\maps\\map_253.html\n",
      "Map saved as D:\\df\\maps\\map_254.html\n"
     ]
    },
    {
     "name": "stderr",
     "output_type": "stream",
     "text": [
      "C:\\Users\\Fenin Jose\\AppData\\Local\\Temp\\ipykernel_17548\\574676199.py:17: FutureWarning: The default of observed=False is deprecated and will be changed to True in a future version of pandas. Pass observed=False to retain current behavior or observed=True to adopt the future default and silence this warning.\n",
      "  df_unique = df_new.groupby('name').agg({'lat': 'first', 'lng': 'first'}).reset_index()\n",
      "C:\\Users\\Fenin Jose\\AppData\\Local\\Temp\\ipykernel_17548\\574676199.py:17: FutureWarning: The default of observed=False is deprecated and will be changed to True in a future version of pandas. Pass observed=False to retain current behavior or observed=True to adopt the future default and silence this warning.\n",
      "  df_unique = df_new.groupby('name').agg({'lat': 'first', 'lng': 'first'}).reset_index()\n",
      "C:\\Users\\Fenin Jose\\AppData\\Local\\Temp\\ipykernel_17548\\574676199.py:17: FutureWarning: The default of observed=False is deprecated and will be changed to True in a future version of pandas. Pass observed=False to retain current behavior or observed=True to adopt the future default and silence this warning.\n",
      "  df_unique = df_new.groupby('name').agg({'lat': 'first', 'lng': 'first'}).reset_index()\n",
      "C:\\Users\\Fenin Jose\\AppData\\Local\\Temp\\ipykernel_17548\\574676199.py:17: FutureWarning: The default of observed=False is deprecated and will be changed to True in a future version of pandas. Pass observed=False to retain current behavior or observed=True to adopt the future default and silence this warning.\n",
      "  df_unique = df_new.groupby('name').agg({'lat': 'first', 'lng': 'first'}).reset_index()\n"
     ]
    },
    {
     "name": "stdout",
     "output_type": "stream",
     "text": [
      "Map saved as D:\\df\\maps\\map_255.html\n",
      "Map saved as D:\\df\\maps\\map_256.html\n",
      "Map saved as D:\\df\\maps\\map_257.html\n",
      "Map saved as D:\\df\\maps\\map_258.html\n"
     ]
    },
    {
     "name": "stderr",
     "output_type": "stream",
     "text": [
      "C:\\Users\\Fenin Jose\\AppData\\Local\\Temp\\ipykernel_17548\\574676199.py:17: FutureWarning: The default of observed=False is deprecated and will be changed to True in a future version of pandas. Pass observed=False to retain current behavior or observed=True to adopt the future default and silence this warning.\n",
      "  df_unique = df_new.groupby('name').agg({'lat': 'first', 'lng': 'first'}).reset_index()\n",
      "C:\\Users\\Fenin Jose\\AppData\\Local\\Temp\\ipykernel_17548\\574676199.py:17: FutureWarning: The default of observed=False is deprecated and will be changed to True in a future version of pandas. Pass observed=False to retain current behavior or observed=True to adopt the future default and silence this warning.\n",
      "  df_unique = df_new.groupby('name').agg({'lat': 'first', 'lng': 'first'}).reset_index()\n",
      "C:\\Users\\Fenin Jose\\AppData\\Local\\Temp\\ipykernel_17548\\574676199.py:17: FutureWarning: The default of observed=False is deprecated and will be changed to True in a future version of pandas. Pass observed=False to retain current behavior or observed=True to adopt the future default and silence this warning.\n",
      "  df_unique = df_new.groupby('name').agg({'lat': 'first', 'lng': 'first'}).reset_index()\n",
      "C:\\Users\\Fenin Jose\\AppData\\Local\\Temp\\ipykernel_17548\\574676199.py:17: FutureWarning: The default of observed=False is deprecated and will be changed to True in a future version of pandas. Pass observed=False to retain current behavior or observed=True to adopt the future default and silence this warning.\n",
      "  df_unique = df_new.groupby('name').agg({'lat': 'first', 'lng': 'first'}).reset_index()\n"
     ]
    },
    {
     "name": "stdout",
     "output_type": "stream",
     "text": [
      "Map saved as D:\\df\\maps\\map_259.html\n",
      "Map saved as D:\\df\\maps\\map_260.html\n",
      "Map saved as D:\\df\\maps\\map_261.html\n",
      "Map saved as D:\\df\\maps\\map_262.html\n"
     ]
    },
    {
     "name": "stderr",
     "output_type": "stream",
     "text": [
      "C:\\Users\\Fenin Jose\\AppData\\Local\\Temp\\ipykernel_17548\\574676199.py:17: FutureWarning: The default of observed=False is deprecated and will be changed to True in a future version of pandas. Pass observed=False to retain current behavior or observed=True to adopt the future default and silence this warning.\n",
      "  df_unique = df_new.groupby('name').agg({'lat': 'first', 'lng': 'first'}).reset_index()\n",
      "C:\\Users\\Fenin Jose\\AppData\\Local\\Temp\\ipykernel_17548\\574676199.py:17: FutureWarning: The default of observed=False is deprecated and will be changed to True in a future version of pandas. Pass observed=False to retain current behavior or observed=True to adopt the future default and silence this warning.\n",
      "  df_unique = df_new.groupby('name').agg({'lat': 'first', 'lng': 'first'}).reset_index()\n",
      "C:\\Users\\Fenin Jose\\AppData\\Local\\Temp\\ipykernel_17548\\574676199.py:17: FutureWarning: The default of observed=False is deprecated and will be changed to True in a future version of pandas. Pass observed=False to retain current behavior or observed=True to adopt the future default and silence this warning.\n",
      "  df_unique = df_new.groupby('name').agg({'lat': 'first', 'lng': 'first'}).reset_index()\n",
      "C:\\Users\\Fenin Jose\\AppData\\Local\\Temp\\ipykernel_17548\\574676199.py:17: FutureWarning: The default of observed=False is deprecated and will be changed to True in a future version of pandas. Pass observed=False to retain current behavior or observed=True to adopt the future default and silence this warning.\n",
      "  df_unique = df_new.groupby('name').agg({'lat': 'first', 'lng': 'first'}).reset_index()\n"
     ]
    },
    {
     "name": "stdout",
     "output_type": "stream",
     "text": [
      "Map saved as D:\\df\\maps\\map_263.html\n",
      "Map saved as D:\\df\\maps\\map_264.html\n",
      "Map saved as D:\\df\\maps\\map_265.html\n",
      "Map saved as D:\\df\\maps\\map_266.html\n"
     ]
    },
    {
     "name": "stderr",
     "output_type": "stream",
     "text": [
      "C:\\Users\\Fenin Jose\\AppData\\Local\\Temp\\ipykernel_17548\\574676199.py:17: FutureWarning: The default of observed=False is deprecated and will be changed to True in a future version of pandas. Pass observed=False to retain current behavior or observed=True to adopt the future default and silence this warning.\n",
      "  df_unique = df_new.groupby('name').agg({'lat': 'first', 'lng': 'first'}).reset_index()\n",
      "C:\\Users\\Fenin Jose\\AppData\\Local\\Temp\\ipykernel_17548\\574676199.py:17: FutureWarning: The default of observed=False is deprecated and will be changed to True in a future version of pandas. Pass observed=False to retain current behavior or observed=True to adopt the future default and silence this warning.\n",
      "  df_unique = df_new.groupby('name').agg({'lat': 'first', 'lng': 'first'}).reset_index()\n",
      "C:\\Users\\Fenin Jose\\AppData\\Local\\Temp\\ipykernel_17548\\574676199.py:17: FutureWarning: The default of observed=False is deprecated and will be changed to True in a future version of pandas. Pass observed=False to retain current behavior or observed=True to adopt the future default and silence this warning.\n",
      "  df_unique = df_new.groupby('name').agg({'lat': 'first', 'lng': 'first'}).reset_index()\n",
      "C:\\Users\\Fenin Jose\\AppData\\Local\\Temp\\ipykernel_17548\\574676199.py:17: FutureWarning: The default of observed=False is deprecated and will be changed to True in a future version of pandas. Pass observed=False to retain current behavior or observed=True to adopt the future default and silence this warning.\n",
      "  df_unique = df_new.groupby('name').agg({'lat': 'first', 'lng': 'first'}).reset_index()\n"
     ]
    },
    {
     "name": "stdout",
     "output_type": "stream",
     "text": [
      "Map saved as D:\\df\\maps\\map_267.html\n",
      "Map saved as D:\\df\\maps\\map_268.html\n",
      "Map saved as D:\\df\\maps\\map_269.html\n",
      "Map saved as D:\\df\\maps\\map_270.html\n"
     ]
    },
    {
     "name": "stderr",
     "output_type": "stream",
     "text": [
      "C:\\Users\\Fenin Jose\\AppData\\Local\\Temp\\ipykernel_17548\\574676199.py:17: FutureWarning: The default of observed=False is deprecated and will be changed to True in a future version of pandas. Pass observed=False to retain current behavior or observed=True to adopt the future default and silence this warning.\n",
      "  df_unique = df_new.groupby('name').agg({'lat': 'first', 'lng': 'first'}).reset_index()\n",
      "C:\\Users\\Fenin Jose\\AppData\\Local\\Temp\\ipykernel_17548\\574676199.py:17: FutureWarning: The default of observed=False is deprecated and will be changed to True in a future version of pandas. Pass observed=False to retain current behavior or observed=True to adopt the future default and silence this warning.\n",
      "  df_unique = df_new.groupby('name').agg({'lat': 'first', 'lng': 'first'}).reset_index()\n",
      "C:\\Users\\Fenin Jose\\AppData\\Local\\Temp\\ipykernel_17548\\574676199.py:17: FutureWarning: The default of observed=False is deprecated and will be changed to True in a future version of pandas. Pass observed=False to retain current behavior or observed=True to adopt the future default and silence this warning.\n",
      "  df_unique = df_new.groupby('name').agg({'lat': 'first', 'lng': 'first'}).reset_index()\n",
      "C:\\Users\\Fenin Jose\\AppData\\Local\\Temp\\ipykernel_17548\\574676199.py:17: FutureWarning: The default of observed=False is deprecated and will be changed to True in a future version of pandas. Pass observed=False to retain current behavior or observed=True to adopt the future default and silence this warning.\n",
      "  df_unique = df_new.groupby('name').agg({'lat': 'first', 'lng': 'first'}).reset_index()\n"
     ]
    },
    {
     "name": "stdout",
     "output_type": "stream",
     "text": [
      "Map saved as D:\\df\\maps\\map_271.html\n",
      "Map saved as D:\\df\\maps\\map_272.html\n",
      "Map saved as D:\\df\\maps\\map_273.html\n",
      "Map saved as D:\\df\\maps\\map_274.html\n"
     ]
    },
    {
     "name": "stderr",
     "output_type": "stream",
     "text": [
      "C:\\Users\\Fenin Jose\\AppData\\Local\\Temp\\ipykernel_17548\\574676199.py:17: FutureWarning: The default of observed=False is deprecated and will be changed to True in a future version of pandas. Pass observed=False to retain current behavior or observed=True to adopt the future default and silence this warning.\n",
      "  df_unique = df_new.groupby('name').agg({'lat': 'first', 'lng': 'first'}).reset_index()\n",
      "C:\\Users\\Fenin Jose\\AppData\\Local\\Temp\\ipykernel_17548\\574676199.py:17: FutureWarning: The default of observed=False is deprecated and will be changed to True in a future version of pandas. Pass observed=False to retain current behavior or observed=True to adopt the future default and silence this warning.\n",
      "  df_unique = df_new.groupby('name').agg({'lat': 'first', 'lng': 'first'}).reset_index()\n",
      "C:\\Users\\Fenin Jose\\AppData\\Local\\Temp\\ipykernel_17548\\574676199.py:17: FutureWarning: The default of observed=False is deprecated and will be changed to True in a future version of pandas. Pass observed=False to retain current behavior or observed=True to adopt the future default and silence this warning.\n",
      "  df_unique = df_new.groupby('name').agg({'lat': 'first', 'lng': 'first'}).reset_index()\n",
      "C:\\Users\\Fenin Jose\\AppData\\Local\\Temp\\ipykernel_17548\\574676199.py:17: FutureWarning: The default of observed=False is deprecated and will be changed to True in a future version of pandas. Pass observed=False to retain current behavior or observed=True to adopt the future default and silence this warning.\n",
      "  df_unique = df_new.groupby('name').agg({'lat': 'first', 'lng': 'first'}).reset_index()\n"
     ]
    },
    {
     "name": "stdout",
     "output_type": "stream",
     "text": [
      "Map saved as D:\\df\\maps\\map_275.html\n",
      "Map saved as D:\\df\\maps\\map_276.html\n",
      "Map saved as D:\\df\\maps\\map_277.html\n",
      "Map saved as D:\\df\\maps\\map_278.html\n"
     ]
    },
    {
     "name": "stderr",
     "output_type": "stream",
     "text": [
      "C:\\Users\\Fenin Jose\\AppData\\Local\\Temp\\ipykernel_17548\\574676199.py:17: FutureWarning: The default of observed=False is deprecated and will be changed to True in a future version of pandas. Pass observed=False to retain current behavior or observed=True to adopt the future default and silence this warning.\n",
      "  df_unique = df_new.groupby('name').agg({'lat': 'first', 'lng': 'first'}).reset_index()\n",
      "C:\\Users\\Fenin Jose\\AppData\\Local\\Temp\\ipykernel_17548\\574676199.py:17: FutureWarning: The default of observed=False is deprecated and will be changed to True in a future version of pandas. Pass observed=False to retain current behavior or observed=True to adopt the future default and silence this warning.\n",
      "  df_unique = df_new.groupby('name').agg({'lat': 'first', 'lng': 'first'}).reset_index()\n",
      "C:\\Users\\Fenin Jose\\AppData\\Local\\Temp\\ipykernel_17548\\574676199.py:17: FutureWarning: The default of observed=False is deprecated and will be changed to True in a future version of pandas. Pass observed=False to retain current behavior or observed=True to adopt the future default and silence this warning.\n",
      "  df_unique = df_new.groupby('name').agg({'lat': 'first', 'lng': 'first'}).reset_index()\n",
      "C:\\Users\\Fenin Jose\\AppData\\Local\\Temp\\ipykernel_17548\\574676199.py:17: FutureWarning: The default of observed=False is deprecated and will be changed to True in a future version of pandas. Pass observed=False to retain current behavior or observed=True to adopt the future default and silence this warning.\n",
      "  df_unique = df_new.groupby('name').agg({'lat': 'first', 'lng': 'first'}).reset_index()\n"
     ]
    },
    {
     "name": "stdout",
     "output_type": "stream",
     "text": [
      "Map saved as D:\\df\\maps\\map_279.html\n",
      "Map saved as D:\\df\\maps\\map_280.html\n",
      "Map saved as D:\\df\\maps\\map_281.html\n",
      "Map saved as D:\\df\\maps\\map_282.html\n"
     ]
    },
    {
     "name": "stderr",
     "output_type": "stream",
     "text": [
      "C:\\Users\\Fenin Jose\\AppData\\Local\\Temp\\ipykernel_17548\\574676199.py:17: FutureWarning: The default of observed=False is deprecated and will be changed to True in a future version of pandas. Pass observed=False to retain current behavior or observed=True to adopt the future default and silence this warning.\n",
      "  df_unique = df_new.groupby('name').agg({'lat': 'first', 'lng': 'first'}).reset_index()\n",
      "C:\\Users\\Fenin Jose\\AppData\\Local\\Temp\\ipykernel_17548\\574676199.py:17: FutureWarning: The default of observed=False is deprecated and will be changed to True in a future version of pandas. Pass observed=False to retain current behavior or observed=True to adopt the future default and silence this warning.\n",
      "  df_unique = df_new.groupby('name').agg({'lat': 'first', 'lng': 'first'}).reset_index()\n",
      "C:\\Users\\Fenin Jose\\AppData\\Local\\Temp\\ipykernel_17548\\574676199.py:17: FutureWarning: The default of observed=False is deprecated and will be changed to True in a future version of pandas. Pass observed=False to retain current behavior or observed=True to adopt the future default and silence this warning.\n",
      "  df_unique = df_new.groupby('name').agg({'lat': 'first', 'lng': 'first'}).reset_index()\n",
      "C:\\Users\\Fenin Jose\\AppData\\Local\\Temp\\ipykernel_17548\\574676199.py:17: FutureWarning: The default of observed=False is deprecated and will be changed to True in a future version of pandas. Pass observed=False to retain current behavior or observed=True to adopt the future default and silence this warning.\n",
      "  df_unique = df_new.groupby('name').agg({'lat': 'first', 'lng': 'first'}).reset_index()\n"
     ]
    },
    {
     "name": "stdout",
     "output_type": "stream",
     "text": [
      "Map saved as D:\\df\\maps\\map_283.html\n",
      "Map saved as D:\\df\\maps\\map_284.html\n"
     ]
    },
    {
     "name": "stderr",
     "output_type": "stream",
     "text": [
      "C:\\Users\\Fenin Jose\\AppData\\Local\\Temp\\ipykernel_17548\\574676199.py:17: FutureWarning: The default of observed=False is deprecated and will be changed to True in a future version of pandas. Pass observed=False to retain current behavior or observed=True to adopt the future default and silence this warning.\n",
      "  df_unique = df_new.groupby('name').agg({'lat': 'first', 'lng': 'first'}).reset_index()\n",
      "C:\\Users\\Fenin Jose\\AppData\\Local\\Temp\\ipykernel_17548\\574676199.py:17: FutureWarning: The default of observed=False is deprecated and will be changed to True in a future version of pandas. Pass observed=False to retain current behavior or observed=True to adopt the future default and silence this warning.\n",
      "  df_unique = df_new.groupby('name').agg({'lat': 'first', 'lng': 'first'}).reset_index()\n"
     ]
    },
    {
     "name": "stdout",
     "output_type": "stream",
     "text": [
      "Map saved as D:\\df\\maps\\map_285.html\n",
      "Map saved as D:\\df\\maps\\map_286.html\n",
      "Map saved as D:\\df\\maps\\map_287.html\n",
      "Map saved as D:\\df\\maps\\map_288.html\n"
     ]
    },
    {
     "name": "stderr",
     "output_type": "stream",
     "text": [
      "C:\\Users\\Fenin Jose\\AppData\\Local\\Temp\\ipykernel_17548\\574676199.py:17: FutureWarning: The default of observed=False is deprecated and will be changed to True in a future version of pandas. Pass observed=False to retain current behavior or observed=True to adopt the future default and silence this warning.\n",
      "  df_unique = df_new.groupby('name').agg({'lat': 'first', 'lng': 'first'}).reset_index()\n",
      "C:\\Users\\Fenin Jose\\AppData\\Local\\Temp\\ipykernel_17548\\574676199.py:17: FutureWarning: The default of observed=False is deprecated and will be changed to True in a future version of pandas. Pass observed=False to retain current behavior or observed=True to adopt the future default and silence this warning.\n",
      "  df_unique = df_new.groupby('name').agg({'lat': 'first', 'lng': 'first'}).reset_index()\n",
      "C:\\Users\\Fenin Jose\\AppData\\Local\\Temp\\ipykernel_17548\\574676199.py:17: FutureWarning: The default of observed=False is deprecated and will be changed to True in a future version of pandas. Pass observed=False to retain current behavior or observed=True to adopt the future default and silence this warning.\n",
      "  df_unique = df_new.groupby('name').agg({'lat': 'first', 'lng': 'first'}).reset_index()\n",
      "C:\\Users\\Fenin Jose\\AppData\\Local\\Temp\\ipykernel_17548\\574676199.py:17: FutureWarning: The default of observed=False is deprecated and will be changed to True in a future version of pandas. Pass observed=False to retain current behavior or observed=True to adopt the future default and silence this warning.\n",
      "  df_unique = df_new.groupby('name').agg({'lat': 'first', 'lng': 'first'}).reset_index()\n"
     ]
    },
    {
     "name": "stdout",
     "output_type": "stream",
     "text": [
      "Map saved as D:\\df\\maps\\map_289.html\n",
      "Map saved as D:\\df\\maps\\map_290.html\n",
      "Map saved as D:\\df\\maps\\map_291.html\n"
     ]
    },
    {
     "name": "stderr",
     "output_type": "stream",
     "text": [
      "C:\\Users\\Fenin Jose\\AppData\\Local\\Temp\\ipykernel_17548\\574676199.py:17: FutureWarning: The default of observed=False is deprecated and will be changed to True in a future version of pandas. Pass observed=False to retain current behavior or observed=True to adopt the future default and silence this warning.\n",
      "  df_unique = df_new.groupby('name').agg({'lat': 'first', 'lng': 'first'}).reset_index()\n",
      "C:\\Users\\Fenin Jose\\AppData\\Local\\Temp\\ipykernel_17548\\574676199.py:17: FutureWarning: The default of observed=False is deprecated and will be changed to True in a future version of pandas. Pass observed=False to retain current behavior or observed=True to adopt the future default and silence this warning.\n",
      "  df_unique = df_new.groupby('name').agg({'lat': 'first', 'lng': 'first'}).reset_index()\n",
      "C:\\Users\\Fenin Jose\\AppData\\Local\\Temp\\ipykernel_17548\\574676199.py:17: FutureWarning: The default of observed=False is deprecated and will be changed to True in a future version of pandas. Pass observed=False to retain current behavior or observed=True to adopt the future default and silence this warning.\n",
      "  df_unique = df_new.groupby('name').agg({'lat': 'first', 'lng': 'first'}).reset_index()\n"
     ]
    },
    {
     "name": "stdout",
     "output_type": "stream",
     "text": [
      "Map saved as D:\\df\\maps\\map_292.html\n",
      "Map saved as D:\\df\\maps\\map_293.html\n",
      "Map saved as D:\\df\\maps\\map_294.html\n"
     ]
    },
    {
     "name": "stderr",
     "output_type": "stream",
     "text": [
      "C:\\Users\\Fenin Jose\\AppData\\Local\\Temp\\ipykernel_17548\\574676199.py:17: FutureWarning: The default of observed=False is deprecated and will be changed to True in a future version of pandas. Pass observed=False to retain current behavior or observed=True to adopt the future default and silence this warning.\n",
      "  df_unique = df_new.groupby('name').agg({'lat': 'first', 'lng': 'first'}).reset_index()\n",
      "C:\\Users\\Fenin Jose\\AppData\\Local\\Temp\\ipykernel_17548\\574676199.py:17: FutureWarning: The default of observed=False is deprecated and will be changed to True in a future version of pandas. Pass observed=False to retain current behavior or observed=True to adopt the future default and silence this warning.\n",
      "  df_unique = df_new.groupby('name').agg({'lat': 'first', 'lng': 'first'}).reset_index()\n",
      "C:\\Users\\Fenin Jose\\AppData\\Local\\Temp\\ipykernel_17548\\574676199.py:17: FutureWarning: The default of observed=False is deprecated and will be changed to True in a future version of pandas. Pass observed=False to retain current behavior or observed=True to adopt the future default and silence this warning.\n",
      "  df_unique = df_new.groupby('name').agg({'lat': 'first', 'lng': 'first'}).reset_index()\n"
     ]
    },
    {
     "name": "stdout",
     "output_type": "stream",
     "text": [
      "Map saved as D:\\df\\maps\\map_295.html\n",
      "Map saved as D:\\df\\maps\\map_296.html\n",
      "Map saved as D:\\df\\maps\\map_297.html\n",
      "Map saved as D:\\df\\maps\\map_298.html\n"
     ]
    },
    {
     "name": "stderr",
     "output_type": "stream",
     "text": [
      "C:\\Users\\Fenin Jose\\AppData\\Local\\Temp\\ipykernel_17548\\574676199.py:17: FutureWarning: The default of observed=False is deprecated and will be changed to True in a future version of pandas. Pass observed=False to retain current behavior or observed=True to adopt the future default and silence this warning.\n",
      "  df_unique = df_new.groupby('name').agg({'lat': 'first', 'lng': 'first'}).reset_index()\n",
      "C:\\Users\\Fenin Jose\\AppData\\Local\\Temp\\ipykernel_17548\\574676199.py:17: FutureWarning: The default of observed=False is deprecated and will be changed to True in a future version of pandas. Pass observed=False to retain current behavior or observed=True to adopt the future default and silence this warning.\n",
      "  df_unique = df_new.groupby('name').agg({'lat': 'first', 'lng': 'first'}).reset_index()\n",
      "C:\\Users\\Fenin Jose\\AppData\\Local\\Temp\\ipykernel_17548\\574676199.py:17: FutureWarning: The default of observed=False is deprecated and will be changed to True in a future version of pandas. Pass observed=False to retain current behavior or observed=True to adopt the future default and silence this warning.\n",
      "  df_unique = df_new.groupby('name').agg({'lat': 'first', 'lng': 'first'}).reset_index()\n",
      "C:\\Users\\Fenin Jose\\AppData\\Local\\Temp\\ipykernel_17548\\574676199.py:17: FutureWarning: The default of observed=False is deprecated and will be changed to True in a future version of pandas. Pass observed=False to retain current behavior or observed=True to adopt the future default and silence this warning.\n",
      "  df_unique = df_new.groupby('name').agg({'lat': 'first', 'lng': 'first'}).reset_index()\n"
     ]
    },
    {
     "name": "stdout",
     "output_type": "stream",
     "text": [
      "Map saved as D:\\df\\maps\\map_299.html\n",
      "Map saved as D:\\df\\maps\\map_300.html\n",
      "Map saved as D:\\df\\maps\\map_301.html\n",
      "Map saved as D:\\df\\maps\\map_302.html\n"
     ]
    },
    {
     "name": "stderr",
     "output_type": "stream",
     "text": [
      "C:\\Users\\Fenin Jose\\AppData\\Local\\Temp\\ipykernel_17548\\574676199.py:17: FutureWarning: The default of observed=False is deprecated and will be changed to True in a future version of pandas. Pass observed=False to retain current behavior or observed=True to adopt the future default and silence this warning.\n",
      "  df_unique = df_new.groupby('name').agg({'lat': 'first', 'lng': 'first'}).reset_index()\n",
      "C:\\Users\\Fenin Jose\\AppData\\Local\\Temp\\ipykernel_17548\\574676199.py:17: FutureWarning: The default of observed=False is deprecated and will be changed to True in a future version of pandas. Pass observed=False to retain current behavior or observed=True to adopt the future default and silence this warning.\n",
      "  df_unique = df_new.groupby('name').agg({'lat': 'first', 'lng': 'first'}).reset_index()\n",
      "C:\\Users\\Fenin Jose\\AppData\\Local\\Temp\\ipykernel_17548\\574676199.py:17: FutureWarning: The default of observed=False is deprecated and will be changed to True in a future version of pandas. Pass observed=False to retain current behavior or observed=True to adopt the future default and silence this warning.\n",
      "  df_unique = df_new.groupby('name').agg({'lat': 'first', 'lng': 'first'}).reset_index()\n",
      "C:\\Users\\Fenin Jose\\AppData\\Local\\Temp\\ipykernel_17548\\574676199.py:17: FutureWarning: The default of observed=False is deprecated and will be changed to True in a future version of pandas. Pass observed=False to retain current behavior or observed=True to adopt the future default and silence this warning.\n",
      "  df_unique = df_new.groupby('name').agg({'lat': 'first', 'lng': 'first'}).reset_index()\n"
     ]
    },
    {
     "name": "stdout",
     "output_type": "stream",
     "text": [
      "Map saved as D:\\df\\maps\\map_303.html\n",
      "Map saved as D:\\df\\maps\\map_304.html\n",
      "Map saved as D:\\df\\maps\\map_305.html\n",
      "Map saved as D:\\df\\maps\\map_306.html\n"
     ]
    },
    {
     "name": "stderr",
     "output_type": "stream",
     "text": [
      "C:\\Users\\Fenin Jose\\AppData\\Local\\Temp\\ipykernel_17548\\574676199.py:17: FutureWarning: The default of observed=False is deprecated and will be changed to True in a future version of pandas. Pass observed=False to retain current behavior or observed=True to adopt the future default and silence this warning.\n",
      "  df_unique = df_new.groupby('name').agg({'lat': 'first', 'lng': 'first'}).reset_index()\n",
      "C:\\Users\\Fenin Jose\\AppData\\Local\\Temp\\ipykernel_17548\\574676199.py:17: FutureWarning: The default of observed=False is deprecated and will be changed to True in a future version of pandas. Pass observed=False to retain current behavior or observed=True to adopt the future default and silence this warning.\n",
      "  df_unique = df_new.groupby('name').agg({'lat': 'first', 'lng': 'first'}).reset_index()\n",
      "C:\\Users\\Fenin Jose\\AppData\\Local\\Temp\\ipykernel_17548\\574676199.py:17: FutureWarning: The default of observed=False is deprecated and will be changed to True in a future version of pandas. Pass observed=False to retain current behavior or observed=True to adopt the future default and silence this warning.\n",
      "  df_unique = df_new.groupby('name').agg({'lat': 'first', 'lng': 'first'}).reset_index()\n",
      "C:\\Users\\Fenin Jose\\AppData\\Local\\Temp\\ipykernel_17548\\574676199.py:17: FutureWarning: The default of observed=False is deprecated and will be changed to True in a future version of pandas. Pass observed=False to retain current behavior or observed=True to adopt the future default and silence this warning.\n",
      "  df_unique = df_new.groupby('name').agg({'lat': 'first', 'lng': 'first'}).reset_index()\n"
     ]
    },
    {
     "name": "stdout",
     "output_type": "stream",
     "text": [
      "Map saved as D:\\df\\maps\\map_307.html\n",
      "Map saved as D:\\df\\maps\\map_308.html\n",
      "Map saved as D:\\df\\maps\\map_309.html\n",
      "Map saved as D:\\df\\maps\\map_310.html\n"
     ]
    },
    {
     "name": "stderr",
     "output_type": "stream",
     "text": [
      "C:\\Users\\Fenin Jose\\AppData\\Local\\Temp\\ipykernel_17548\\574676199.py:17: FutureWarning: The default of observed=False is deprecated and will be changed to True in a future version of pandas. Pass observed=False to retain current behavior or observed=True to adopt the future default and silence this warning.\n",
      "  df_unique = df_new.groupby('name').agg({'lat': 'first', 'lng': 'first'}).reset_index()\n",
      "C:\\Users\\Fenin Jose\\AppData\\Local\\Temp\\ipykernel_17548\\574676199.py:17: FutureWarning: The default of observed=False is deprecated and will be changed to True in a future version of pandas. Pass observed=False to retain current behavior or observed=True to adopt the future default and silence this warning.\n",
      "  df_unique = df_new.groupby('name').agg({'lat': 'first', 'lng': 'first'}).reset_index()\n",
      "C:\\Users\\Fenin Jose\\AppData\\Local\\Temp\\ipykernel_17548\\574676199.py:17: FutureWarning: The default of observed=False is deprecated and will be changed to True in a future version of pandas. Pass observed=False to retain current behavior or observed=True to adopt the future default and silence this warning.\n",
      "  df_unique = df_new.groupby('name').agg({'lat': 'first', 'lng': 'first'}).reset_index()\n",
      "C:\\Users\\Fenin Jose\\AppData\\Local\\Temp\\ipykernel_17548\\574676199.py:17: FutureWarning: The default of observed=False is deprecated and will be changed to True in a future version of pandas. Pass observed=False to retain current behavior or observed=True to adopt the future default and silence this warning.\n",
      "  df_unique = df_new.groupby('name').agg({'lat': 'first', 'lng': 'first'}).reset_index()\n"
     ]
    },
    {
     "name": "stdout",
     "output_type": "stream",
     "text": [
      "Map saved as D:\\df\\maps\\map_311.html\n",
      "Map saved as D:\\df\\maps\\map_312.html\n",
      "Map saved as D:\\df\\maps\\map_313.html\n",
      "Map saved as D:\\df\\maps\\map_314.html\n"
     ]
    },
    {
     "name": "stderr",
     "output_type": "stream",
     "text": [
      "C:\\Users\\Fenin Jose\\AppData\\Local\\Temp\\ipykernel_17548\\574676199.py:17: FutureWarning: The default of observed=False is deprecated and will be changed to True in a future version of pandas. Pass observed=False to retain current behavior or observed=True to adopt the future default and silence this warning.\n",
      "  df_unique = df_new.groupby('name').agg({'lat': 'first', 'lng': 'first'}).reset_index()\n",
      "C:\\Users\\Fenin Jose\\AppData\\Local\\Temp\\ipykernel_17548\\574676199.py:17: FutureWarning: The default of observed=False is deprecated and will be changed to True in a future version of pandas. Pass observed=False to retain current behavior or observed=True to adopt the future default and silence this warning.\n",
      "  df_unique = df_new.groupby('name').agg({'lat': 'first', 'lng': 'first'}).reset_index()\n",
      "C:\\Users\\Fenin Jose\\AppData\\Local\\Temp\\ipykernel_17548\\574676199.py:17: FutureWarning: The default of observed=False is deprecated and will be changed to True in a future version of pandas. Pass observed=False to retain current behavior or observed=True to adopt the future default and silence this warning.\n",
      "  df_unique = df_new.groupby('name').agg({'lat': 'first', 'lng': 'first'}).reset_index()\n",
      "C:\\Users\\Fenin Jose\\AppData\\Local\\Temp\\ipykernel_17548\\574676199.py:17: FutureWarning: The default of observed=False is deprecated and will be changed to True in a future version of pandas. Pass observed=False to retain current behavior or observed=True to adopt the future default and silence this warning.\n",
      "  df_unique = df_new.groupby('name').agg({'lat': 'first', 'lng': 'first'}).reset_index()\n"
     ]
    },
    {
     "name": "stdout",
     "output_type": "stream",
     "text": [
      "Map saved as D:\\df\\maps\\map_315.html\n",
      "Map saved as D:\\df\\maps\\map_316.html\n",
      "Map saved as D:\\df\\maps\\map_317.html\n",
      "Map saved as D:\\df\\maps\\map_318.html\n"
     ]
    },
    {
     "name": "stderr",
     "output_type": "stream",
     "text": [
      "C:\\Users\\Fenin Jose\\AppData\\Local\\Temp\\ipykernel_17548\\574676199.py:17: FutureWarning: The default of observed=False is deprecated and will be changed to True in a future version of pandas. Pass observed=False to retain current behavior or observed=True to adopt the future default and silence this warning.\n",
      "  df_unique = df_new.groupby('name').agg({'lat': 'first', 'lng': 'first'}).reset_index()\n",
      "C:\\Users\\Fenin Jose\\AppData\\Local\\Temp\\ipykernel_17548\\574676199.py:17: FutureWarning: The default of observed=False is deprecated and will be changed to True in a future version of pandas. Pass observed=False to retain current behavior or observed=True to adopt the future default and silence this warning.\n",
      "  df_unique = df_new.groupby('name').agg({'lat': 'first', 'lng': 'first'}).reset_index()\n",
      "C:\\Users\\Fenin Jose\\AppData\\Local\\Temp\\ipykernel_17548\\574676199.py:17: FutureWarning: The default of observed=False is deprecated and will be changed to True in a future version of pandas. Pass observed=False to retain current behavior or observed=True to adopt the future default and silence this warning.\n",
      "  df_unique = df_new.groupby('name').agg({'lat': 'first', 'lng': 'first'}).reset_index()\n",
      "C:\\Users\\Fenin Jose\\AppData\\Local\\Temp\\ipykernel_17548\\574676199.py:17: FutureWarning: The default of observed=False is deprecated and will be changed to True in a future version of pandas. Pass observed=False to retain current behavior or observed=True to adopt the future default and silence this warning.\n",
      "  df_unique = df_new.groupby('name').agg({'lat': 'first', 'lng': 'first'}).reset_index()\n"
     ]
    },
    {
     "name": "stdout",
     "output_type": "stream",
     "text": [
      "Map saved as D:\\df\\maps\\map_319.html\n",
      "Map saved as D:\\df\\maps\\map_320.html\n",
      "Map saved as D:\\df\\maps\\map_321.html\n"
     ]
    },
    {
     "name": "stderr",
     "output_type": "stream",
     "text": [
      "C:\\Users\\Fenin Jose\\AppData\\Local\\Temp\\ipykernel_17548\\574676199.py:17: FutureWarning: The default of observed=False is deprecated and will be changed to True in a future version of pandas. Pass observed=False to retain current behavior or observed=True to adopt the future default and silence this warning.\n",
      "  df_unique = df_new.groupby('name').agg({'lat': 'first', 'lng': 'first'}).reset_index()\n",
      "C:\\Users\\Fenin Jose\\AppData\\Local\\Temp\\ipykernel_17548\\574676199.py:17: FutureWarning: The default of observed=False is deprecated and will be changed to True in a future version of pandas. Pass observed=False to retain current behavior or observed=True to adopt the future default and silence this warning.\n",
      "  df_unique = df_new.groupby('name').agg({'lat': 'first', 'lng': 'first'}).reset_index()\n",
      "C:\\Users\\Fenin Jose\\AppData\\Local\\Temp\\ipykernel_17548\\574676199.py:17: FutureWarning: The default of observed=False is deprecated and will be changed to True in a future version of pandas. Pass observed=False to retain current behavior or observed=True to adopt the future default and silence this warning.\n",
      "  df_unique = df_new.groupby('name').agg({'lat': 'first', 'lng': 'first'}).reset_index()\n",
      "C:\\Users\\Fenin Jose\\AppData\\Local\\Temp\\ipykernel_17548\\574676199.py:17: FutureWarning: The default of observed=False is deprecated and will be changed to True in a future version of pandas. Pass observed=False to retain current behavior or observed=True to adopt the future default and silence this warning.\n",
      "  df_unique = df_new.groupby('name').agg({'lat': 'first', 'lng': 'first'}).reset_index()\n"
     ]
    },
    {
     "name": "stdout",
     "output_type": "stream",
     "text": [
      "Map saved as D:\\df\\maps\\map_322.html\n",
      "Map saved as D:\\df\\maps\\map_323.html\n",
      "Map saved as D:\\df\\maps\\map_324.html\n"
     ]
    },
    {
     "name": "stderr",
     "output_type": "stream",
     "text": [
      "C:\\Users\\Fenin Jose\\AppData\\Local\\Temp\\ipykernel_17548\\574676199.py:17: FutureWarning: The default of observed=False is deprecated and will be changed to True in a future version of pandas. Pass observed=False to retain current behavior or observed=True to adopt the future default and silence this warning.\n",
      "  df_unique = df_new.groupby('name').agg({'lat': 'first', 'lng': 'first'}).reset_index()\n",
      "C:\\Users\\Fenin Jose\\AppData\\Local\\Temp\\ipykernel_17548\\574676199.py:17: FutureWarning: The default of observed=False is deprecated and will be changed to True in a future version of pandas. Pass observed=False to retain current behavior or observed=True to adopt the future default and silence this warning.\n",
      "  df_unique = df_new.groupby('name').agg({'lat': 'first', 'lng': 'first'}).reset_index()\n"
     ]
    },
    {
     "name": "stdout",
     "output_type": "stream",
     "text": [
      "Map saved as D:\\df\\maps\\map_325.html\n",
      "Map saved as D:\\df\\maps\\map_326.html\n",
      "Map saved as D:\\df\\maps\\map_327.html\n",
      "Map saved as D:\\df\\maps\\map_328.html\n"
     ]
    },
    {
     "name": "stderr",
     "output_type": "stream",
     "text": [
      "C:\\Users\\Fenin Jose\\AppData\\Local\\Temp\\ipykernel_17548\\574676199.py:17: FutureWarning: The default of observed=False is deprecated and will be changed to True in a future version of pandas. Pass observed=False to retain current behavior or observed=True to adopt the future default and silence this warning.\n",
      "  df_unique = df_new.groupby('name').agg({'lat': 'first', 'lng': 'first'}).reset_index()\n",
      "C:\\Users\\Fenin Jose\\AppData\\Local\\Temp\\ipykernel_17548\\574676199.py:17: FutureWarning: The default of observed=False is deprecated and will be changed to True in a future version of pandas. Pass observed=False to retain current behavior or observed=True to adopt the future default and silence this warning.\n",
      "  df_unique = df_new.groupby('name').agg({'lat': 'first', 'lng': 'first'}).reset_index()\n",
      "C:\\Users\\Fenin Jose\\AppData\\Local\\Temp\\ipykernel_17548\\574676199.py:17: FutureWarning: The default of observed=False is deprecated and will be changed to True in a future version of pandas. Pass observed=False to retain current behavior or observed=True to adopt the future default and silence this warning.\n",
      "  df_unique = df_new.groupby('name').agg({'lat': 'first', 'lng': 'first'}).reset_index()\n",
      "C:\\Users\\Fenin Jose\\AppData\\Local\\Temp\\ipykernel_17548\\574676199.py:17: FutureWarning: The default of observed=False is deprecated and will be changed to True in a future version of pandas. Pass observed=False to retain current behavior or observed=True to adopt the future default and silence this warning.\n",
      "  df_unique = df_new.groupby('name').agg({'lat': 'first', 'lng': 'first'}).reset_index()\n"
     ]
    },
    {
     "name": "stdout",
     "output_type": "stream",
     "text": [
      "Map saved as D:\\df\\maps\\map_329.html\n",
      "Map saved as D:\\df\\maps\\map_330.html\n",
      "Map saved as D:\\df\\maps\\map_331.html\n",
      "Map saved as D:\\df\\maps\\map_332.html\n"
     ]
    },
    {
     "name": "stderr",
     "output_type": "stream",
     "text": [
      "C:\\Users\\Fenin Jose\\AppData\\Local\\Temp\\ipykernel_17548\\574676199.py:17: FutureWarning: The default of observed=False is deprecated and will be changed to True in a future version of pandas. Pass observed=False to retain current behavior or observed=True to adopt the future default and silence this warning.\n",
      "  df_unique = df_new.groupby('name').agg({'lat': 'first', 'lng': 'first'}).reset_index()\n",
      "C:\\Users\\Fenin Jose\\AppData\\Local\\Temp\\ipykernel_17548\\574676199.py:17: FutureWarning: The default of observed=False is deprecated and will be changed to True in a future version of pandas. Pass observed=False to retain current behavior or observed=True to adopt the future default and silence this warning.\n",
      "  df_unique = df_new.groupby('name').agg({'lat': 'first', 'lng': 'first'}).reset_index()\n",
      "C:\\Users\\Fenin Jose\\AppData\\Local\\Temp\\ipykernel_17548\\574676199.py:17: FutureWarning: The default of observed=False is deprecated and will be changed to True in a future version of pandas. Pass observed=False to retain current behavior or observed=True to adopt the future default and silence this warning.\n",
      "  df_unique = df_new.groupby('name').agg({'lat': 'first', 'lng': 'first'}).reset_index()\n",
      "C:\\Users\\Fenin Jose\\AppData\\Local\\Temp\\ipykernel_17548\\574676199.py:17: FutureWarning: The default of observed=False is deprecated and will be changed to True in a future version of pandas. Pass observed=False to retain current behavior or observed=True to adopt the future default and silence this warning.\n",
      "  df_unique = df_new.groupby('name').agg({'lat': 'first', 'lng': 'first'}).reset_index()\n"
     ]
    },
    {
     "name": "stdout",
     "output_type": "stream",
     "text": [
      "Map saved as D:\\df\\maps\\map_333.html\n",
      "Map saved as D:\\df\\maps\\map_334.html\n",
      "Map saved as D:\\df\\maps\\map_335.html\n",
      "Map saved as D:\\df\\maps\\map_336.html\n"
     ]
    },
    {
     "name": "stderr",
     "output_type": "stream",
     "text": [
      "C:\\Users\\Fenin Jose\\AppData\\Local\\Temp\\ipykernel_17548\\574676199.py:17: FutureWarning: The default of observed=False is deprecated and will be changed to True in a future version of pandas. Pass observed=False to retain current behavior or observed=True to adopt the future default and silence this warning.\n",
      "  df_unique = df_new.groupby('name').agg({'lat': 'first', 'lng': 'first'}).reset_index()\n",
      "C:\\Users\\Fenin Jose\\AppData\\Local\\Temp\\ipykernel_17548\\574676199.py:17: FutureWarning: The default of observed=False is deprecated and will be changed to True in a future version of pandas. Pass observed=False to retain current behavior or observed=True to adopt the future default and silence this warning.\n",
      "  df_unique = df_new.groupby('name').agg({'lat': 'first', 'lng': 'first'}).reset_index()\n",
      "C:\\Users\\Fenin Jose\\AppData\\Local\\Temp\\ipykernel_17548\\574676199.py:17: FutureWarning: The default of observed=False is deprecated and will be changed to True in a future version of pandas. Pass observed=False to retain current behavior or observed=True to adopt the future default and silence this warning.\n",
      "  df_unique = df_new.groupby('name').agg({'lat': 'first', 'lng': 'first'}).reset_index()\n",
      "C:\\Users\\Fenin Jose\\AppData\\Local\\Temp\\ipykernel_17548\\574676199.py:17: FutureWarning: The default of observed=False is deprecated and will be changed to True in a future version of pandas. Pass observed=False to retain current behavior or observed=True to adopt the future default and silence this warning.\n",
      "  df_unique = df_new.groupby('name').agg({'lat': 'first', 'lng': 'first'}).reset_index()\n"
     ]
    },
    {
     "name": "stdout",
     "output_type": "stream",
     "text": [
      "Map saved as D:\\df\\maps\\map_337.html\n",
      "Map saved as D:\\df\\maps\\map_338.html\n",
      "Map saved as D:\\df\\maps\\map_339.html\n",
      "Map saved as D:\\df\\maps\\map_340.html\n"
     ]
    },
    {
     "name": "stderr",
     "output_type": "stream",
     "text": [
      "C:\\Users\\Fenin Jose\\AppData\\Local\\Temp\\ipykernel_17548\\574676199.py:17: FutureWarning: The default of observed=False is deprecated and will be changed to True in a future version of pandas. Pass observed=False to retain current behavior or observed=True to adopt the future default and silence this warning.\n",
      "  df_unique = df_new.groupby('name').agg({'lat': 'first', 'lng': 'first'}).reset_index()\n",
      "C:\\Users\\Fenin Jose\\AppData\\Local\\Temp\\ipykernel_17548\\574676199.py:17: FutureWarning: The default of observed=False is deprecated and will be changed to True in a future version of pandas. Pass observed=False to retain current behavior or observed=True to adopt the future default and silence this warning.\n",
      "  df_unique = df_new.groupby('name').agg({'lat': 'first', 'lng': 'first'}).reset_index()\n",
      "C:\\Users\\Fenin Jose\\AppData\\Local\\Temp\\ipykernel_17548\\574676199.py:17: FutureWarning: The default of observed=False is deprecated and will be changed to True in a future version of pandas. Pass observed=False to retain current behavior or observed=True to adopt the future default and silence this warning.\n",
      "  df_unique = df_new.groupby('name').agg({'lat': 'first', 'lng': 'first'}).reset_index()\n",
      "C:\\Users\\Fenin Jose\\AppData\\Local\\Temp\\ipykernel_17548\\574676199.py:17: FutureWarning: The default of observed=False is deprecated and will be changed to True in a future version of pandas. Pass observed=False to retain current behavior or observed=True to adopt the future default and silence this warning.\n",
      "  df_unique = df_new.groupby('name').agg({'lat': 'first', 'lng': 'first'}).reset_index()\n"
     ]
    },
    {
     "name": "stdout",
     "output_type": "stream",
     "text": [
      "Map saved as D:\\df\\maps\\map_341.html\n",
      "Map saved as D:\\df\\maps\\map_342.html\n",
      "Map saved as D:\\df\\maps\\map_343.html\n",
      "Map saved as D:\\df\\maps\\map_344.html\n"
     ]
    },
    {
     "name": "stderr",
     "output_type": "stream",
     "text": [
      "C:\\Users\\Fenin Jose\\AppData\\Local\\Temp\\ipykernel_17548\\574676199.py:17: FutureWarning: The default of observed=False is deprecated and will be changed to True in a future version of pandas. Pass observed=False to retain current behavior or observed=True to adopt the future default and silence this warning.\n",
      "  df_unique = df_new.groupby('name').agg({'lat': 'first', 'lng': 'first'}).reset_index()\n",
      "C:\\Users\\Fenin Jose\\AppData\\Local\\Temp\\ipykernel_17548\\574676199.py:17: FutureWarning: The default of observed=False is deprecated and will be changed to True in a future version of pandas. Pass observed=False to retain current behavior or observed=True to adopt the future default and silence this warning.\n",
      "  df_unique = df_new.groupby('name').agg({'lat': 'first', 'lng': 'first'}).reset_index()\n",
      "C:\\Users\\Fenin Jose\\AppData\\Local\\Temp\\ipykernel_17548\\574676199.py:17: FutureWarning: The default of observed=False is deprecated and will be changed to True in a future version of pandas. Pass observed=False to retain current behavior or observed=True to adopt the future default and silence this warning.\n",
      "  df_unique = df_new.groupby('name').agg({'lat': 'first', 'lng': 'first'}).reset_index()\n",
      "C:\\Users\\Fenin Jose\\AppData\\Local\\Temp\\ipykernel_17548\\574676199.py:17: FutureWarning: The default of observed=False is deprecated and will be changed to True in a future version of pandas. Pass observed=False to retain current behavior or observed=True to adopt the future default and silence this warning.\n",
      "  df_unique = df_new.groupby('name').agg({'lat': 'first', 'lng': 'first'}).reset_index()\n"
     ]
    },
    {
     "name": "stdout",
     "output_type": "stream",
     "text": [
      "Map saved as D:\\df\\maps\\map_345.html\n",
      "Map saved as D:\\df\\maps\\map_346.html\n",
      "Map saved as D:\\df\\maps\\map_347.html\n",
      "Map saved as D:\\df\\maps\\map_348.html\n"
     ]
    },
    {
     "name": "stderr",
     "output_type": "stream",
     "text": [
      "C:\\Users\\Fenin Jose\\AppData\\Local\\Temp\\ipykernel_17548\\574676199.py:17: FutureWarning: The default of observed=False is deprecated and will be changed to True in a future version of pandas. Pass observed=False to retain current behavior or observed=True to adopt the future default and silence this warning.\n",
      "  df_unique = df_new.groupby('name').agg({'lat': 'first', 'lng': 'first'}).reset_index()\n",
      "C:\\Users\\Fenin Jose\\AppData\\Local\\Temp\\ipykernel_17548\\574676199.py:17: FutureWarning: The default of observed=False is deprecated and will be changed to True in a future version of pandas. Pass observed=False to retain current behavior or observed=True to adopt the future default and silence this warning.\n",
      "  df_unique = df_new.groupby('name').agg({'lat': 'first', 'lng': 'first'}).reset_index()\n",
      "C:\\Users\\Fenin Jose\\AppData\\Local\\Temp\\ipykernel_17548\\574676199.py:17: FutureWarning: The default of observed=False is deprecated and will be changed to True in a future version of pandas. Pass observed=False to retain current behavior or observed=True to adopt the future default and silence this warning.\n",
      "  df_unique = df_new.groupby('name').agg({'lat': 'first', 'lng': 'first'}).reset_index()\n",
      "C:\\Users\\Fenin Jose\\AppData\\Local\\Temp\\ipykernel_17548\\574676199.py:17: FutureWarning: The default of observed=False is deprecated and will be changed to True in a future version of pandas. Pass observed=False to retain current behavior or observed=True to adopt the future default and silence this warning.\n",
      "  df_unique = df_new.groupby('name').agg({'lat': 'first', 'lng': 'first'}).reset_index()\n"
     ]
    },
    {
     "name": "stdout",
     "output_type": "stream",
     "text": [
      "Map saved as D:\\df\\maps\\map_349.html\n",
      "Map saved as D:\\df\\maps\\map_350.html\n",
      "Map saved as D:\\df\\maps\\map_351.html\n",
      "Map saved as D:\\df\\maps\\map_352.html\n"
     ]
    },
    {
     "name": "stderr",
     "output_type": "stream",
     "text": [
      "C:\\Users\\Fenin Jose\\AppData\\Local\\Temp\\ipykernel_17548\\574676199.py:17: FutureWarning: The default of observed=False is deprecated and will be changed to True in a future version of pandas. Pass observed=False to retain current behavior or observed=True to adopt the future default and silence this warning.\n",
      "  df_unique = df_new.groupby('name').agg({'lat': 'first', 'lng': 'first'}).reset_index()\n",
      "C:\\Users\\Fenin Jose\\AppData\\Local\\Temp\\ipykernel_17548\\574676199.py:17: FutureWarning: The default of observed=False is deprecated and will be changed to True in a future version of pandas. Pass observed=False to retain current behavior or observed=True to adopt the future default and silence this warning.\n",
      "  df_unique = df_new.groupby('name').agg({'lat': 'first', 'lng': 'first'}).reset_index()\n",
      "C:\\Users\\Fenin Jose\\AppData\\Local\\Temp\\ipykernel_17548\\574676199.py:17: FutureWarning: The default of observed=False is deprecated and will be changed to True in a future version of pandas. Pass observed=False to retain current behavior or observed=True to adopt the future default and silence this warning.\n",
      "  df_unique = df_new.groupby('name').agg({'lat': 'first', 'lng': 'first'}).reset_index()\n",
      "C:\\Users\\Fenin Jose\\AppData\\Local\\Temp\\ipykernel_17548\\574676199.py:17: FutureWarning: The default of observed=False is deprecated and will be changed to True in a future version of pandas. Pass observed=False to retain current behavior or observed=True to adopt the future default and silence this warning.\n",
      "  df_unique = df_new.groupby('name').agg({'lat': 'first', 'lng': 'first'}).reset_index()\n"
     ]
    },
    {
     "name": "stdout",
     "output_type": "stream",
     "text": [
      "Map saved as D:\\df\\maps\\map_353.html\n",
      "Map saved as D:\\df\\maps\\map_354.html\n",
      "Map saved as D:\\df\\maps\\map_355.html\n",
      "Map saved as D:\\df\\maps\\map_356.html\n"
     ]
    },
    {
     "name": "stderr",
     "output_type": "stream",
     "text": [
      "C:\\Users\\Fenin Jose\\AppData\\Local\\Temp\\ipykernel_17548\\574676199.py:17: FutureWarning: The default of observed=False is deprecated and will be changed to True in a future version of pandas. Pass observed=False to retain current behavior or observed=True to adopt the future default and silence this warning.\n",
      "  df_unique = df_new.groupby('name').agg({'lat': 'first', 'lng': 'first'}).reset_index()\n",
      "C:\\Users\\Fenin Jose\\AppData\\Local\\Temp\\ipykernel_17548\\574676199.py:17: FutureWarning: The default of observed=False is deprecated and will be changed to True in a future version of pandas. Pass observed=False to retain current behavior or observed=True to adopt the future default and silence this warning.\n",
      "  df_unique = df_new.groupby('name').agg({'lat': 'first', 'lng': 'first'}).reset_index()\n",
      "C:\\Users\\Fenin Jose\\AppData\\Local\\Temp\\ipykernel_17548\\574676199.py:17: FutureWarning: The default of observed=False is deprecated and will be changed to True in a future version of pandas. Pass observed=False to retain current behavior or observed=True to adopt the future default and silence this warning.\n",
      "  df_unique = df_new.groupby('name').agg({'lat': 'first', 'lng': 'first'}).reset_index()\n",
      "C:\\Users\\Fenin Jose\\AppData\\Local\\Temp\\ipykernel_17548\\574676199.py:17: FutureWarning: The default of observed=False is deprecated and will be changed to True in a future version of pandas. Pass observed=False to retain current behavior or observed=True to adopt the future default and silence this warning.\n",
      "  df_unique = df_new.groupby('name').agg({'lat': 'first', 'lng': 'first'}).reset_index()\n"
     ]
    },
    {
     "name": "stdout",
     "output_type": "stream",
     "text": [
      "Map saved as D:\\df\\maps\\map_357.html\n",
      "Map saved as D:\\df\\maps\\map_358.html\n",
      "Map saved as D:\\df\\maps\\map_359.html\n",
      "Map saved as D:\\df\\maps\\map_360.html\n"
     ]
    },
    {
     "name": "stderr",
     "output_type": "stream",
     "text": [
      "C:\\Users\\Fenin Jose\\AppData\\Local\\Temp\\ipykernel_17548\\574676199.py:17: FutureWarning: The default of observed=False is deprecated and will be changed to True in a future version of pandas. Pass observed=False to retain current behavior or observed=True to adopt the future default and silence this warning.\n",
      "  df_unique = df_new.groupby('name').agg({'lat': 'first', 'lng': 'first'}).reset_index()\n",
      "C:\\Users\\Fenin Jose\\AppData\\Local\\Temp\\ipykernel_17548\\574676199.py:17: FutureWarning: The default of observed=False is deprecated and will be changed to True in a future version of pandas. Pass observed=False to retain current behavior or observed=True to adopt the future default and silence this warning.\n",
      "  df_unique = df_new.groupby('name').agg({'lat': 'first', 'lng': 'first'}).reset_index()\n",
      "C:\\Users\\Fenin Jose\\AppData\\Local\\Temp\\ipykernel_17548\\574676199.py:17: FutureWarning: The default of observed=False is deprecated and will be changed to True in a future version of pandas. Pass observed=False to retain current behavior or observed=True to adopt the future default and silence this warning.\n",
      "  df_unique = df_new.groupby('name').agg({'lat': 'first', 'lng': 'first'}).reset_index()\n",
      "C:\\Users\\Fenin Jose\\AppData\\Local\\Temp\\ipykernel_17548\\574676199.py:17: FutureWarning: The default of observed=False is deprecated and will be changed to True in a future version of pandas. Pass observed=False to retain current behavior or observed=True to adopt the future default and silence this warning.\n",
      "  df_unique = df_new.groupby('name').agg({'lat': 'first', 'lng': 'first'}).reset_index()\n"
     ]
    },
    {
     "name": "stdout",
     "output_type": "stream",
     "text": [
      "Map saved as D:\\df\\maps\\map_361.html\n",
      "Map saved as D:\\df\\maps\\map_362.html\n",
      "Map saved as D:\\df\\maps\\map_363.html\n"
     ]
    },
    {
     "name": "stderr",
     "output_type": "stream",
     "text": [
      "C:\\Users\\Fenin Jose\\AppData\\Local\\Temp\\ipykernel_17548\\574676199.py:17: FutureWarning: The default of observed=False is deprecated and will be changed to True in a future version of pandas. Pass observed=False to retain current behavior or observed=True to adopt the future default and silence this warning.\n",
      "  df_unique = df_new.groupby('name').agg({'lat': 'first', 'lng': 'first'}).reset_index()\n",
      "C:\\Users\\Fenin Jose\\AppData\\Local\\Temp\\ipykernel_17548\\574676199.py:17: FutureWarning: The default of observed=False is deprecated and will be changed to True in a future version of pandas. Pass observed=False to retain current behavior or observed=True to adopt the future default and silence this warning.\n",
      "  df_unique = df_new.groupby('name').agg({'lat': 'first', 'lng': 'first'}).reset_index()\n",
      "C:\\Users\\Fenin Jose\\AppData\\Local\\Temp\\ipykernel_17548\\574676199.py:17: FutureWarning: The default of observed=False is deprecated and will be changed to True in a future version of pandas. Pass observed=False to retain current behavior or observed=True to adopt the future default and silence this warning.\n",
      "  df_unique = df_new.groupby('name').agg({'lat': 'first', 'lng': 'first'}).reset_index()\n"
     ]
    },
    {
     "name": "stdout",
     "output_type": "stream",
     "text": [
      "Map saved as D:\\df\\maps\\map_364.html\n",
      "Map saved as D:\\df\\maps\\map_365.html\n",
      "Map saved as D:\\df\\maps\\map_366.html\n"
     ]
    },
    {
     "name": "stderr",
     "output_type": "stream",
     "text": [
      "C:\\Users\\Fenin Jose\\AppData\\Local\\Temp\\ipykernel_17548\\574676199.py:17: FutureWarning: The default of observed=False is deprecated and will be changed to True in a future version of pandas. Pass observed=False to retain current behavior or observed=True to adopt the future default and silence this warning.\n",
      "  df_unique = df_new.groupby('name').agg({'lat': 'first', 'lng': 'first'}).reset_index()\n",
      "C:\\Users\\Fenin Jose\\AppData\\Local\\Temp\\ipykernel_17548\\574676199.py:17: FutureWarning: The default of observed=False is deprecated and will be changed to True in a future version of pandas. Pass observed=False to retain current behavior or observed=True to adopt the future default and silence this warning.\n",
      "  df_unique = df_new.groupby('name').agg({'lat': 'first', 'lng': 'first'}).reset_index()\n",
      "C:\\Users\\Fenin Jose\\AppData\\Local\\Temp\\ipykernel_17548\\574676199.py:17: FutureWarning: The default of observed=False is deprecated and will be changed to True in a future version of pandas. Pass observed=False to retain current behavior or observed=True to adopt the future default and silence this warning.\n",
      "  df_unique = df_new.groupby('name').agg({'lat': 'first', 'lng': 'first'}).reset_index()\n"
     ]
    },
    {
     "name": "stdout",
     "output_type": "stream",
     "text": [
      "Map saved as D:\\df\\maps\\map_367.html\n",
      "Map saved as D:\\df\\maps\\map_368.html\n",
      "Map saved as D:\\df\\maps\\map_369.html\n",
      "Map saved as D:\\df\\maps\\map_370.html\n"
     ]
    },
    {
     "name": "stderr",
     "output_type": "stream",
     "text": [
      "C:\\Users\\Fenin Jose\\AppData\\Local\\Temp\\ipykernel_17548\\574676199.py:17: FutureWarning: The default of observed=False is deprecated and will be changed to True in a future version of pandas. Pass observed=False to retain current behavior or observed=True to adopt the future default and silence this warning.\n",
      "  df_unique = df_new.groupby('name').agg({'lat': 'first', 'lng': 'first'}).reset_index()\n",
      "C:\\Users\\Fenin Jose\\AppData\\Local\\Temp\\ipykernel_17548\\574676199.py:17: FutureWarning: The default of observed=False is deprecated and will be changed to True in a future version of pandas. Pass observed=False to retain current behavior or observed=True to adopt the future default and silence this warning.\n",
      "  df_unique = df_new.groupby('name').agg({'lat': 'first', 'lng': 'first'}).reset_index()\n",
      "C:\\Users\\Fenin Jose\\AppData\\Local\\Temp\\ipykernel_17548\\574676199.py:17: FutureWarning: The default of observed=False is deprecated and will be changed to True in a future version of pandas. Pass observed=False to retain current behavior or observed=True to adopt the future default and silence this warning.\n",
      "  df_unique = df_new.groupby('name').agg({'lat': 'first', 'lng': 'first'}).reset_index()\n",
      "C:\\Users\\Fenin Jose\\AppData\\Local\\Temp\\ipykernel_17548\\574676199.py:17: FutureWarning: The default of observed=False is deprecated and will be changed to True in a future version of pandas. Pass observed=False to retain current behavior or observed=True to adopt the future default and silence this warning.\n",
      "  df_unique = df_new.groupby('name').agg({'lat': 'first', 'lng': 'first'}).reset_index()\n"
     ]
    },
    {
     "name": "stdout",
     "output_type": "stream",
     "text": [
      "Map saved as D:\\df\\maps\\map_371.html\n",
      "Map saved as D:\\df\\maps\\map_372.html\n",
      "Map saved as D:\\df\\maps\\map_373.html\n"
     ]
    },
    {
     "name": "stderr",
     "output_type": "stream",
     "text": [
      "C:\\Users\\Fenin Jose\\AppData\\Local\\Temp\\ipykernel_17548\\574676199.py:17: FutureWarning: The default of observed=False is deprecated and will be changed to True in a future version of pandas. Pass observed=False to retain current behavior or observed=True to adopt the future default and silence this warning.\n",
      "  df_unique = df_new.groupby('name').agg({'lat': 'first', 'lng': 'first'}).reset_index()\n",
      "C:\\Users\\Fenin Jose\\AppData\\Local\\Temp\\ipykernel_17548\\574676199.py:17: FutureWarning: The default of observed=False is deprecated and will be changed to True in a future version of pandas. Pass observed=False to retain current behavior or observed=True to adopt the future default and silence this warning.\n",
      "  df_unique = df_new.groupby('name').agg({'lat': 'first', 'lng': 'first'}).reset_index()\n",
      "C:\\Users\\Fenin Jose\\AppData\\Local\\Temp\\ipykernel_17548\\574676199.py:17: FutureWarning: The default of observed=False is deprecated and will be changed to True in a future version of pandas. Pass observed=False to retain current behavior or observed=True to adopt the future default and silence this warning.\n",
      "  df_unique = df_new.groupby('name').agg({'lat': 'first', 'lng': 'first'}).reset_index()\n"
     ]
    },
    {
     "name": "stdout",
     "output_type": "stream",
     "text": [
      "Map saved as D:\\df\\maps\\map_374.html\n",
      "Map saved as D:\\df\\maps\\map_375.html\n",
      "Map saved as D:\\df\\maps\\map_376.html\n",
      "Map saved as D:\\df\\maps\\map_377.html\n"
     ]
    },
    {
     "name": "stderr",
     "output_type": "stream",
     "text": [
      "C:\\Users\\Fenin Jose\\AppData\\Local\\Temp\\ipykernel_17548\\574676199.py:17: FutureWarning: The default of observed=False is deprecated and will be changed to True in a future version of pandas. Pass observed=False to retain current behavior or observed=True to adopt the future default and silence this warning.\n",
      "  df_unique = df_new.groupby('name').agg({'lat': 'first', 'lng': 'first'}).reset_index()\n",
      "C:\\Users\\Fenin Jose\\AppData\\Local\\Temp\\ipykernel_17548\\574676199.py:17: FutureWarning: The default of observed=False is deprecated and will be changed to True in a future version of pandas. Pass observed=False to retain current behavior or observed=True to adopt the future default and silence this warning.\n",
      "  df_unique = df_new.groupby('name').agg({'lat': 'first', 'lng': 'first'}).reset_index()\n",
      "C:\\Users\\Fenin Jose\\AppData\\Local\\Temp\\ipykernel_17548\\574676199.py:17: FutureWarning: The default of observed=False is deprecated and will be changed to True in a future version of pandas. Pass observed=False to retain current behavior or observed=True to adopt the future default and silence this warning.\n",
      "  df_unique = df_new.groupby('name').agg({'lat': 'first', 'lng': 'first'}).reset_index()\n",
      "C:\\Users\\Fenin Jose\\AppData\\Local\\Temp\\ipykernel_17548\\574676199.py:17: FutureWarning: The default of observed=False is deprecated and will be changed to True in a future version of pandas. Pass observed=False to retain current behavior or observed=True to adopt the future default and silence this warning.\n",
      "  df_unique = df_new.groupby('name').agg({'lat': 'first', 'lng': 'first'}).reset_index()\n",
      "C:\\Users\\Fenin Jose\\AppData\\Local\\Temp\\ipykernel_17548\\574676199.py:17: FutureWarning: The default of observed=False is deprecated and will be changed to True in a future version of pandas. Pass observed=False to retain current behavior or observed=True to adopt the future default and silence this warning.\n",
      "  df_unique = df_new.groupby('name').agg({'lat': 'first', 'lng': 'first'}).reset_index()\n",
      "C:\\Users\\Fenin Jose\\AppData\\Local\\Temp\\ipykernel_17548\\574676199.py:17: FutureWarning: The default of observed=False is deprecated and will be changed to True in a future version of pandas. Pass observed=False to retain current behavior or observed=True to adopt the future default and silence this warning.\n",
      "  df_unique = df_new.groupby('name').agg({'lat': 'first', 'lng': 'first'}).reset_index()\n",
      "C:\\Users\\Fenin Jose\\AppData\\Local\\Temp\\ipykernel_17548\\574676199.py:17: FutureWarning: The default of observed=False is deprecated and will be changed to True in a future version of pandas. Pass observed=False to retain current behavior or observed=True to adopt the future default and silence this warning.\n",
      "  df_unique = df_new.groupby('name').agg({'lat': 'first', 'lng': 'first'}).reset_index()\n"
     ]
    },
    {
     "name": "stdout",
     "output_type": "stream",
     "text": [
      "Map saved as D:\\df\\maps\\map_378.html\n",
      "Map saved as D:\\df\\maps\\map_379.html\n",
      "Map saved as D:\\df\\maps\\map_380.html\n",
      "Map saved as D:\\df\\maps\\map_381.html\n"
     ]
    },
    {
     "name": "stderr",
     "output_type": "stream",
     "text": [
      "C:\\Users\\Fenin Jose\\AppData\\Local\\Temp\\ipykernel_17548\\574676199.py:17: FutureWarning: The default of observed=False is deprecated and will be changed to True in a future version of pandas. Pass observed=False to retain current behavior or observed=True to adopt the future default and silence this warning.\n",
      "  df_unique = df_new.groupby('name').agg({'lat': 'first', 'lng': 'first'}).reset_index()\n",
      "C:\\Users\\Fenin Jose\\AppData\\Local\\Temp\\ipykernel_17548\\574676199.py:17: FutureWarning: The default of observed=False is deprecated and will be changed to True in a future version of pandas. Pass observed=False to retain current behavior or observed=True to adopt the future default and silence this warning.\n",
      "  df_unique = df_new.groupby('name').agg({'lat': 'first', 'lng': 'first'}).reset_index()\n",
      "C:\\Users\\Fenin Jose\\AppData\\Local\\Temp\\ipykernel_17548\\574676199.py:17: FutureWarning: The default of observed=False is deprecated and will be changed to True in a future version of pandas. Pass observed=False to retain current behavior or observed=True to adopt the future default and silence this warning.\n",
      "  df_unique = df_new.groupby('name').agg({'lat': 'first', 'lng': 'first'}).reset_index()\n",
      "C:\\Users\\Fenin Jose\\AppData\\Local\\Temp\\ipykernel_17548\\574676199.py:17: FutureWarning: The default of observed=False is deprecated and will be changed to True in a future version of pandas. Pass observed=False to retain current behavior or observed=True to adopt the future default and silence this warning.\n",
      "  df_unique = df_new.groupby('name').agg({'lat': 'first', 'lng': 'first'}).reset_index()\n"
     ]
    },
    {
     "name": "stdout",
     "output_type": "stream",
     "text": [
      "Map saved as D:\\df\\maps\\map_382.html\n",
      "Map saved as D:\\df\\maps\\map_383.html\n",
      "Map saved as D:\\df\\maps\\map_384.html\n",
      "Map saved as D:\\df\\maps\\map_385.html\n"
     ]
    },
    {
     "name": "stderr",
     "output_type": "stream",
     "text": [
      "C:\\Users\\Fenin Jose\\AppData\\Local\\Temp\\ipykernel_17548\\574676199.py:17: FutureWarning: The default of observed=False is deprecated and will be changed to True in a future version of pandas. Pass observed=False to retain current behavior or observed=True to adopt the future default and silence this warning.\n",
      "  df_unique = df_new.groupby('name').agg({'lat': 'first', 'lng': 'first'}).reset_index()\n",
      "C:\\Users\\Fenin Jose\\AppData\\Local\\Temp\\ipykernel_17548\\574676199.py:17: FutureWarning: The default of observed=False is deprecated and will be changed to True in a future version of pandas. Pass observed=False to retain current behavior or observed=True to adopt the future default and silence this warning.\n",
      "  df_unique = df_new.groupby('name').agg({'lat': 'first', 'lng': 'first'}).reset_index()\n",
      "C:\\Users\\Fenin Jose\\AppData\\Local\\Temp\\ipykernel_17548\\574676199.py:17: FutureWarning: The default of observed=False is deprecated and will be changed to True in a future version of pandas. Pass observed=False to retain current behavior or observed=True to adopt the future default and silence this warning.\n",
      "  df_unique = df_new.groupby('name').agg({'lat': 'first', 'lng': 'first'}).reset_index()\n",
      "C:\\Users\\Fenin Jose\\AppData\\Local\\Temp\\ipykernel_17548\\574676199.py:17: FutureWarning: The default of observed=False is deprecated and will be changed to True in a future version of pandas. Pass observed=False to retain current behavior or observed=True to adopt the future default and silence this warning.\n",
      "  df_unique = df_new.groupby('name').agg({'lat': 'first', 'lng': 'first'}).reset_index()\n"
     ]
    },
    {
     "name": "stdout",
     "output_type": "stream",
     "text": [
      "Map saved as D:\\df\\maps\\map_386.html\n",
      "Map saved as D:\\df\\maps\\map_387.html\n",
      "Map saved as D:\\df\\maps\\map_388.html\n",
      "Map saved as D:\\df\\maps\\map_389.html\n"
     ]
    },
    {
     "name": "stderr",
     "output_type": "stream",
     "text": [
      "C:\\Users\\Fenin Jose\\AppData\\Local\\Temp\\ipykernel_17548\\574676199.py:17: FutureWarning: The default of observed=False is deprecated and will be changed to True in a future version of pandas. Pass observed=False to retain current behavior or observed=True to adopt the future default and silence this warning.\n",
      "  df_unique = df_new.groupby('name').agg({'lat': 'first', 'lng': 'first'}).reset_index()\n",
      "C:\\Users\\Fenin Jose\\AppData\\Local\\Temp\\ipykernel_17548\\574676199.py:17: FutureWarning: The default of observed=False is deprecated and will be changed to True in a future version of pandas. Pass observed=False to retain current behavior or observed=True to adopt the future default and silence this warning.\n",
      "  df_unique = df_new.groupby('name').agg({'lat': 'first', 'lng': 'first'}).reset_index()\n",
      "C:\\Users\\Fenin Jose\\AppData\\Local\\Temp\\ipykernel_17548\\574676199.py:17: FutureWarning: The default of observed=False is deprecated and will be changed to True in a future version of pandas. Pass observed=False to retain current behavior or observed=True to adopt the future default and silence this warning.\n",
      "  df_unique = df_new.groupby('name').agg({'lat': 'first', 'lng': 'first'}).reset_index()\n",
      "C:\\Users\\Fenin Jose\\AppData\\Local\\Temp\\ipykernel_17548\\574676199.py:17: FutureWarning: The default of observed=False is deprecated and will be changed to True in a future version of pandas. Pass observed=False to retain current behavior or observed=True to adopt the future default and silence this warning.\n",
      "  df_unique = df_new.groupby('name').agg({'lat': 'first', 'lng': 'first'}).reset_index()\n",
      "C:\\Users\\Fenin Jose\\AppData\\Local\\Temp\\ipykernel_17548\\574676199.py:17: FutureWarning: The default of observed=False is deprecated and will be changed to True in a future version of pandas. Pass observed=False to retain current behavior or observed=True to adopt the future default and silence this warning.\n",
      "  df_unique = df_new.groupby('name').agg({'lat': 'first', 'lng': 'first'}).reset_index()\n"
     ]
    },
    {
     "name": "stdout",
     "output_type": "stream",
     "text": [
      "Map saved as D:\\df\\maps\\map_390.html\n",
      "Map saved as D:\\df\\maps\\map_391.html\n",
      "Map saved as D:\\df\\maps\\map_392.html\n",
      "Map saved as D:\\df\\maps\\map_393.html\n",
      "Map saved as D:\\df\\maps\\map_394.html\n",
      "Map saved as D:\\df\\maps\\map_395.html\n",
      "Map saved as D:\\df\\maps\\map_396.html\n",
      "Map saved as D:\\df\\maps\\map_397.html\n"
     ]
    },
    {
     "name": "stderr",
     "output_type": "stream",
     "text": [
      "C:\\Users\\Fenin Jose\\AppData\\Local\\Temp\\ipykernel_17548\\574676199.py:17: FutureWarning: The default of observed=False is deprecated and will be changed to True in a future version of pandas. Pass observed=False to retain current behavior or observed=True to adopt the future default and silence this warning.\n",
      "  df_unique = df_new.groupby('name').agg({'lat': 'first', 'lng': 'first'}).reset_index()\n",
      "C:\\Users\\Fenin Jose\\AppData\\Local\\Temp\\ipykernel_17548\\574676199.py:17: FutureWarning: The default of observed=False is deprecated and will be changed to True in a future version of pandas. Pass observed=False to retain current behavior or observed=True to adopt the future default and silence this warning.\n",
      "  df_unique = df_new.groupby('name').agg({'lat': 'first', 'lng': 'first'}).reset_index()\n",
      "C:\\Users\\Fenin Jose\\AppData\\Local\\Temp\\ipykernel_17548\\574676199.py:17: FutureWarning: The default of observed=False is deprecated and will be changed to True in a future version of pandas. Pass observed=False to retain current behavior or observed=True to adopt the future default and silence this warning.\n",
      "  df_unique = df_new.groupby('name').agg({'lat': 'first', 'lng': 'first'}).reset_index()\n",
      "C:\\Users\\Fenin Jose\\AppData\\Local\\Temp\\ipykernel_17548\\574676199.py:17: FutureWarning: The default of observed=False is deprecated and will be changed to True in a future version of pandas. Pass observed=False to retain current behavior or observed=True to adopt the future default and silence this warning.\n",
      "  df_unique = df_new.groupby('name').agg({'lat': 'first', 'lng': 'first'}).reset_index()\n"
     ]
    },
    {
     "name": "stdout",
     "output_type": "stream",
     "text": [
      "Map saved as D:\\df\\maps\\map_398.html\n",
      "Map saved as D:\\df\\maps\\map_399.html\n",
      "Map saved as D:\\df\\maps\\map_400.html\n",
      "Map saved as D:\\df\\maps\\map_401.html\n"
     ]
    },
    {
     "name": "stderr",
     "output_type": "stream",
     "text": [
      "C:\\Users\\Fenin Jose\\AppData\\Local\\Temp\\ipykernel_17548\\574676199.py:17: FutureWarning: The default of observed=False is deprecated and will be changed to True in a future version of pandas. Pass observed=False to retain current behavior or observed=True to adopt the future default and silence this warning.\n",
      "  df_unique = df_new.groupby('name').agg({'lat': 'first', 'lng': 'first'}).reset_index()\n",
      "C:\\Users\\Fenin Jose\\AppData\\Local\\Temp\\ipykernel_17548\\574676199.py:17: FutureWarning: The default of observed=False is deprecated and will be changed to True in a future version of pandas. Pass observed=False to retain current behavior or observed=True to adopt the future default and silence this warning.\n",
      "  df_unique = df_new.groupby('name').agg({'lat': 'first', 'lng': 'first'}).reset_index()\n",
      "C:\\Users\\Fenin Jose\\AppData\\Local\\Temp\\ipykernel_17548\\574676199.py:17: FutureWarning: The default of observed=False is deprecated and will be changed to True in a future version of pandas. Pass observed=False to retain current behavior or observed=True to adopt the future default and silence this warning.\n",
      "  df_unique = df_new.groupby('name').agg({'lat': 'first', 'lng': 'first'}).reset_index()\n",
      "C:\\Users\\Fenin Jose\\AppData\\Local\\Temp\\ipykernel_17548\\574676199.py:17: FutureWarning: The default of observed=False is deprecated and will be changed to True in a future version of pandas. Pass observed=False to retain current behavior or observed=True to adopt the future default and silence this warning.\n",
      "  df_unique = df_new.groupby('name').agg({'lat': 'first', 'lng': 'first'}).reset_index()\n"
     ]
    },
    {
     "name": "stdout",
     "output_type": "stream",
     "text": [
      "Map saved as D:\\df\\maps\\map_402.html\n",
      "Map saved as D:\\df\\maps\\map_403.html\n",
      "Map saved as D:\\df\\maps\\map_404.html\n"
     ]
    },
    {
     "name": "stderr",
     "output_type": "stream",
     "text": [
      "C:\\Users\\Fenin Jose\\AppData\\Local\\Temp\\ipykernel_17548\\574676199.py:17: FutureWarning: The default of observed=False is deprecated and will be changed to True in a future version of pandas. Pass observed=False to retain current behavior or observed=True to adopt the future default and silence this warning.\n",
      "  df_unique = df_new.groupby('name').agg({'lat': 'first', 'lng': 'first'}).reset_index()\n",
      "C:\\Users\\Fenin Jose\\AppData\\Local\\Temp\\ipykernel_17548\\574676199.py:17: FutureWarning: The default of observed=False is deprecated and will be changed to True in a future version of pandas. Pass observed=False to retain current behavior or observed=True to adopt the future default and silence this warning.\n",
      "  df_unique = df_new.groupby('name').agg({'lat': 'first', 'lng': 'first'}).reset_index()\n",
      "C:\\Users\\Fenin Jose\\AppData\\Local\\Temp\\ipykernel_17548\\574676199.py:17: FutureWarning: The default of observed=False is deprecated and will be changed to True in a future version of pandas. Pass observed=False to retain current behavior or observed=True to adopt the future default and silence this warning.\n",
      "  df_unique = df_new.groupby('name').agg({'lat': 'first', 'lng': 'first'}).reset_index()\n"
     ]
    },
    {
     "name": "stdout",
     "output_type": "stream",
     "text": [
      "Map saved as D:\\df\\maps\\map_405.html\n",
      "Map saved as D:\\df\\maps\\map_406.html\n",
      "Map saved as D:\\df\\maps\\map_407.html\n",
      "Map saved as D:\\df\\maps\\map_408.html\n"
     ]
    },
    {
     "name": "stderr",
     "output_type": "stream",
     "text": [
      "C:\\Users\\Fenin Jose\\AppData\\Local\\Temp\\ipykernel_17548\\574676199.py:17: FutureWarning: The default of observed=False is deprecated and will be changed to True in a future version of pandas. Pass observed=False to retain current behavior or observed=True to adopt the future default and silence this warning.\n",
      "  df_unique = df_new.groupby('name').agg({'lat': 'first', 'lng': 'first'}).reset_index()\n",
      "C:\\Users\\Fenin Jose\\AppData\\Local\\Temp\\ipykernel_17548\\574676199.py:17: FutureWarning: The default of observed=False is deprecated and will be changed to True in a future version of pandas. Pass observed=False to retain current behavior or observed=True to adopt the future default and silence this warning.\n",
      "  df_unique = df_new.groupby('name').agg({'lat': 'first', 'lng': 'first'}).reset_index()\n",
      "C:\\Users\\Fenin Jose\\AppData\\Local\\Temp\\ipykernel_17548\\574676199.py:17: FutureWarning: The default of observed=False is deprecated and will be changed to True in a future version of pandas. Pass observed=False to retain current behavior or observed=True to adopt the future default and silence this warning.\n",
      "  df_unique = df_new.groupby('name').agg({'lat': 'first', 'lng': 'first'}).reset_index()\n",
      "C:\\Users\\Fenin Jose\\AppData\\Local\\Temp\\ipykernel_17548\\574676199.py:17: FutureWarning: The default of observed=False is deprecated and will be changed to True in a future version of pandas. Pass observed=False to retain current behavior or observed=True to adopt the future default and silence this warning.\n",
      "  df_unique = df_new.groupby('name').agg({'lat': 'first', 'lng': 'first'}).reset_index()\n"
     ]
    },
    {
     "name": "stdout",
     "output_type": "stream",
     "text": [
      "Map saved as D:\\df\\maps\\map_409.html\n",
      "Map saved as D:\\df\\maps\\map_410.html\n",
      "Map saved as D:\\df\\maps\\map_411.html\n",
      "Map saved as D:\\df\\maps\\map_412.html\n"
     ]
    },
    {
     "name": "stderr",
     "output_type": "stream",
     "text": [
      "C:\\Users\\Fenin Jose\\AppData\\Local\\Temp\\ipykernel_17548\\574676199.py:17: FutureWarning: The default of observed=False is deprecated and will be changed to True in a future version of pandas. Pass observed=False to retain current behavior or observed=True to adopt the future default and silence this warning.\n",
      "  df_unique = df_new.groupby('name').agg({'lat': 'first', 'lng': 'first'}).reset_index()\n",
      "C:\\Users\\Fenin Jose\\AppData\\Local\\Temp\\ipykernel_17548\\574676199.py:17: FutureWarning: The default of observed=False is deprecated and will be changed to True in a future version of pandas. Pass observed=False to retain current behavior or observed=True to adopt the future default and silence this warning.\n",
      "  df_unique = df_new.groupby('name').agg({'lat': 'first', 'lng': 'first'}).reset_index()\n",
      "C:\\Users\\Fenin Jose\\AppData\\Local\\Temp\\ipykernel_17548\\574676199.py:17: FutureWarning: The default of observed=False is deprecated and will be changed to True in a future version of pandas. Pass observed=False to retain current behavior or observed=True to adopt the future default and silence this warning.\n",
      "  df_unique = df_new.groupby('name').agg({'lat': 'first', 'lng': 'first'}).reset_index()\n",
      "C:\\Users\\Fenin Jose\\AppData\\Local\\Temp\\ipykernel_17548\\574676199.py:17: FutureWarning: The default of observed=False is deprecated and will be changed to True in a future version of pandas. Pass observed=False to retain current behavior or observed=True to adopt the future default and silence this warning.\n",
      "  df_unique = df_new.groupby('name').agg({'lat': 'first', 'lng': 'first'}).reset_index()\n"
     ]
    },
    {
     "name": "stdout",
     "output_type": "stream",
     "text": [
      "Map saved as D:\\df\\maps\\map_413.html\n",
      "Map saved as D:\\df\\maps\\map_414.html\n",
      "Map saved as D:\\df\\maps\\map_415.html\n",
      "Map saved as D:\\df\\maps\\map_416.html\n"
     ]
    },
    {
     "name": "stderr",
     "output_type": "stream",
     "text": [
      "C:\\Users\\Fenin Jose\\AppData\\Local\\Temp\\ipykernel_17548\\574676199.py:17: FutureWarning: The default of observed=False is deprecated and will be changed to True in a future version of pandas. Pass observed=False to retain current behavior or observed=True to adopt the future default and silence this warning.\n",
      "  df_unique = df_new.groupby('name').agg({'lat': 'first', 'lng': 'first'}).reset_index()\n",
      "C:\\Users\\Fenin Jose\\AppData\\Local\\Temp\\ipykernel_17548\\574676199.py:17: FutureWarning: The default of observed=False is deprecated and will be changed to True in a future version of pandas. Pass observed=False to retain current behavior or observed=True to adopt the future default and silence this warning.\n",
      "  df_unique = df_new.groupby('name').agg({'lat': 'first', 'lng': 'first'}).reset_index()\n",
      "C:\\Users\\Fenin Jose\\AppData\\Local\\Temp\\ipykernel_17548\\574676199.py:17: FutureWarning: The default of observed=False is deprecated and will be changed to True in a future version of pandas. Pass observed=False to retain current behavior or observed=True to adopt the future default and silence this warning.\n",
      "  df_unique = df_new.groupby('name').agg({'lat': 'first', 'lng': 'first'}).reset_index()\n",
      "C:\\Users\\Fenin Jose\\AppData\\Local\\Temp\\ipykernel_17548\\574676199.py:17: FutureWarning: The default of observed=False is deprecated and will be changed to True in a future version of pandas. Pass observed=False to retain current behavior or observed=True to adopt the future default and silence this warning.\n",
      "  df_unique = df_new.groupby('name').agg({'lat': 'first', 'lng': 'first'}).reset_index()\n"
     ]
    },
    {
     "name": "stdout",
     "output_type": "stream",
     "text": [
      "Map saved as D:\\df\\maps\\map_417.html\n",
      "Map saved as D:\\df\\maps\\map_418.html\n",
      "Map saved as D:\\df\\maps\\map_419.html\n",
      "Map saved as D:\\df\\maps\\map_420.html\n"
     ]
    },
    {
     "name": "stderr",
     "output_type": "stream",
     "text": [
      "C:\\Users\\Fenin Jose\\AppData\\Local\\Temp\\ipykernel_17548\\574676199.py:17: FutureWarning: The default of observed=False is deprecated and will be changed to True in a future version of pandas. Pass observed=False to retain current behavior or observed=True to adopt the future default and silence this warning.\n",
      "  df_unique = df_new.groupby('name').agg({'lat': 'first', 'lng': 'first'}).reset_index()\n",
      "C:\\Users\\Fenin Jose\\AppData\\Local\\Temp\\ipykernel_17548\\574676199.py:17: FutureWarning: The default of observed=False is deprecated and will be changed to True in a future version of pandas. Pass observed=False to retain current behavior or observed=True to adopt the future default and silence this warning.\n",
      "  df_unique = df_new.groupby('name').agg({'lat': 'first', 'lng': 'first'}).reset_index()\n",
      "C:\\Users\\Fenin Jose\\AppData\\Local\\Temp\\ipykernel_17548\\574676199.py:17: FutureWarning: The default of observed=False is deprecated and will be changed to True in a future version of pandas. Pass observed=False to retain current behavior or observed=True to adopt the future default and silence this warning.\n",
      "  df_unique = df_new.groupby('name').agg({'lat': 'first', 'lng': 'first'}).reset_index()\n",
      "C:\\Users\\Fenin Jose\\AppData\\Local\\Temp\\ipykernel_17548\\574676199.py:17: FutureWarning: The default of observed=False is deprecated and will be changed to True in a future version of pandas. Pass observed=False to retain current behavior or observed=True to adopt the future default and silence this warning.\n",
      "  df_unique = df_new.groupby('name').agg({'lat': 'first', 'lng': 'first'}).reset_index()\n"
     ]
    },
    {
     "name": "stdout",
     "output_type": "stream",
     "text": [
      "Map saved as D:\\df\\maps\\map_421.html\n",
      "Map saved as D:\\df\\maps\\map_422.html\n",
      "Map saved as D:\\df\\maps\\map_423.html\n",
      "Map saved as D:\\df\\maps\\map_424.html\n"
     ]
    },
    {
     "name": "stderr",
     "output_type": "stream",
     "text": [
      "C:\\Users\\Fenin Jose\\AppData\\Local\\Temp\\ipykernel_17548\\574676199.py:17: FutureWarning: The default of observed=False is deprecated and will be changed to True in a future version of pandas. Pass observed=False to retain current behavior or observed=True to adopt the future default and silence this warning.\n",
      "  df_unique = df_new.groupby('name').agg({'lat': 'first', 'lng': 'first'}).reset_index()\n",
      "C:\\Users\\Fenin Jose\\AppData\\Local\\Temp\\ipykernel_17548\\574676199.py:17: FutureWarning: The default of observed=False is deprecated and will be changed to True in a future version of pandas. Pass observed=False to retain current behavior or observed=True to adopt the future default and silence this warning.\n",
      "  df_unique = df_new.groupby('name').agg({'lat': 'first', 'lng': 'first'}).reset_index()\n",
      "C:\\Users\\Fenin Jose\\AppData\\Local\\Temp\\ipykernel_17548\\574676199.py:17: FutureWarning: The default of observed=False is deprecated and will be changed to True in a future version of pandas. Pass observed=False to retain current behavior or observed=True to adopt the future default and silence this warning.\n",
      "  df_unique = df_new.groupby('name').agg({'lat': 'first', 'lng': 'first'}).reset_index()\n",
      "C:\\Users\\Fenin Jose\\AppData\\Local\\Temp\\ipykernel_17548\\574676199.py:17: FutureWarning: The default of observed=False is deprecated and will be changed to True in a future version of pandas. Pass observed=False to retain current behavior or observed=True to adopt the future default and silence this warning.\n",
      "  df_unique = df_new.groupby('name').agg({'lat': 'first', 'lng': 'first'}).reset_index()\n"
     ]
    },
    {
     "name": "stdout",
     "output_type": "stream",
     "text": [
      "Map saved as D:\\df\\maps\\map_425.html\n",
      "Map saved as D:\\df\\maps\\map_426.html\n",
      "Map saved as D:\\df\\maps\\map_427.html\n",
      "Map saved as D:\\df\\maps\\map_428.html\n"
     ]
    },
    {
     "name": "stderr",
     "output_type": "stream",
     "text": [
      "C:\\Users\\Fenin Jose\\AppData\\Local\\Temp\\ipykernel_17548\\574676199.py:17: FutureWarning: The default of observed=False is deprecated and will be changed to True in a future version of pandas. Pass observed=False to retain current behavior or observed=True to adopt the future default and silence this warning.\n",
      "  df_unique = df_new.groupby('name').agg({'lat': 'first', 'lng': 'first'}).reset_index()\n",
      "C:\\Users\\Fenin Jose\\AppData\\Local\\Temp\\ipykernel_17548\\574676199.py:17: FutureWarning: The default of observed=False is deprecated and will be changed to True in a future version of pandas. Pass observed=False to retain current behavior or observed=True to adopt the future default and silence this warning.\n",
      "  df_unique = df_new.groupby('name').agg({'lat': 'first', 'lng': 'first'}).reset_index()\n",
      "C:\\Users\\Fenin Jose\\AppData\\Local\\Temp\\ipykernel_17548\\574676199.py:17: FutureWarning: The default of observed=False is deprecated and will be changed to True in a future version of pandas. Pass observed=False to retain current behavior or observed=True to adopt the future default and silence this warning.\n",
      "  df_unique = df_new.groupby('name').agg({'lat': 'first', 'lng': 'first'}).reset_index()\n",
      "C:\\Users\\Fenin Jose\\AppData\\Local\\Temp\\ipykernel_17548\\574676199.py:17: FutureWarning: The default of observed=False is deprecated and will be changed to True in a future version of pandas. Pass observed=False to retain current behavior or observed=True to adopt the future default and silence this warning.\n",
      "  df_unique = df_new.groupby('name').agg({'lat': 'first', 'lng': 'first'}).reset_index()\n"
     ]
    },
    {
     "name": "stdout",
     "output_type": "stream",
     "text": [
      "Map saved as D:\\df\\maps\\map_429.html\n",
      "Map saved as D:\\df\\maps\\map_430.html\n",
      "Map saved as D:\\df\\maps\\map_431.html\n"
     ]
    },
    {
     "name": "stderr",
     "output_type": "stream",
     "text": [
      "C:\\Users\\Fenin Jose\\AppData\\Local\\Temp\\ipykernel_17548\\574676199.py:17: FutureWarning: The default of observed=False is deprecated and will be changed to True in a future version of pandas. Pass observed=False to retain current behavior or observed=True to adopt the future default and silence this warning.\n",
      "  df_unique = df_new.groupby('name').agg({'lat': 'first', 'lng': 'first'}).reset_index()\n",
      "C:\\Users\\Fenin Jose\\AppData\\Local\\Temp\\ipykernel_17548\\574676199.py:17: FutureWarning: The default of observed=False is deprecated and will be changed to True in a future version of pandas. Pass observed=False to retain current behavior or observed=True to adopt the future default and silence this warning.\n",
      "  df_unique = df_new.groupby('name').agg({'lat': 'first', 'lng': 'first'}).reset_index()\n",
      "C:\\Users\\Fenin Jose\\AppData\\Local\\Temp\\ipykernel_17548\\574676199.py:17: FutureWarning: The default of observed=False is deprecated and will be changed to True in a future version of pandas. Pass observed=False to retain current behavior or observed=True to adopt the future default and silence this warning.\n",
      "  df_unique = df_new.groupby('name').agg({'lat': 'first', 'lng': 'first'}).reset_index()\n"
     ]
    },
    {
     "name": "stdout",
     "output_type": "stream",
     "text": [
      "Map saved as D:\\df\\maps\\map_432.html\n",
      "Map saved as D:\\df\\maps\\map_433.html\n",
      "Map saved as D:\\df\\maps\\map_434.html\n",
      "Map saved as D:\\df\\maps\\map_435.html\n"
     ]
    },
    {
     "name": "stderr",
     "output_type": "stream",
     "text": [
      "C:\\Users\\Fenin Jose\\AppData\\Local\\Temp\\ipykernel_17548\\574676199.py:17: FutureWarning: The default of observed=False is deprecated and will be changed to True in a future version of pandas. Pass observed=False to retain current behavior or observed=True to adopt the future default and silence this warning.\n",
      "  df_unique = df_new.groupby('name').agg({'lat': 'first', 'lng': 'first'}).reset_index()\n",
      "C:\\Users\\Fenin Jose\\AppData\\Local\\Temp\\ipykernel_17548\\574676199.py:17: FutureWarning: The default of observed=False is deprecated and will be changed to True in a future version of pandas. Pass observed=False to retain current behavior or observed=True to adopt the future default and silence this warning.\n",
      "  df_unique = df_new.groupby('name').agg({'lat': 'first', 'lng': 'first'}).reset_index()\n",
      "C:\\Users\\Fenin Jose\\AppData\\Local\\Temp\\ipykernel_17548\\574676199.py:17: FutureWarning: The default of observed=False is deprecated and will be changed to True in a future version of pandas. Pass observed=False to retain current behavior or observed=True to adopt the future default and silence this warning.\n",
      "  df_unique = df_new.groupby('name').agg({'lat': 'first', 'lng': 'first'}).reset_index()\n",
      "C:\\Users\\Fenin Jose\\AppData\\Local\\Temp\\ipykernel_17548\\574676199.py:17: FutureWarning: The default of observed=False is deprecated and will be changed to True in a future version of pandas. Pass observed=False to retain current behavior or observed=True to adopt the future default and silence this warning.\n",
      "  df_unique = df_new.groupby('name').agg({'lat': 'first', 'lng': 'first'}).reset_index()\n"
     ]
    },
    {
     "name": "stdout",
     "output_type": "stream",
     "text": [
      "Map saved as D:\\df\\maps\\map_436.html\n",
      "Map saved as D:\\df\\maps\\map_437.html\n",
      "Map saved as D:\\df\\maps\\map_438.html\n",
      "Map saved as D:\\df\\maps\\map_439.html\n"
     ]
    },
    {
     "name": "stderr",
     "output_type": "stream",
     "text": [
      "C:\\Users\\Fenin Jose\\AppData\\Local\\Temp\\ipykernel_17548\\574676199.py:17: FutureWarning: The default of observed=False is deprecated and will be changed to True in a future version of pandas. Pass observed=False to retain current behavior or observed=True to adopt the future default and silence this warning.\n",
      "  df_unique = df_new.groupby('name').agg({'lat': 'first', 'lng': 'first'}).reset_index()\n",
      "C:\\Users\\Fenin Jose\\AppData\\Local\\Temp\\ipykernel_17548\\574676199.py:17: FutureWarning: The default of observed=False is deprecated and will be changed to True in a future version of pandas. Pass observed=False to retain current behavior or observed=True to adopt the future default and silence this warning.\n",
      "  df_unique = df_new.groupby('name').agg({'lat': 'first', 'lng': 'first'}).reset_index()\n",
      "C:\\Users\\Fenin Jose\\AppData\\Local\\Temp\\ipykernel_17548\\574676199.py:17: FutureWarning: The default of observed=False is deprecated and will be changed to True in a future version of pandas. Pass observed=False to retain current behavior or observed=True to adopt the future default and silence this warning.\n",
      "  df_unique = df_new.groupby('name').agg({'lat': 'first', 'lng': 'first'}).reset_index()\n",
      "C:\\Users\\Fenin Jose\\AppData\\Local\\Temp\\ipykernel_17548\\574676199.py:17: FutureWarning: The default of observed=False is deprecated and will be changed to True in a future version of pandas. Pass observed=False to retain current behavior or observed=True to adopt the future default and silence this warning.\n",
      "  df_unique = df_new.groupby('name').agg({'lat': 'first', 'lng': 'first'}).reset_index()\n"
     ]
    },
    {
     "name": "stdout",
     "output_type": "stream",
     "text": [
      "Map saved as D:\\df\\maps\\map_440.html\n",
      "Map saved as D:\\df\\maps\\map_441.html\n",
      "Map saved as D:\\df\\maps\\map_442.html\n"
     ]
    },
    {
     "name": "stderr",
     "output_type": "stream",
     "text": [
      "C:\\Users\\Fenin Jose\\AppData\\Local\\Temp\\ipykernel_17548\\574676199.py:17: FutureWarning: The default of observed=False is deprecated and will be changed to True in a future version of pandas. Pass observed=False to retain current behavior or observed=True to adopt the future default and silence this warning.\n",
      "  df_unique = df_new.groupby('name').agg({'lat': 'first', 'lng': 'first'}).reset_index()\n",
      "C:\\Users\\Fenin Jose\\AppData\\Local\\Temp\\ipykernel_17548\\574676199.py:17: FutureWarning: The default of observed=False is deprecated and will be changed to True in a future version of pandas. Pass observed=False to retain current behavior or observed=True to adopt the future default and silence this warning.\n",
      "  df_unique = df_new.groupby('name').agg({'lat': 'first', 'lng': 'first'}).reset_index()\n",
      "C:\\Users\\Fenin Jose\\AppData\\Local\\Temp\\ipykernel_17548\\574676199.py:17: FutureWarning: The default of observed=False is deprecated and will be changed to True in a future version of pandas. Pass observed=False to retain current behavior or observed=True to adopt the future default and silence this warning.\n",
      "  df_unique = df_new.groupby('name').agg({'lat': 'first', 'lng': 'first'}).reset_index()\n"
     ]
    },
    {
     "name": "stdout",
     "output_type": "stream",
     "text": [
      "Map saved as D:\\df\\maps\\map_443.html\n",
      "Map saved as D:\\df\\maps\\map_444.html\n"
     ]
    },
    {
     "name": "stderr",
     "output_type": "stream",
     "text": [
      "C:\\Users\\Fenin Jose\\AppData\\Local\\Temp\\ipykernel_17548\\574676199.py:17: FutureWarning: The default of observed=False is deprecated and will be changed to True in a future version of pandas. Pass observed=False to retain current behavior or observed=True to adopt the future default and silence this warning.\n",
      "  df_unique = df_new.groupby('name').agg({'lat': 'first', 'lng': 'first'}).reset_index()\n",
      "C:\\Users\\Fenin Jose\\AppData\\Local\\Temp\\ipykernel_17548\\574676199.py:17: FutureWarning: The default of observed=False is deprecated and will be changed to True in a future version of pandas. Pass observed=False to retain current behavior or observed=True to adopt the future default and silence this warning.\n",
      "  df_unique = df_new.groupby('name').agg({'lat': 'first', 'lng': 'first'}).reset_index()\n",
      "C:\\Users\\Fenin Jose\\AppData\\Local\\Temp\\ipykernel_17548\\574676199.py:17: FutureWarning: The default of observed=False is deprecated and will be changed to True in a future version of pandas. Pass observed=False to retain current behavior or observed=True to adopt the future default and silence this warning.\n",
      "  df_unique = df_new.groupby('name').agg({'lat': 'first', 'lng': 'first'}).reset_index()\n",
      "C:\\Users\\Fenin Jose\\AppData\\Local\\Temp\\ipykernel_17548\\574676199.py:17: FutureWarning: The default of observed=False is deprecated and will be changed to True in a future version of pandas. Pass observed=False to retain current behavior or observed=True to adopt the future default and silence this warning.\n",
      "  df_unique = df_new.groupby('name').agg({'lat': 'first', 'lng': 'first'}).reset_index()\n"
     ]
    },
    {
     "name": "stdout",
     "output_type": "stream",
     "text": [
      "Map saved as D:\\df\\maps\\map_445.html\n",
      "Map saved as D:\\df\\maps\\map_446.html\n",
      "Map saved as D:\\df\\maps\\map_447.html\n"
     ]
    },
    {
     "name": "stderr",
     "output_type": "stream",
     "text": [
      "C:\\Users\\Fenin Jose\\AppData\\Local\\Temp\\ipykernel_17548\\574676199.py:17: FutureWarning: The default of observed=False is deprecated and will be changed to True in a future version of pandas. Pass observed=False to retain current behavior or observed=True to adopt the future default and silence this warning.\n",
      "  df_unique = df_new.groupby('name').agg({'lat': 'first', 'lng': 'first'}).reset_index()\n",
      "C:\\Users\\Fenin Jose\\AppData\\Local\\Temp\\ipykernel_17548\\574676199.py:17: FutureWarning: The default of observed=False is deprecated and will be changed to True in a future version of pandas. Pass observed=False to retain current behavior or observed=True to adopt the future default and silence this warning.\n",
      "  df_unique = df_new.groupby('name').agg({'lat': 'first', 'lng': 'first'}).reset_index()\n",
      "C:\\Users\\Fenin Jose\\AppData\\Local\\Temp\\ipykernel_17548\\574676199.py:17: FutureWarning: The default of observed=False is deprecated and will be changed to True in a future version of pandas. Pass observed=False to retain current behavior or observed=True to adopt the future default and silence this warning.\n",
      "  df_unique = df_new.groupby('name').agg({'lat': 'first', 'lng': 'first'}).reset_index()\n",
      "C:\\Users\\Fenin Jose\\AppData\\Local\\Temp\\ipykernel_17548\\574676199.py:17: FutureWarning: The default of observed=False is deprecated and will be changed to True in a future version of pandas. Pass observed=False to retain current behavior or observed=True to adopt the future default and silence this warning.\n",
      "  df_unique = df_new.groupby('name').agg({'lat': 'first', 'lng': 'first'}).reset_index()\n"
     ]
    },
    {
     "name": "stdout",
     "output_type": "stream",
     "text": [
      "Map saved as D:\\df\\maps\\map_448.html\n",
      "Map saved as D:\\df\\maps\\map_449.html\n",
      "Map saved as D:\\df\\maps\\map_450.html\n",
      "Map saved as D:\\df\\maps\\map_451.html\n"
     ]
    },
    {
     "name": "stderr",
     "output_type": "stream",
     "text": [
      "C:\\Users\\Fenin Jose\\AppData\\Local\\Temp\\ipykernel_17548\\574676199.py:17: FutureWarning: The default of observed=False is deprecated and will be changed to True in a future version of pandas. Pass observed=False to retain current behavior or observed=True to adopt the future default and silence this warning.\n",
      "  df_unique = df_new.groupby('name').agg({'lat': 'first', 'lng': 'first'}).reset_index()\n",
      "C:\\Users\\Fenin Jose\\AppData\\Local\\Temp\\ipykernel_17548\\574676199.py:17: FutureWarning: The default of observed=False is deprecated and will be changed to True in a future version of pandas. Pass observed=False to retain current behavior or observed=True to adopt the future default and silence this warning.\n",
      "  df_unique = df_new.groupby('name').agg({'lat': 'first', 'lng': 'first'}).reset_index()\n",
      "C:\\Users\\Fenin Jose\\AppData\\Local\\Temp\\ipykernel_17548\\574676199.py:17: FutureWarning: The default of observed=False is deprecated and will be changed to True in a future version of pandas. Pass observed=False to retain current behavior or observed=True to adopt the future default and silence this warning.\n",
      "  df_unique = df_new.groupby('name').agg({'lat': 'first', 'lng': 'first'}).reset_index()\n",
      "C:\\Users\\Fenin Jose\\AppData\\Local\\Temp\\ipykernel_17548\\574676199.py:17: FutureWarning: The default of observed=False is deprecated and will be changed to True in a future version of pandas. Pass observed=False to retain current behavior or observed=True to adopt the future default and silence this warning.\n",
      "  df_unique = df_new.groupby('name').agg({'lat': 'first', 'lng': 'first'}).reset_index()\n"
     ]
    },
    {
     "name": "stdout",
     "output_type": "stream",
     "text": [
      "Map saved as D:\\df\\maps\\map_452.html\n",
      "Map saved as D:\\df\\maps\\map_453.html\n",
      "Map saved as D:\\df\\maps\\map_454.html\n",
      "Map saved as D:\\df\\maps\\map_455.html\n",
      "Map saved as D:\\df\\maps\\map_456.html\n",
      "Map saved as D:\\df\\maps\\map_457.html\n",
      "Map saved as D:\\df\\maps\\map_458.html\n"
     ]
    },
    {
     "name": "stderr",
     "output_type": "stream",
     "text": [
      "C:\\Users\\Fenin Jose\\AppData\\Local\\Temp\\ipykernel_17548\\574676199.py:17: FutureWarning: The default of observed=False is deprecated and will be changed to True in a future version of pandas. Pass observed=False to retain current behavior or observed=True to adopt the future default and silence this warning.\n",
      "  df_unique = df_new.groupby('name').agg({'lat': 'first', 'lng': 'first'}).reset_index()\n",
      "C:\\Users\\Fenin Jose\\AppData\\Local\\Temp\\ipykernel_17548\\574676199.py:17: FutureWarning: The default of observed=False is deprecated and will be changed to True in a future version of pandas. Pass observed=False to retain current behavior or observed=True to adopt the future default and silence this warning.\n",
      "  df_unique = df_new.groupby('name').agg({'lat': 'first', 'lng': 'first'}).reset_index()\n",
      "C:\\Users\\Fenin Jose\\AppData\\Local\\Temp\\ipykernel_17548\\574676199.py:17: FutureWarning: The default of observed=False is deprecated and will be changed to True in a future version of pandas. Pass observed=False to retain current behavior or observed=True to adopt the future default and silence this warning.\n",
      "  df_unique = df_new.groupby('name').agg({'lat': 'first', 'lng': 'first'}).reset_index()\n",
      "C:\\Users\\Fenin Jose\\AppData\\Local\\Temp\\ipykernel_17548\\574676199.py:17: FutureWarning: The default of observed=False is deprecated and will be changed to True in a future version of pandas. Pass observed=False to retain current behavior or observed=True to adopt the future default and silence this warning.\n",
      "  df_unique = df_new.groupby('name').agg({'lat': 'first', 'lng': 'first'}).reset_index()\n"
     ]
    },
    {
     "name": "stdout",
     "output_type": "stream",
     "text": [
      "Map saved as D:\\df\\maps\\map_459.html\n",
      "Map saved as D:\\df\\maps\\map_460.html\n",
      "Map saved as D:\\df\\maps\\map_461.html\n",
      "Map saved as D:\\df\\maps\\map_462.html\n"
     ]
    },
    {
     "name": "stderr",
     "output_type": "stream",
     "text": [
      "C:\\Users\\Fenin Jose\\AppData\\Local\\Temp\\ipykernel_17548\\574676199.py:17: FutureWarning: The default of observed=False is deprecated and will be changed to True in a future version of pandas. Pass observed=False to retain current behavior or observed=True to adopt the future default and silence this warning.\n",
      "  df_unique = df_new.groupby('name').agg({'lat': 'first', 'lng': 'first'}).reset_index()\n",
      "C:\\Users\\Fenin Jose\\AppData\\Local\\Temp\\ipykernel_17548\\574676199.py:17: FutureWarning: The default of observed=False is deprecated and will be changed to True in a future version of pandas. Pass observed=False to retain current behavior or observed=True to adopt the future default and silence this warning.\n",
      "  df_unique = df_new.groupby('name').agg({'lat': 'first', 'lng': 'first'}).reset_index()\n",
      "C:\\Users\\Fenin Jose\\AppData\\Local\\Temp\\ipykernel_17548\\574676199.py:17: FutureWarning: The default of observed=False is deprecated and will be changed to True in a future version of pandas. Pass observed=False to retain current behavior or observed=True to adopt the future default and silence this warning.\n",
      "  df_unique = df_new.groupby('name').agg({'lat': 'first', 'lng': 'first'}).reset_index()\n",
      "C:\\Users\\Fenin Jose\\AppData\\Local\\Temp\\ipykernel_17548\\574676199.py:17: FutureWarning: The default of observed=False is deprecated and will be changed to True in a future version of pandas. Pass observed=False to retain current behavior or observed=True to adopt the future default and silence this warning.\n",
      "  df_unique = df_new.groupby('name').agg({'lat': 'first', 'lng': 'first'}).reset_index()\n"
     ]
    },
    {
     "name": "stdout",
     "output_type": "stream",
     "text": [
      "Map saved as D:\\df\\maps\\map_463.html\n",
      "Map saved as D:\\df\\maps\\map_464.html\n",
      "Map saved as D:\\df\\maps\\map_465.html\n",
      "Map saved as D:\\df\\maps\\map_466.html\n"
     ]
    },
    {
     "name": "stderr",
     "output_type": "stream",
     "text": [
      "C:\\Users\\Fenin Jose\\AppData\\Local\\Temp\\ipykernel_17548\\574676199.py:17: FutureWarning: The default of observed=False is deprecated and will be changed to True in a future version of pandas. Pass observed=False to retain current behavior or observed=True to adopt the future default and silence this warning.\n",
      "  df_unique = df_new.groupby('name').agg({'lat': 'first', 'lng': 'first'}).reset_index()\n",
      "C:\\Users\\Fenin Jose\\AppData\\Local\\Temp\\ipykernel_17548\\574676199.py:17: FutureWarning: The default of observed=False is deprecated and will be changed to True in a future version of pandas. Pass observed=False to retain current behavior or observed=True to adopt the future default and silence this warning.\n",
      "  df_unique = df_new.groupby('name').agg({'lat': 'first', 'lng': 'first'}).reset_index()\n",
      "C:\\Users\\Fenin Jose\\AppData\\Local\\Temp\\ipykernel_17548\\574676199.py:17: FutureWarning: The default of observed=False is deprecated and will be changed to True in a future version of pandas. Pass observed=False to retain current behavior or observed=True to adopt the future default and silence this warning.\n",
      "  df_unique = df_new.groupby('name').agg({'lat': 'first', 'lng': 'first'}).reset_index()\n",
      "C:\\Users\\Fenin Jose\\AppData\\Local\\Temp\\ipykernel_17548\\574676199.py:17: FutureWarning: The default of observed=False is deprecated and will be changed to True in a future version of pandas. Pass observed=False to retain current behavior or observed=True to adopt the future default and silence this warning.\n",
      "  df_unique = df_new.groupby('name').agg({'lat': 'first', 'lng': 'first'}).reset_index()\n"
     ]
    },
    {
     "name": "stdout",
     "output_type": "stream",
     "text": [
      "Map saved as D:\\df\\maps\\map_467.html\n",
      "Map saved as D:\\df\\maps\\map_468.html\n",
      "Map saved as D:\\df\\maps\\map_469.html\n",
      "Map saved as D:\\df\\maps\\map_470.html\n"
     ]
    },
    {
     "name": "stderr",
     "output_type": "stream",
     "text": [
      "C:\\Users\\Fenin Jose\\AppData\\Local\\Temp\\ipykernel_17548\\574676199.py:17: FutureWarning: The default of observed=False is deprecated and will be changed to True in a future version of pandas. Pass observed=False to retain current behavior or observed=True to adopt the future default and silence this warning.\n",
      "  df_unique = df_new.groupby('name').agg({'lat': 'first', 'lng': 'first'}).reset_index()\n",
      "C:\\Users\\Fenin Jose\\AppData\\Local\\Temp\\ipykernel_17548\\574676199.py:17: FutureWarning: The default of observed=False is deprecated and will be changed to True in a future version of pandas. Pass observed=False to retain current behavior or observed=True to adopt the future default and silence this warning.\n",
      "  df_unique = df_new.groupby('name').agg({'lat': 'first', 'lng': 'first'}).reset_index()\n",
      "C:\\Users\\Fenin Jose\\AppData\\Local\\Temp\\ipykernel_17548\\574676199.py:17: FutureWarning: The default of observed=False is deprecated and will be changed to True in a future version of pandas. Pass observed=False to retain current behavior or observed=True to adopt the future default and silence this warning.\n",
      "  df_unique = df_new.groupby('name').agg({'lat': 'first', 'lng': 'first'}).reset_index()\n",
      "C:\\Users\\Fenin Jose\\AppData\\Local\\Temp\\ipykernel_17548\\574676199.py:17: FutureWarning: The default of observed=False is deprecated and will be changed to True in a future version of pandas. Pass observed=False to retain current behavior or observed=True to adopt the future default and silence this warning.\n",
      "  df_unique = df_new.groupby('name').agg({'lat': 'first', 'lng': 'first'}).reset_index()\n"
     ]
    },
    {
     "name": "stdout",
     "output_type": "stream",
     "text": [
      "Map saved as D:\\df\\maps\\map_471.html\n",
      "Map saved as D:\\df\\maps\\map_472.html\n",
      "Map saved as D:\\df\\maps\\map_473.html\n"
     ]
    },
    {
     "name": "stderr",
     "output_type": "stream",
     "text": [
      "C:\\Users\\Fenin Jose\\AppData\\Local\\Temp\\ipykernel_17548\\574676199.py:17: FutureWarning: The default of observed=False is deprecated and will be changed to True in a future version of pandas. Pass observed=False to retain current behavior or observed=True to adopt the future default and silence this warning.\n",
      "  df_unique = df_new.groupby('name').agg({'lat': 'first', 'lng': 'first'}).reset_index()\n",
      "C:\\Users\\Fenin Jose\\AppData\\Local\\Temp\\ipykernel_17548\\574676199.py:17: FutureWarning: The default of observed=False is deprecated and will be changed to True in a future version of pandas. Pass observed=False to retain current behavior or observed=True to adopt the future default and silence this warning.\n",
      "  df_unique = df_new.groupby('name').agg({'lat': 'first', 'lng': 'first'}).reset_index()\n",
      "C:\\Users\\Fenin Jose\\AppData\\Local\\Temp\\ipykernel_17548\\574676199.py:17: FutureWarning: The default of observed=False is deprecated and will be changed to True in a future version of pandas. Pass observed=False to retain current behavior or observed=True to adopt the future default and silence this warning.\n",
      "  df_unique = df_new.groupby('name').agg({'lat': 'first', 'lng': 'first'}).reset_index()\n"
     ]
    },
    {
     "name": "stdout",
     "output_type": "stream",
     "text": [
      "Map saved as D:\\df\\maps\\map_474.html\n",
      "Map saved as D:\\df\\maps\\map_475.html\n",
      "Map saved as D:\\df\\maps\\map_476.html\n"
     ]
    },
    {
     "name": "stderr",
     "output_type": "stream",
     "text": [
      "C:\\Users\\Fenin Jose\\AppData\\Local\\Temp\\ipykernel_17548\\574676199.py:17: FutureWarning: The default of observed=False is deprecated and will be changed to True in a future version of pandas. Pass observed=False to retain current behavior or observed=True to adopt the future default and silence this warning.\n",
      "  df_unique = df_new.groupby('name').agg({'lat': 'first', 'lng': 'first'}).reset_index()\n",
      "C:\\Users\\Fenin Jose\\AppData\\Local\\Temp\\ipykernel_17548\\574676199.py:17: FutureWarning: The default of observed=False is deprecated and will be changed to True in a future version of pandas. Pass observed=False to retain current behavior or observed=True to adopt the future default and silence this warning.\n",
      "  df_unique = df_new.groupby('name').agg({'lat': 'first', 'lng': 'first'}).reset_index()\n",
      "C:\\Users\\Fenin Jose\\AppData\\Local\\Temp\\ipykernel_17548\\574676199.py:17: FutureWarning: The default of observed=False is deprecated and will be changed to True in a future version of pandas. Pass observed=False to retain current behavior or observed=True to adopt the future default and silence this warning.\n",
      "  df_unique = df_new.groupby('name').agg({'lat': 'first', 'lng': 'first'}).reset_index()\n"
     ]
    },
    {
     "name": "stdout",
     "output_type": "stream",
     "text": [
      "Map saved as D:\\df\\maps\\map_477.html\n",
      "Map saved as D:\\df\\maps\\map_478.html\n",
      "Map saved as D:\\df\\maps\\map_479.html\n"
     ]
    },
    {
     "name": "stderr",
     "output_type": "stream",
     "text": [
      "C:\\Users\\Fenin Jose\\AppData\\Local\\Temp\\ipykernel_17548\\574676199.py:17: FutureWarning: The default of observed=False is deprecated and will be changed to True in a future version of pandas. Pass observed=False to retain current behavior or observed=True to adopt the future default and silence this warning.\n",
      "  df_unique = df_new.groupby('name').agg({'lat': 'first', 'lng': 'first'}).reset_index()\n",
      "C:\\Users\\Fenin Jose\\AppData\\Local\\Temp\\ipykernel_17548\\574676199.py:17: FutureWarning: The default of observed=False is deprecated and will be changed to True in a future version of pandas. Pass observed=False to retain current behavior or observed=True to adopt the future default and silence this warning.\n",
      "  df_unique = df_new.groupby('name').agg({'lat': 'first', 'lng': 'first'}).reset_index()\n",
      "C:\\Users\\Fenin Jose\\AppData\\Local\\Temp\\ipykernel_17548\\574676199.py:17: FutureWarning: The default of observed=False is deprecated and will be changed to True in a future version of pandas. Pass observed=False to retain current behavior or observed=True to adopt the future default and silence this warning.\n",
      "  df_unique = df_new.groupby('name').agg({'lat': 'first', 'lng': 'first'}).reset_index()\n"
     ]
    },
    {
     "name": "stdout",
     "output_type": "stream",
     "text": [
      "Map saved as D:\\df\\maps\\map_480.html\n",
      "Map saved as D:\\df\\maps\\map_481.html\n"
     ]
    },
    {
     "name": "stderr",
     "output_type": "stream",
     "text": [
      "C:\\Users\\Fenin Jose\\AppData\\Local\\Temp\\ipykernel_17548\\574676199.py:17: FutureWarning: The default of observed=False is deprecated and will be changed to True in a future version of pandas. Pass observed=False to retain current behavior or observed=True to adopt the future default and silence this warning.\n",
      "  df_unique = df_new.groupby('name').agg({'lat': 'first', 'lng': 'first'}).reset_index()\n",
      "C:\\Users\\Fenin Jose\\AppData\\Local\\Temp\\ipykernel_17548\\574676199.py:17: FutureWarning: The default of observed=False is deprecated and will be changed to True in a future version of pandas. Pass observed=False to retain current behavior or observed=True to adopt the future default and silence this warning.\n",
      "  df_unique = df_new.groupby('name').agg({'lat': 'first', 'lng': 'first'}).reset_index()\n"
     ]
    },
    {
     "name": "stdout",
     "output_type": "stream",
     "text": [
      "Map saved as D:\\df\\maps\\map_482.html\n",
      "Map saved as D:\\df\\maps\\map_483.html\n",
      "Map saved as D:\\df\\maps\\map_484.html\n"
     ]
    },
    {
     "name": "stderr",
     "output_type": "stream",
     "text": [
      "C:\\Users\\Fenin Jose\\AppData\\Local\\Temp\\ipykernel_17548\\574676199.py:17: FutureWarning: The default of observed=False is deprecated and will be changed to True in a future version of pandas. Pass observed=False to retain current behavior or observed=True to adopt the future default and silence this warning.\n",
      "  df_unique = df_new.groupby('name').agg({'lat': 'first', 'lng': 'first'}).reset_index()\n",
      "C:\\Users\\Fenin Jose\\AppData\\Local\\Temp\\ipykernel_17548\\574676199.py:17: FutureWarning: The default of observed=False is deprecated and will be changed to True in a future version of pandas. Pass observed=False to retain current behavior or observed=True to adopt the future default and silence this warning.\n",
      "  df_unique = df_new.groupby('name').agg({'lat': 'first', 'lng': 'first'}).reset_index()\n",
      "C:\\Users\\Fenin Jose\\AppData\\Local\\Temp\\ipykernel_17548\\574676199.py:17: FutureWarning: The default of observed=False is deprecated and will be changed to True in a future version of pandas. Pass observed=False to retain current behavior or observed=True to adopt the future default and silence this warning.\n",
      "  df_unique = df_new.groupby('name').agg({'lat': 'first', 'lng': 'first'}).reset_index()\n"
     ]
    },
    {
     "name": "stdout",
     "output_type": "stream",
     "text": [
      "Map saved as D:\\df\\maps\\map_485.html\n",
      "Map saved as D:\\df\\maps\\map_486.html\n",
      "Map saved as D:\\df\\maps\\map_487.html\n"
     ]
    },
    {
     "name": "stderr",
     "output_type": "stream",
     "text": [
      "C:\\Users\\Fenin Jose\\AppData\\Local\\Temp\\ipykernel_17548\\574676199.py:17: FutureWarning: The default of observed=False is deprecated and will be changed to True in a future version of pandas. Pass observed=False to retain current behavior or observed=True to adopt the future default and silence this warning.\n",
      "  df_unique = df_new.groupby('name').agg({'lat': 'first', 'lng': 'first'}).reset_index()\n",
      "C:\\Users\\Fenin Jose\\AppData\\Local\\Temp\\ipykernel_17548\\574676199.py:17: FutureWarning: The default of observed=False is deprecated and will be changed to True in a future version of pandas. Pass observed=False to retain current behavior or observed=True to adopt the future default and silence this warning.\n",
      "  df_unique = df_new.groupby('name').agg({'lat': 'first', 'lng': 'first'}).reset_index()\n",
      "C:\\Users\\Fenin Jose\\AppData\\Local\\Temp\\ipykernel_17548\\574676199.py:17: FutureWarning: The default of observed=False is deprecated and will be changed to True in a future version of pandas. Pass observed=False to retain current behavior or observed=True to adopt the future default and silence this warning.\n",
      "  df_unique = df_new.groupby('name').agg({'lat': 'first', 'lng': 'first'}).reset_index()\n"
     ]
    },
    {
     "name": "stdout",
     "output_type": "stream",
     "text": [
      "Map saved as D:\\df\\maps\\map_488.html\n",
      "Map saved as D:\\df\\maps\\map_489.html\n",
      "Map saved as D:\\df\\maps\\map_490.html\n"
     ]
    },
    {
     "name": "stderr",
     "output_type": "stream",
     "text": [
      "C:\\Users\\Fenin Jose\\AppData\\Local\\Temp\\ipykernel_17548\\574676199.py:17: FutureWarning: The default of observed=False is deprecated and will be changed to True in a future version of pandas. Pass observed=False to retain current behavior or observed=True to adopt the future default and silence this warning.\n",
      "  df_unique = df_new.groupby('name').agg({'lat': 'first', 'lng': 'first'}).reset_index()\n",
      "C:\\Users\\Fenin Jose\\AppData\\Local\\Temp\\ipykernel_17548\\574676199.py:17: FutureWarning: The default of observed=False is deprecated and will be changed to True in a future version of pandas. Pass observed=False to retain current behavior or observed=True to adopt the future default and silence this warning.\n",
      "  df_unique = df_new.groupby('name').agg({'lat': 'first', 'lng': 'first'}).reset_index()\n",
      "C:\\Users\\Fenin Jose\\AppData\\Local\\Temp\\ipykernel_17548\\574676199.py:17: FutureWarning: The default of observed=False is deprecated and will be changed to True in a future version of pandas. Pass observed=False to retain current behavior or observed=True to adopt the future default and silence this warning.\n",
      "  df_unique = df_new.groupby('name').agg({'lat': 'first', 'lng': 'first'}).reset_index()\n"
     ]
    },
    {
     "name": "stdout",
     "output_type": "stream",
     "text": [
      "Map saved as D:\\df\\maps\\map_491.html\n",
      "Map saved as D:\\df\\maps\\map_492.html\n"
     ]
    },
    {
     "name": "stderr",
     "output_type": "stream",
     "text": [
      "C:\\Users\\Fenin Jose\\AppData\\Local\\Temp\\ipykernel_17548\\574676199.py:17: FutureWarning: The default of observed=False is deprecated and will be changed to True in a future version of pandas. Pass observed=False to retain current behavior or observed=True to adopt the future default and silence this warning.\n",
      "  df_unique = df_new.groupby('name').agg({'lat': 'first', 'lng': 'first'}).reset_index()\n",
      "C:\\Users\\Fenin Jose\\AppData\\Local\\Temp\\ipykernel_17548\\574676199.py:17: FutureWarning: The default of observed=False is deprecated and will be changed to True in a future version of pandas. Pass observed=False to retain current behavior or observed=True to adopt the future default and silence this warning.\n",
      "  df_unique = df_new.groupby('name').agg({'lat': 'first', 'lng': 'first'}).reset_index()\n"
     ]
    },
    {
     "name": "stdout",
     "output_type": "stream",
     "text": [
      "Map saved as D:\\df\\maps\\map_493.html\n"
     ]
    },
    {
     "name": "stderr",
     "output_type": "stream",
     "text": [
      "C:\\Users\\Fenin Jose\\AppData\\Local\\Temp\\ipykernel_17548\\574676199.py:17: FutureWarning: The default of observed=False is deprecated and will be changed to True in a future version of pandas. Pass observed=False to retain current behavior or observed=True to adopt the future default and silence this warning.\n",
      "  df_unique = df_new.groupby('name').agg({'lat': 'first', 'lng': 'first'}).reset_index()\n"
     ]
    },
    {
     "name": "stdout",
     "output_type": "stream",
     "text": [
      "Map saved as D:\\df\\maps\\map_494.html\n",
      "Map saved as D:\\df\\maps\\map_495.html\n"
     ]
    },
    {
     "name": "stderr",
     "output_type": "stream",
     "text": [
      "C:\\Users\\Fenin Jose\\AppData\\Local\\Temp\\ipykernel_17548\\574676199.py:17: FutureWarning: The default of observed=False is deprecated and will be changed to True in a future version of pandas. Pass observed=False to retain current behavior or observed=True to adopt the future default and silence this warning.\n",
      "  df_unique = df_new.groupby('name').agg({'lat': 'first', 'lng': 'first'}).reset_index()\n",
      "C:\\Users\\Fenin Jose\\AppData\\Local\\Temp\\ipykernel_17548\\574676199.py:17: FutureWarning: The default of observed=False is deprecated and will be changed to True in a future version of pandas. Pass observed=False to retain current behavior or observed=True to adopt the future default and silence this warning.\n",
      "  df_unique = df_new.groupby('name').agg({'lat': 'first', 'lng': 'first'}).reset_index()\n"
     ]
    },
    {
     "name": "stdout",
     "output_type": "stream",
     "text": [
      "Map saved as D:\\df\\maps\\map_496.html\n",
      "Map saved as D:\\df\\maps\\map_497.html\n"
     ]
    },
    {
     "name": "stderr",
     "output_type": "stream",
     "text": [
      "C:\\Users\\Fenin Jose\\AppData\\Local\\Temp\\ipykernel_17548\\574676199.py:17: FutureWarning: The default of observed=False is deprecated and will be changed to True in a future version of pandas. Pass observed=False to retain current behavior or observed=True to adopt the future default and silence this warning.\n",
      "  df_unique = df_new.groupby('name').agg({'lat': 'first', 'lng': 'first'}).reset_index()\n",
      "C:\\Users\\Fenin Jose\\AppData\\Local\\Temp\\ipykernel_17548\\574676199.py:17: FutureWarning: The default of observed=False is deprecated and will be changed to True in a future version of pandas. Pass observed=False to retain current behavior or observed=True to adopt the future default and silence this warning.\n",
      "  df_unique = df_new.groupby('name').agg({'lat': 'first', 'lng': 'first'}).reset_index()\n"
     ]
    },
    {
     "name": "stdout",
     "output_type": "stream",
     "text": [
      "Map saved as D:\\df\\maps\\map_498.html\n",
      "Map saved as D:\\df\\maps\\map_499.html\n"
     ]
    },
    {
     "name": "stderr",
     "output_type": "stream",
     "text": [
      "C:\\Users\\Fenin Jose\\AppData\\Local\\Temp\\ipykernel_17548\\574676199.py:17: FutureWarning: The default of observed=False is deprecated and will be changed to True in a future version of pandas. Pass observed=False to retain current behavior or observed=True to adopt the future default and silence this warning.\n",
      "  df_unique = df_new.groupby('name').agg({'lat': 'first', 'lng': 'first'}).reset_index()\n",
      "C:\\Users\\Fenin Jose\\AppData\\Local\\Temp\\ipykernel_17548\\574676199.py:17: FutureWarning: The default of observed=False is deprecated and will be changed to True in a future version of pandas. Pass observed=False to retain current behavior or observed=True to adopt the future default and silence this warning.\n",
      "  df_unique = df_new.groupby('name').agg({'lat': 'first', 'lng': 'first'}).reset_index()\n"
     ]
    },
    {
     "name": "stdout",
     "output_type": "stream",
     "text": [
      "Map saved as D:\\df\\maps\\map_500.html\n",
      "Map saved as D:\\df\\maps\\map_501.html\n"
     ]
    },
    {
     "name": "stderr",
     "output_type": "stream",
     "text": [
      "C:\\Users\\Fenin Jose\\AppData\\Local\\Temp\\ipykernel_17548\\574676199.py:17: FutureWarning: The default of observed=False is deprecated and will be changed to True in a future version of pandas. Pass observed=False to retain current behavior or observed=True to adopt the future default and silence this warning.\n",
      "  df_unique = df_new.groupby('name').agg({'lat': 'first', 'lng': 'first'}).reset_index()\n",
      "C:\\Users\\Fenin Jose\\AppData\\Local\\Temp\\ipykernel_17548\\574676199.py:17: FutureWarning: The default of observed=False is deprecated and will be changed to True in a future version of pandas. Pass observed=False to retain current behavior or observed=True to adopt the future default and silence this warning.\n",
      "  df_unique = df_new.groupby('name').agg({'lat': 'first', 'lng': 'first'}).reset_index()\n"
     ]
    },
    {
     "name": "stdout",
     "output_type": "stream",
     "text": [
      "Map saved as D:\\df\\maps\\map_502.html\n",
      "Map saved as D:\\df\\maps\\map_503.html\n",
      "Map saved as D:\\df\\maps\\map_504.html\n"
     ]
    },
    {
     "name": "stderr",
     "output_type": "stream",
     "text": [
      "C:\\Users\\Fenin Jose\\AppData\\Local\\Temp\\ipykernel_17548\\574676199.py:17: FutureWarning: The default of observed=False is deprecated and will be changed to True in a future version of pandas. Pass observed=False to retain current behavior or observed=True to adopt the future default and silence this warning.\n",
      "  df_unique = df_new.groupby('name').agg({'lat': 'first', 'lng': 'first'}).reset_index()\n",
      "C:\\Users\\Fenin Jose\\AppData\\Local\\Temp\\ipykernel_17548\\574676199.py:17: FutureWarning: The default of observed=False is deprecated and will be changed to True in a future version of pandas. Pass observed=False to retain current behavior or observed=True to adopt the future default and silence this warning.\n",
      "  df_unique = df_new.groupby('name').agg({'lat': 'first', 'lng': 'first'}).reset_index()\n",
      "C:\\Users\\Fenin Jose\\AppData\\Local\\Temp\\ipykernel_17548\\574676199.py:17: FutureWarning: The default of observed=False is deprecated and will be changed to True in a future version of pandas. Pass observed=False to retain current behavior or observed=True to adopt the future default and silence this warning.\n",
      "  df_unique = df_new.groupby('name').agg({'lat': 'first', 'lng': 'first'}).reset_index()\n"
     ]
    },
    {
     "name": "stdout",
     "output_type": "stream",
     "text": [
      "Map saved as D:\\df\\maps\\map_505.html\n",
      "Map saved as D:\\df\\maps\\map_506.html\n",
      "Map saved as D:\\df\\maps\\map_507.html\n"
     ]
    },
    {
     "name": "stderr",
     "output_type": "stream",
     "text": [
      "C:\\Users\\Fenin Jose\\AppData\\Local\\Temp\\ipykernel_17548\\574676199.py:17: FutureWarning: The default of observed=False is deprecated and will be changed to True in a future version of pandas. Pass observed=False to retain current behavior or observed=True to adopt the future default and silence this warning.\n",
      "  df_unique = df_new.groupby('name').agg({'lat': 'first', 'lng': 'first'}).reset_index()\n",
      "C:\\Users\\Fenin Jose\\AppData\\Local\\Temp\\ipykernel_17548\\574676199.py:17: FutureWarning: The default of observed=False is deprecated and will be changed to True in a future version of pandas. Pass observed=False to retain current behavior or observed=True to adopt the future default and silence this warning.\n",
      "  df_unique = df_new.groupby('name').agg({'lat': 'first', 'lng': 'first'}).reset_index()\n",
      "C:\\Users\\Fenin Jose\\AppData\\Local\\Temp\\ipykernel_17548\\574676199.py:17: FutureWarning: The default of observed=False is deprecated and will be changed to True in a future version of pandas. Pass observed=False to retain current behavior or observed=True to adopt the future default and silence this warning.\n",
      "  df_unique = df_new.groupby('name').agg({'lat': 'first', 'lng': 'first'}).reset_index()\n"
     ]
    },
    {
     "name": "stdout",
     "output_type": "stream",
     "text": [
      "Map saved as D:\\df\\maps\\map_508.html\n",
      "Map saved as D:\\df\\maps\\map_509.html\n"
     ]
    },
    {
     "name": "stderr",
     "output_type": "stream",
     "text": [
      "C:\\Users\\Fenin Jose\\AppData\\Local\\Temp\\ipykernel_17548\\574676199.py:17: FutureWarning: The default of observed=False is deprecated and will be changed to True in a future version of pandas. Pass observed=False to retain current behavior or observed=True to adopt the future default and silence this warning.\n",
      "  df_unique = df_new.groupby('name').agg({'lat': 'first', 'lng': 'first'}).reset_index()\n",
      "C:\\Users\\Fenin Jose\\AppData\\Local\\Temp\\ipykernel_17548\\574676199.py:17: FutureWarning: The default of observed=False is deprecated and will be changed to True in a future version of pandas. Pass observed=False to retain current behavior or observed=True to adopt the future default and silence this warning.\n",
      "  df_unique = df_new.groupby('name').agg({'lat': 'first', 'lng': 'first'}).reset_index()\n"
     ]
    },
    {
     "name": "stdout",
     "output_type": "stream",
     "text": [
      "Map saved as D:\\df\\maps\\map_510.html\n",
      "Map saved as D:\\df\\maps\\map_511.html\n",
      "Map saved as D:\\df\\maps\\map_512.html\n"
     ]
    },
    {
     "name": "stderr",
     "output_type": "stream",
     "text": [
      "C:\\Users\\Fenin Jose\\AppData\\Local\\Temp\\ipykernel_17548\\574676199.py:17: FutureWarning: The default of observed=False is deprecated and will be changed to True in a future version of pandas. Pass observed=False to retain current behavior or observed=True to adopt the future default and silence this warning.\n",
      "  df_unique = df_new.groupby('name').agg({'lat': 'first', 'lng': 'first'}).reset_index()\n",
      "C:\\Users\\Fenin Jose\\AppData\\Local\\Temp\\ipykernel_17548\\574676199.py:17: FutureWarning: The default of observed=False is deprecated and will be changed to True in a future version of pandas. Pass observed=False to retain current behavior or observed=True to adopt the future default and silence this warning.\n",
      "  df_unique = df_new.groupby('name').agg({'lat': 'first', 'lng': 'first'}).reset_index()\n",
      "C:\\Users\\Fenin Jose\\AppData\\Local\\Temp\\ipykernel_17548\\574676199.py:17: FutureWarning: The default of observed=False is deprecated and will be changed to True in a future version of pandas. Pass observed=False to retain current behavior or observed=True to adopt the future default and silence this warning.\n",
      "  df_unique = df_new.groupby('name').agg({'lat': 'first', 'lng': 'first'}).reset_index()\n"
     ]
    },
    {
     "name": "stdout",
     "output_type": "stream",
     "text": [
      "Map saved as D:\\df\\maps\\map_513.html\n",
      "Map saved as D:\\df\\maps\\map_514.html\n",
      "Map saved as D:\\df\\maps\\map_515.html\n"
     ]
    },
    {
     "name": "stderr",
     "output_type": "stream",
     "text": [
      "C:\\Users\\Fenin Jose\\AppData\\Local\\Temp\\ipykernel_17548\\574676199.py:17: FutureWarning: The default of observed=False is deprecated and will be changed to True in a future version of pandas. Pass observed=False to retain current behavior or observed=True to adopt the future default and silence this warning.\n",
      "  df_unique = df_new.groupby('name').agg({'lat': 'first', 'lng': 'first'}).reset_index()\n",
      "C:\\Users\\Fenin Jose\\AppData\\Local\\Temp\\ipykernel_17548\\574676199.py:17: FutureWarning: The default of observed=False is deprecated and will be changed to True in a future version of pandas. Pass observed=False to retain current behavior or observed=True to adopt the future default and silence this warning.\n",
      "  df_unique = df_new.groupby('name').agg({'lat': 'first', 'lng': 'first'}).reset_index()\n",
      "C:\\Users\\Fenin Jose\\AppData\\Local\\Temp\\ipykernel_17548\\574676199.py:17: FutureWarning: The default of observed=False is deprecated and will be changed to True in a future version of pandas. Pass observed=False to retain current behavior or observed=True to adopt the future default and silence this warning.\n",
      "  df_unique = df_new.groupby('name').agg({'lat': 'first', 'lng': 'first'}).reset_index()\n"
     ]
    },
    {
     "name": "stdout",
     "output_type": "stream",
     "text": [
      "Map saved as D:\\df\\maps\\map_516.html\n",
      "Map saved as D:\\df\\maps\\map_517.html\n"
     ]
    },
    {
     "name": "stderr",
     "output_type": "stream",
     "text": [
      "C:\\Users\\Fenin Jose\\AppData\\Local\\Temp\\ipykernel_17548\\574676199.py:17: FutureWarning: The default of observed=False is deprecated and will be changed to True in a future version of pandas. Pass observed=False to retain current behavior or observed=True to adopt the future default and silence this warning.\n",
      "  df_unique = df_new.groupby('name').agg({'lat': 'first', 'lng': 'first'}).reset_index()\n",
      "C:\\Users\\Fenin Jose\\AppData\\Local\\Temp\\ipykernel_17548\\574676199.py:17: FutureWarning: The default of observed=False is deprecated and will be changed to True in a future version of pandas. Pass observed=False to retain current behavior or observed=True to adopt the future default and silence this warning.\n",
      "  df_unique = df_new.groupby('name').agg({'lat': 'first', 'lng': 'first'}).reset_index()\n"
     ]
    },
    {
     "name": "stdout",
     "output_type": "stream",
     "text": [
      "Map saved as D:\\df\\maps\\map_518.html\n",
      "Map saved as D:\\df\\maps\\map_519.html\n",
      "Map saved as D:\\df\\maps\\map_520.html\n"
     ]
    },
    {
     "name": "stderr",
     "output_type": "stream",
     "text": [
      "C:\\Users\\Fenin Jose\\AppData\\Local\\Temp\\ipykernel_17548\\574676199.py:17: FutureWarning: The default of observed=False is deprecated and will be changed to True in a future version of pandas. Pass observed=False to retain current behavior or observed=True to adopt the future default and silence this warning.\n",
      "  df_unique = df_new.groupby('name').agg({'lat': 'first', 'lng': 'first'}).reset_index()\n",
      "C:\\Users\\Fenin Jose\\AppData\\Local\\Temp\\ipykernel_17548\\574676199.py:17: FutureWarning: The default of observed=False is deprecated and will be changed to True in a future version of pandas. Pass observed=False to retain current behavior or observed=True to adopt the future default and silence this warning.\n",
      "  df_unique = df_new.groupby('name').agg({'lat': 'first', 'lng': 'first'}).reset_index()\n",
      "C:\\Users\\Fenin Jose\\AppData\\Local\\Temp\\ipykernel_17548\\574676199.py:17: FutureWarning: The default of observed=False is deprecated and will be changed to True in a future version of pandas. Pass observed=False to retain current behavior or observed=True to adopt the future default and silence this warning.\n",
      "  df_unique = df_new.groupby('name').agg({'lat': 'first', 'lng': 'first'}).reset_index()\n"
     ]
    },
    {
     "name": "stdout",
     "output_type": "stream",
     "text": [
      "Map saved as D:\\df\\maps\\map_521.html\n",
      "Map saved as D:\\df\\maps\\map_522.html\n",
      "Map saved as D:\\df\\maps\\map_523.html\n",
      "Map saved as D:\\df\\maps\\map_524.html\n"
     ]
    },
    {
     "name": "stderr",
     "output_type": "stream",
     "text": [
      "C:\\Users\\Fenin Jose\\AppData\\Local\\Temp\\ipykernel_17548\\574676199.py:17: FutureWarning: The default of observed=False is deprecated and will be changed to True in a future version of pandas. Pass observed=False to retain current behavior or observed=True to adopt the future default and silence this warning.\n",
      "  df_unique = df_new.groupby('name').agg({'lat': 'first', 'lng': 'first'}).reset_index()\n",
      "C:\\Users\\Fenin Jose\\AppData\\Local\\Temp\\ipykernel_17548\\574676199.py:17: FutureWarning: The default of observed=False is deprecated and will be changed to True in a future version of pandas. Pass observed=False to retain current behavior or observed=True to adopt the future default and silence this warning.\n",
      "  df_unique = df_new.groupby('name').agg({'lat': 'first', 'lng': 'first'}).reset_index()\n",
      "C:\\Users\\Fenin Jose\\AppData\\Local\\Temp\\ipykernel_17548\\574676199.py:17: FutureWarning: The default of observed=False is deprecated and will be changed to True in a future version of pandas. Pass observed=False to retain current behavior or observed=True to adopt the future default and silence this warning.\n",
      "  df_unique = df_new.groupby('name').agg({'lat': 'first', 'lng': 'first'}).reset_index()\n",
      "C:\\Users\\Fenin Jose\\AppData\\Local\\Temp\\ipykernel_17548\\574676199.py:17: FutureWarning: The default of observed=False is deprecated and will be changed to True in a future version of pandas. Pass observed=False to retain current behavior or observed=True to adopt the future default and silence this warning.\n",
      "  df_unique = df_new.groupby('name').agg({'lat': 'first', 'lng': 'first'}).reset_index()\n",
      "C:\\Users\\Fenin Jose\\AppData\\Local\\Temp\\ipykernel_17548\\574676199.py:17: FutureWarning: The default of observed=False is deprecated and will be changed to True in a future version of pandas. Pass observed=False to retain current behavior or observed=True to adopt the future default and silence this warning.\n",
      "  df_unique = df_new.groupby('name').agg({'lat': 'first', 'lng': 'first'}).reset_index()\n"
     ]
    },
    {
     "name": "stdout",
     "output_type": "stream",
     "text": [
      "Map saved as D:\\df\\maps\\map_525.html\n",
      "Map saved as D:\\df\\maps\\map_526.html\n",
      "Map saved as D:\\df\\maps\\map_527.html\n"
     ]
    },
    {
     "name": "stderr",
     "output_type": "stream",
     "text": [
      "C:\\Users\\Fenin Jose\\AppData\\Local\\Temp\\ipykernel_17548\\574676199.py:17: FutureWarning: The default of observed=False is deprecated and will be changed to True in a future version of pandas. Pass observed=False to retain current behavior or observed=True to adopt the future default and silence this warning.\n",
      "  df_unique = df_new.groupby('name').agg({'lat': 'first', 'lng': 'first'}).reset_index()\n",
      "C:\\Users\\Fenin Jose\\AppData\\Local\\Temp\\ipykernel_17548\\574676199.py:17: FutureWarning: The default of observed=False is deprecated and will be changed to True in a future version of pandas. Pass observed=False to retain current behavior or observed=True to adopt the future default and silence this warning.\n",
      "  df_unique = df_new.groupby('name').agg({'lat': 'first', 'lng': 'first'}).reset_index()\n",
      "C:\\Users\\Fenin Jose\\AppData\\Local\\Temp\\ipykernel_17548\\574676199.py:17: FutureWarning: The default of observed=False is deprecated and will be changed to True in a future version of pandas. Pass observed=False to retain current behavior or observed=True to adopt the future default and silence this warning.\n",
      "  df_unique = df_new.groupby('name').agg({'lat': 'first', 'lng': 'first'}).reset_index()\n",
      "C:\\Users\\Fenin Jose\\AppData\\Local\\Temp\\ipykernel_17548\\574676199.py:17: FutureWarning: The default of observed=False is deprecated and will be changed to True in a future version of pandas. Pass observed=False to retain current behavior or observed=True to adopt the future default and silence this warning.\n",
      "  df_unique = df_new.groupby('name').agg({'lat': 'first', 'lng': 'first'}).reset_index()\n",
      "C:\\Users\\Fenin Jose\\AppData\\Local\\Temp\\ipykernel_17548\\574676199.py:17: FutureWarning: The default of observed=False is deprecated and will be changed to True in a future version of pandas. Pass observed=False to retain current behavior or observed=True to adopt the future default and silence this warning.\n",
      "  df_unique = df_new.groupby('name').agg({'lat': 'first', 'lng': 'first'}).reset_index()\n"
     ]
    },
    {
     "name": "stdout",
     "output_type": "stream",
     "text": [
      "Map saved as D:\\df\\maps\\map_528.html\n",
      "Map saved as D:\\df\\maps\\map_529.html\n",
      "Map saved as D:\\df\\maps\\map_530.html\n",
      "Map saved as D:\\df\\maps\\map_531.html\n",
      "Map saved as D:\\df\\maps\\map_532.html\n",
      "Map saved as D:\\df\\maps\\map_533.html\n"
     ]
    },
    {
     "name": "stderr",
     "output_type": "stream",
     "text": [
      "C:\\Users\\Fenin Jose\\AppData\\Local\\Temp\\ipykernel_17548\\574676199.py:17: FutureWarning: The default of observed=False is deprecated and will be changed to True in a future version of pandas. Pass observed=False to retain current behavior or observed=True to adopt the future default and silence this warning.\n",
      "  df_unique = df_new.groupby('name').agg({'lat': 'first', 'lng': 'first'}).reset_index()\n",
      "C:\\Users\\Fenin Jose\\AppData\\Local\\Temp\\ipykernel_17548\\574676199.py:17: FutureWarning: The default of observed=False is deprecated and will be changed to True in a future version of pandas. Pass observed=False to retain current behavior or observed=True to adopt the future default and silence this warning.\n",
      "  df_unique = df_new.groupby('name').agg({'lat': 'first', 'lng': 'first'}).reset_index()\n",
      "C:\\Users\\Fenin Jose\\AppData\\Local\\Temp\\ipykernel_17548\\574676199.py:17: FutureWarning: The default of observed=False is deprecated and will be changed to True in a future version of pandas. Pass observed=False to retain current behavior or observed=True to adopt the future default and silence this warning.\n",
      "  df_unique = df_new.groupby('name').agg({'lat': 'first', 'lng': 'first'}).reset_index()\n",
      "C:\\Users\\Fenin Jose\\AppData\\Local\\Temp\\ipykernel_17548\\574676199.py:17: FutureWarning: The default of observed=False is deprecated and will be changed to True in a future version of pandas. Pass observed=False to retain current behavior or observed=True to adopt the future default and silence this warning.\n",
      "  df_unique = df_new.groupby('name').agg({'lat': 'first', 'lng': 'first'}).reset_index()\n",
      "C:\\Users\\Fenin Jose\\AppData\\Local\\Temp\\ipykernel_17548\\574676199.py:17: FutureWarning: The default of observed=False is deprecated and will be changed to True in a future version of pandas. Pass observed=False to retain current behavior or observed=True to adopt the future default and silence this warning.\n",
      "  df_unique = df_new.groupby('name').agg({'lat': 'first', 'lng': 'first'}).reset_index()\n",
      "C:\\Users\\Fenin Jose\\AppData\\Local\\Temp\\ipykernel_17548\\574676199.py:17: FutureWarning: The default of observed=False is deprecated and will be changed to True in a future version of pandas. Pass observed=False to retain current behavior or observed=True to adopt the future default and silence this warning.\n",
      "  df_unique = df_new.groupby('name').agg({'lat': 'first', 'lng': 'first'}).reset_index()\n"
     ]
    },
    {
     "name": "stdout",
     "output_type": "stream",
     "text": [
      "Map saved as D:\\df\\maps\\map_534.html\n",
      "Map saved as D:\\df\\maps\\map_535.html\n",
      "Map saved as D:\\df\\maps\\map_536.html\n",
      "Map saved as D:\\df\\maps\\map_537.html\n",
      "Map saved as D:\\df\\maps\\map_538.html\n"
     ]
    },
    {
     "name": "stderr",
     "output_type": "stream",
     "text": [
      "C:\\Users\\Fenin Jose\\AppData\\Local\\Temp\\ipykernel_17548\\574676199.py:17: FutureWarning: The default of observed=False is deprecated and will be changed to True in a future version of pandas. Pass observed=False to retain current behavior or observed=True to adopt the future default and silence this warning.\n",
      "  df_unique = df_new.groupby('name').agg({'lat': 'first', 'lng': 'first'}).reset_index()\n",
      "C:\\Users\\Fenin Jose\\AppData\\Local\\Temp\\ipykernel_17548\\574676199.py:17: FutureWarning: The default of observed=False is deprecated and will be changed to True in a future version of pandas. Pass observed=False to retain current behavior or observed=True to adopt the future default and silence this warning.\n",
      "  df_unique = df_new.groupby('name').agg({'lat': 'first', 'lng': 'first'}).reset_index()\n",
      "C:\\Users\\Fenin Jose\\AppData\\Local\\Temp\\ipykernel_17548\\574676199.py:17: FutureWarning: The default of observed=False is deprecated and will be changed to True in a future version of pandas. Pass observed=False to retain current behavior or observed=True to adopt the future default and silence this warning.\n",
      "  df_unique = df_new.groupby('name').agg({'lat': 'first', 'lng': 'first'}).reset_index()\n",
      "C:\\Users\\Fenin Jose\\AppData\\Local\\Temp\\ipykernel_17548\\574676199.py:17: FutureWarning: The default of observed=False is deprecated and will be changed to True in a future version of pandas. Pass observed=False to retain current behavior or observed=True to adopt the future default and silence this warning.\n",
      "  df_unique = df_new.groupby('name').agg({'lat': 'first', 'lng': 'first'}).reset_index()\n",
      "C:\\Users\\Fenin Jose\\AppData\\Local\\Temp\\ipykernel_17548\\574676199.py:17: FutureWarning: The default of observed=False is deprecated and will be changed to True in a future version of pandas. Pass observed=False to retain current behavior or observed=True to adopt the future default and silence this warning.\n",
      "  df_unique = df_new.groupby('name').agg({'lat': 'first', 'lng': 'first'}).reset_index()\n"
     ]
    },
    {
     "name": "stdout",
     "output_type": "stream",
     "text": [
      "Map saved as D:\\df\\maps\\map_539.html\n",
      "Map saved as D:\\df\\maps\\map_540.html\n",
      "Map saved as D:\\df\\maps\\map_541.html\n",
      "Map saved as D:\\df\\maps\\map_542.html\n",
      "Map saved as D:\\df\\maps\\map_543.html\n",
      "Map saved as D:\\df\\maps\\map_544.html\n"
     ]
    },
    {
     "name": "stderr",
     "output_type": "stream",
     "text": [
      "C:\\Users\\Fenin Jose\\AppData\\Local\\Temp\\ipykernel_17548\\574676199.py:17: FutureWarning: The default of observed=False is deprecated and will be changed to True in a future version of pandas. Pass observed=False to retain current behavior or observed=True to adopt the future default and silence this warning.\n",
      "  df_unique = df_new.groupby('name').agg({'lat': 'first', 'lng': 'first'}).reset_index()\n",
      "C:\\Users\\Fenin Jose\\AppData\\Local\\Temp\\ipykernel_17548\\574676199.py:17: FutureWarning: The default of observed=False is deprecated and will be changed to True in a future version of pandas. Pass observed=False to retain current behavior or observed=True to adopt the future default and silence this warning.\n",
      "  df_unique = df_new.groupby('name').agg({'lat': 'first', 'lng': 'first'}).reset_index()\n",
      "C:\\Users\\Fenin Jose\\AppData\\Local\\Temp\\ipykernel_17548\\574676199.py:17: FutureWarning: The default of observed=False is deprecated and will be changed to True in a future version of pandas. Pass observed=False to retain current behavior or observed=True to adopt the future default and silence this warning.\n",
      "  df_unique = df_new.groupby('name').agg({'lat': 'first', 'lng': 'first'}).reset_index()\n",
      "C:\\Users\\Fenin Jose\\AppData\\Local\\Temp\\ipykernel_17548\\574676199.py:17: FutureWarning: The default of observed=False is deprecated and will be changed to True in a future version of pandas. Pass observed=False to retain current behavior or observed=True to adopt the future default and silence this warning.\n",
      "  df_unique = df_new.groupby('name').agg({'lat': 'first', 'lng': 'first'}).reset_index()\n",
      "C:\\Users\\Fenin Jose\\AppData\\Local\\Temp\\ipykernel_17548\\574676199.py:17: FutureWarning: The default of observed=False is deprecated and will be changed to True in a future version of pandas. Pass observed=False to retain current behavior or observed=True to adopt the future default and silence this warning.\n",
      "  df_unique = df_new.groupby('name').agg({'lat': 'first', 'lng': 'first'}).reset_index()\n",
      "C:\\Users\\Fenin Jose\\AppData\\Local\\Temp\\ipykernel_17548\\574676199.py:17: FutureWarning: The default of observed=False is deprecated and will be changed to True in a future version of pandas. Pass observed=False to retain current behavior or observed=True to adopt the future default and silence this warning.\n",
      "  df_unique = df_new.groupby('name').agg({'lat': 'first', 'lng': 'first'}).reset_index()\n",
      "C:\\Users\\Fenin Jose\\AppData\\Local\\Temp\\ipykernel_17548\\574676199.py:17: FutureWarning: The default of observed=False is deprecated and will be changed to True in a future version of pandas. Pass observed=False to retain current behavior or observed=True to adopt the future default and silence this warning.\n",
      "  df_unique = df_new.groupby('name').agg({'lat': 'first', 'lng': 'first'}).reset_index()\n",
      "C:\\Users\\Fenin Jose\\AppData\\Local\\Temp\\ipykernel_17548\\574676199.py:17: FutureWarning: The default of observed=False is deprecated and will be changed to True in a future version of pandas. Pass observed=False to retain current behavior or observed=True to adopt the future default and silence this warning.\n",
      "  df_unique = df_new.groupby('name').agg({'lat': 'first', 'lng': 'first'}).reset_index()\n"
     ]
    },
    {
     "name": "stdout",
     "output_type": "stream",
     "text": [
      "Map saved as D:\\df\\maps\\map_545.html\n",
      "Map saved as D:\\df\\maps\\map_546.html\n",
      "Map saved as D:\\df\\maps\\map_547.html\n",
      "Map saved as D:\\df\\maps\\map_548.html\n",
      "Map saved as D:\\df\\maps\\map_549.html\n",
      "Map saved as D:\\df\\maps\\map_550.html\n",
      "Map saved as D:\\df\\maps\\map_551.html\n",
      "Map saved as D:\\df\\maps\\map_552.html\n"
     ]
    },
    {
     "name": "stderr",
     "output_type": "stream",
     "text": [
      "C:\\Users\\Fenin Jose\\AppData\\Local\\Temp\\ipykernel_17548\\574676199.py:17: FutureWarning: The default of observed=False is deprecated and will be changed to True in a future version of pandas. Pass observed=False to retain current behavior or observed=True to adopt the future default and silence this warning.\n",
      "  df_unique = df_new.groupby('name').agg({'lat': 'first', 'lng': 'first'}).reset_index()\n",
      "C:\\Users\\Fenin Jose\\AppData\\Local\\Temp\\ipykernel_17548\\574676199.py:17: FutureWarning: The default of observed=False is deprecated and will be changed to True in a future version of pandas. Pass observed=False to retain current behavior or observed=True to adopt the future default and silence this warning.\n",
      "  df_unique = df_new.groupby('name').agg({'lat': 'first', 'lng': 'first'}).reset_index()\n",
      "C:\\Users\\Fenin Jose\\AppData\\Local\\Temp\\ipykernel_17548\\574676199.py:17: FutureWarning: The default of observed=False is deprecated and will be changed to True in a future version of pandas. Pass observed=False to retain current behavior or observed=True to adopt the future default and silence this warning.\n",
      "  df_unique = df_new.groupby('name').agg({'lat': 'first', 'lng': 'first'}).reset_index()\n",
      "C:\\Users\\Fenin Jose\\AppData\\Local\\Temp\\ipykernel_17548\\574676199.py:17: FutureWarning: The default of observed=False is deprecated and will be changed to True in a future version of pandas. Pass observed=False to retain current behavior or observed=True to adopt the future default and silence this warning.\n",
      "  df_unique = df_new.groupby('name').agg({'lat': 'first', 'lng': 'first'}).reset_index()\n",
      "C:\\Users\\Fenin Jose\\AppData\\Local\\Temp\\ipykernel_17548\\574676199.py:17: FutureWarning: The default of observed=False is deprecated and will be changed to True in a future version of pandas. Pass observed=False to retain current behavior or observed=True to adopt the future default and silence this warning.\n",
      "  df_unique = df_new.groupby('name').agg({'lat': 'first', 'lng': 'first'}).reset_index()\n",
      "C:\\Users\\Fenin Jose\\AppData\\Local\\Temp\\ipykernel_17548\\574676199.py:17: FutureWarning: The default of observed=False is deprecated and will be changed to True in a future version of pandas. Pass observed=False to retain current behavior or observed=True to adopt the future default and silence this warning.\n",
      "  df_unique = df_new.groupby('name').agg({'lat': 'first', 'lng': 'first'}).reset_index()\n",
      "C:\\Users\\Fenin Jose\\AppData\\Local\\Temp\\ipykernel_17548\\574676199.py:17: FutureWarning: The default of observed=False is deprecated and will be changed to True in a future version of pandas. Pass observed=False to retain current behavior or observed=True to adopt the future default and silence this warning.\n",
      "  df_unique = df_new.groupby('name').agg({'lat': 'first', 'lng': 'first'}).reset_index()\n",
      "C:\\Users\\Fenin Jose\\AppData\\Local\\Temp\\ipykernel_17548\\574676199.py:17: FutureWarning: The default of observed=False is deprecated and will be changed to True in a future version of pandas. Pass observed=False to retain current behavior or observed=True to adopt the future default and silence this warning.\n",
      "  df_unique = df_new.groupby('name').agg({'lat': 'first', 'lng': 'first'}).reset_index()\n",
      "C:\\Users\\Fenin Jose\\AppData\\Local\\Temp\\ipykernel_17548\\574676199.py:17: FutureWarning: The default of observed=False is deprecated and will be changed to True in a future version of pandas. Pass observed=False to retain current behavior or observed=True to adopt the future default and silence this warning.\n",
      "  df_unique = df_new.groupby('name').agg({'lat': 'first', 'lng': 'first'}).reset_index()\n",
      "C:\\Users\\Fenin Jose\\AppData\\Local\\Temp\\ipykernel_17548\\574676199.py:17: FutureWarning: The default of observed=False is deprecated and will be changed to True in a future version of pandas. Pass observed=False to retain current behavior or observed=True to adopt the future default and silence this warning.\n",
      "  df_unique = df_new.groupby('name').agg({'lat': 'first', 'lng': 'first'}).reset_index()\n"
     ]
    },
    {
     "name": "stdout",
     "output_type": "stream",
     "text": [
      "Map saved as D:\\df\\maps\\map_553.html\n",
      "Map saved as D:\\df\\maps\\map_554.html\n",
      "Map saved as D:\\df\\maps\\map_555.html\n",
      "Map saved as D:\\df\\maps\\map_556.html\n",
      "Map saved as D:\\df\\maps\\map_557.html\n",
      "Map saved as D:\\df\\maps\\map_558.html\n",
      "Map saved as D:\\df\\maps\\map_559.html\n",
      "Map saved as D:\\df\\maps\\map_560.html\n",
      "Map saved as D:\\df\\maps\\map_561.html\n"
     ]
    },
    {
     "name": "stderr",
     "output_type": "stream",
     "text": [
      "C:\\Users\\Fenin Jose\\AppData\\Local\\Temp\\ipykernel_17548\\574676199.py:17: FutureWarning: The default of observed=False is deprecated and will be changed to True in a future version of pandas. Pass observed=False to retain current behavior or observed=True to adopt the future default and silence this warning.\n",
      "  df_unique = df_new.groupby('name').agg({'lat': 'first', 'lng': 'first'}).reset_index()\n",
      "C:\\Users\\Fenin Jose\\AppData\\Local\\Temp\\ipykernel_17548\\574676199.py:17: FutureWarning: The default of observed=False is deprecated and will be changed to True in a future version of pandas. Pass observed=False to retain current behavior or observed=True to adopt the future default and silence this warning.\n",
      "  df_unique = df_new.groupby('name').agg({'lat': 'first', 'lng': 'first'}).reset_index()\n",
      "C:\\Users\\Fenin Jose\\AppData\\Local\\Temp\\ipykernel_17548\\574676199.py:17: FutureWarning: The default of observed=False is deprecated and will be changed to True in a future version of pandas. Pass observed=False to retain current behavior or observed=True to adopt the future default and silence this warning.\n",
      "  df_unique = df_new.groupby('name').agg({'lat': 'first', 'lng': 'first'}).reset_index()\n",
      "C:\\Users\\Fenin Jose\\AppData\\Local\\Temp\\ipykernel_17548\\574676199.py:17: FutureWarning: The default of observed=False is deprecated and will be changed to True in a future version of pandas. Pass observed=False to retain current behavior or observed=True to adopt the future default and silence this warning.\n",
      "  df_unique = df_new.groupby('name').agg({'lat': 'first', 'lng': 'first'}).reset_index()\n",
      "C:\\Users\\Fenin Jose\\AppData\\Local\\Temp\\ipykernel_17548\\574676199.py:17: FutureWarning: The default of observed=False is deprecated and will be changed to True in a future version of pandas. Pass observed=False to retain current behavior or observed=True to adopt the future default and silence this warning.\n",
      "  df_unique = df_new.groupby('name').agg({'lat': 'first', 'lng': 'first'}).reset_index()\n",
      "C:\\Users\\Fenin Jose\\AppData\\Local\\Temp\\ipykernel_17548\\574676199.py:17: FutureWarning: The default of observed=False is deprecated and will be changed to True in a future version of pandas. Pass observed=False to retain current behavior or observed=True to adopt the future default and silence this warning.\n",
      "  df_unique = df_new.groupby('name').agg({'lat': 'first', 'lng': 'first'}).reset_index()\n",
      "C:\\Users\\Fenin Jose\\AppData\\Local\\Temp\\ipykernel_17548\\574676199.py:17: FutureWarning: The default of observed=False is deprecated and will be changed to True in a future version of pandas. Pass observed=False to retain current behavior or observed=True to adopt the future default and silence this warning.\n",
      "  df_unique = df_new.groupby('name').agg({'lat': 'first', 'lng': 'first'}).reset_index()\n",
      "C:\\Users\\Fenin Jose\\AppData\\Local\\Temp\\ipykernel_17548\\574676199.py:17: FutureWarning: The default of observed=False is deprecated and will be changed to True in a future version of pandas. Pass observed=False to retain current behavior or observed=True to adopt the future default and silence this warning.\n",
      "  df_unique = df_new.groupby('name').agg({'lat': 'first', 'lng': 'first'}).reset_index()\n",
      "C:\\Users\\Fenin Jose\\AppData\\Local\\Temp\\ipykernel_17548\\574676199.py:17: FutureWarning: The default of observed=False is deprecated and will be changed to True in a future version of pandas. Pass observed=False to retain current behavior or observed=True to adopt the future default and silence this warning.\n",
      "  df_unique = df_new.groupby('name').agg({'lat': 'first', 'lng': 'first'}).reset_index()\n",
      "C:\\Users\\Fenin Jose\\AppData\\Local\\Temp\\ipykernel_17548\\574676199.py:17: FutureWarning: The default of observed=False is deprecated and will be changed to True in a future version of pandas. Pass observed=False to retain current behavior or observed=True to adopt the future default and silence this warning.\n",
      "  df_unique = df_new.groupby('name').agg({'lat': 'first', 'lng': 'first'}).reset_index()\n",
      "C:\\Users\\Fenin Jose\\AppData\\Local\\Temp\\ipykernel_17548\\574676199.py:17: FutureWarning: The default of observed=False is deprecated and will be changed to True in a future version of pandas. Pass observed=False to retain current behavior or observed=True to adopt the future default and silence this warning.\n",
      "  df_unique = df_new.groupby('name').agg({'lat': 'first', 'lng': 'first'}).reset_index()\n"
     ]
    },
    {
     "name": "stdout",
     "output_type": "stream",
     "text": [
      "Map saved as D:\\df\\maps\\map_562.html\n",
      "Map saved as D:\\df\\maps\\map_563.html\n",
      "Map saved as D:\\df\\maps\\map_564.html\n",
      "Map saved as D:\\df\\maps\\map_565.html\n",
      "Map saved as D:\\df\\maps\\map_566.html\n",
      "Map saved as D:\\df\\maps\\map_567.html\n",
      "Map saved as D:\\df\\maps\\map_568.html\n",
      "Map saved as D:\\df\\maps\\map_569.html\n",
      "Map saved as D:\\df\\maps\\map_570.html\n",
      "Map saved as D:\\df\\maps\\map_571.html\n",
      "Map saved as D:\\df\\maps\\map_572.html\n",
      "Map saved as D:\\df\\maps\\map_573.html\n",
      "Map saved as D:\\df\\maps\\map_574.html\n",
      "Map saved as D:\\df\\maps\\map_575.html\n",
      "Map saved as D:\\df\\maps\\map_576.html\n",
      "Map saved as D:\\df\\maps\\map_577.html\n",
      "Map saved as D:\\df\\maps\\map_578.html\n"
     ]
    },
    {
     "name": "stderr",
     "output_type": "stream",
     "text": [
      "C:\\Users\\Fenin Jose\\AppData\\Local\\Temp\\ipykernel_17548\\574676199.py:17: FutureWarning: The default of observed=False is deprecated and will be changed to True in a future version of pandas. Pass observed=False to retain current behavior or observed=True to adopt the future default and silence this warning.\n",
      "  df_unique = df_new.groupby('name').agg({'lat': 'first', 'lng': 'first'}).reset_index()\n",
      "C:\\Users\\Fenin Jose\\AppData\\Local\\Temp\\ipykernel_17548\\574676199.py:17: FutureWarning: The default of observed=False is deprecated and will be changed to True in a future version of pandas. Pass observed=False to retain current behavior or observed=True to adopt the future default and silence this warning.\n",
      "  df_unique = df_new.groupby('name').agg({'lat': 'first', 'lng': 'first'}).reset_index()\n",
      "C:\\Users\\Fenin Jose\\AppData\\Local\\Temp\\ipykernel_17548\\574676199.py:17: FutureWarning: The default of observed=False is deprecated and will be changed to True in a future version of pandas. Pass observed=False to retain current behavior or observed=True to adopt the future default and silence this warning.\n",
      "  df_unique = df_new.groupby('name').agg({'lat': 'first', 'lng': 'first'}).reset_index()\n",
      "C:\\Users\\Fenin Jose\\AppData\\Local\\Temp\\ipykernel_17548\\574676199.py:17: FutureWarning: The default of observed=False is deprecated and will be changed to True in a future version of pandas. Pass observed=False to retain current behavior or observed=True to adopt the future default and silence this warning.\n",
      "  df_unique = df_new.groupby('name').agg({'lat': 'first', 'lng': 'first'}).reset_index()\n",
      "C:\\Users\\Fenin Jose\\AppData\\Local\\Temp\\ipykernel_17548\\574676199.py:17: FutureWarning: The default of observed=False is deprecated and will be changed to True in a future version of pandas. Pass observed=False to retain current behavior or observed=True to adopt the future default and silence this warning.\n",
      "  df_unique = df_new.groupby('name').agg({'lat': 'first', 'lng': 'first'}).reset_index()\n",
      "C:\\Users\\Fenin Jose\\AppData\\Local\\Temp\\ipykernel_17548\\574676199.py:17: FutureWarning: The default of observed=False is deprecated and will be changed to True in a future version of pandas. Pass observed=False to retain current behavior or observed=True to adopt the future default and silence this warning.\n",
      "  df_unique = df_new.groupby('name').agg({'lat': 'first', 'lng': 'first'}).reset_index()\n",
      "C:\\Users\\Fenin Jose\\AppData\\Local\\Temp\\ipykernel_17548\\574676199.py:17: FutureWarning: The default of observed=False is deprecated and will be changed to True in a future version of pandas. Pass observed=False to retain current behavior or observed=True to adopt the future default and silence this warning.\n",
      "  df_unique = df_new.groupby('name').agg({'lat': 'first', 'lng': 'first'}).reset_index()\n",
      "C:\\Users\\Fenin Jose\\AppData\\Local\\Temp\\ipykernel_17548\\574676199.py:17: FutureWarning: The default of observed=False is deprecated and will be changed to True in a future version of pandas. Pass observed=False to retain current behavior or observed=True to adopt the future default and silence this warning.\n",
      "  df_unique = df_new.groupby('name').agg({'lat': 'first', 'lng': 'first'}).reset_index()\n"
     ]
    },
    {
     "name": "stdout",
     "output_type": "stream",
     "text": [
      "Map saved as D:\\df\\maps\\map_579.html\n",
      "Map saved as D:\\df\\maps\\map_580.html\n",
      "Map saved as D:\\df\\maps\\map_581.html\n",
      "Map saved as D:\\df\\maps\\map_582.html\n",
      "Map saved as D:\\df\\maps\\map_583.html\n",
      "Map saved as D:\\df\\maps\\map_584.html\n",
      "Map saved as D:\\df\\maps\\map_585.html\n",
      "Map saved as D:\\df\\maps\\map_586.html\n",
      "Map saved as D:\\df\\maps\\map_587.html\n",
      "Map saved as D:\\df\\maps\\map_588.html\n"
     ]
    },
    {
     "name": "stderr",
     "output_type": "stream",
     "text": [
      "C:\\Users\\Fenin Jose\\AppData\\Local\\Temp\\ipykernel_17548\\574676199.py:17: FutureWarning: The default of observed=False is deprecated and will be changed to True in a future version of pandas. Pass observed=False to retain current behavior or observed=True to adopt the future default and silence this warning.\n",
      "  df_unique = df_new.groupby('name').agg({'lat': 'first', 'lng': 'first'}).reset_index()\n",
      "C:\\Users\\Fenin Jose\\AppData\\Local\\Temp\\ipykernel_17548\\574676199.py:17: FutureWarning: The default of observed=False is deprecated and will be changed to True in a future version of pandas. Pass observed=False to retain current behavior or observed=True to adopt the future default and silence this warning.\n",
      "  df_unique = df_new.groupby('name').agg({'lat': 'first', 'lng': 'first'}).reset_index()\n",
      "C:\\Users\\Fenin Jose\\AppData\\Local\\Temp\\ipykernel_17548\\574676199.py:17: FutureWarning: The default of observed=False is deprecated and will be changed to True in a future version of pandas. Pass observed=False to retain current behavior or observed=True to adopt the future default and silence this warning.\n",
      "  df_unique = df_new.groupby('name').agg({'lat': 'first', 'lng': 'first'}).reset_index()\n",
      "C:\\Users\\Fenin Jose\\AppData\\Local\\Temp\\ipykernel_17548\\574676199.py:17: FutureWarning: The default of observed=False is deprecated and will be changed to True in a future version of pandas. Pass observed=False to retain current behavior or observed=True to adopt the future default and silence this warning.\n",
      "  df_unique = df_new.groupby('name').agg({'lat': 'first', 'lng': 'first'}).reset_index()\n",
      "C:\\Users\\Fenin Jose\\AppData\\Local\\Temp\\ipykernel_17548\\574676199.py:17: FutureWarning: The default of observed=False is deprecated and will be changed to True in a future version of pandas. Pass observed=False to retain current behavior or observed=True to adopt the future default and silence this warning.\n",
      "  df_unique = df_new.groupby('name').agg({'lat': 'first', 'lng': 'first'}).reset_index()\n",
      "C:\\Users\\Fenin Jose\\AppData\\Local\\Temp\\ipykernel_17548\\574676199.py:17: FutureWarning: The default of observed=False is deprecated and will be changed to True in a future version of pandas. Pass observed=False to retain current behavior or observed=True to adopt the future default and silence this warning.\n",
      "  df_unique = df_new.groupby('name').agg({'lat': 'first', 'lng': 'first'}).reset_index()\n",
      "C:\\Users\\Fenin Jose\\AppData\\Local\\Temp\\ipykernel_17548\\574676199.py:17: FutureWarning: The default of observed=False is deprecated and will be changed to True in a future version of pandas. Pass observed=False to retain current behavior or observed=True to adopt the future default and silence this warning.\n",
      "  df_unique = df_new.groupby('name').agg({'lat': 'first', 'lng': 'first'}).reset_index()\n",
      "C:\\Users\\Fenin Jose\\AppData\\Local\\Temp\\ipykernel_17548\\574676199.py:17: FutureWarning: The default of observed=False is deprecated and will be changed to True in a future version of pandas. Pass observed=False to retain current behavior or observed=True to adopt the future default and silence this warning.\n",
      "  df_unique = df_new.groupby('name').agg({'lat': 'first', 'lng': 'first'}).reset_index()\n",
      "C:\\Users\\Fenin Jose\\AppData\\Local\\Temp\\ipykernel_17548\\574676199.py:17: FutureWarning: The default of observed=False is deprecated and will be changed to True in a future version of pandas. Pass observed=False to retain current behavior or observed=True to adopt the future default and silence this warning.\n",
      "  df_unique = df_new.groupby('name').agg({'lat': 'first', 'lng': 'first'}).reset_index()\n",
      "C:\\Users\\Fenin Jose\\AppData\\Local\\Temp\\ipykernel_17548\\574676199.py:17: FutureWarning: The default of observed=False is deprecated and will be changed to True in a future version of pandas. Pass observed=False to retain current behavior or observed=True to adopt the future default and silence this warning.\n",
      "  df_unique = df_new.groupby('name').agg({'lat': 'first', 'lng': 'first'}).reset_index()\n"
     ]
    },
    {
     "name": "stdout",
     "output_type": "stream",
     "text": [
      "Map saved as D:\\df\\maps\\map_589.html\n",
      "Map saved as D:\\df\\maps\\map_590.html\n",
      "Map saved as D:\\df\\maps\\map_591.html\n",
      "Map saved as D:\\df\\maps\\map_592.html\n",
      "Map saved as D:\\df\\maps\\map_593.html\n",
      "Map saved as D:\\df\\maps\\map_594.html\n",
      "Map saved as D:\\df\\maps\\map_595.html\n",
      "Map saved as D:\\df\\maps\\map_596.html\n",
      "Map saved as D:\\df\\maps\\map_597.html\n",
      "Map saved as D:\\df\\maps\\map_598.html\n",
      "Map saved as D:\\df\\maps\\map_599.html\n"
     ]
    },
    {
     "name": "stderr",
     "output_type": "stream",
     "text": [
      "C:\\Users\\Fenin Jose\\AppData\\Local\\Temp\\ipykernel_17548\\574676199.py:17: FutureWarning: The default of observed=False is deprecated and will be changed to True in a future version of pandas. Pass observed=False to retain current behavior or observed=True to adopt the future default and silence this warning.\n",
      "  df_unique = df_new.groupby('name').agg({'lat': 'first', 'lng': 'first'}).reset_index()\n",
      "C:\\Users\\Fenin Jose\\AppData\\Local\\Temp\\ipykernel_17548\\574676199.py:17: FutureWarning: The default of observed=False is deprecated and will be changed to True in a future version of pandas. Pass observed=False to retain current behavior or observed=True to adopt the future default and silence this warning.\n",
      "  df_unique = df_new.groupby('name').agg({'lat': 'first', 'lng': 'first'}).reset_index()\n",
      "C:\\Users\\Fenin Jose\\AppData\\Local\\Temp\\ipykernel_17548\\574676199.py:17: FutureWarning: The default of observed=False is deprecated and will be changed to True in a future version of pandas. Pass observed=False to retain current behavior or observed=True to adopt the future default and silence this warning.\n",
      "  df_unique = df_new.groupby('name').agg({'lat': 'first', 'lng': 'first'}).reset_index()\n",
      "C:\\Users\\Fenin Jose\\AppData\\Local\\Temp\\ipykernel_17548\\574676199.py:17: FutureWarning: The default of observed=False is deprecated and will be changed to True in a future version of pandas. Pass observed=False to retain current behavior or observed=True to adopt the future default and silence this warning.\n",
      "  df_unique = df_new.groupby('name').agg({'lat': 'first', 'lng': 'first'}).reset_index()\n",
      "C:\\Users\\Fenin Jose\\AppData\\Local\\Temp\\ipykernel_17548\\574676199.py:17: FutureWarning: The default of observed=False is deprecated and will be changed to True in a future version of pandas. Pass observed=False to retain current behavior or observed=True to adopt the future default and silence this warning.\n",
      "  df_unique = df_new.groupby('name').agg({'lat': 'first', 'lng': 'first'}).reset_index()\n",
      "C:\\Users\\Fenin Jose\\AppData\\Local\\Temp\\ipykernel_17548\\574676199.py:17: FutureWarning: The default of observed=False is deprecated and will be changed to True in a future version of pandas. Pass observed=False to retain current behavior or observed=True to adopt the future default and silence this warning.\n",
      "  df_unique = df_new.groupby('name').agg({'lat': 'first', 'lng': 'first'}).reset_index()\n",
      "C:\\Users\\Fenin Jose\\AppData\\Local\\Temp\\ipykernel_17548\\574676199.py:17: FutureWarning: The default of observed=False is deprecated and will be changed to True in a future version of pandas. Pass observed=False to retain current behavior or observed=True to adopt the future default and silence this warning.\n",
      "  df_unique = df_new.groupby('name').agg({'lat': 'first', 'lng': 'first'}).reset_index()\n",
      "C:\\Users\\Fenin Jose\\AppData\\Local\\Temp\\ipykernel_17548\\574676199.py:17: FutureWarning: The default of observed=False is deprecated and will be changed to True in a future version of pandas. Pass observed=False to retain current behavior or observed=True to adopt the future default and silence this warning.\n",
      "  df_unique = df_new.groupby('name').agg({'lat': 'first', 'lng': 'first'}).reset_index()\n",
      "C:\\Users\\Fenin Jose\\AppData\\Local\\Temp\\ipykernel_17548\\574676199.py:17: FutureWarning: The default of observed=False is deprecated and will be changed to True in a future version of pandas. Pass observed=False to retain current behavior or observed=True to adopt the future default and silence this warning.\n",
      "  df_unique = df_new.groupby('name').agg({'lat': 'first', 'lng': 'first'}).reset_index()\n",
      "C:\\Users\\Fenin Jose\\AppData\\Local\\Temp\\ipykernel_17548\\574676199.py:17: FutureWarning: The default of observed=False is deprecated and will be changed to True in a future version of pandas. Pass observed=False to retain current behavior or observed=True to adopt the future default and silence this warning.\n",
      "  df_unique = df_new.groupby('name').agg({'lat': 'first', 'lng': 'first'}).reset_index()\n",
      "C:\\Users\\Fenin Jose\\AppData\\Local\\Temp\\ipykernel_17548\\574676199.py:17: FutureWarning: The default of observed=False is deprecated and will be changed to True in a future version of pandas. Pass observed=False to retain current behavior or observed=True to adopt the future default and silence this warning.\n",
      "  df_unique = df_new.groupby('name').agg({'lat': 'first', 'lng': 'first'}).reset_index()\n"
     ]
    },
    {
     "name": "stdout",
     "output_type": "stream",
     "text": [
      "Map saved as D:\\df\\maps\\map_600.html\n",
      "Map saved as D:\\df\\maps\\map_601.html\n",
      "Map saved as D:\\df\\maps\\map_602.html\n",
      "Map saved as D:\\df\\maps\\map_603.html\n",
      "Map saved as D:\\df\\maps\\map_604.html\n",
      "Map saved as D:\\df\\maps\\map_605.html\n",
      "Map saved as D:\\df\\maps\\map_606.html\n",
      "Map saved as D:\\df\\maps\\map_607.html\n",
      "Map saved as D:\\df\\maps\\map_608.html\n"
     ]
    },
    {
     "name": "stderr",
     "output_type": "stream",
     "text": [
      "C:\\Users\\Fenin Jose\\AppData\\Local\\Temp\\ipykernel_17548\\574676199.py:17: FutureWarning: The default of observed=False is deprecated and will be changed to True in a future version of pandas. Pass observed=False to retain current behavior or observed=True to adopt the future default and silence this warning.\n",
      "  df_unique = df_new.groupby('name').agg({'lat': 'first', 'lng': 'first'}).reset_index()\n",
      "C:\\Users\\Fenin Jose\\AppData\\Local\\Temp\\ipykernel_17548\\574676199.py:17: FutureWarning: The default of observed=False is deprecated and will be changed to True in a future version of pandas. Pass observed=False to retain current behavior or observed=True to adopt the future default and silence this warning.\n",
      "  df_unique = df_new.groupby('name').agg({'lat': 'first', 'lng': 'first'}).reset_index()\n",
      "C:\\Users\\Fenin Jose\\AppData\\Local\\Temp\\ipykernel_17548\\574676199.py:17: FutureWarning: The default of observed=False is deprecated and will be changed to True in a future version of pandas. Pass observed=False to retain current behavior or observed=True to adopt the future default and silence this warning.\n",
      "  df_unique = df_new.groupby('name').agg({'lat': 'first', 'lng': 'first'}).reset_index()\n",
      "C:\\Users\\Fenin Jose\\AppData\\Local\\Temp\\ipykernel_17548\\574676199.py:17: FutureWarning: The default of observed=False is deprecated and will be changed to True in a future version of pandas. Pass observed=False to retain current behavior or observed=True to adopt the future default and silence this warning.\n",
      "  df_unique = df_new.groupby('name').agg({'lat': 'first', 'lng': 'first'}).reset_index()\n",
      "C:\\Users\\Fenin Jose\\AppData\\Local\\Temp\\ipykernel_17548\\574676199.py:17: FutureWarning: The default of observed=False is deprecated and will be changed to True in a future version of pandas. Pass observed=False to retain current behavior or observed=True to adopt the future default and silence this warning.\n",
      "  df_unique = df_new.groupby('name').agg({'lat': 'first', 'lng': 'first'}).reset_index()\n",
      "C:\\Users\\Fenin Jose\\AppData\\Local\\Temp\\ipykernel_17548\\574676199.py:17: FutureWarning: The default of observed=False is deprecated and will be changed to True in a future version of pandas. Pass observed=False to retain current behavior or observed=True to adopt the future default and silence this warning.\n",
      "  df_unique = df_new.groupby('name').agg({'lat': 'first', 'lng': 'first'}).reset_index()\n",
      "C:\\Users\\Fenin Jose\\AppData\\Local\\Temp\\ipykernel_17548\\574676199.py:17: FutureWarning: The default of observed=False is deprecated and will be changed to True in a future version of pandas. Pass observed=False to retain current behavior or observed=True to adopt the future default and silence this warning.\n",
      "  df_unique = df_new.groupby('name').agg({'lat': 'first', 'lng': 'first'}).reset_index()\n",
      "C:\\Users\\Fenin Jose\\AppData\\Local\\Temp\\ipykernel_17548\\574676199.py:17: FutureWarning: The default of observed=False is deprecated and will be changed to True in a future version of pandas. Pass observed=False to retain current behavior or observed=True to adopt the future default and silence this warning.\n",
      "  df_unique = df_new.groupby('name').agg({'lat': 'first', 'lng': 'first'}).reset_index()\n",
      "C:\\Users\\Fenin Jose\\AppData\\Local\\Temp\\ipykernel_17548\\574676199.py:17: FutureWarning: The default of observed=False is deprecated and will be changed to True in a future version of pandas. Pass observed=False to retain current behavior or observed=True to adopt the future default and silence this warning.\n",
      "  df_unique = df_new.groupby('name').agg({'lat': 'first', 'lng': 'first'}).reset_index()\n"
     ]
    },
    {
     "name": "stdout",
     "output_type": "stream",
     "text": [
      "Map saved as D:\\df\\maps\\map_609.html\n",
      "Map saved as D:\\df\\maps\\map_610.html\n",
      "Map saved as D:\\df\\maps\\map_611.html\n",
      "Map saved as D:\\df\\maps\\map_612.html\n",
      "Map saved as D:\\df\\maps\\map_613.html\n",
      "Map saved as D:\\df\\maps\\map_614.html\n",
      "Map saved as D:\\df\\maps\\map_615.html\n",
      "Map saved as D:\\df\\maps\\map_616.html\n",
      "Map saved as D:\\df\\maps\\map_617.html\n"
     ]
    },
    {
     "name": "stderr",
     "output_type": "stream",
     "text": [
      "C:\\Users\\Fenin Jose\\AppData\\Local\\Temp\\ipykernel_17548\\574676199.py:17: FutureWarning: The default of observed=False is deprecated and will be changed to True in a future version of pandas. Pass observed=False to retain current behavior or observed=True to adopt the future default and silence this warning.\n",
      "  df_unique = df_new.groupby('name').agg({'lat': 'first', 'lng': 'first'}).reset_index()\n",
      "C:\\Users\\Fenin Jose\\AppData\\Local\\Temp\\ipykernel_17548\\574676199.py:17: FutureWarning: The default of observed=False is deprecated and will be changed to True in a future version of pandas. Pass observed=False to retain current behavior or observed=True to adopt the future default and silence this warning.\n",
      "  df_unique = df_new.groupby('name').agg({'lat': 'first', 'lng': 'first'}).reset_index()\n",
      "C:\\Users\\Fenin Jose\\AppData\\Local\\Temp\\ipykernel_17548\\574676199.py:17: FutureWarning: The default of observed=False is deprecated and will be changed to True in a future version of pandas. Pass observed=False to retain current behavior or observed=True to adopt the future default and silence this warning.\n",
      "  df_unique = df_new.groupby('name').agg({'lat': 'first', 'lng': 'first'}).reset_index()\n",
      "C:\\Users\\Fenin Jose\\AppData\\Local\\Temp\\ipykernel_17548\\574676199.py:17: FutureWarning: The default of observed=False is deprecated and will be changed to True in a future version of pandas. Pass observed=False to retain current behavior or observed=True to adopt the future default and silence this warning.\n",
      "  df_unique = df_new.groupby('name').agg({'lat': 'first', 'lng': 'first'}).reset_index()\n",
      "C:\\Users\\Fenin Jose\\AppData\\Local\\Temp\\ipykernel_17548\\574676199.py:17: FutureWarning: The default of observed=False is deprecated and will be changed to True in a future version of pandas. Pass observed=False to retain current behavior or observed=True to adopt the future default and silence this warning.\n",
      "  df_unique = df_new.groupby('name').agg({'lat': 'first', 'lng': 'first'}).reset_index()\n",
      "C:\\Users\\Fenin Jose\\AppData\\Local\\Temp\\ipykernel_17548\\574676199.py:17: FutureWarning: The default of observed=False is deprecated and will be changed to True in a future version of pandas. Pass observed=False to retain current behavior or observed=True to adopt the future default and silence this warning.\n",
      "  df_unique = df_new.groupby('name').agg({'lat': 'first', 'lng': 'first'}).reset_index()\n",
      "C:\\Users\\Fenin Jose\\AppData\\Local\\Temp\\ipykernel_17548\\574676199.py:17: FutureWarning: The default of observed=False is deprecated and will be changed to True in a future version of pandas. Pass observed=False to retain current behavior or observed=True to adopt the future default and silence this warning.\n",
      "  df_unique = df_new.groupby('name').agg({'lat': 'first', 'lng': 'first'}).reset_index()\n",
      "C:\\Users\\Fenin Jose\\AppData\\Local\\Temp\\ipykernel_17548\\574676199.py:17: FutureWarning: The default of observed=False is deprecated and will be changed to True in a future version of pandas. Pass observed=False to retain current behavior or observed=True to adopt the future default and silence this warning.\n",
      "  df_unique = df_new.groupby('name').agg({'lat': 'first', 'lng': 'first'}).reset_index()\n",
      "C:\\Users\\Fenin Jose\\AppData\\Local\\Temp\\ipykernel_17548\\574676199.py:17: FutureWarning: The default of observed=False is deprecated and will be changed to True in a future version of pandas. Pass observed=False to retain current behavior or observed=True to adopt the future default and silence this warning.\n",
      "  df_unique = df_new.groupby('name').agg({'lat': 'first', 'lng': 'first'}).reset_index()\n"
     ]
    },
    {
     "name": "stdout",
     "output_type": "stream",
     "text": [
      "Map saved as D:\\df\\maps\\map_618.html\n",
      "Map saved as D:\\df\\maps\\map_619.html\n",
      "Map saved as D:\\df\\maps\\map_620.html\n",
      "Map saved as D:\\df\\maps\\map_621.html\n",
      "Map saved as D:\\df\\maps\\map_622.html\n",
      "Map saved as D:\\df\\maps\\map_623.html\n"
     ]
    },
    {
     "name": "stderr",
     "output_type": "stream",
     "text": [
      "C:\\Users\\Fenin Jose\\AppData\\Local\\Temp\\ipykernel_17548\\574676199.py:17: FutureWarning: The default of observed=False is deprecated and will be changed to True in a future version of pandas. Pass observed=False to retain current behavior or observed=True to adopt the future default and silence this warning.\n",
      "  df_unique = df_new.groupby('name').agg({'lat': 'first', 'lng': 'first'}).reset_index()\n",
      "C:\\Users\\Fenin Jose\\AppData\\Local\\Temp\\ipykernel_17548\\574676199.py:17: FutureWarning: The default of observed=False is deprecated and will be changed to True in a future version of pandas. Pass observed=False to retain current behavior or observed=True to adopt the future default and silence this warning.\n",
      "  df_unique = df_new.groupby('name').agg({'lat': 'first', 'lng': 'first'}).reset_index()\n",
      "C:\\Users\\Fenin Jose\\AppData\\Local\\Temp\\ipykernel_17548\\574676199.py:17: FutureWarning: The default of observed=False is deprecated and will be changed to True in a future version of pandas. Pass observed=False to retain current behavior or observed=True to adopt the future default and silence this warning.\n",
      "  df_unique = df_new.groupby('name').agg({'lat': 'first', 'lng': 'first'}).reset_index()\n",
      "C:\\Users\\Fenin Jose\\AppData\\Local\\Temp\\ipykernel_17548\\574676199.py:17: FutureWarning: The default of observed=False is deprecated and will be changed to True in a future version of pandas. Pass observed=False to retain current behavior or observed=True to adopt the future default and silence this warning.\n",
      "  df_unique = df_new.groupby('name').agg({'lat': 'first', 'lng': 'first'}).reset_index()\n",
      "C:\\Users\\Fenin Jose\\AppData\\Local\\Temp\\ipykernel_17548\\574676199.py:17: FutureWarning: The default of observed=False is deprecated and will be changed to True in a future version of pandas. Pass observed=False to retain current behavior or observed=True to adopt the future default and silence this warning.\n",
      "  df_unique = df_new.groupby('name').agg({'lat': 'first', 'lng': 'first'}).reset_index()\n",
      "C:\\Users\\Fenin Jose\\AppData\\Local\\Temp\\ipykernel_17548\\574676199.py:17: FutureWarning: The default of observed=False is deprecated and will be changed to True in a future version of pandas. Pass observed=False to retain current behavior or observed=True to adopt the future default and silence this warning.\n",
      "  df_unique = df_new.groupby('name').agg({'lat': 'first', 'lng': 'first'}).reset_index()\n"
     ]
    },
    {
     "name": "stdout",
     "output_type": "stream",
     "text": [
      "Map saved as D:\\df\\maps\\map_624.html\n",
      "Map saved as D:\\df\\maps\\map_625.html\n",
      "Map saved as D:\\df\\maps\\map_626.html\n",
      "Map saved as D:\\df\\maps\\map_627.html\n",
      "Map saved as D:\\df\\maps\\map_628.html\n",
      "Map saved as D:\\df\\maps\\map_629.html\n",
      "Map saved as D:\\df\\maps\\map_630.html\n",
      "Map saved as D:\\df\\maps\\map_631.html\n"
     ]
    },
    {
     "name": "stderr",
     "output_type": "stream",
     "text": [
      "C:\\Users\\Fenin Jose\\AppData\\Local\\Temp\\ipykernel_17548\\574676199.py:17: FutureWarning: The default of observed=False is deprecated and will be changed to True in a future version of pandas. Pass observed=False to retain current behavior or observed=True to adopt the future default and silence this warning.\n",
      "  df_unique = df_new.groupby('name').agg({'lat': 'first', 'lng': 'first'}).reset_index()\n",
      "C:\\Users\\Fenin Jose\\AppData\\Local\\Temp\\ipykernel_17548\\574676199.py:17: FutureWarning: The default of observed=False is deprecated and will be changed to True in a future version of pandas. Pass observed=False to retain current behavior or observed=True to adopt the future default and silence this warning.\n",
      "  df_unique = df_new.groupby('name').agg({'lat': 'first', 'lng': 'first'}).reset_index()\n",
      "C:\\Users\\Fenin Jose\\AppData\\Local\\Temp\\ipykernel_17548\\574676199.py:17: FutureWarning: The default of observed=False is deprecated and will be changed to True in a future version of pandas. Pass observed=False to retain current behavior or observed=True to adopt the future default and silence this warning.\n",
      "  df_unique = df_new.groupby('name').agg({'lat': 'first', 'lng': 'first'}).reset_index()\n",
      "C:\\Users\\Fenin Jose\\AppData\\Local\\Temp\\ipykernel_17548\\574676199.py:17: FutureWarning: The default of observed=False is deprecated and will be changed to True in a future version of pandas. Pass observed=False to retain current behavior or observed=True to adopt the future default and silence this warning.\n",
      "  df_unique = df_new.groupby('name').agg({'lat': 'first', 'lng': 'first'}).reset_index()\n",
      "C:\\Users\\Fenin Jose\\AppData\\Local\\Temp\\ipykernel_17548\\574676199.py:17: FutureWarning: The default of observed=False is deprecated and will be changed to True in a future version of pandas. Pass observed=False to retain current behavior or observed=True to adopt the future default and silence this warning.\n",
      "  df_unique = df_new.groupby('name').agg({'lat': 'first', 'lng': 'first'}).reset_index()\n",
      "C:\\Users\\Fenin Jose\\AppData\\Local\\Temp\\ipykernel_17548\\574676199.py:17: FutureWarning: The default of observed=False is deprecated and will be changed to True in a future version of pandas. Pass observed=False to retain current behavior or observed=True to adopt the future default and silence this warning.\n",
      "  df_unique = df_new.groupby('name').agg({'lat': 'first', 'lng': 'first'}).reset_index()\n",
      "C:\\Users\\Fenin Jose\\AppData\\Local\\Temp\\ipykernel_17548\\574676199.py:17: FutureWarning: The default of observed=False is deprecated and will be changed to True in a future version of pandas. Pass observed=False to retain current behavior or observed=True to adopt the future default and silence this warning.\n",
      "  df_unique = df_new.groupby('name').agg({'lat': 'first', 'lng': 'first'}).reset_index()\n",
      "C:\\Users\\Fenin Jose\\AppData\\Local\\Temp\\ipykernel_17548\\574676199.py:17: FutureWarning: The default of observed=False is deprecated and will be changed to True in a future version of pandas. Pass observed=False to retain current behavior or observed=True to adopt the future default and silence this warning.\n",
      "  df_unique = df_new.groupby('name').agg({'lat': 'first', 'lng': 'first'}).reset_index()\n"
     ]
    },
    {
     "name": "stdout",
     "output_type": "stream",
     "text": [
      "Map saved as D:\\df\\maps\\map_632.html\n",
      "Map saved as D:\\df\\maps\\map_633.html\n",
      "Map saved as D:\\df\\maps\\map_634.html\n",
      "Map saved as D:\\df\\maps\\map_635.html\n",
      "Map saved as D:\\df\\maps\\map_636.html\n",
      "Map saved as D:\\df\\maps\\map_637.html\n",
      "Map saved as D:\\df\\maps\\map_638.html\n",
      "Map saved as D:\\df\\maps\\map_639.html\n"
     ]
    },
    {
     "name": "stderr",
     "output_type": "stream",
     "text": [
      "C:\\Users\\Fenin Jose\\AppData\\Local\\Temp\\ipykernel_17548\\574676199.py:17: FutureWarning: The default of observed=False is deprecated and will be changed to True in a future version of pandas. Pass observed=False to retain current behavior or observed=True to adopt the future default and silence this warning.\n",
      "  df_unique = df_new.groupby('name').agg({'lat': 'first', 'lng': 'first'}).reset_index()\n",
      "C:\\Users\\Fenin Jose\\AppData\\Local\\Temp\\ipykernel_17548\\574676199.py:17: FutureWarning: The default of observed=False is deprecated and will be changed to True in a future version of pandas. Pass observed=False to retain current behavior or observed=True to adopt the future default and silence this warning.\n",
      "  df_unique = df_new.groupby('name').agg({'lat': 'first', 'lng': 'first'}).reset_index()\n",
      "C:\\Users\\Fenin Jose\\AppData\\Local\\Temp\\ipykernel_17548\\574676199.py:17: FutureWarning: The default of observed=False is deprecated and will be changed to True in a future version of pandas. Pass observed=False to retain current behavior or observed=True to adopt the future default and silence this warning.\n",
      "  df_unique = df_new.groupby('name').agg({'lat': 'first', 'lng': 'first'}).reset_index()\n",
      "C:\\Users\\Fenin Jose\\AppData\\Local\\Temp\\ipykernel_17548\\574676199.py:17: FutureWarning: The default of observed=False is deprecated and will be changed to True in a future version of pandas. Pass observed=False to retain current behavior or observed=True to adopt the future default and silence this warning.\n",
      "  df_unique = df_new.groupby('name').agg({'lat': 'first', 'lng': 'first'}).reset_index()\n",
      "C:\\Users\\Fenin Jose\\AppData\\Local\\Temp\\ipykernel_17548\\574676199.py:17: FutureWarning: The default of observed=False is deprecated and will be changed to True in a future version of pandas. Pass observed=False to retain current behavior or observed=True to adopt the future default and silence this warning.\n",
      "  df_unique = df_new.groupby('name').agg({'lat': 'first', 'lng': 'first'}).reset_index()\n",
      "C:\\Users\\Fenin Jose\\AppData\\Local\\Temp\\ipykernel_17548\\574676199.py:17: FutureWarning: The default of observed=False is deprecated and will be changed to True in a future version of pandas. Pass observed=False to retain current behavior or observed=True to adopt the future default and silence this warning.\n",
      "  df_unique = df_new.groupby('name').agg({'lat': 'first', 'lng': 'first'}).reset_index()\n",
      "C:\\Users\\Fenin Jose\\AppData\\Local\\Temp\\ipykernel_17548\\574676199.py:17: FutureWarning: The default of observed=False is deprecated and will be changed to True in a future version of pandas. Pass observed=False to retain current behavior or observed=True to adopt the future default and silence this warning.\n",
      "  df_unique = df_new.groupby('name').agg({'lat': 'first', 'lng': 'first'}).reset_index()\n",
      "C:\\Users\\Fenin Jose\\AppData\\Local\\Temp\\ipykernel_17548\\574676199.py:17: FutureWarning: The default of observed=False is deprecated and will be changed to True in a future version of pandas. Pass observed=False to retain current behavior or observed=True to adopt the future default and silence this warning.\n",
      "  df_unique = df_new.groupby('name').agg({'lat': 'first', 'lng': 'first'}).reset_index()\n"
     ]
    },
    {
     "name": "stdout",
     "output_type": "stream",
     "text": [
      "Map saved as D:\\df\\maps\\map_640.html\n",
      "Map saved as D:\\df\\maps\\map_641.html\n",
      "Map saved as D:\\df\\maps\\map_642.html\n",
      "Map saved as D:\\df\\maps\\map_643.html\n",
      "Map saved as D:\\df\\maps\\map_644.html\n"
     ]
    },
    {
     "name": "stderr",
     "output_type": "stream",
     "text": [
      "C:\\Users\\Fenin Jose\\AppData\\Local\\Temp\\ipykernel_17548\\574676199.py:17: FutureWarning: The default of observed=False is deprecated and will be changed to True in a future version of pandas. Pass observed=False to retain current behavior or observed=True to adopt the future default and silence this warning.\n",
      "  df_unique = df_new.groupby('name').agg({'lat': 'first', 'lng': 'first'}).reset_index()\n",
      "C:\\Users\\Fenin Jose\\AppData\\Local\\Temp\\ipykernel_17548\\574676199.py:17: FutureWarning: The default of observed=False is deprecated and will be changed to True in a future version of pandas. Pass observed=False to retain current behavior or observed=True to adopt the future default and silence this warning.\n",
      "  df_unique = df_new.groupby('name').agg({'lat': 'first', 'lng': 'first'}).reset_index()\n",
      "C:\\Users\\Fenin Jose\\AppData\\Local\\Temp\\ipykernel_17548\\574676199.py:17: FutureWarning: The default of observed=False is deprecated and will be changed to True in a future version of pandas. Pass observed=False to retain current behavior or observed=True to adopt the future default and silence this warning.\n",
      "  df_unique = df_new.groupby('name').agg({'lat': 'first', 'lng': 'first'}).reset_index()\n",
      "C:\\Users\\Fenin Jose\\AppData\\Local\\Temp\\ipykernel_17548\\574676199.py:17: FutureWarning: The default of observed=False is deprecated and will be changed to True in a future version of pandas. Pass observed=False to retain current behavior or observed=True to adopt the future default and silence this warning.\n",
      "  df_unique = df_new.groupby('name').agg({'lat': 'first', 'lng': 'first'}).reset_index()\n",
      "C:\\Users\\Fenin Jose\\AppData\\Local\\Temp\\ipykernel_17548\\574676199.py:17: FutureWarning: The default of observed=False is deprecated and will be changed to True in a future version of pandas. Pass observed=False to retain current behavior or observed=True to adopt the future default and silence this warning.\n",
      "  df_unique = df_new.groupby('name').agg({'lat': 'first', 'lng': 'first'}).reset_index()\n"
     ]
    },
    {
     "name": "stdout",
     "output_type": "stream",
     "text": [
      "Map saved as D:\\df\\maps\\map_645.html\n",
      "Map saved as D:\\df\\maps\\map_646.html\n",
      "Map saved as D:\\df\\maps\\map_647.html\n",
      "Map saved as D:\\df\\maps\\map_648.html\n",
      "Map saved as D:\\df\\maps\\map_649.html\n",
      "Map saved as D:\\df\\maps\\map_650.html\n",
      "Map saved as D:\\df\\maps\\map_651.html\n",
      "Map saved as D:\\df\\maps\\map_652.html\n"
     ]
    },
    {
     "name": "stderr",
     "output_type": "stream",
     "text": [
      "C:\\Users\\Fenin Jose\\AppData\\Local\\Temp\\ipykernel_17548\\574676199.py:17: FutureWarning: The default of observed=False is deprecated and will be changed to True in a future version of pandas. Pass observed=False to retain current behavior or observed=True to adopt the future default and silence this warning.\n",
      "  df_unique = df_new.groupby('name').agg({'lat': 'first', 'lng': 'first'}).reset_index()\n",
      "C:\\Users\\Fenin Jose\\AppData\\Local\\Temp\\ipykernel_17548\\574676199.py:17: FutureWarning: The default of observed=False is deprecated and will be changed to True in a future version of pandas. Pass observed=False to retain current behavior or observed=True to adopt the future default and silence this warning.\n",
      "  df_unique = df_new.groupby('name').agg({'lat': 'first', 'lng': 'first'}).reset_index()\n",
      "C:\\Users\\Fenin Jose\\AppData\\Local\\Temp\\ipykernel_17548\\574676199.py:17: FutureWarning: The default of observed=False is deprecated and will be changed to True in a future version of pandas. Pass observed=False to retain current behavior or observed=True to adopt the future default and silence this warning.\n",
      "  df_unique = df_new.groupby('name').agg({'lat': 'first', 'lng': 'first'}).reset_index()\n",
      "C:\\Users\\Fenin Jose\\AppData\\Local\\Temp\\ipykernel_17548\\574676199.py:17: FutureWarning: The default of observed=False is deprecated and will be changed to True in a future version of pandas. Pass observed=False to retain current behavior or observed=True to adopt the future default and silence this warning.\n",
      "  df_unique = df_new.groupby('name').agg({'lat': 'first', 'lng': 'first'}).reset_index()\n",
      "C:\\Users\\Fenin Jose\\AppData\\Local\\Temp\\ipykernel_17548\\574676199.py:17: FutureWarning: The default of observed=False is deprecated and will be changed to True in a future version of pandas. Pass observed=False to retain current behavior or observed=True to adopt the future default and silence this warning.\n",
      "  df_unique = df_new.groupby('name').agg({'lat': 'first', 'lng': 'first'}).reset_index()\n",
      "C:\\Users\\Fenin Jose\\AppData\\Local\\Temp\\ipykernel_17548\\574676199.py:17: FutureWarning: The default of observed=False is deprecated and will be changed to True in a future version of pandas. Pass observed=False to retain current behavior or observed=True to adopt the future default and silence this warning.\n",
      "  df_unique = df_new.groupby('name').agg({'lat': 'first', 'lng': 'first'}).reset_index()\n",
      "C:\\Users\\Fenin Jose\\AppData\\Local\\Temp\\ipykernel_17548\\574676199.py:17: FutureWarning: The default of observed=False is deprecated and will be changed to True in a future version of pandas. Pass observed=False to retain current behavior or observed=True to adopt the future default and silence this warning.\n",
      "  df_unique = df_new.groupby('name').agg({'lat': 'first', 'lng': 'first'}).reset_index()\n",
      "C:\\Users\\Fenin Jose\\AppData\\Local\\Temp\\ipykernel_17548\\574676199.py:17: FutureWarning: The default of observed=False is deprecated and will be changed to True in a future version of pandas. Pass observed=False to retain current behavior or observed=True to adopt the future default and silence this warning.\n",
      "  df_unique = df_new.groupby('name').agg({'lat': 'first', 'lng': 'first'}).reset_index()\n"
     ]
    },
    {
     "name": "stdout",
     "output_type": "stream",
     "text": [
      "Map saved as D:\\df\\maps\\map_653.html\n",
      "Map saved as D:\\df\\maps\\map_654.html\n",
      "Map saved as D:\\df\\maps\\map_655.html\n",
      "Map saved as D:\\df\\maps\\map_656.html\n",
      "Map saved as D:\\df\\maps\\map_657.html\n",
      "Map saved as D:\\df\\maps\\map_658.html\n",
      "Map saved as D:\\df\\maps\\map_659.html\n",
      "Map saved as D:\\df\\maps\\map_660.html\n",
      "Map saved as D:\\df\\maps\\map_661.html\n"
     ]
    },
    {
     "name": "stderr",
     "output_type": "stream",
     "text": [
      "C:\\Users\\Fenin Jose\\AppData\\Local\\Temp\\ipykernel_17548\\574676199.py:17: FutureWarning: The default of observed=False is deprecated and will be changed to True in a future version of pandas. Pass observed=False to retain current behavior or observed=True to adopt the future default and silence this warning.\n",
      "  df_unique = df_new.groupby('name').agg({'lat': 'first', 'lng': 'first'}).reset_index()\n",
      "C:\\Users\\Fenin Jose\\AppData\\Local\\Temp\\ipykernel_17548\\574676199.py:17: FutureWarning: The default of observed=False is deprecated and will be changed to True in a future version of pandas. Pass observed=False to retain current behavior or observed=True to adopt the future default and silence this warning.\n",
      "  df_unique = df_new.groupby('name').agg({'lat': 'first', 'lng': 'first'}).reset_index()\n",
      "C:\\Users\\Fenin Jose\\AppData\\Local\\Temp\\ipykernel_17548\\574676199.py:17: FutureWarning: The default of observed=False is deprecated and will be changed to True in a future version of pandas. Pass observed=False to retain current behavior or observed=True to adopt the future default and silence this warning.\n",
      "  df_unique = df_new.groupby('name').agg({'lat': 'first', 'lng': 'first'}).reset_index()\n",
      "C:\\Users\\Fenin Jose\\AppData\\Local\\Temp\\ipykernel_17548\\574676199.py:17: FutureWarning: The default of observed=False is deprecated and will be changed to True in a future version of pandas. Pass observed=False to retain current behavior or observed=True to adopt the future default and silence this warning.\n",
      "  df_unique = df_new.groupby('name').agg({'lat': 'first', 'lng': 'first'}).reset_index()\n",
      "C:\\Users\\Fenin Jose\\AppData\\Local\\Temp\\ipykernel_17548\\574676199.py:17: FutureWarning: The default of observed=False is deprecated and will be changed to True in a future version of pandas. Pass observed=False to retain current behavior or observed=True to adopt the future default and silence this warning.\n",
      "  df_unique = df_new.groupby('name').agg({'lat': 'first', 'lng': 'first'}).reset_index()\n",
      "C:\\Users\\Fenin Jose\\AppData\\Local\\Temp\\ipykernel_17548\\574676199.py:17: FutureWarning: The default of observed=False is deprecated and will be changed to True in a future version of pandas. Pass observed=False to retain current behavior or observed=True to adopt the future default and silence this warning.\n",
      "  df_unique = df_new.groupby('name').agg({'lat': 'first', 'lng': 'first'}).reset_index()\n",
      "C:\\Users\\Fenin Jose\\AppData\\Local\\Temp\\ipykernel_17548\\574676199.py:17: FutureWarning: The default of observed=False is deprecated and will be changed to True in a future version of pandas. Pass observed=False to retain current behavior or observed=True to adopt the future default and silence this warning.\n",
      "  df_unique = df_new.groupby('name').agg({'lat': 'first', 'lng': 'first'}).reset_index()\n",
      "C:\\Users\\Fenin Jose\\AppData\\Local\\Temp\\ipykernel_17548\\574676199.py:17: FutureWarning: The default of observed=False is deprecated and will be changed to True in a future version of pandas. Pass observed=False to retain current behavior or observed=True to adopt the future default and silence this warning.\n",
      "  df_unique = df_new.groupby('name').agg({'lat': 'first', 'lng': 'first'}).reset_index()\n",
      "C:\\Users\\Fenin Jose\\AppData\\Local\\Temp\\ipykernel_17548\\574676199.py:17: FutureWarning: The default of observed=False is deprecated and will be changed to True in a future version of pandas. Pass observed=False to retain current behavior or observed=True to adopt the future default and silence this warning.\n",
      "  df_unique = df_new.groupby('name').agg({'lat': 'first', 'lng': 'first'}).reset_index()\n"
     ]
    },
    {
     "name": "stdout",
     "output_type": "stream",
     "text": [
      "Map saved as D:\\df\\maps\\map_662.html\n",
      "Map saved as D:\\df\\maps\\map_663.html\n",
      "Map saved as D:\\df\\maps\\map_664.html\n",
      "Map saved as D:\\df\\maps\\map_665.html\n",
      "Map saved as D:\\df\\maps\\map_666.html\n",
      "Map saved as D:\\df\\maps\\map_667.html\n",
      "Map saved as D:\\df\\maps\\map_668.html\n"
     ]
    },
    {
     "name": "stderr",
     "output_type": "stream",
     "text": [
      "C:\\Users\\Fenin Jose\\AppData\\Local\\Temp\\ipykernel_17548\\574676199.py:17: FutureWarning: The default of observed=False is deprecated and will be changed to True in a future version of pandas. Pass observed=False to retain current behavior or observed=True to adopt the future default and silence this warning.\n",
      "  df_unique = df_new.groupby('name').agg({'lat': 'first', 'lng': 'first'}).reset_index()\n",
      "C:\\Users\\Fenin Jose\\AppData\\Local\\Temp\\ipykernel_17548\\574676199.py:17: FutureWarning: The default of observed=False is deprecated and will be changed to True in a future version of pandas. Pass observed=False to retain current behavior or observed=True to adopt the future default and silence this warning.\n",
      "  df_unique = df_new.groupby('name').agg({'lat': 'first', 'lng': 'first'}).reset_index()\n",
      "C:\\Users\\Fenin Jose\\AppData\\Local\\Temp\\ipykernel_17548\\574676199.py:17: FutureWarning: The default of observed=False is deprecated and will be changed to True in a future version of pandas. Pass observed=False to retain current behavior or observed=True to adopt the future default and silence this warning.\n",
      "  df_unique = df_new.groupby('name').agg({'lat': 'first', 'lng': 'first'}).reset_index()\n",
      "C:\\Users\\Fenin Jose\\AppData\\Local\\Temp\\ipykernel_17548\\574676199.py:17: FutureWarning: The default of observed=False is deprecated and will be changed to True in a future version of pandas. Pass observed=False to retain current behavior or observed=True to adopt the future default and silence this warning.\n",
      "  df_unique = df_new.groupby('name').agg({'lat': 'first', 'lng': 'first'}).reset_index()\n",
      "C:\\Users\\Fenin Jose\\AppData\\Local\\Temp\\ipykernel_17548\\574676199.py:17: FutureWarning: The default of observed=False is deprecated and will be changed to True in a future version of pandas. Pass observed=False to retain current behavior or observed=True to adopt the future default and silence this warning.\n",
      "  df_unique = df_new.groupby('name').agg({'lat': 'first', 'lng': 'first'}).reset_index()\n",
      "C:\\Users\\Fenin Jose\\AppData\\Local\\Temp\\ipykernel_17548\\574676199.py:17: FutureWarning: The default of observed=False is deprecated and will be changed to True in a future version of pandas. Pass observed=False to retain current behavior or observed=True to adopt the future default and silence this warning.\n",
      "  df_unique = df_new.groupby('name').agg({'lat': 'first', 'lng': 'first'}).reset_index()\n",
      "C:\\Users\\Fenin Jose\\AppData\\Local\\Temp\\ipykernel_17548\\574676199.py:17: FutureWarning: The default of observed=False is deprecated and will be changed to True in a future version of pandas. Pass observed=False to retain current behavior or observed=True to adopt the future default and silence this warning.\n",
      "  df_unique = df_new.groupby('name').agg({'lat': 'first', 'lng': 'first'}).reset_index()\n"
     ]
    },
    {
     "name": "stdout",
     "output_type": "stream",
     "text": [
      "Map saved as D:\\df\\maps\\map_669.html\n"
     ]
    },
    {
     "name": "stderr",
     "output_type": "stream",
     "text": [
      "C:\\Users\\Fenin Jose\\AppData\\Local\\Temp\\ipykernel_17548\\574676199.py:17: FutureWarning: The default of observed=False is deprecated and will be changed to True in a future version of pandas. Pass observed=False to retain current behavior or observed=True to adopt the future default and silence this warning.\n",
      "  df_unique = df_new.groupby('name').agg({'lat': 'first', 'lng': 'first'}).reset_index()\n"
     ]
    },
    {
     "name": "stdout",
     "output_type": "stream",
     "text": [
      "Map saved as D:\\df\\maps\\map_670.html\n"
     ]
    },
    {
     "name": "stderr",
     "output_type": "stream",
     "text": [
      "C:\\Users\\Fenin Jose\\AppData\\Local\\Temp\\ipykernel_17548\\574676199.py:17: FutureWarning: The default of observed=False is deprecated and will be changed to True in a future version of pandas. Pass observed=False to retain current behavior or observed=True to adopt the future default and silence this warning.\n",
      "  df_unique = df_new.groupby('name').agg({'lat': 'first', 'lng': 'first'}).reset_index()\n"
     ]
    },
    {
     "name": "stdout",
     "output_type": "stream",
     "text": [
      "Map saved as D:\\df\\maps\\map_671.html\n"
     ]
    },
    {
     "name": "stderr",
     "output_type": "stream",
     "text": [
      "C:\\Users\\Fenin Jose\\AppData\\Local\\Temp\\ipykernel_17548\\574676199.py:17: FutureWarning: The default of observed=False is deprecated and will be changed to True in a future version of pandas. Pass observed=False to retain current behavior or observed=True to adopt the future default and silence this warning.\n",
      "  df_unique = df_new.groupby('name').agg({'lat': 'first', 'lng': 'first'}).reset_index()\n"
     ]
    },
    {
     "name": "stdout",
     "output_type": "stream",
     "text": [
      "Map saved as D:\\df\\maps\\map_672.html\n"
     ]
    },
    {
     "name": "stderr",
     "output_type": "stream",
     "text": [
      "C:\\Users\\Fenin Jose\\AppData\\Local\\Temp\\ipykernel_17548\\574676199.py:17: FutureWarning: The default of observed=False is deprecated and will be changed to True in a future version of pandas. Pass observed=False to retain current behavior or observed=True to adopt the future default and silence this warning.\n",
      "  df_unique = df_new.groupby('name').agg({'lat': 'first', 'lng': 'first'}).reset_index()\n"
     ]
    },
    {
     "name": "stdout",
     "output_type": "stream",
     "text": [
      "Map saved as D:\\df\\maps\\map_673.html\n"
     ]
    },
    {
     "name": "stderr",
     "output_type": "stream",
     "text": [
      "C:\\Users\\Fenin Jose\\AppData\\Local\\Temp\\ipykernel_17548\\574676199.py:17: FutureWarning: The default of observed=False is deprecated and will be changed to True in a future version of pandas. Pass observed=False to retain current behavior or observed=True to adopt the future default and silence this warning.\n",
      "  df_unique = df_new.groupby('name').agg({'lat': 'first', 'lng': 'first'}).reset_index()\n"
     ]
    },
    {
     "name": "stdout",
     "output_type": "stream",
     "text": [
      "Map saved as D:\\df\\maps\\map_674.html\n"
     ]
    },
    {
     "name": "stderr",
     "output_type": "stream",
     "text": [
      "C:\\Users\\Fenin Jose\\AppData\\Local\\Temp\\ipykernel_17548\\574676199.py:17: FutureWarning: The default of observed=False is deprecated and will be changed to True in a future version of pandas. Pass observed=False to retain current behavior or observed=True to adopt the future default and silence this warning.\n",
      "  df_unique = df_new.groupby('name').agg({'lat': 'first', 'lng': 'first'}).reset_index()\n"
     ]
    },
    {
     "name": "stdout",
     "output_type": "stream",
     "text": [
      "Map saved as D:\\df\\maps\\map_675.html\n"
     ]
    },
    {
     "name": "stderr",
     "output_type": "stream",
     "text": [
      "C:\\Users\\Fenin Jose\\AppData\\Local\\Temp\\ipykernel_17548\\574676199.py:17: FutureWarning: The default of observed=False is deprecated and will be changed to True in a future version of pandas. Pass observed=False to retain current behavior or observed=True to adopt the future default and silence this warning.\n",
      "  df_unique = df_new.groupby('name').agg({'lat': 'first', 'lng': 'first'}).reset_index()\n"
     ]
    },
    {
     "name": "stdout",
     "output_type": "stream",
     "text": [
      "Map saved as D:\\df\\maps\\map_676.html\n"
     ]
    },
    {
     "name": "stderr",
     "output_type": "stream",
     "text": [
      "C:\\Users\\Fenin Jose\\AppData\\Local\\Temp\\ipykernel_17548\\574676199.py:17: FutureWarning: The default of observed=False is deprecated and will be changed to True in a future version of pandas. Pass observed=False to retain current behavior or observed=True to adopt the future default and silence this warning.\n",
      "  df_unique = df_new.groupby('name').agg({'lat': 'first', 'lng': 'first'}).reset_index()\n"
     ]
    },
    {
     "name": "stdout",
     "output_type": "stream",
     "text": [
      "Map saved as D:\\df\\maps\\map_677.html\n"
     ]
    },
    {
     "name": "stderr",
     "output_type": "stream",
     "text": [
      "C:\\Users\\Fenin Jose\\AppData\\Local\\Temp\\ipykernel_17548\\574676199.py:17: FutureWarning: The default of observed=False is deprecated and will be changed to True in a future version of pandas. Pass observed=False to retain current behavior or observed=True to adopt the future default and silence this warning.\n",
      "  df_unique = df_new.groupby('name').agg({'lat': 'first', 'lng': 'first'}).reset_index()\n"
     ]
    },
    {
     "name": "stdout",
     "output_type": "stream",
     "text": [
      "Map saved as D:\\df\\maps\\map_678.html\n"
     ]
    },
    {
     "name": "stderr",
     "output_type": "stream",
     "text": [
      "C:\\Users\\Fenin Jose\\AppData\\Local\\Temp\\ipykernel_17548\\574676199.py:17: FutureWarning: The default of observed=False is deprecated and will be changed to True in a future version of pandas. Pass observed=False to retain current behavior or observed=True to adopt the future default and silence this warning.\n",
      "  df_unique = df_new.groupby('name').agg({'lat': 'first', 'lng': 'first'}).reset_index()\n"
     ]
    },
    {
     "name": "stdout",
     "output_type": "stream",
     "text": [
      "Map saved as D:\\df\\maps\\map_679.html\n"
     ]
    },
    {
     "name": "stderr",
     "output_type": "stream",
     "text": [
      "C:\\Users\\Fenin Jose\\AppData\\Local\\Temp\\ipykernel_17548\\574676199.py:17: FutureWarning: The default of observed=False is deprecated and will be changed to True in a future version of pandas. Pass observed=False to retain current behavior or observed=True to adopt the future default and silence this warning.\n",
      "  df_unique = df_new.groupby('name').agg({'lat': 'first', 'lng': 'first'}).reset_index()\n"
     ]
    },
    {
     "name": "stdout",
     "output_type": "stream",
     "text": [
      "Map saved as D:\\df\\maps\\map_680.html\n"
     ]
    },
    {
     "name": "stderr",
     "output_type": "stream",
     "text": [
      "C:\\Users\\Fenin Jose\\AppData\\Local\\Temp\\ipykernel_17548\\574676199.py:17: FutureWarning: The default of observed=False is deprecated and will be changed to True in a future version of pandas. Pass observed=False to retain current behavior or observed=True to adopt the future default and silence this warning.\n",
      "  df_unique = df_new.groupby('name').agg({'lat': 'first', 'lng': 'first'}).reset_index()\n"
     ]
    },
    {
     "name": "stdout",
     "output_type": "stream",
     "text": [
      "Map saved as D:\\df\\maps\\map_681.html\n"
     ]
    },
    {
     "name": "stderr",
     "output_type": "stream",
     "text": [
      "C:\\Users\\Fenin Jose\\AppData\\Local\\Temp\\ipykernel_17548\\574676199.py:17: FutureWarning: The default of observed=False is deprecated and will be changed to True in a future version of pandas. Pass observed=False to retain current behavior or observed=True to adopt the future default and silence this warning.\n",
      "  df_unique = df_new.groupby('name').agg({'lat': 'first', 'lng': 'first'}).reset_index()\n"
     ]
    },
    {
     "name": "stdout",
     "output_type": "stream",
     "text": [
      "Map saved as D:\\df\\maps\\map_682.html\n"
     ]
    },
    {
     "name": "stderr",
     "output_type": "stream",
     "text": [
      "C:\\Users\\Fenin Jose\\AppData\\Local\\Temp\\ipykernel_17548\\574676199.py:17: FutureWarning: The default of observed=False is deprecated and will be changed to True in a future version of pandas. Pass observed=False to retain current behavior or observed=True to adopt the future default and silence this warning.\n",
      "  df_unique = df_new.groupby('name').agg({'lat': 'first', 'lng': 'first'}).reset_index()\n"
     ]
    },
    {
     "name": "stdout",
     "output_type": "stream",
     "text": [
      "Map saved as D:\\df\\maps\\map_683.html\n"
     ]
    },
    {
     "name": "stderr",
     "output_type": "stream",
     "text": [
      "C:\\Users\\Fenin Jose\\AppData\\Local\\Temp\\ipykernel_17548\\574676199.py:17: FutureWarning: The default of observed=False is deprecated and will be changed to True in a future version of pandas. Pass observed=False to retain current behavior or observed=True to adopt the future default and silence this warning.\n",
      "  df_unique = df_new.groupby('name').agg({'lat': 'first', 'lng': 'first'}).reset_index()\n"
     ]
    },
    {
     "name": "stdout",
     "output_type": "stream",
     "text": [
      "Map saved as D:\\df\\maps\\map_684.html\n"
     ]
    },
    {
     "name": "stderr",
     "output_type": "stream",
     "text": [
      "C:\\Users\\Fenin Jose\\AppData\\Local\\Temp\\ipykernel_17548\\574676199.py:17: FutureWarning: The default of observed=False is deprecated and will be changed to True in a future version of pandas. Pass observed=False to retain current behavior or observed=True to adopt the future default and silence this warning.\n",
      "  df_unique = df_new.groupby('name').agg({'lat': 'first', 'lng': 'first'}).reset_index()\n"
     ]
    },
    {
     "name": "stdout",
     "output_type": "stream",
     "text": [
      "Map saved as D:\\df\\maps\\map_685.html\n"
     ]
    },
    {
     "name": "stderr",
     "output_type": "stream",
     "text": [
      "C:\\Users\\Fenin Jose\\AppData\\Local\\Temp\\ipykernel_17548\\574676199.py:17: FutureWarning: The default of observed=False is deprecated and will be changed to True in a future version of pandas. Pass observed=False to retain current behavior or observed=True to adopt the future default and silence this warning.\n",
      "  df_unique = df_new.groupby('name').agg({'lat': 'first', 'lng': 'first'}).reset_index()\n"
     ]
    },
    {
     "name": "stdout",
     "output_type": "stream",
     "text": [
      "Map saved as D:\\df\\maps\\map_686.html\n"
     ]
    },
    {
     "name": "stderr",
     "output_type": "stream",
     "text": [
      "C:\\Users\\Fenin Jose\\AppData\\Local\\Temp\\ipykernel_17548\\574676199.py:17: FutureWarning: The default of observed=False is deprecated and will be changed to True in a future version of pandas. Pass observed=False to retain current behavior or observed=True to adopt the future default and silence this warning.\n",
      "  df_unique = df_new.groupby('name').agg({'lat': 'first', 'lng': 'first'}).reset_index()\n"
     ]
    },
    {
     "name": "stdout",
     "output_type": "stream",
     "text": [
      "Map saved as D:\\df\\maps\\map_687.html\n"
     ]
    },
    {
     "name": "stderr",
     "output_type": "stream",
     "text": [
      "C:\\Users\\Fenin Jose\\AppData\\Local\\Temp\\ipykernel_17548\\574676199.py:17: FutureWarning: The default of observed=False is deprecated and will be changed to True in a future version of pandas. Pass observed=False to retain current behavior or observed=True to adopt the future default and silence this warning.\n",
      "  df_unique = df_new.groupby('name').agg({'lat': 'first', 'lng': 'first'}).reset_index()\n"
     ]
    },
    {
     "name": "stdout",
     "output_type": "stream",
     "text": [
      "Map saved as D:\\df\\maps\\map_688.html\n"
     ]
    },
    {
     "name": "stderr",
     "output_type": "stream",
     "text": [
      "C:\\Users\\Fenin Jose\\AppData\\Local\\Temp\\ipykernel_17548\\574676199.py:17: FutureWarning: The default of observed=False is deprecated and will be changed to True in a future version of pandas. Pass observed=False to retain current behavior or observed=True to adopt the future default and silence this warning.\n",
      "  df_unique = df_new.groupby('name').agg({'lat': 'first', 'lng': 'first'}).reset_index()\n"
     ]
    },
    {
     "name": "stdout",
     "output_type": "stream",
     "text": [
      "Map saved as D:\\df\\maps\\map_689.html\n"
     ]
    },
    {
     "name": "stderr",
     "output_type": "stream",
     "text": [
      "C:\\Users\\Fenin Jose\\AppData\\Local\\Temp\\ipykernel_17548\\574676199.py:17: FutureWarning: The default of observed=False is deprecated and will be changed to True in a future version of pandas. Pass observed=False to retain current behavior or observed=True to adopt the future default and silence this warning.\n",
      "  df_unique = df_new.groupby('name').agg({'lat': 'first', 'lng': 'first'}).reset_index()\n"
     ]
    },
    {
     "name": "stdout",
     "output_type": "stream",
     "text": [
      "Map saved as D:\\df\\maps\\map_690.html\n"
     ]
    },
    {
     "name": "stderr",
     "output_type": "stream",
     "text": [
      "C:\\Users\\Fenin Jose\\AppData\\Local\\Temp\\ipykernel_17548\\574676199.py:17: FutureWarning: The default of observed=False is deprecated and will be changed to True in a future version of pandas. Pass observed=False to retain current behavior or observed=True to adopt the future default and silence this warning.\n",
      "  df_unique = df_new.groupby('name').agg({'lat': 'first', 'lng': 'first'}).reset_index()\n"
     ]
    },
    {
     "name": "stdout",
     "output_type": "stream",
     "text": [
      "Map saved as D:\\df\\maps\\map_691.html\n"
     ]
    },
    {
     "name": "stderr",
     "output_type": "stream",
     "text": [
      "C:\\Users\\Fenin Jose\\AppData\\Local\\Temp\\ipykernel_17548\\574676199.py:17: FutureWarning: The default of observed=False is deprecated and will be changed to True in a future version of pandas. Pass observed=False to retain current behavior or observed=True to adopt the future default and silence this warning.\n",
      "  df_unique = df_new.groupby('name').agg({'lat': 'first', 'lng': 'first'}).reset_index()\n"
     ]
    },
    {
     "name": "stdout",
     "output_type": "stream",
     "text": [
      "Map saved as D:\\df\\maps\\map_692.html\n"
     ]
    },
    {
     "name": "stderr",
     "output_type": "stream",
     "text": [
      "C:\\Users\\Fenin Jose\\AppData\\Local\\Temp\\ipykernel_17548\\574676199.py:17: FutureWarning: The default of observed=False is deprecated and will be changed to True in a future version of pandas. Pass observed=False to retain current behavior or observed=True to adopt the future default and silence this warning.\n",
      "  df_unique = df_new.groupby('name').agg({'lat': 'first', 'lng': 'first'}).reset_index()\n"
     ]
    },
    {
     "name": "stdout",
     "output_type": "stream",
     "text": [
      "Map saved as D:\\df\\maps\\map_693.html\n"
     ]
    },
    {
     "name": "stderr",
     "output_type": "stream",
     "text": [
      "C:\\Users\\Fenin Jose\\AppData\\Local\\Temp\\ipykernel_17548\\574676199.py:17: FutureWarning: The default of observed=False is deprecated and will be changed to True in a future version of pandas. Pass observed=False to retain current behavior or observed=True to adopt the future default and silence this warning.\n",
      "  df_unique = df_new.groupby('name').agg({'lat': 'first', 'lng': 'first'}).reset_index()\n"
     ]
    },
    {
     "name": "stdout",
     "output_type": "stream",
     "text": [
      "Map saved as D:\\df\\maps\\map_694.html\n",
      "Map saved as D:\\df\\maps\\map_695.html\n"
     ]
    },
    {
     "name": "stderr",
     "output_type": "stream",
     "text": [
      "C:\\Users\\Fenin Jose\\AppData\\Local\\Temp\\ipykernel_17548\\574676199.py:17: FutureWarning: The default of observed=False is deprecated and will be changed to True in a future version of pandas. Pass observed=False to retain current behavior or observed=True to adopt the future default and silence this warning.\n",
      "  df_unique = df_new.groupby('name').agg({'lat': 'first', 'lng': 'first'}).reset_index()\n",
      "C:\\Users\\Fenin Jose\\AppData\\Local\\Temp\\ipykernel_17548\\574676199.py:17: FutureWarning: The default of observed=False is deprecated and will be changed to True in a future version of pandas. Pass observed=False to retain current behavior or observed=True to adopt the future default and silence this warning.\n",
      "  df_unique = df_new.groupby('name').agg({'lat': 'first', 'lng': 'first'}).reset_index()\n"
     ]
    },
    {
     "name": "stdout",
     "output_type": "stream",
     "text": [
      "Map saved as D:\\df\\maps\\map_696.html\n"
     ]
    },
    {
     "name": "stderr",
     "output_type": "stream",
     "text": [
      "C:\\Users\\Fenin Jose\\AppData\\Local\\Temp\\ipykernel_17548\\574676199.py:17: FutureWarning: The default of observed=False is deprecated and will be changed to True in a future version of pandas. Pass observed=False to retain current behavior or observed=True to adopt the future default and silence this warning.\n",
      "  df_unique = df_new.groupby('name').agg({'lat': 'first', 'lng': 'first'}).reset_index()\n"
     ]
    },
    {
     "name": "stdout",
     "output_type": "stream",
     "text": [
      "Map saved as D:\\df\\maps\\map_697.html\n",
      "Map saved as D:\\df\\maps\\map_698.html\n"
     ]
    },
    {
     "name": "stderr",
     "output_type": "stream",
     "text": [
      "C:\\Users\\Fenin Jose\\AppData\\Local\\Temp\\ipykernel_17548\\574676199.py:17: FutureWarning: The default of observed=False is deprecated and will be changed to True in a future version of pandas. Pass observed=False to retain current behavior or observed=True to adopt the future default and silence this warning.\n",
      "  df_unique = df_new.groupby('name').agg({'lat': 'first', 'lng': 'first'}).reset_index()\n",
      "C:\\Users\\Fenin Jose\\AppData\\Local\\Temp\\ipykernel_17548\\574676199.py:17: FutureWarning: The default of observed=False is deprecated and will be changed to True in a future version of pandas. Pass observed=False to retain current behavior or observed=True to adopt the future default and silence this warning.\n",
      "  df_unique = df_new.groupby('name').agg({'lat': 'first', 'lng': 'first'}).reset_index()\n"
     ]
    },
    {
     "name": "stdout",
     "output_type": "stream",
     "text": [
      "Map saved as D:\\df\\maps\\map_699.html\n"
     ]
    },
    {
     "name": "stderr",
     "output_type": "stream",
     "text": [
      "C:\\Users\\Fenin Jose\\AppData\\Local\\Temp\\ipykernel_17548\\574676199.py:17: FutureWarning: The default of observed=False is deprecated and will be changed to True in a future version of pandas. Pass observed=False to retain current behavior or observed=True to adopt the future default and silence this warning.\n",
      "  df_unique = df_new.groupby('name').agg({'lat': 'first', 'lng': 'first'}).reset_index()\n"
     ]
    },
    {
     "name": "stdout",
     "output_type": "stream",
     "text": [
      "Map saved as D:\\df\\maps\\map_700.html\n",
      "Map saved as D:\\df\\maps\\map_701.html\n"
     ]
    },
    {
     "name": "stderr",
     "output_type": "stream",
     "text": [
      "C:\\Users\\Fenin Jose\\AppData\\Local\\Temp\\ipykernel_17548\\574676199.py:17: FutureWarning: The default of observed=False is deprecated and will be changed to True in a future version of pandas. Pass observed=False to retain current behavior or observed=True to adopt the future default and silence this warning.\n",
      "  df_unique = df_new.groupby('name').agg({'lat': 'first', 'lng': 'first'}).reset_index()\n",
      "C:\\Users\\Fenin Jose\\AppData\\Local\\Temp\\ipykernel_17548\\574676199.py:17: FutureWarning: The default of observed=False is deprecated and will be changed to True in a future version of pandas. Pass observed=False to retain current behavior or observed=True to adopt the future default and silence this warning.\n",
      "  df_unique = df_new.groupby('name').agg({'lat': 'first', 'lng': 'first'}).reset_index()\n"
     ]
    },
    {
     "name": "stdout",
     "output_type": "stream",
     "text": [
      "Map saved as D:\\df\\maps\\map_702.html\n",
      "Map saved as D:\\df\\maps\\map_703.html\n",
      "Map saved as D:\\df\\maps\\map_704.html\n"
     ]
    },
    {
     "name": "stderr",
     "output_type": "stream",
     "text": [
      "C:\\Users\\Fenin Jose\\AppData\\Local\\Temp\\ipykernel_17548\\574676199.py:17: FutureWarning: The default of observed=False is deprecated and will be changed to True in a future version of pandas. Pass observed=False to retain current behavior or observed=True to adopt the future default and silence this warning.\n",
      "  df_unique = df_new.groupby('name').agg({'lat': 'first', 'lng': 'first'}).reset_index()\n",
      "C:\\Users\\Fenin Jose\\AppData\\Local\\Temp\\ipykernel_17548\\574676199.py:17: FutureWarning: The default of observed=False is deprecated and will be changed to True in a future version of pandas. Pass observed=False to retain current behavior or observed=True to adopt the future default and silence this warning.\n",
      "  df_unique = df_new.groupby('name').agg({'lat': 'first', 'lng': 'first'}).reset_index()\n",
      "C:\\Users\\Fenin Jose\\AppData\\Local\\Temp\\ipykernel_17548\\574676199.py:17: FutureWarning: The default of observed=False is deprecated and will be changed to True in a future version of pandas. Pass observed=False to retain current behavior or observed=True to adopt the future default and silence this warning.\n",
      "  df_unique = df_new.groupby('name').agg({'lat': 'first', 'lng': 'first'}).reset_index()\n"
     ]
    },
    {
     "name": "stdout",
     "output_type": "stream",
     "text": [
      "Map saved as D:\\df\\maps\\map_705.html\n",
      "Map saved as D:\\df\\maps\\map_706.html\n",
      "Map saved as D:\\df\\maps\\map_707.html\n"
     ]
    },
    {
     "name": "stderr",
     "output_type": "stream",
     "text": [
      "C:\\Users\\Fenin Jose\\AppData\\Local\\Temp\\ipykernel_17548\\574676199.py:17: FutureWarning: The default of observed=False is deprecated and will be changed to True in a future version of pandas. Pass observed=False to retain current behavior or observed=True to adopt the future default and silence this warning.\n",
      "  df_unique = df_new.groupby('name').agg({'lat': 'first', 'lng': 'first'}).reset_index()\n",
      "C:\\Users\\Fenin Jose\\AppData\\Local\\Temp\\ipykernel_17548\\574676199.py:17: FutureWarning: The default of observed=False is deprecated and will be changed to True in a future version of pandas. Pass observed=False to retain current behavior or observed=True to adopt the future default and silence this warning.\n",
      "  df_unique = df_new.groupby('name').agg({'lat': 'first', 'lng': 'first'}).reset_index()\n",
      "C:\\Users\\Fenin Jose\\AppData\\Local\\Temp\\ipykernel_17548\\574676199.py:17: FutureWarning: The default of observed=False is deprecated and will be changed to True in a future version of pandas. Pass observed=False to retain current behavior or observed=True to adopt the future default and silence this warning.\n",
      "  df_unique = df_new.groupby('name').agg({'lat': 'first', 'lng': 'first'}).reset_index()\n"
     ]
    },
    {
     "name": "stdout",
     "output_type": "stream",
     "text": [
      "Map saved as D:\\df\\maps\\map_708.html\n",
      "Map saved as D:\\df\\maps\\map_709.html\n",
      "Map saved as D:\\df\\maps\\map_710.html\n"
     ]
    },
    {
     "name": "stderr",
     "output_type": "stream",
     "text": [
      "C:\\Users\\Fenin Jose\\AppData\\Local\\Temp\\ipykernel_17548\\574676199.py:17: FutureWarning: The default of observed=False is deprecated and will be changed to True in a future version of pandas. Pass observed=False to retain current behavior or observed=True to adopt the future default and silence this warning.\n",
      "  df_unique = df_new.groupby('name').agg({'lat': 'first', 'lng': 'first'}).reset_index()\n",
      "C:\\Users\\Fenin Jose\\AppData\\Local\\Temp\\ipykernel_17548\\574676199.py:17: FutureWarning: The default of observed=False is deprecated and will be changed to True in a future version of pandas. Pass observed=False to retain current behavior or observed=True to adopt the future default and silence this warning.\n",
      "  df_unique = df_new.groupby('name').agg({'lat': 'first', 'lng': 'first'}).reset_index()\n",
      "C:\\Users\\Fenin Jose\\AppData\\Local\\Temp\\ipykernel_17548\\574676199.py:17: FutureWarning: The default of observed=False is deprecated and will be changed to True in a future version of pandas. Pass observed=False to retain current behavior or observed=True to adopt the future default and silence this warning.\n",
      "  df_unique = df_new.groupby('name').agg({'lat': 'first', 'lng': 'first'}).reset_index()\n"
     ]
    },
    {
     "name": "stdout",
     "output_type": "stream",
     "text": [
      "Map saved as D:\\df\\maps\\map_711.html\n"
     ]
    },
    {
     "name": "stderr",
     "output_type": "stream",
     "text": [
      "C:\\Users\\Fenin Jose\\AppData\\Local\\Temp\\ipykernel_17548\\574676199.py:17: FutureWarning: The default of observed=False is deprecated and will be changed to True in a future version of pandas. Pass observed=False to retain current behavior or observed=True to adopt the future default and silence this warning.\n",
      "  df_unique = df_new.groupby('name').agg({'lat': 'first', 'lng': 'first'}).reset_index()\n"
     ]
    },
    {
     "name": "stdout",
     "output_type": "stream",
     "text": [
      "Map saved as D:\\df\\maps\\map_712.html\n",
      "Map saved as D:\\df\\maps\\map_713.html\n",
      "Map saved as D:\\df\\maps\\map_714.html\n"
     ]
    },
    {
     "name": "stderr",
     "output_type": "stream",
     "text": [
      "C:\\Users\\Fenin Jose\\AppData\\Local\\Temp\\ipykernel_17548\\574676199.py:17: FutureWarning: The default of observed=False is deprecated and will be changed to True in a future version of pandas. Pass observed=False to retain current behavior or observed=True to adopt the future default and silence this warning.\n",
      "  df_unique = df_new.groupby('name').agg({'lat': 'first', 'lng': 'first'}).reset_index()\n",
      "C:\\Users\\Fenin Jose\\AppData\\Local\\Temp\\ipykernel_17548\\574676199.py:17: FutureWarning: The default of observed=False is deprecated and will be changed to True in a future version of pandas. Pass observed=False to retain current behavior or observed=True to adopt the future default and silence this warning.\n",
      "  df_unique = df_new.groupby('name').agg({'lat': 'first', 'lng': 'first'}).reset_index()\n",
      "C:\\Users\\Fenin Jose\\AppData\\Local\\Temp\\ipykernel_17548\\574676199.py:17: FutureWarning: The default of observed=False is deprecated and will be changed to True in a future version of pandas. Pass observed=False to retain current behavior or observed=True to adopt the future default and silence this warning.\n",
      "  df_unique = df_new.groupby('name').agg({'lat': 'first', 'lng': 'first'}).reset_index()\n"
     ]
    },
    {
     "name": "stdout",
     "output_type": "stream",
     "text": [
      "Map saved as D:\\df\\maps\\map_715.html\n"
     ]
    },
    {
     "name": "stderr",
     "output_type": "stream",
     "text": [
      "C:\\Users\\Fenin Jose\\AppData\\Local\\Temp\\ipykernel_17548\\574676199.py:17: FutureWarning: The default of observed=False is deprecated and will be changed to True in a future version of pandas. Pass observed=False to retain current behavior or observed=True to adopt the future default and silence this warning.\n",
      "  df_unique = df_new.groupby('name').agg({'lat': 'first', 'lng': 'first'}).reset_index()\n"
     ]
    },
    {
     "name": "stdout",
     "output_type": "stream",
     "text": [
      "Map saved as D:\\df\\maps\\map_716.html\n",
      "Map saved as D:\\df\\maps\\map_717.html\n"
     ]
    },
    {
     "name": "stderr",
     "output_type": "stream",
     "text": [
      "C:\\Users\\Fenin Jose\\AppData\\Local\\Temp\\ipykernel_17548\\574676199.py:17: FutureWarning: The default of observed=False is deprecated and will be changed to True in a future version of pandas. Pass observed=False to retain current behavior or observed=True to adopt the future default and silence this warning.\n",
      "  df_unique = df_new.groupby('name').agg({'lat': 'first', 'lng': 'first'}).reset_index()\n",
      "C:\\Users\\Fenin Jose\\AppData\\Local\\Temp\\ipykernel_17548\\574676199.py:17: FutureWarning: The default of observed=False is deprecated and will be changed to True in a future version of pandas. Pass observed=False to retain current behavior or observed=True to adopt the future default and silence this warning.\n",
      "  df_unique = df_new.groupby('name').agg({'lat': 'first', 'lng': 'first'}).reset_index()\n"
     ]
    },
    {
     "name": "stdout",
     "output_type": "stream",
     "text": [
      "Map saved as D:\\df\\maps\\map_718.html\n",
      "Map saved as D:\\df\\maps\\map_719.html\n",
      "Map saved as D:\\df\\maps\\map_720.html\n",
      "Map saved as D:\\df\\maps\\map_721.html\n",
      "Map saved as D:\\df\\maps\\map_722.html\n"
     ]
    },
    {
     "name": "stderr",
     "output_type": "stream",
     "text": [
      "C:\\Users\\Fenin Jose\\AppData\\Local\\Temp\\ipykernel_17548\\574676199.py:17: FutureWarning: The default of observed=False is deprecated and will be changed to True in a future version of pandas. Pass observed=False to retain current behavior or observed=True to adopt the future default and silence this warning.\n",
      "  df_unique = df_new.groupby('name').agg({'lat': 'first', 'lng': 'first'}).reset_index()\n",
      "C:\\Users\\Fenin Jose\\AppData\\Local\\Temp\\ipykernel_17548\\574676199.py:17: FutureWarning: The default of observed=False is deprecated and will be changed to True in a future version of pandas. Pass observed=False to retain current behavior or observed=True to adopt the future default and silence this warning.\n",
      "  df_unique = df_new.groupby('name').agg({'lat': 'first', 'lng': 'first'}).reset_index()\n",
      "C:\\Users\\Fenin Jose\\AppData\\Local\\Temp\\ipykernel_17548\\574676199.py:17: FutureWarning: The default of observed=False is deprecated and will be changed to True in a future version of pandas. Pass observed=False to retain current behavior or observed=True to adopt the future default and silence this warning.\n",
      "  df_unique = df_new.groupby('name').agg({'lat': 'first', 'lng': 'first'}).reset_index()\n",
      "C:\\Users\\Fenin Jose\\AppData\\Local\\Temp\\ipykernel_17548\\574676199.py:17: FutureWarning: The default of observed=False is deprecated and will be changed to True in a future version of pandas. Pass observed=False to retain current behavior or observed=True to adopt the future default and silence this warning.\n",
      "  df_unique = df_new.groupby('name').agg({'lat': 'first', 'lng': 'first'}).reset_index()\n",
      "C:\\Users\\Fenin Jose\\AppData\\Local\\Temp\\ipykernel_17548\\574676199.py:17: FutureWarning: The default of observed=False is deprecated and will be changed to True in a future version of pandas. Pass observed=False to retain current behavior or observed=True to adopt the future default and silence this warning.\n",
      "  df_unique = df_new.groupby('name').agg({'lat': 'first', 'lng': 'first'}).reset_index()\n"
     ]
    },
    {
     "name": "stdout",
     "output_type": "stream",
     "text": [
      "Map saved as D:\\df\\maps\\map_723.html\n"
     ]
    },
    {
     "name": "stderr",
     "output_type": "stream",
     "text": [
      "C:\\Users\\Fenin Jose\\AppData\\Local\\Temp\\ipykernel_17548\\574676199.py:17: FutureWarning: The default of observed=False is deprecated and will be changed to True in a future version of pandas. Pass observed=False to retain current behavior or observed=True to adopt the future default and silence this warning.\n",
      "  df_unique = df_new.groupby('name').agg({'lat': 'first', 'lng': 'first'}).reset_index()\n"
     ]
    },
    {
     "name": "stdout",
     "output_type": "stream",
     "text": [
      "Map saved as D:\\df\\maps\\map_724.html\n"
     ]
    },
    {
     "name": "stderr",
     "output_type": "stream",
     "text": [
      "C:\\Users\\Fenin Jose\\AppData\\Local\\Temp\\ipykernel_17548\\574676199.py:17: FutureWarning: The default of observed=False is deprecated and will be changed to True in a future version of pandas. Pass observed=False to retain current behavior or observed=True to adopt the future default and silence this warning.\n",
      "  df_unique = df_new.groupby('name').agg({'lat': 'first', 'lng': 'first'}).reset_index()\n"
     ]
    },
    {
     "name": "stdout",
     "output_type": "stream",
     "text": [
      "Map saved as D:\\df\\maps\\map_725.html\n",
      "Map saved as D:\\df\\maps\\map_726.html\n",
      "Map saved as D:\\df\\maps\\map_727.html\n",
      "Map saved as D:\\df\\maps\\map_728.html\n",
      "Map saved as D:\\df\\maps\\map_729.html\n",
      "Map saved as D:\\df\\maps\\map_730.html\n"
     ]
    },
    {
     "name": "stderr",
     "output_type": "stream",
     "text": [
      "C:\\Users\\Fenin Jose\\AppData\\Local\\Temp\\ipykernel_17548\\574676199.py:17: FutureWarning: The default of observed=False is deprecated and will be changed to True in a future version of pandas. Pass observed=False to retain current behavior or observed=True to adopt the future default and silence this warning.\n",
      "  df_unique = df_new.groupby('name').agg({'lat': 'first', 'lng': 'first'}).reset_index()\n",
      "C:\\Users\\Fenin Jose\\AppData\\Local\\Temp\\ipykernel_17548\\574676199.py:17: FutureWarning: The default of observed=False is deprecated and will be changed to True in a future version of pandas. Pass observed=False to retain current behavior or observed=True to adopt the future default and silence this warning.\n",
      "  df_unique = df_new.groupby('name').agg({'lat': 'first', 'lng': 'first'}).reset_index()\n",
      "C:\\Users\\Fenin Jose\\AppData\\Local\\Temp\\ipykernel_17548\\574676199.py:17: FutureWarning: The default of observed=False is deprecated and will be changed to True in a future version of pandas. Pass observed=False to retain current behavior or observed=True to adopt the future default and silence this warning.\n",
      "  df_unique = df_new.groupby('name').agg({'lat': 'first', 'lng': 'first'}).reset_index()\n",
      "C:\\Users\\Fenin Jose\\AppData\\Local\\Temp\\ipykernel_17548\\574676199.py:17: FutureWarning: The default of observed=False is deprecated and will be changed to True in a future version of pandas. Pass observed=False to retain current behavior or observed=True to adopt the future default and silence this warning.\n",
      "  df_unique = df_new.groupby('name').agg({'lat': 'first', 'lng': 'first'}).reset_index()\n",
      "C:\\Users\\Fenin Jose\\AppData\\Local\\Temp\\ipykernel_17548\\574676199.py:17: FutureWarning: The default of observed=False is deprecated and will be changed to True in a future version of pandas. Pass observed=False to retain current behavior or observed=True to adopt the future default and silence this warning.\n",
      "  df_unique = df_new.groupby('name').agg({'lat': 'first', 'lng': 'first'}).reset_index()\n",
      "C:\\Users\\Fenin Jose\\AppData\\Local\\Temp\\ipykernel_17548\\574676199.py:17: FutureWarning: The default of observed=False is deprecated and will be changed to True in a future version of pandas. Pass observed=False to retain current behavior or observed=True to adopt the future default and silence this warning.\n",
      "  df_unique = df_new.groupby('name').agg({'lat': 'first', 'lng': 'first'}).reset_index()\n"
     ]
    },
    {
     "name": "stdout",
     "output_type": "stream",
     "text": [
      "Map saved as D:\\df\\maps\\map_731.html\n",
      "Map saved as D:\\df\\maps\\map_732.html\n",
      "Map saved as D:\\df\\maps\\map_733.html\n",
      "Map saved as D:\\df\\maps\\map_734.html\n",
      "Map saved as D:\\df\\maps\\map_735.html\n"
     ]
    },
    {
     "name": "stderr",
     "output_type": "stream",
     "text": [
      "C:\\Users\\Fenin Jose\\AppData\\Local\\Temp\\ipykernel_17548\\574676199.py:17: FutureWarning: The default of observed=False is deprecated and will be changed to True in a future version of pandas. Pass observed=False to retain current behavior or observed=True to adopt the future default and silence this warning.\n",
      "  df_unique = df_new.groupby('name').agg({'lat': 'first', 'lng': 'first'}).reset_index()\n",
      "C:\\Users\\Fenin Jose\\AppData\\Local\\Temp\\ipykernel_17548\\574676199.py:17: FutureWarning: The default of observed=False is deprecated and will be changed to True in a future version of pandas. Pass observed=False to retain current behavior or observed=True to adopt the future default and silence this warning.\n",
      "  df_unique = df_new.groupby('name').agg({'lat': 'first', 'lng': 'first'}).reset_index()\n",
      "C:\\Users\\Fenin Jose\\AppData\\Local\\Temp\\ipykernel_17548\\574676199.py:17: FutureWarning: The default of observed=False is deprecated and will be changed to True in a future version of pandas. Pass observed=False to retain current behavior or observed=True to adopt the future default and silence this warning.\n",
      "  df_unique = df_new.groupby('name').agg({'lat': 'first', 'lng': 'first'}).reset_index()\n",
      "C:\\Users\\Fenin Jose\\AppData\\Local\\Temp\\ipykernel_17548\\574676199.py:17: FutureWarning: The default of observed=False is deprecated and will be changed to True in a future version of pandas. Pass observed=False to retain current behavior or observed=True to adopt the future default and silence this warning.\n",
      "  df_unique = df_new.groupby('name').agg({'lat': 'first', 'lng': 'first'}).reset_index()\n",
      "C:\\Users\\Fenin Jose\\AppData\\Local\\Temp\\ipykernel_17548\\574676199.py:17: FutureWarning: The default of observed=False is deprecated and will be changed to True in a future version of pandas. Pass observed=False to retain current behavior or observed=True to adopt the future default and silence this warning.\n",
      "  df_unique = df_new.groupby('name').agg({'lat': 'first', 'lng': 'first'}).reset_index()\n",
      "C:\\Users\\Fenin Jose\\AppData\\Local\\Temp\\ipykernel_17548\\574676199.py:17: FutureWarning: The default of observed=False is deprecated and will be changed to True in a future version of pandas. Pass observed=False to retain current behavior or observed=True to adopt the future default and silence this warning.\n",
      "  df_unique = df_new.groupby('name').agg({'lat': 'first', 'lng': 'first'}).reset_index()\n",
      "C:\\Users\\Fenin Jose\\AppData\\Local\\Temp\\ipykernel_17548\\574676199.py:17: FutureWarning: The default of observed=False is deprecated and will be changed to True in a future version of pandas. Pass observed=False to retain current behavior or observed=True to adopt the future default and silence this warning.\n",
      "  df_unique = df_new.groupby('name').agg({'lat': 'first', 'lng': 'first'}).reset_index()\n",
      "C:\\Users\\Fenin Jose\\AppData\\Local\\Temp\\ipykernel_17548\\574676199.py:17: FutureWarning: The default of observed=False is deprecated and will be changed to True in a future version of pandas. Pass observed=False to retain current behavior or observed=True to adopt the future default and silence this warning.\n",
      "  df_unique = df_new.groupby('name').agg({'lat': 'first', 'lng': 'first'}).reset_index()\n"
     ]
    },
    {
     "name": "stdout",
     "output_type": "stream",
     "text": [
      "Map saved as D:\\df\\maps\\map_736.html\n",
      "Map saved as D:\\df\\maps\\map_737.html\n",
      "Map saved as D:\\df\\maps\\map_738.html\n",
      "Map saved as D:\\df\\maps\\map_739.html\n"
     ]
    },
    {
     "name": "stderr",
     "output_type": "stream",
     "text": [
      "C:\\Users\\Fenin Jose\\AppData\\Local\\Temp\\ipykernel_17548\\574676199.py:17: FutureWarning: The default of observed=False is deprecated and will be changed to True in a future version of pandas. Pass observed=False to retain current behavior or observed=True to adopt the future default and silence this warning.\n",
      "  df_unique = df_new.groupby('name').agg({'lat': 'first', 'lng': 'first'}).reset_index()\n"
     ]
    },
    {
     "name": "stdout",
     "output_type": "stream",
     "text": [
      "Map saved as D:\\df\\maps\\map_740.html\n"
     ]
    },
    {
     "name": "stderr",
     "output_type": "stream",
     "text": [
      "C:\\Users\\Fenin Jose\\AppData\\Local\\Temp\\ipykernel_17548\\574676199.py:17: FutureWarning: The default of observed=False is deprecated and will be changed to True in a future version of pandas. Pass observed=False to retain current behavior or observed=True to adopt the future default and silence this warning.\n",
      "  df_unique = df_new.groupby('name').agg({'lat': 'first', 'lng': 'first'}).reset_index()\n",
      "C:\\Users\\Fenin Jose\\AppData\\Local\\Temp\\ipykernel_17548\\574676199.py:17: FutureWarning: The default of observed=False is deprecated and will be changed to True in a future version of pandas. Pass observed=False to retain current behavior or observed=True to adopt the future default and silence this warning.\n",
      "  df_unique = df_new.groupby('name').agg({'lat': 'first', 'lng': 'first'}).reset_index()\n"
     ]
    },
    {
     "name": "stdout",
     "output_type": "stream",
     "text": [
      "Map saved as D:\\df\\maps\\map_741.html\n",
      "Map saved as D:\\df\\maps\\map_742.html\n"
     ]
    },
    {
     "name": "stderr",
     "output_type": "stream",
     "text": [
      "C:\\Users\\Fenin Jose\\AppData\\Local\\Temp\\ipykernel_17548\\574676199.py:17: FutureWarning: The default of observed=False is deprecated and will be changed to True in a future version of pandas. Pass observed=False to retain current behavior or observed=True to adopt the future default and silence this warning.\n",
      "  df_unique = df_new.groupby('name').agg({'lat': 'first', 'lng': 'first'}).reset_index()\n",
      "C:\\Users\\Fenin Jose\\AppData\\Local\\Temp\\ipykernel_17548\\574676199.py:17: FutureWarning: The default of observed=False is deprecated and will be changed to True in a future version of pandas. Pass observed=False to retain current behavior or observed=True to adopt the future default and silence this warning.\n",
      "  df_unique = df_new.groupby('name').agg({'lat': 'first', 'lng': 'first'}).reset_index()\n",
      "C:\\Users\\Fenin Jose\\AppData\\Local\\Temp\\ipykernel_17548\\574676199.py:17: FutureWarning: The default of observed=False is deprecated and will be changed to True in a future version of pandas. Pass observed=False to retain current behavior or observed=True to adopt the future default and silence this warning.\n",
      "  df_unique = df_new.groupby('name').agg({'lat': 'first', 'lng': 'first'}).reset_index()\n",
      "C:\\Users\\Fenin Jose\\AppData\\Local\\Temp\\ipykernel_17548\\574676199.py:17: FutureWarning: The default of observed=False is deprecated and will be changed to True in a future version of pandas. Pass observed=False to retain current behavior or observed=True to adopt the future default and silence this warning.\n",
      "  df_unique = df_new.groupby('name').agg({'lat': 'first', 'lng': 'first'}).reset_index()\n",
      "C:\\Users\\Fenin Jose\\AppData\\Local\\Temp\\ipykernel_17548\\574676199.py:17: FutureWarning: The default of observed=False is deprecated and will be changed to True in a future version of pandas. Pass observed=False to retain current behavior or observed=True to adopt the future default and silence this warning.\n",
      "  df_unique = df_new.groupby('name').agg({'lat': 'first', 'lng': 'first'}).reset_index()\n"
     ]
    },
    {
     "name": "stdout",
     "output_type": "stream",
     "text": [
      "Map saved as D:\\df\\maps\\map_743.html\n",
      "Map saved as D:\\df\\maps\\map_744.html\n",
      "Map saved as D:\\df\\maps\\map_745.html\n",
      "Map saved as D:\\df\\maps\\map_746.html\n",
      "Map saved as D:\\df\\maps\\map_747.html\n",
      "Map saved as D:\\df\\maps\\map_748.html\n",
      "Map saved as D:\\df\\maps\\map_749.html\n",
      "Map saved as D:\\df\\maps\\map_750.html\n",
      "Map saved as D:\\df\\maps\\map_751.html\n"
     ]
    },
    {
     "name": "stderr",
     "output_type": "stream",
     "text": [
      "C:\\Users\\Fenin Jose\\AppData\\Local\\Temp\\ipykernel_17548\\574676199.py:17: FutureWarning: The default of observed=False is deprecated and will be changed to True in a future version of pandas. Pass observed=False to retain current behavior or observed=True to adopt the future default and silence this warning.\n",
      "  df_unique = df_new.groupby('name').agg({'lat': 'first', 'lng': 'first'}).reset_index()\n",
      "C:\\Users\\Fenin Jose\\AppData\\Local\\Temp\\ipykernel_17548\\574676199.py:17: FutureWarning: The default of observed=False is deprecated and will be changed to True in a future version of pandas. Pass observed=False to retain current behavior or observed=True to adopt the future default and silence this warning.\n",
      "  df_unique = df_new.groupby('name').agg({'lat': 'first', 'lng': 'first'}).reset_index()\n",
      "C:\\Users\\Fenin Jose\\AppData\\Local\\Temp\\ipykernel_17548\\574676199.py:17: FutureWarning: The default of observed=False is deprecated and will be changed to True in a future version of pandas. Pass observed=False to retain current behavior or observed=True to adopt the future default and silence this warning.\n",
      "  df_unique = df_new.groupby('name').agg({'lat': 'first', 'lng': 'first'}).reset_index()\n",
      "C:\\Users\\Fenin Jose\\AppData\\Local\\Temp\\ipykernel_17548\\574676199.py:17: FutureWarning: The default of observed=False is deprecated and will be changed to True in a future version of pandas. Pass observed=False to retain current behavior or observed=True to adopt the future default and silence this warning.\n",
      "  df_unique = df_new.groupby('name').agg({'lat': 'first', 'lng': 'first'}).reset_index()\n",
      "C:\\Users\\Fenin Jose\\AppData\\Local\\Temp\\ipykernel_17548\\574676199.py:17: FutureWarning: The default of observed=False is deprecated and will be changed to True in a future version of pandas. Pass observed=False to retain current behavior or observed=True to adopt the future default and silence this warning.\n",
      "  df_unique = df_new.groupby('name').agg({'lat': 'first', 'lng': 'first'}).reset_index()\n",
      "C:\\Users\\Fenin Jose\\AppData\\Local\\Temp\\ipykernel_17548\\574676199.py:17: FutureWarning: The default of observed=False is deprecated and will be changed to True in a future version of pandas. Pass observed=False to retain current behavior or observed=True to adopt the future default and silence this warning.\n",
      "  df_unique = df_new.groupby('name').agg({'lat': 'first', 'lng': 'first'}).reset_index()\n",
      "C:\\Users\\Fenin Jose\\AppData\\Local\\Temp\\ipykernel_17548\\574676199.py:17: FutureWarning: The default of observed=False is deprecated and will be changed to True in a future version of pandas. Pass observed=False to retain current behavior or observed=True to adopt the future default and silence this warning.\n",
      "  df_unique = df_new.groupby('name').agg({'lat': 'first', 'lng': 'first'}).reset_index()\n",
      "C:\\Users\\Fenin Jose\\AppData\\Local\\Temp\\ipykernel_17548\\574676199.py:17: FutureWarning: The default of observed=False is deprecated and will be changed to True in a future version of pandas. Pass observed=False to retain current behavior or observed=True to adopt the future default and silence this warning.\n",
      "  df_unique = df_new.groupby('name').agg({'lat': 'first', 'lng': 'first'}).reset_index()\n"
     ]
    },
    {
     "name": "stdout",
     "output_type": "stream",
     "text": [
      "Map saved as D:\\df\\maps\\map_752.html\n",
      "Map saved as D:\\df\\maps\\map_753.html\n",
      "Map saved as D:\\df\\maps\\map_754.html\n",
      "Map saved as D:\\df\\maps\\map_755.html\n"
     ]
    },
    {
     "name": "stderr",
     "output_type": "stream",
     "text": [
      "C:\\Users\\Fenin Jose\\AppData\\Local\\Temp\\ipykernel_17548\\574676199.py:17: FutureWarning: The default of observed=False is deprecated and will be changed to True in a future version of pandas. Pass observed=False to retain current behavior or observed=True to adopt the future default and silence this warning.\n",
      "  df_unique = df_new.groupby('name').agg({'lat': 'first', 'lng': 'first'}).reset_index()\n"
     ]
    },
    {
     "name": "stdout",
     "output_type": "stream",
     "text": [
      "Map saved as D:\\df\\maps\\map_756.html\n",
      "Map saved as D:\\df\\maps\\map_757.html\n"
     ]
    },
    {
     "name": "stderr",
     "output_type": "stream",
     "text": [
      "C:\\Users\\Fenin Jose\\AppData\\Local\\Temp\\ipykernel_17548\\574676199.py:17: FutureWarning: The default of observed=False is deprecated and will be changed to True in a future version of pandas. Pass observed=False to retain current behavior or observed=True to adopt the future default and silence this warning.\n",
      "  df_unique = df_new.groupby('name').agg({'lat': 'first', 'lng': 'first'}).reset_index()\n",
      "C:\\Users\\Fenin Jose\\AppData\\Local\\Temp\\ipykernel_17548\\574676199.py:17: FutureWarning: The default of observed=False is deprecated and will be changed to True in a future version of pandas. Pass observed=False to retain current behavior or observed=True to adopt the future default and silence this warning.\n",
      "  df_unique = df_new.groupby('name').agg({'lat': 'first', 'lng': 'first'}).reset_index()\n",
      "C:\\Users\\Fenin Jose\\AppData\\Local\\Temp\\ipykernel_17548\\574676199.py:17: FutureWarning: The default of observed=False is deprecated and will be changed to True in a future version of pandas. Pass observed=False to retain current behavior or observed=True to adopt the future default and silence this warning.\n",
      "  df_unique = df_new.groupby('name').agg({'lat': 'first', 'lng': 'first'}).reset_index()\n"
     ]
    },
    {
     "name": "stdout",
     "output_type": "stream",
     "text": [
      "Map saved as D:\\df\\maps\\map_758.html\n",
      "Map saved as D:\\df\\maps\\map_759.html\n"
     ]
    },
    {
     "name": "stderr",
     "output_type": "stream",
     "text": [
      "C:\\Users\\Fenin Jose\\AppData\\Local\\Temp\\ipykernel_17548\\574676199.py:17: FutureWarning: The default of observed=False is deprecated and will be changed to True in a future version of pandas. Pass observed=False to retain current behavior or observed=True to adopt the future default and silence this warning.\n",
      "  df_unique = df_new.groupby('name').agg({'lat': 'first', 'lng': 'first'}).reset_index()\n",
      "C:\\Users\\Fenin Jose\\AppData\\Local\\Temp\\ipykernel_17548\\574676199.py:17: FutureWarning: The default of observed=False is deprecated and will be changed to True in a future version of pandas. Pass observed=False to retain current behavior or observed=True to adopt the future default and silence this warning.\n",
      "  df_unique = df_new.groupby('name').agg({'lat': 'first', 'lng': 'first'}).reset_index()\n",
      "C:\\Users\\Fenin Jose\\AppData\\Local\\Temp\\ipykernel_17548\\574676199.py:17: FutureWarning: The default of observed=False is deprecated and will be changed to True in a future version of pandas. Pass observed=False to retain current behavior or observed=True to adopt the future default and silence this warning.\n",
      "  df_unique = df_new.groupby('name').agg({'lat': 'first', 'lng': 'first'}).reset_index()\n",
      "C:\\Users\\Fenin Jose\\AppData\\Local\\Temp\\ipykernel_17548\\574676199.py:17: FutureWarning: The default of observed=False is deprecated and will be changed to True in a future version of pandas. Pass observed=False to retain current behavior or observed=True to adopt the future default and silence this warning.\n",
      "  df_unique = df_new.groupby('name').agg({'lat': 'first', 'lng': 'first'}).reset_index()\n"
     ]
    },
    {
     "name": "stdout",
     "output_type": "stream",
     "text": [
      "Map saved as D:\\df\\maps\\map_760.html\n",
      "Map saved as D:\\df\\maps\\map_761.html\n",
      "Map saved as D:\\df\\maps\\map_762.html\n",
      "Map saved as D:\\df\\maps\\map_763.html\n",
      "Map saved as D:\\df\\maps\\map_764.html\n",
      "Map saved as D:\\df\\maps\\map_765.html\n",
      "Map saved as D:\\df\\maps\\map_766.html\n",
      "Map saved as D:\\df\\maps\\map_767.html\n",
      "Map saved as D:\\df\\maps\\map_768.html\n",
      "Map saved as D:\\df\\maps\\map_769.html\n",
      "Map saved as D:\\df\\maps\\map_770.html\n"
     ]
    },
    {
     "name": "stderr",
     "output_type": "stream",
     "text": [
      "C:\\Users\\Fenin Jose\\AppData\\Local\\Temp\\ipykernel_17548\\574676199.py:17: FutureWarning: The default of observed=False is deprecated and will be changed to True in a future version of pandas. Pass observed=False to retain current behavior or observed=True to adopt the future default and silence this warning.\n",
      "  df_unique = df_new.groupby('name').agg({'lat': 'first', 'lng': 'first'}).reset_index()\n",
      "C:\\Users\\Fenin Jose\\AppData\\Local\\Temp\\ipykernel_17548\\574676199.py:17: FutureWarning: The default of observed=False is deprecated and will be changed to True in a future version of pandas. Pass observed=False to retain current behavior or observed=True to adopt the future default and silence this warning.\n",
      "  df_unique = df_new.groupby('name').agg({'lat': 'first', 'lng': 'first'}).reset_index()\n",
      "C:\\Users\\Fenin Jose\\AppData\\Local\\Temp\\ipykernel_17548\\574676199.py:17: FutureWarning: The default of observed=False is deprecated and will be changed to True in a future version of pandas. Pass observed=False to retain current behavior or observed=True to adopt the future default and silence this warning.\n",
      "  df_unique = df_new.groupby('name').agg({'lat': 'first', 'lng': 'first'}).reset_index()\n",
      "C:\\Users\\Fenin Jose\\AppData\\Local\\Temp\\ipykernel_17548\\574676199.py:17: FutureWarning: The default of observed=False is deprecated and will be changed to True in a future version of pandas. Pass observed=False to retain current behavior or observed=True to adopt the future default and silence this warning.\n",
      "  df_unique = df_new.groupby('name').agg({'lat': 'first', 'lng': 'first'}).reset_index()\n",
      "C:\\Users\\Fenin Jose\\AppData\\Local\\Temp\\ipykernel_17548\\574676199.py:17: FutureWarning: The default of observed=False is deprecated and will be changed to True in a future version of pandas. Pass observed=False to retain current behavior or observed=True to adopt the future default and silence this warning.\n",
      "  df_unique = df_new.groupby('name').agg({'lat': 'first', 'lng': 'first'}).reset_index()\n",
      "C:\\Users\\Fenin Jose\\AppData\\Local\\Temp\\ipykernel_17548\\574676199.py:17: FutureWarning: The default of observed=False is deprecated and will be changed to True in a future version of pandas. Pass observed=False to retain current behavior or observed=True to adopt the future default and silence this warning.\n",
      "  df_unique = df_new.groupby('name').agg({'lat': 'first', 'lng': 'first'}).reset_index()\n",
      "C:\\Users\\Fenin Jose\\AppData\\Local\\Temp\\ipykernel_17548\\574676199.py:17: FutureWarning: The default of observed=False is deprecated and will be changed to True in a future version of pandas. Pass observed=False to retain current behavior or observed=True to adopt the future default and silence this warning.\n",
      "  df_unique = df_new.groupby('name').agg({'lat': 'first', 'lng': 'first'}).reset_index()\n",
      "C:\\Users\\Fenin Jose\\AppData\\Local\\Temp\\ipykernel_17548\\574676199.py:17: FutureWarning: The default of observed=False is deprecated and will be changed to True in a future version of pandas. Pass observed=False to retain current behavior or observed=True to adopt the future default and silence this warning.\n",
      "  df_unique = df_new.groupby('name').agg({'lat': 'first', 'lng': 'first'}).reset_index()\n"
     ]
    },
    {
     "name": "stdout",
     "output_type": "stream",
     "text": [
      "Map saved as D:\\df\\maps\\map_771.html\n",
      "Map saved as D:\\df\\maps\\map_772.html\n",
      "Map saved as D:\\df\\maps\\map_773.html\n",
      "Map saved as D:\\df\\maps\\map_774.html\n",
      "Map saved as D:\\df\\maps\\map_775.html\n"
     ]
    },
    {
     "name": "stderr",
     "output_type": "stream",
     "text": [
      "C:\\Users\\Fenin Jose\\AppData\\Local\\Temp\\ipykernel_17548\\574676199.py:17: FutureWarning: The default of observed=False is deprecated and will be changed to True in a future version of pandas. Pass observed=False to retain current behavior or observed=True to adopt the future default and silence this warning.\n",
      "  df_unique = df_new.groupby('name').agg({'lat': 'first', 'lng': 'first'}).reset_index()\n",
      "C:\\Users\\Fenin Jose\\AppData\\Local\\Temp\\ipykernel_17548\\574676199.py:17: FutureWarning: The default of observed=False is deprecated and will be changed to True in a future version of pandas. Pass observed=False to retain current behavior or observed=True to adopt the future default and silence this warning.\n",
      "  df_unique = df_new.groupby('name').agg({'lat': 'first', 'lng': 'first'}).reset_index()\n",
      "C:\\Users\\Fenin Jose\\AppData\\Local\\Temp\\ipykernel_17548\\574676199.py:17: FutureWarning: The default of observed=False is deprecated and will be changed to True in a future version of pandas. Pass observed=False to retain current behavior or observed=True to adopt the future default and silence this warning.\n",
      "  df_unique = df_new.groupby('name').agg({'lat': 'first', 'lng': 'first'}).reset_index()\n",
      "C:\\Users\\Fenin Jose\\AppData\\Local\\Temp\\ipykernel_17548\\574676199.py:17: FutureWarning: The default of observed=False is deprecated and will be changed to True in a future version of pandas. Pass observed=False to retain current behavior or observed=True to adopt the future default and silence this warning.\n",
      "  df_unique = df_new.groupby('name').agg({'lat': 'first', 'lng': 'first'}).reset_index()\n",
      "C:\\Users\\Fenin Jose\\AppData\\Local\\Temp\\ipykernel_17548\\574676199.py:17: FutureWarning: The default of observed=False is deprecated and will be changed to True in a future version of pandas. Pass observed=False to retain current behavior or observed=True to adopt the future default and silence this warning.\n",
      "  df_unique = df_new.groupby('name').agg({'lat': 'first', 'lng': 'first'}).reset_index()\n"
     ]
    },
    {
     "name": "stdout",
     "output_type": "stream",
     "text": [
      "Map saved as D:\\df\\maps\\map_776.html\n"
     ]
    },
    {
     "name": "stderr",
     "output_type": "stream",
     "text": [
      "C:\\Users\\Fenin Jose\\AppData\\Local\\Temp\\ipykernel_17548\\574676199.py:17: FutureWarning: The default of observed=False is deprecated and will be changed to True in a future version of pandas. Pass observed=False to retain current behavior or observed=True to adopt the future default and silence this warning.\n",
      "  df_unique = df_new.groupby('name').agg({'lat': 'first', 'lng': 'first'}).reset_index()\n"
     ]
    },
    {
     "name": "stdout",
     "output_type": "stream",
     "text": [
      "Map saved as D:\\df\\maps\\map_777.html\n",
      "Map saved as D:\\df\\maps\\map_778.html\n",
      "Map saved as D:\\df\\maps\\map_779.html\n"
     ]
    },
    {
     "name": "stderr",
     "output_type": "stream",
     "text": [
      "C:\\Users\\Fenin Jose\\AppData\\Local\\Temp\\ipykernel_17548\\574676199.py:17: FutureWarning: The default of observed=False is deprecated and will be changed to True in a future version of pandas. Pass observed=False to retain current behavior or observed=True to adopt the future default and silence this warning.\n",
      "  df_unique = df_new.groupby('name').agg({'lat': 'first', 'lng': 'first'}).reset_index()\n",
      "C:\\Users\\Fenin Jose\\AppData\\Local\\Temp\\ipykernel_17548\\574676199.py:17: FutureWarning: The default of observed=False is deprecated and will be changed to True in a future version of pandas. Pass observed=False to retain current behavior or observed=True to adopt the future default and silence this warning.\n",
      "  df_unique = df_new.groupby('name').agg({'lat': 'first', 'lng': 'first'}).reset_index()\n",
      "C:\\Users\\Fenin Jose\\AppData\\Local\\Temp\\ipykernel_17548\\574676199.py:17: FutureWarning: The default of observed=False is deprecated and will be changed to True in a future version of pandas. Pass observed=False to retain current behavior or observed=True to adopt the future default and silence this warning.\n",
      "  df_unique = df_new.groupby('name').agg({'lat': 'first', 'lng': 'first'}).reset_index()\n"
     ]
    },
    {
     "name": "stdout",
     "output_type": "stream",
     "text": [
      "Map saved as D:\\df\\maps\\map_780.html\n"
     ]
    },
    {
     "name": "stderr",
     "output_type": "stream",
     "text": [
      "C:\\Users\\Fenin Jose\\AppData\\Local\\Temp\\ipykernel_17548\\574676199.py:17: FutureWarning: The default of observed=False is deprecated and will be changed to True in a future version of pandas. Pass observed=False to retain current behavior or observed=True to adopt the future default and silence this warning.\n",
      "  df_unique = df_new.groupby('name').agg({'lat': 'first', 'lng': 'first'}).reset_index()\n",
      "C:\\Users\\Fenin Jose\\AppData\\Local\\Temp\\ipykernel_17548\\574676199.py:17: FutureWarning: The default of observed=False is deprecated and will be changed to True in a future version of pandas. Pass observed=False to retain current behavior or observed=True to adopt the future default and silence this warning.\n",
      "  df_unique = df_new.groupby('name').agg({'lat': 'first', 'lng': 'first'}).reset_index()\n",
      "C:\\Users\\Fenin Jose\\AppData\\Local\\Temp\\ipykernel_17548\\574676199.py:17: FutureWarning: The default of observed=False is deprecated and will be changed to True in a future version of pandas. Pass observed=False to retain current behavior or observed=True to adopt the future default and silence this warning.\n",
      "  df_unique = df_new.groupby('name').agg({'lat': 'first', 'lng': 'first'}).reset_index()\n",
      "C:\\Users\\Fenin Jose\\AppData\\Local\\Temp\\ipykernel_17548\\574676199.py:17: FutureWarning: The default of observed=False is deprecated and will be changed to True in a future version of pandas. Pass observed=False to retain current behavior or observed=True to adopt the future default and silence this warning.\n",
      "  df_unique = df_new.groupby('name').agg({'lat': 'first', 'lng': 'first'}).reset_index()\n"
     ]
    },
    {
     "name": "stdout",
     "output_type": "stream",
     "text": [
      "Map saved as D:\\df\\maps\\map_781.html\n",
      "Map saved as D:\\df\\maps\\map_782.html\n",
      "Map saved as D:\\df\\maps\\map_783.html\n",
      "Map saved as D:\\df\\maps\\map_784.html\n",
      "Map saved as D:\\df\\maps\\map_785.html\n",
      "Map saved as D:\\df\\maps\\map_786.html\n",
      "Map saved as D:\\df\\maps\\map_787.html\n",
      "Map saved as D:\\df\\maps\\map_788.html\n",
      "Map saved as D:\\df\\maps\\map_789.html\n",
      "Map saved as D:\\df\\maps\\map_790.html\n"
     ]
    },
    {
     "name": "stderr",
     "output_type": "stream",
     "text": [
      "C:\\Users\\Fenin Jose\\AppData\\Local\\Temp\\ipykernel_17548\\574676199.py:17: FutureWarning: The default of observed=False is deprecated and will be changed to True in a future version of pandas. Pass observed=False to retain current behavior or observed=True to adopt the future default and silence this warning.\n",
      "  df_unique = df_new.groupby('name').agg({'lat': 'first', 'lng': 'first'}).reset_index()\n",
      "C:\\Users\\Fenin Jose\\AppData\\Local\\Temp\\ipykernel_17548\\574676199.py:17: FutureWarning: The default of observed=False is deprecated and will be changed to True in a future version of pandas. Pass observed=False to retain current behavior or observed=True to adopt the future default and silence this warning.\n",
      "  df_unique = df_new.groupby('name').agg({'lat': 'first', 'lng': 'first'}).reset_index()\n",
      "C:\\Users\\Fenin Jose\\AppData\\Local\\Temp\\ipykernel_17548\\574676199.py:17: FutureWarning: The default of observed=False is deprecated and will be changed to True in a future version of pandas. Pass observed=False to retain current behavior or observed=True to adopt the future default and silence this warning.\n",
      "  df_unique = df_new.groupby('name').agg({'lat': 'first', 'lng': 'first'}).reset_index()\n",
      "C:\\Users\\Fenin Jose\\AppData\\Local\\Temp\\ipykernel_17548\\574676199.py:17: FutureWarning: The default of observed=False is deprecated and will be changed to True in a future version of pandas. Pass observed=False to retain current behavior or observed=True to adopt the future default and silence this warning.\n",
      "  df_unique = df_new.groupby('name').agg({'lat': 'first', 'lng': 'first'}).reset_index()\n",
      "C:\\Users\\Fenin Jose\\AppData\\Local\\Temp\\ipykernel_17548\\574676199.py:17: FutureWarning: The default of observed=False is deprecated and will be changed to True in a future version of pandas. Pass observed=False to retain current behavior or observed=True to adopt the future default and silence this warning.\n",
      "  df_unique = df_new.groupby('name').agg({'lat': 'first', 'lng': 'first'}).reset_index()\n",
      "C:\\Users\\Fenin Jose\\AppData\\Local\\Temp\\ipykernel_17548\\574676199.py:17: FutureWarning: The default of observed=False is deprecated and will be changed to True in a future version of pandas. Pass observed=False to retain current behavior or observed=True to adopt the future default and silence this warning.\n",
      "  df_unique = df_new.groupby('name').agg({'lat': 'first', 'lng': 'first'}).reset_index()\n",
      "C:\\Users\\Fenin Jose\\AppData\\Local\\Temp\\ipykernel_17548\\574676199.py:17: FutureWarning: The default of observed=False is deprecated and will be changed to True in a future version of pandas. Pass observed=False to retain current behavior or observed=True to adopt the future default and silence this warning.\n",
      "  df_unique = df_new.groupby('name').agg({'lat': 'first', 'lng': 'first'}).reset_index()\n"
     ]
    },
    {
     "name": "stdout",
     "output_type": "stream",
     "text": [
      "Map saved as D:\\df\\maps\\map_791.html\n",
      "Map saved as D:\\df\\maps\\map_792.html\n",
      "Map saved as D:\\df\\maps\\map_793.html\n"
     ]
    },
    {
     "name": "stderr",
     "output_type": "stream",
     "text": [
      "C:\\Users\\Fenin Jose\\AppData\\Local\\Temp\\ipykernel_17548\\574676199.py:17: FutureWarning: The default of observed=False is deprecated and will be changed to True in a future version of pandas. Pass observed=False to retain current behavior or observed=True to adopt the future default and silence this warning.\n",
      "  df_unique = df_new.groupby('name').agg({'lat': 'first', 'lng': 'first'}).reset_index()\n",
      "C:\\Users\\Fenin Jose\\AppData\\Local\\Temp\\ipykernel_17548\\574676199.py:17: FutureWarning: The default of observed=False is deprecated and will be changed to True in a future version of pandas. Pass observed=False to retain current behavior or observed=True to adopt the future default and silence this warning.\n",
      "  df_unique = df_new.groupby('name').agg({'lat': 'first', 'lng': 'first'}).reset_index()\n",
      "C:\\Users\\Fenin Jose\\AppData\\Local\\Temp\\ipykernel_17548\\574676199.py:17: FutureWarning: The default of observed=False is deprecated and will be changed to True in a future version of pandas. Pass observed=False to retain current behavior or observed=True to adopt the future default and silence this warning.\n",
      "  df_unique = df_new.groupby('name').agg({'lat': 'first', 'lng': 'first'}).reset_index()\n"
     ]
    },
    {
     "name": "stdout",
     "output_type": "stream",
     "text": [
      "Map saved as D:\\df\\maps\\map_794.html\n"
     ]
    },
    {
     "name": "stderr",
     "output_type": "stream",
     "text": [
      "C:\\Users\\Fenin Jose\\AppData\\Local\\Temp\\ipykernel_17548\\574676199.py:17: FutureWarning: The default of observed=False is deprecated and will be changed to True in a future version of pandas. Pass observed=False to retain current behavior or observed=True to adopt the future default and silence this warning.\n",
      "  df_unique = df_new.groupby('name').agg({'lat': 'first', 'lng': 'first'}).reset_index()\n"
     ]
    },
    {
     "name": "stdout",
     "output_type": "stream",
     "text": [
      "Map saved as D:\\df\\maps\\map_795.html\n"
     ]
    },
    {
     "name": "stderr",
     "output_type": "stream",
     "text": [
      "C:\\Users\\Fenin Jose\\AppData\\Local\\Temp\\ipykernel_17548\\574676199.py:17: FutureWarning: The default of observed=False is deprecated and will be changed to True in a future version of pandas. Pass observed=False to retain current behavior or observed=True to adopt the future default and silence this warning.\n",
      "  df_unique = df_new.groupby('name').agg({'lat': 'first', 'lng': 'first'}).reset_index()\n"
     ]
    },
    {
     "name": "stdout",
     "output_type": "stream",
     "text": [
      "Map saved as D:\\df\\maps\\map_796.html\n",
      "Map saved as D:\\df\\maps\\map_797.html\n",
      "Map saved as D:\\df\\maps\\map_798.html\n",
      "Map saved as D:\\df\\maps\\map_799.html\n",
      "Map saved as D:\\df\\maps\\map_800.html\n",
      "Map saved as D:\\df\\maps\\map_801.html\n",
      "Map saved as D:\\df\\maps\\map_802.html\n",
      "Map saved as D:\\df\\maps\\map_803.html\n"
     ]
    },
    {
     "name": "stderr",
     "output_type": "stream",
     "text": [
      "C:\\Users\\Fenin Jose\\AppData\\Local\\Temp\\ipykernel_17548\\574676199.py:17: FutureWarning: The default of observed=False is deprecated and will be changed to True in a future version of pandas. Pass observed=False to retain current behavior or observed=True to adopt the future default and silence this warning.\n",
      "  df_unique = df_new.groupby('name').agg({'lat': 'first', 'lng': 'first'}).reset_index()\n",
      "C:\\Users\\Fenin Jose\\AppData\\Local\\Temp\\ipykernel_17548\\574676199.py:17: FutureWarning: The default of observed=False is deprecated and will be changed to True in a future version of pandas. Pass observed=False to retain current behavior or observed=True to adopt the future default and silence this warning.\n",
      "  df_unique = df_new.groupby('name').agg({'lat': 'first', 'lng': 'first'}).reset_index()\n",
      "C:\\Users\\Fenin Jose\\AppData\\Local\\Temp\\ipykernel_17548\\574676199.py:17: FutureWarning: The default of observed=False is deprecated and will be changed to True in a future version of pandas. Pass observed=False to retain current behavior or observed=True to adopt the future default and silence this warning.\n",
      "  df_unique = df_new.groupby('name').agg({'lat': 'first', 'lng': 'first'}).reset_index()\n",
      "C:\\Users\\Fenin Jose\\AppData\\Local\\Temp\\ipykernel_17548\\574676199.py:17: FutureWarning: The default of observed=False is deprecated and will be changed to True in a future version of pandas. Pass observed=False to retain current behavior or observed=True to adopt the future default and silence this warning.\n",
      "  df_unique = df_new.groupby('name').agg({'lat': 'first', 'lng': 'first'}).reset_index()\n",
      "C:\\Users\\Fenin Jose\\AppData\\Local\\Temp\\ipykernel_17548\\574676199.py:17: FutureWarning: The default of observed=False is deprecated and will be changed to True in a future version of pandas. Pass observed=False to retain current behavior or observed=True to adopt the future default and silence this warning.\n",
      "  df_unique = df_new.groupby('name').agg({'lat': 'first', 'lng': 'first'}).reset_index()\n",
      "C:\\Users\\Fenin Jose\\AppData\\Local\\Temp\\ipykernel_17548\\574676199.py:17: FutureWarning: The default of observed=False is deprecated and will be changed to True in a future version of pandas. Pass observed=False to retain current behavior or observed=True to adopt the future default and silence this warning.\n",
      "  df_unique = df_new.groupby('name').agg({'lat': 'first', 'lng': 'first'}).reset_index()\n",
      "C:\\Users\\Fenin Jose\\AppData\\Local\\Temp\\ipykernel_17548\\574676199.py:17: FutureWarning: The default of observed=False is deprecated and will be changed to True in a future version of pandas. Pass observed=False to retain current behavior or observed=True to adopt the future default and silence this warning.\n",
      "  df_unique = df_new.groupby('name').agg({'lat': 'first', 'lng': 'first'}).reset_index()\n",
      "C:\\Users\\Fenin Jose\\AppData\\Local\\Temp\\ipykernel_17548\\574676199.py:17: FutureWarning: The default of observed=False is deprecated and will be changed to True in a future version of pandas. Pass observed=False to retain current behavior or observed=True to adopt the future default and silence this warning.\n",
      "  df_unique = df_new.groupby('name').agg({'lat': 'first', 'lng': 'first'}).reset_index()\n"
     ]
    },
    {
     "name": "stdout",
     "output_type": "stream",
     "text": [
      "Map saved as D:\\df\\maps\\map_804.html\n"
     ]
    },
    {
     "name": "stderr",
     "output_type": "stream",
     "text": [
      "C:\\Users\\Fenin Jose\\AppData\\Local\\Temp\\ipykernel_17548\\574676199.py:17: FutureWarning: The default of observed=False is deprecated and will be changed to True in a future version of pandas. Pass observed=False to retain current behavior or observed=True to adopt the future default and silence this warning.\n",
      "  df_unique = df_new.groupby('name').agg({'lat': 'first', 'lng': 'first'}).reset_index()\n",
      "C:\\Users\\Fenin Jose\\AppData\\Local\\Temp\\ipykernel_17548\\574676199.py:17: FutureWarning: The default of observed=False is deprecated and will be changed to True in a future version of pandas. Pass observed=False to retain current behavior or observed=True to adopt the future default and silence this warning.\n",
      "  df_unique = df_new.groupby('name').agg({'lat': 'first', 'lng': 'first'}).reset_index()\n",
      "C:\\Users\\Fenin Jose\\AppData\\Local\\Temp\\ipykernel_17548\\574676199.py:17: FutureWarning: The default of observed=False is deprecated and will be changed to True in a future version of pandas. Pass observed=False to retain current behavior or observed=True to adopt the future default and silence this warning.\n",
      "  df_unique = df_new.groupby('name').agg({'lat': 'first', 'lng': 'first'}).reset_index()\n"
     ]
    },
    {
     "name": "stdout",
     "output_type": "stream",
     "text": [
      "Map saved as D:\\df\\maps\\map_805.html\n",
      "Map saved as D:\\df\\maps\\map_806.html\n",
      "Map saved as D:\\df\\maps\\map_807.html\n",
      "Map saved as D:\\df\\maps\\map_808.html\n",
      "Map saved as D:\\df\\maps\\map_809.html\n",
      "Map saved as D:\\df\\maps\\map_810.html\n",
      "Map saved as D:\\df\\maps\\map_811.html\n"
     ]
    },
    {
     "name": "stderr",
     "output_type": "stream",
     "text": [
      "C:\\Users\\Fenin Jose\\AppData\\Local\\Temp\\ipykernel_17548\\574676199.py:17: FutureWarning: The default of observed=False is deprecated and will be changed to True in a future version of pandas. Pass observed=False to retain current behavior or observed=True to adopt the future default and silence this warning.\n",
      "  df_unique = df_new.groupby('name').agg({'lat': 'first', 'lng': 'first'}).reset_index()\n",
      "C:\\Users\\Fenin Jose\\AppData\\Local\\Temp\\ipykernel_17548\\574676199.py:17: FutureWarning: The default of observed=False is deprecated and will be changed to True in a future version of pandas. Pass observed=False to retain current behavior or observed=True to adopt the future default and silence this warning.\n",
      "  df_unique = df_new.groupby('name').agg({'lat': 'first', 'lng': 'first'}).reset_index()\n",
      "C:\\Users\\Fenin Jose\\AppData\\Local\\Temp\\ipykernel_17548\\574676199.py:17: FutureWarning: The default of observed=False is deprecated and will be changed to True in a future version of pandas. Pass observed=False to retain current behavior or observed=True to adopt the future default and silence this warning.\n",
      "  df_unique = df_new.groupby('name').agg({'lat': 'first', 'lng': 'first'}).reset_index()\n",
      "C:\\Users\\Fenin Jose\\AppData\\Local\\Temp\\ipykernel_17548\\574676199.py:17: FutureWarning: The default of observed=False is deprecated and will be changed to True in a future version of pandas. Pass observed=False to retain current behavior or observed=True to adopt the future default and silence this warning.\n",
      "  df_unique = df_new.groupby('name').agg({'lat': 'first', 'lng': 'first'}).reset_index()\n",
      "C:\\Users\\Fenin Jose\\AppData\\Local\\Temp\\ipykernel_17548\\574676199.py:17: FutureWarning: The default of observed=False is deprecated and will be changed to True in a future version of pandas. Pass observed=False to retain current behavior or observed=True to adopt the future default and silence this warning.\n",
      "  df_unique = df_new.groupby('name').agg({'lat': 'first', 'lng': 'first'}).reset_index()\n",
      "C:\\Users\\Fenin Jose\\AppData\\Local\\Temp\\ipykernel_17548\\574676199.py:17: FutureWarning: The default of observed=False is deprecated and will be changed to True in a future version of pandas. Pass observed=False to retain current behavior or observed=True to adopt the future default and silence this warning.\n",
      "  df_unique = df_new.groupby('name').agg({'lat': 'first', 'lng': 'first'}).reset_index()\n"
     ]
    },
    {
     "name": "stdout",
     "output_type": "stream",
     "text": [
      "Map saved as D:\\df\\maps\\map_812.html\n",
      "Map saved as D:\\df\\maps\\map_813.html\n",
      "Map saved as D:\\df\\maps\\map_814.html\n"
     ]
    },
    {
     "name": "stderr",
     "output_type": "stream",
     "text": [
      "C:\\Users\\Fenin Jose\\AppData\\Local\\Temp\\ipykernel_17548\\574676199.py:17: FutureWarning: The default of observed=False is deprecated and will be changed to True in a future version of pandas. Pass observed=False to retain current behavior or observed=True to adopt the future default and silence this warning.\n",
      "  df_unique = df_new.groupby('name').agg({'lat': 'first', 'lng': 'first'}).reset_index()\n",
      "C:\\Users\\Fenin Jose\\AppData\\Local\\Temp\\ipykernel_17548\\574676199.py:17: FutureWarning: The default of observed=False is deprecated and will be changed to True in a future version of pandas. Pass observed=False to retain current behavior or observed=True to adopt the future default and silence this warning.\n",
      "  df_unique = df_new.groupby('name').agg({'lat': 'first', 'lng': 'first'}).reset_index()\n"
     ]
    },
    {
     "name": "stdout",
     "output_type": "stream",
     "text": [
      "Map saved as D:\\df\\maps\\map_815.html\n",
      "Map saved as D:\\df\\maps\\map_816.html\n"
     ]
    },
    {
     "name": "stderr",
     "output_type": "stream",
     "text": [
      "C:\\Users\\Fenin Jose\\AppData\\Local\\Temp\\ipykernel_17548\\574676199.py:17: FutureWarning: The default of observed=False is deprecated and will be changed to True in a future version of pandas. Pass observed=False to retain current behavior or observed=True to adopt the future default and silence this warning.\n",
      "  df_unique = df_new.groupby('name').agg({'lat': 'first', 'lng': 'first'}).reset_index()\n",
      "C:\\Users\\Fenin Jose\\AppData\\Local\\Temp\\ipykernel_17548\\574676199.py:17: FutureWarning: The default of observed=False is deprecated and will be changed to True in a future version of pandas. Pass observed=False to retain current behavior or observed=True to adopt the future default and silence this warning.\n",
      "  df_unique = df_new.groupby('name').agg({'lat': 'first', 'lng': 'first'}).reset_index()\n"
     ]
    },
    {
     "name": "stdout",
     "output_type": "stream",
     "text": [
      "Map saved as D:\\df\\maps\\map_817.html\n",
      "Map saved as D:\\df\\maps\\map_818.html\n"
     ]
    },
    {
     "name": "stderr",
     "output_type": "stream",
     "text": [
      "C:\\Users\\Fenin Jose\\AppData\\Local\\Temp\\ipykernel_17548\\574676199.py:17: FutureWarning: The default of observed=False is deprecated and will be changed to True in a future version of pandas. Pass observed=False to retain current behavior or observed=True to adopt the future default and silence this warning.\n",
      "  df_unique = df_new.groupby('name').agg({'lat': 'first', 'lng': 'first'}).reset_index()\n",
      "C:\\Users\\Fenin Jose\\AppData\\Local\\Temp\\ipykernel_17548\\574676199.py:17: FutureWarning: The default of observed=False is deprecated and will be changed to True in a future version of pandas. Pass observed=False to retain current behavior or observed=True to adopt the future default and silence this warning.\n",
      "  df_unique = df_new.groupby('name').agg({'lat': 'first', 'lng': 'first'}).reset_index()\n"
     ]
    },
    {
     "name": "stdout",
     "output_type": "stream",
     "text": [
      "Map saved as D:\\df\\maps\\map_819.html\n"
     ]
    },
    {
     "name": "stderr",
     "output_type": "stream",
     "text": [
      "C:\\Users\\Fenin Jose\\AppData\\Local\\Temp\\ipykernel_17548\\574676199.py:17: FutureWarning: The default of observed=False is deprecated and will be changed to True in a future version of pandas. Pass observed=False to retain current behavior or observed=True to adopt the future default and silence this warning.\n",
      "  df_unique = df_new.groupby('name').agg({'lat': 'first', 'lng': 'first'}).reset_index()\n"
     ]
    },
    {
     "name": "stdout",
     "output_type": "stream",
     "text": [
      "Map saved as D:\\df\\maps\\map_820.html\n"
     ]
    },
    {
     "name": "stderr",
     "output_type": "stream",
     "text": [
      "C:\\Users\\Fenin Jose\\AppData\\Local\\Temp\\ipykernel_17548\\574676199.py:17: FutureWarning: The default of observed=False is deprecated and will be changed to True in a future version of pandas. Pass observed=False to retain current behavior or observed=True to adopt the future default and silence this warning.\n",
      "  df_unique = df_new.groupby('name').agg({'lat': 'first', 'lng': 'first'}).reset_index()\n",
      "C:\\Users\\Fenin Jose\\AppData\\Local\\Temp\\ipykernel_17548\\574676199.py:17: FutureWarning: The default of observed=False is deprecated and will be changed to True in a future version of pandas. Pass observed=False to retain current behavior or observed=True to adopt the future default and silence this warning.\n",
      "  df_unique = df_new.groupby('name').agg({'lat': 'first', 'lng': 'first'}).reset_index()\n"
     ]
    },
    {
     "name": "stdout",
     "output_type": "stream",
     "text": [
      "Map saved as D:\\df\\maps\\map_821.html\n",
      "Map saved as D:\\df\\maps\\map_822.html\n"
     ]
    },
    {
     "name": "stderr",
     "output_type": "stream",
     "text": [
      "C:\\Users\\Fenin Jose\\AppData\\Local\\Temp\\ipykernel_17548\\574676199.py:17: FutureWarning: The default of observed=False is deprecated and will be changed to True in a future version of pandas. Pass observed=False to retain current behavior or observed=True to adopt the future default and silence this warning.\n",
      "  df_unique = df_new.groupby('name').agg({'lat': 'first', 'lng': 'first'}).reset_index()\n"
     ]
    },
    {
     "name": "stdout",
     "output_type": "stream",
     "text": [
      "Map saved as D:\\df\\maps\\map_823.html\n",
      "Map saved as D:\\df\\maps\\map_824.html\n"
     ]
    },
    {
     "name": "stderr",
     "output_type": "stream",
     "text": [
      "C:\\Users\\Fenin Jose\\AppData\\Local\\Temp\\ipykernel_17548\\574676199.py:17: FutureWarning: The default of observed=False is deprecated and will be changed to True in a future version of pandas. Pass observed=False to retain current behavior or observed=True to adopt the future default and silence this warning.\n",
      "  df_unique = df_new.groupby('name').agg({'lat': 'first', 'lng': 'first'}).reset_index()\n",
      "C:\\Users\\Fenin Jose\\AppData\\Local\\Temp\\ipykernel_17548\\574676199.py:17: FutureWarning: The default of observed=False is deprecated and will be changed to True in a future version of pandas. Pass observed=False to retain current behavior or observed=True to adopt the future default and silence this warning.\n",
      "  df_unique = df_new.groupby('name').agg({'lat': 'first', 'lng': 'first'}).reset_index()\n"
     ]
    },
    {
     "name": "stdout",
     "output_type": "stream",
     "text": [
      "Map saved as D:\\df\\maps\\map_825.html\n"
     ]
    },
    {
     "name": "stderr",
     "output_type": "stream",
     "text": [
      "C:\\Users\\Fenin Jose\\AppData\\Local\\Temp\\ipykernel_17548\\574676199.py:17: FutureWarning: The default of observed=False is deprecated and will be changed to True in a future version of pandas. Pass observed=False to retain current behavior or observed=True to adopt the future default and silence this warning.\n",
      "  df_unique = df_new.groupby('name').agg({'lat': 'first', 'lng': 'first'}).reset_index()\n"
     ]
    },
    {
     "name": "stdout",
     "output_type": "stream",
     "text": [
      "Map saved as D:\\df\\maps\\map_826.html\n"
     ]
    },
    {
     "name": "stderr",
     "output_type": "stream",
     "text": [
      "C:\\Users\\Fenin Jose\\AppData\\Local\\Temp\\ipykernel_17548\\574676199.py:17: FutureWarning: The default of observed=False is deprecated and will be changed to True in a future version of pandas. Pass observed=False to retain current behavior or observed=True to adopt the future default and silence this warning.\n",
      "  df_unique = df_new.groupby('name').agg({'lat': 'first', 'lng': 'first'}).reset_index()\n"
     ]
    },
    {
     "name": "stdout",
     "output_type": "stream",
     "text": [
      "Map saved as D:\\df\\maps\\map_827.html\n"
     ]
    },
    {
     "name": "stderr",
     "output_type": "stream",
     "text": [
      "C:\\Users\\Fenin Jose\\AppData\\Local\\Temp\\ipykernel_17548\\574676199.py:17: FutureWarning: The default of observed=False is deprecated and will be changed to True in a future version of pandas. Pass observed=False to retain current behavior or observed=True to adopt the future default and silence this warning.\n",
      "  df_unique = df_new.groupby('name').agg({'lat': 'first', 'lng': 'first'}).reset_index()\n"
     ]
    },
    {
     "name": "stdout",
     "output_type": "stream",
     "text": [
      "Map saved as D:\\df\\maps\\map_828.html\n"
     ]
    },
    {
     "name": "stderr",
     "output_type": "stream",
     "text": [
      "C:\\Users\\Fenin Jose\\AppData\\Local\\Temp\\ipykernel_17548\\574676199.py:17: FutureWarning: The default of observed=False is deprecated and will be changed to True in a future version of pandas. Pass observed=False to retain current behavior or observed=True to adopt the future default and silence this warning.\n",
      "  df_unique = df_new.groupby('name').agg({'lat': 'first', 'lng': 'first'}).reset_index()\n"
     ]
    },
    {
     "name": "stdout",
     "output_type": "stream",
     "text": [
      "Map saved as D:\\df\\maps\\map_829.html\n"
     ]
    },
    {
     "name": "stderr",
     "output_type": "stream",
     "text": [
      "C:\\Users\\Fenin Jose\\AppData\\Local\\Temp\\ipykernel_17548\\574676199.py:17: FutureWarning: The default of observed=False is deprecated and will be changed to True in a future version of pandas. Pass observed=False to retain current behavior or observed=True to adopt the future default and silence this warning.\n",
      "  df_unique = df_new.groupby('name').agg({'lat': 'first', 'lng': 'first'}).reset_index()\n"
     ]
    },
    {
     "name": "stdout",
     "output_type": "stream",
     "text": [
      "Map saved as D:\\df\\maps\\map_830.html\n"
     ]
    },
    {
     "name": "stderr",
     "output_type": "stream",
     "text": [
      "C:\\Users\\Fenin Jose\\AppData\\Local\\Temp\\ipykernel_17548\\574676199.py:17: FutureWarning: The default of observed=False is deprecated and will be changed to True in a future version of pandas. Pass observed=False to retain current behavior or observed=True to adopt the future default and silence this warning.\n",
      "  df_unique = df_new.groupby('name').agg({'lat': 'first', 'lng': 'first'}).reset_index()\n"
     ]
    },
    {
     "name": "stdout",
     "output_type": "stream",
     "text": [
      "Map saved as D:\\df\\maps\\map_831.html\n"
     ]
    },
    {
     "name": "stderr",
     "output_type": "stream",
     "text": [
      "C:\\Users\\Fenin Jose\\AppData\\Local\\Temp\\ipykernel_17548\\574676199.py:17: FutureWarning: The default of observed=False is deprecated and will be changed to True in a future version of pandas. Pass observed=False to retain current behavior or observed=True to adopt the future default and silence this warning.\n",
      "  df_unique = df_new.groupby('name').agg({'lat': 'first', 'lng': 'first'}).reset_index()\n"
     ]
    },
    {
     "name": "stdout",
     "output_type": "stream",
     "text": [
      "Map saved as D:\\df\\maps\\map_832.html\n"
     ]
    },
    {
     "name": "stderr",
     "output_type": "stream",
     "text": [
      "C:\\Users\\Fenin Jose\\AppData\\Local\\Temp\\ipykernel_17548\\574676199.py:17: FutureWarning: The default of observed=False is deprecated and will be changed to True in a future version of pandas. Pass observed=False to retain current behavior or observed=True to adopt the future default and silence this warning.\n",
      "  df_unique = df_new.groupby('name').agg({'lat': 'first', 'lng': 'first'}).reset_index()\n"
     ]
    },
    {
     "name": "stdout",
     "output_type": "stream",
     "text": [
      "Map saved as D:\\df\\maps\\map_833.html\n"
     ]
    },
    {
     "name": "stderr",
     "output_type": "stream",
     "text": [
      "C:\\Users\\Fenin Jose\\AppData\\Local\\Temp\\ipykernel_17548\\574676199.py:17: FutureWarning: The default of observed=False is deprecated and will be changed to True in a future version of pandas. Pass observed=False to retain current behavior or observed=True to adopt the future default and silence this warning.\n",
      "  df_unique = df_new.groupby('name').agg({'lat': 'first', 'lng': 'first'}).reset_index()\n"
     ]
    },
    {
     "name": "stdout",
     "output_type": "stream",
     "text": [
      "Map saved as D:\\df\\maps\\map_834.html\n",
      "Map saved as D:\\df\\maps\\map_835.html\n"
     ]
    },
    {
     "name": "stderr",
     "output_type": "stream",
     "text": [
      "C:\\Users\\Fenin Jose\\AppData\\Local\\Temp\\ipykernel_17548\\574676199.py:17: FutureWarning: The default of observed=False is deprecated and will be changed to True in a future version of pandas. Pass observed=False to retain current behavior or observed=True to adopt the future default and silence this warning.\n",
      "  df_unique = df_new.groupby('name').agg({'lat': 'first', 'lng': 'first'}).reset_index()\n",
      "C:\\Users\\Fenin Jose\\AppData\\Local\\Temp\\ipykernel_17548\\574676199.py:17: FutureWarning: The default of observed=False is deprecated and will be changed to True in a future version of pandas. Pass observed=False to retain current behavior or observed=True to adopt the future default and silence this warning.\n",
      "  df_unique = df_new.groupby('name').agg({'lat': 'first', 'lng': 'first'}).reset_index()\n"
     ]
    },
    {
     "name": "stdout",
     "output_type": "stream",
     "text": [
      "Map saved as D:\\df\\maps\\map_836.html\n"
     ]
    },
    {
     "name": "stderr",
     "output_type": "stream",
     "text": [
      "C:\\Users\\Fenin Jose\\AppData\\Local\\Temp\\ipykernel_17548\\574676199.py:17: FutureWarning: The default of observed=False is deprecated and will be changed to True in a future version of pandas. Pass observed=False to retain current behavior or observed=True to adopt the future default and silence this warning.\n",
      "  df_unique = df_new.groupby('name').agg({'lat': 'first', 'lng': 'first'}).reset_index()\n"
     ]
    },
    {
     "name": "stdout",
     "output_type": "stream",
     "text": [
      "Map saved as D:\\df\\maps\\map_837.html\n"
     ]
    },
    {
     "name": "stderr",
     "output_type": "stream",
     "text": [
      "C:\\Users\\Fenin Jose\\AppData\\Local\\Temp\\ipykernel_17548\\574676199.py:17: FutureWarning: The default of observed=False is deprecated and will be changed to True in a future version of pandas. Pass observed=False to retain current behavior or observed=True to adopt the future default and silence this warning.\n",
      "  df_unique = df_new.groupby('name').agg({'lat': 'first', 'lng': 'first'}).reset_index()\n"
     ]
    },
    {
     "name": "stdout",
     "output_type": "stream",
     "text": [
      "Map saved as D:\\df\\maps\\map_838.html\n",
      "Map saved as D:\\df\\maps\\map_839.html\n"
     ]
    },
    {
     "name": "stderr",
     "output_type": "stream",
     "text": [
      "C:\\Users\\Fenin Jose\\AppData\\Local\\Temp\\ipykernel_17548\\574676199.py:17: FutureWarning: The default of observed=False is deprecated and will be changed to True in a future version of pandas. Pass observed=False to retain current behavior or observed=True to adopt the future default and silence this warning.\n",
      "  df_unique = df_new.groupby('name').agg({'lat': 'first', 'lng': 'first'}).reset_index()\n",
      "C:\\Users\\Fenin Jose\\AppData\\Local\\Temp\\ipykernel_17548\\574676199.py:17: FutureWarning: The default of observed=False is deprecated and will be changed to True in a future version of pandas. Pass observed=False to retain current behavior or observed=True to adopt the future default and silence this warning.\n",
      "  df_unique = df_new.groupby('name').agg({'lat': 'first', 'lng': 'first'}).reset_index()\n"
     ]
    },
    {
     "name": "stdout",
     "output_type": "stream",
     "text": [
      "Map saved as D:\\df\\maps\\map_840.html\n",
      "Map saved as D:\\df\\maps\\map_841.html\n"
     ]
    },
    {
     "name": "stderr",
     "output_type": "stream",
     "text": [
      "C:\\Users\\Fenin Jose\\AppData\\Local\\Temp\\ipykernel_17548\\574676199.py:17: FutureWarning: The default of observed=False is deprecated and will be changed to True in a future version of pandas. Pass observed=False to retain current behavior or observed=True to adopt the future default and silence this warning.\n",
      "  df_unique = df_new.groupby('name').agg({'lat': 'first', 'lng': 'first'}).reset_index()\n",
      "C:\\Users\\Fenin Jose\\AppData\\Local\\Temp\\ipykernel_17548\\574676199.py:17: FutureWarning: The default of observed=False is deprecated and will be changed to True in a future version of pandas. Pass observed=False to retain current behavior or observed=True to adopt the future default and silence this warning.\n",
      "  df_unique = df_new.groupby('name').agg({'lat': 'first', 'lng': 'first'}).reset_index()\n",
      "C:\\Users\\Fenin Jose\\AppData\\Local\\Temp\\ipykernel_17548\\574676199.py:17: FutureWarning: The default of observed=False is deprecated and will be changed to True in a future version of pandas. Pass observed=False to retain current behavior or observed=True to adopt the future default and silence this warning.\n",
      "  df_unique = df_new.groupby('name').agg({'lat': 'first', 'lng': 'first'}).reset_index()\n"
     ]
    },
    {
     "name": "stdout",
     "output_type": "stream",
     "text": [
      "Map saved as D:\\df\\maps\\map_842.html\n",
      "Map saved as D:\\df\\maps\\map_843.html\n",
      "Map saved as D:\\df\\maps\\map_844.html\n"
     ]
    },
    {
     "name": "stderr",
     "output_type": "stream",
     "text": [
      "C:\\Users\\Fenin Jose\\AppData\\Local\\Temp\\ipykernel_17548\\574676199.py:17: FutureWarning: The default of observed=False is deprecated and will be changed to True in a future version of pandas. Pass observed=False to retain current behavior or observed=True to adopt the future default and silence this warning.\n",
      "  df_unique = df_new.groupby('name').agg({'lat': 'first', 'lng': 'first'}).reset_index()\n",
      "C:\\Users\\Fenin Jose\\AppData\\Local\\Temp\\ipykernel_17548\\574676199.py:17: FutureWarning: The default of observed=False is deprecated and will be changed to True in a future version of pandas. Pass observed=False to retain current behavior or observed=True to adopt the future default and silence this warning.\n",
      "  df_unique = df_new.groupby('name').agg({'lat': 'first', 'lng': 'first'}).reset_index()\n"
     ]
    },
    {
     "name": "stdout",
     "output_type": "stream",
     "text": [
      "Map saved as D:\\df\\maps\\map_845.html\n"
     ]
    },
    {
     "name": "stderr",
     "output_type": "stream",
     "text": [
      "C:\\Users\\Fenin Jose\\AppData\\Local\\Temp\\ipykernel_17548\\574676199.py:17: FutureWarning: The default of observed=False is deprecated and will be changed to True in a future version of pandas. Pass observed=False to retain current behavior or observed=True to adopt the future default and silence this warning.\n",
      "  df_unique = df_new.groupby('name').agg({'lat': 'first', 'lng': 'first'}).reset_index()\n"
     ]
    },
    {
     "name": "stdout",
     "output_type": "stream",
     "text": [
      "Map saved as D:\\df\\maps\\map_846.html\n"
     ]
    },
    {
     "name": "stderr",
     "output_type": "stream",
     "text": [
      "C:\\Users\\Fenin Jose\\AppData\\Local\\Temp\\ipykernel_17548\\574676199.py:17: FutureWarning: The default of observed=False is deprecated and will be changed to True in a future version of pandas. Pass observed=False to retain current behavior or observed=True to adopt the future default and silence this warning.\n",
      "  df_unique = df_new.groupby('name').agg({'lat': 'first', 'lng': 'first'}).reset_index()\n"
     ]
    },
    {
     "name": "stdout",
     "output_type": "stream",
     "text": [
      "Map saved as D:\\df\\maps\\map_847.html\n"
     ]
    },
    {
     "name": "stderr",
     "output_type": "stream",
     "text": [
      "C:\\Users\\Fenin Jose\\AppData\\Local\\Temp\\ipykernel_17548\\574676199.py:17: FutureWarning: The default of observed=False is deprecated and will be changed to True in a future version of pandas. Pass observed=False to retain current behavior or observed=True to adopt the future default and silence this warning.\n",
      "  df_unique = df_new.groupby('name').agg({'lat': 'first', 'lng': 'first'}).reset_index()\n"
     ]
    },
    {
     "name": "stdout",
     "output_type": "stream",
     "text": [
      "Map saved as D:\\df\\maps\\map_848.html\n"
     ]
    },
    {
     "name": "stderr",
     "output_type": "stream",
     "text": [
      "C:\\Users\\Fenin Jose\\AppData\\Local\\Temp\\ipykernel_17548\\574676199.py:17: FutureWarning: The default of observed=False is deprecated and will be changed to True in a future version of pandas. Pass observed=False to retain current behavior or observed=True to adopt the future default and silence this warning.\n",
      "  df_unique = df_new.groupby('name').agg({'lat': 'first', 'lng': 'first'}).reset_index()\n"
     ]
    },
    {
     "name": "stdout",
     "output_type": "stream",
     "text": [
      "Map saved as D:\\df\\maps\\map_849.html\n"
     ]
    },
    {
     "name": "stderr",
     "output_type": "stream",
     "text": [
      "C:\\Users\\Fenin Jose\\AppData\\Local\\Temp\\ipykernel_17548\\574676199.py:17: FutureWarning: The default of observed=False is deprecated and will be changed to True in a future version of pandas. Pass observed=False to retain current behavior or observed=True to adopt the future default and silence this warning.\n",
      "  df_unique = df_new.groupby('name').agg({'lat': 'first', 'lng': 'first'}).reset_index()\n"
     ]
    },
    {
     "name": "stdout",
     "output_type": "stream",
     "text": [
      "Map saved as D:\\df\\maps\\map_850.html\n",
      "Map saved as D:\\df\\maps\\map_851.html\n"
     ]
    },
    {
     "name": "stderr",
     "output_type": "stream",
     "text": [
      "C:\\Users\\Fenin Jose\\AppData\\Local\\Temp\\ipykernel_17548\\574676199.py:17: FutureWarning: The default of observed=False is deprecated and will be changed to True in a future version of pandas. Pass observed=False to retain current behavior or observed=True to adopt the future default and silence this warning.\n",
      "  df_unique = df_new.groupby('name').agg({'lat': 'first', 'lng': 'first'}).reset_index()\n",
      "C:\\Users\\Fenin Jose\\AppData\\Local\\Temp\\ipykernel_17548\\574676199.py:17: FutureWarning: The default of observed=False is deprecated and will be changed to True in a future version of pandas. Pass observed=False to retain current behavior or observed=True to adopt the future default and silence this warning.\n",
      "  df_unique = df_new.groupby('name').agg({'lat': 'first', 'lng': 'first'}).reset_index()\n"
     ]
    },
    {
     "name": "stdout",
     "output_type": "stream",
     "text": [
      "Map saved as D:\\df\\maps\\map_852.html\n"
     ]
    },
    {
     "name": "stderr",
     "output_type": "stream",
     "text": [
      "C:\\Users\\Fenin Jose\\AppData\\Local\\Temp\\ipykernel_17548\\574676199.py:17: FutureWarning: The default of observed=False is deprecated and will be changed to True in a future version of pandas. Pass observed=False to retain current behavior or observed=True to adopt the future default and silence this warning.\n",
      "  df_unique = df_new.groupby('name').agg({'lat': 'first', 'lng': 'first'}).reset_index()\n"
     ]
    },
    {
     "name": "stdout",
     "output_type": "stream",
     "text": [
      "Map saved as D:\\df\\maps\\map_853.html\n",
      "Map saved as D:\\df\\maps\\map_854.html\n"
     ]
    },
    {
     "name": "stderr",
     "output_type": "stream",
     "text": [
      "C:\\Users\\Fenin Jose\\AppData\\Local\\Temp\\ipykernel_17548\\574676199.py:17: FutureWarning: The default of observed=False is deprecated and will be changed to True in a future version of pandas. Pass observed=False to retain current behavior or observed=True to adopt the future default and silence this warning.\n",
      "  df_unique = df_new.groupby('name').agg({'lat': 'first', 'lng': 'first'}).reset_index()\n",
      "C:\\Users\\Fenin Jose\\AppData\\Local\\Temp\\ipykernel_17548\\574676199.py:17: FutureWarning: The default of observed=False is deprecated and will be changed to True in a future version of pandas. Pass observed=False to retain current behavior or observed=True to adopt the future default and silence this warning.\n",
      "  df_unique = df_new.groupby('name').agg({'lat': 'first', 'lng': 'first'}).reset_index()\n"
     ]
    },
    {
     "name": "stdout",
     "output_type": "stream",
     "text": [
      "Map saved as D:\\df\\maps\\map_855.html\n",
      "Map saved as D:\\df\\maps\\map_856.html\n"
     ]
    },
    {
     "name": "stderr",
     "output_type": "stream",
     "text": [
      "C:\\Users\\Fenin Jose\\AppData\\Local\\Temp\\ipykernel_17548\\574676199.py:17: FutureWarning: The default of observed=False is deprecated and will be changed to True in a future version of pandas. Pass observed=False to retain current behavior or observed=True to adopt the future default and silence this warning.\n",
      "  df_unique = df_new.groupby('name').agg({'lat': 'first', 'lng': 'first'}).reset_index()\n",
      "C:\\Users\\Fenin Jose\\AppData\\Local\\Temp\\ipykernel_17548\\574676199.py:17: FutureWarning: The default of observed=False is deprecated and will be changed to True in a future version of pandas. Pass observed=False to retain current behavior or observed=True to adopt the future default and silence this warning.\n",
      "  df_unique = df_new.groupby('name').agg({'lat': 'first', 'lng': 'first'}).reset_index()\n"
     ]
    },
    {
     "name": "stdout",
     "output_type": "stream",
     "text": [
      "Map saved as D:\\df\\maps\\map_857.html\n"
     ]
    },
    {
     "name": "stderr",
     "output_type": "stream",
     "text": [
      "C:\\Users\\Fenin Jose\\AppData\\Local\\Temp\\ipykernel_17548\\574676199.py:17: FutureWarning: The default of observed=False is deprecated and will be changed to True in a future version of pandas. Pass observed=False to retain current behavior or observed=True to adopt the future default and silence this warning.\n",
      "  df_unique = df_new.groupby('name').agg({'lat': 'first', 'lng': 'first'}).reset_index()\n",
      "C:\\Users\\Fenin Jose\\AppData\\Local\\Temp\\ipykernel_17548\\574676199.py:17: FutureWarning: The default of observed=False is deprecated and will be changed to True in a future version of pandas. Pass observed=False to retain current behavior or observed=True to adopt the future default and silence this warning.\n",
      "  df_unique = df_new.groupby('name').agg({'lat': 'first', 'lng': 'first'}).reset_index()\n"
     ]
    },
    {
     "name": "stdout",
     "output_type": "stream",
     "text": [
      "Map saved as D:\\df\\maps\\map_858.html\n",
      "Map saved as D:\\df\\maps\\map_859.html\n"
     ]
    },
    {
     "name": "stderr",
     "output_type": "stream",
     "text": [
      "C:\\Users\\Fenin Jose\\AppData\\Local\\Temp\\ipykernel_17548\\574676199.py:17: FutureWarning: The default of observed=False is deprecated and will be changed to True in a future version of pandas. Pass observed=False to retain current behavior or observed=True to adopt the future default and silence this warning.\n",
      "  df_unique = df_new.groupby('name').agg({'lat': 'first', 'lng': 'first'}).reset_index()\n"
     ]
    },
    {
     "name": "stdout",
     "output_type": "stream",
     "text": [
      "Map saved as D:\\df\\maps\\map_860.html\n"
     ]
    },
    {
     "name": "stderr",
     "output_type": "stream",
     "text": [
      "C:\\Users\\Fenin Jose\\AppData\\Local\\Temp\\ipykernel_17548\\574676199.py:17: FutureWarning: The default of observed=False is deprecated and will be changed to True in a future version of pandas. Pass observed=False to retain current behavior or observed=True to adopt the future default and silence this warning.\n",
      "  df_unique = df_new.groupby('name').agg({'lat': 'first', 'lng': 'first'}).reset_index()\n"
     ]
    },
    {
     "name": "stdout",
     "output_type": "stream",
     "text": [
      "Map saved as D:\\df\\maps\\map_861.html\n"
     ]
    },
    {
     "name": "stderr",
     "output_type": "stream",
     "text": [
      "C:\\Users\\Fenin Jose\\AppData\\Local\\Temp\\ipykernel_17548\\574676199.py:17: FutureWarning: The default of observed=False is deprecated and will be changed to True in a future version of pandas. Pass observed=False to retain current behavior or observed=True to adopt the future default and silence this warning.\n",
      "  df_unique = df_new.groupby('name').agg({'lat': 'first', 'lng': 'first'}).reset_index()\n",
      "C:\\Users\\Fenin Jose\\AppData\\Local\\Temp\\ipykernel_17548\\574676199.py:17: FutureWarning: The default of observed=False is deprecated and will be changed to True in a future version of pandas. Pass observed=False to retain current behavior or observed=True to adopt the future default and silence this warning.\n",
      "  df_unique = df_new.groupby('name').agg({'lat': 'first', 'lng': 'first'}).reset_index()\n"
     ]
    },
    {
     "name": "stdout",
     "output_type": "stream",
     "text": [
      "Map saved as D:\\df\\maps\\map_862.html\n",
      "Map saved as D:\\df\\maps\\map_863.html\n"
     ]
    },
    {
     "name": "stderr",
     "output_type": "stream",
     "text": [
      "C:\\Users\\Fenin Jose\\AppData\\Local\\Temp\\ipykernel_17548\\574676199.py:17: FutureWarning: The default of observed=False is deprecated and will be changed to True in a future version of pandas. Pass observed=False to retain current behavior or observed=True to adopt the future default and silence this warning.\n",
      "  df_unique = df_new.groupby('name').agg({'lat': 'first', 'lng': 'first'}).reset_index()\n"
     ]
    },
    {
     "name": "stdout",
     "output_type": "stream",
     "text": [
      "Map saved as D:\\df\\maps\\map_864.html\n",
      "Map saved as D:\\df\\maps\\map_865.html\n"
     ]
    },
    {
     "name": "stderr",
     "output_type": "stream",
     "text": [
      "C:\\Users\\Fenin Jose\\AppData\\Local\\Temp\\ipykernel_17548\\574676199.py:17: FutureWarning: The default of observed=False is deprecated and will be changed to True in a future version of pandas. Pass observed=False to retain current behavior or observed=True to adopt the future default and silence this warning.\n",
      "  df_unique = df_new.groupby('name').agg({'lat': 'first', 'lng': 'first'}).reset_index()\n",
      "C:\\Users\\Fenin Jose\\AppData\\Local\\Temp\\ipykernel_17548\\574676199.py:17: FutureWarning: The default of observed=False is deprecated and will be changed to True in a future version of pandas. Pass observed=False to retain current behavior or observed=True to adopt the future default and silence this warning.\n",
      "  df_unique = df_new.groupby('name').agg({'lat': 'first', 'lng': 'first'}).reset_index()\n"
     ]
    },
    {
     "name": "stdout",
     "output_type": "stream",
     "text": [
      "Map saved as D:\\df\\maps\\map_866.html\n",
      "Map saved as D:\\df\\maps\\map_867.html\n"
     ]
    },
    {
     "name": "stderr",
     "output_type": "stream",
     "text": [
      "C:\\Users\\Fenin Jose\\AppData\\Local\\Temp\\ipykernel_17548\\574676199.py:17: FutureWarning: The default of observed=False is deprecated and will be changed to True in a future version of pandas. Pass observed=False to retain current behavior or observed=True to adopt the future default and silence this warning.\n",
      "  df_unique = df_new.groupby('name').agg({'lat': 'first', 'lng': 'first'}).reset_index()\n",
      "C:\\Users\\Fenin Jose\\AppData\\Local\\Temp\\ipykernel_17548\\574676199.py:17: FutureWarning: The default of observed=False is deprecated and will be changed to True in a future version of pandas. Pass observed=False to retain current behavior or observed=True to adopt the future default and silence this warning.\n",
      "  df_unique = df_new.groupby('name').agg({'lat': 'first', 'lng': 'first'}).reset_index()\n"
     ]
    },
    {
     "name": "stdout",
     "output_type": "stream",
     "text": [
      "Map saved as D:\\df\\maps\\map_868.html\n",
      "Map saved as D:\\df\\maps\\map_869.html\n",
      "Map saved as D:\\df\\maps\\map_870.html\n"
     ]
    },
    {
     "name": "stderr",
     "output_type": "stream",
     "text": [
      "C:\\Users\\Fenin Jose\\AppData\\Local\\Temp\\ipykernel_17548\\574676199.py:17: FutureWarning: The default of observed=False is deprecated and will be changed to True in a future version of pandas. Pass observed=False to retain current behavior or observed=True to adopt the future default and silence this warning.\n",
      "  df_unique = df_new.groupby('name').agg({'lat': 'first', 'lng': 'first'}).reset_index()\n",
      "C:\\Users\\Fenin Jose\\AppData\\Local\\Temp\\ipykernel_17548\\574676199.py:17: FutureWarning: The default of observed=False is deprecated and will be changed to True in a future version of pandas. Pass observed=False to retain current behavior or observed=True to adopt the future default and silence this warning.\n",
      "  df_unique = df_new.groupby('name').agg({'lat': 'first', 'lng': 'first'}).reset_index()\n",
      "C:\\Users\\Fenin Jose\\AppData\\Local\\Temp\\ipykernel_17548\\574676199.py:17: FutureWarning: The default of observed=False is deprecated and will be changed to True in a future version of pandas. Pass observed=False to retain current behavior or observed=True to adopt the future default and silence this warning.\n",
      "  df_unique = df_new.groupby('name').agg({'lat': 'first', 'lng': 'first'}).reset_index()\n",
      "C:\\Users\\Fenin Jose\\AppData\\Local\\Temp\\ipykernel_17548\\574676199.py:17: FutureWarning: The default of observed=False is deprecated and will be changed to True in a future version of pandas. Pass observed=False to retain current behavior or observed=True to adopt the future default and silence this warning.\n",
      "  df_unique = df_new.groupby('name').agg({'lat': 'first', 'lng': 'first'}).reset_index()\n",
      "C:\\Users\\Fenin Jose\\AppData\\Local\\Temp\\ipykernel_17548\\574676199.py:17: FutureWarning: The default of observed=False is deprecated and will be changed to True in a future version of pandas. Pass observed=False to retain current behavior or observed=True to adopt the future default and silence this warning.\n",
      "  df_unique = df_new.groupby('name').agg({'lat': 'first', 'lng': 'first'}).reset_index()\n"
     ]
    },
    {
     "name": "stdout",
     "output_type": "stream",
     "text": [
      "Map saved as D:\\df\\maps\\map_871.html\n",
      "Map saved as D:\\df\\maps\\map_872.html\n",
      "Map saved as D:\\df\\maps\\map_873.html\n",
      "Map saved as D:\\df\\maps\\map_874.html\n",
      "Map saved as D:\\df\\maps\\map_875.html\n"
     ]
    },
    {
     "name": "stderr",
     "output_type": "stream",
     "text": [
      "C:\\Users\\Fenin Jose\\AppData\\Local\\Temp\\ipykernel_17548\\574676199.py:17: FutureWarning: The default of observed=False is deprecated and will be changed to True in a future version of pandas. Pass observed=False to retain current behavior or observed=True to adopt the future default and silence this warning.\n",
      "  df_unique = df_new.groupby('name').agg({'lat': 'first', 'lng': 'first'}).reset_index()\n",
      "C:\\Users\\Fenin Jose\\AppData\\Local\\Temp\\ipykernel_17548\\574676199.py:17: FutureWarning: The default of observed=False is deprecated and will be changed to True in a future version of pandas. Pass observed=False to retain current behavior or observed=True to adopt the future default and silence this warning.\n",
      "  df_unique = df_new.groupby('name').agg({'lat': 'first', 'lng': 'first'}).reset_index()\n",
      "C:\\Users\\Fenin Jose\\AppData\\Local\\Temp\\ipykernel_17548\\574676199.py:17: FutureWarning: The default of observed=False is deprecated and will be changed to True in a future version of pandas. Pass observed=False to retain current behavior or observed=True to adopt the future default and silence this warning.\n",
      "  df_unique = df_new.groupby('name').agg({'lat': 'first', 'lng': 'first'}).reset_index()\n"
     ]
    },
    {
     "name": "stdout",
     "output_type": "stream",
     "text": [
      "Map saved as D:\\df\\maps\\map_876.html\n",
      "Map saved as D:\\df\\maps\\map_877.html\n"
     ]
    },
    {
     "name": "stderr",
     "output_type": "stream",
     "text": [
      "C:\\Users\\Fenin Jose\\AppData\\Local\\Temp\\ipykernel_17548\\574676199.py:17: FutureWarning: The default of observed=False is deprecated and will be changed to True in a future version of pandas. Pass observed=False to retain current behavior or observed=True to adopt the future default and silence this warning.\n",
      "  df_unique = df_new.groupby('name').agg({'lat': 'first', 'lng': 'first'}).reset_index()\n",
      "C:\\Users\\Fenin Jose\\AppData\\Local\\Temp\\ipykernel_17548\\574676199.py:17: FutureWarning: The default of observed=False is deprecated and will be changed to True in a future version of pandas. Pass observed=False to retain current behavior or observed=True to adopt the future default and silence this warning.\n",
      "  df_unique = df_new.groupby('name').agg({'lat': 'first', 'lng': 'first'}).reset_index()\n"
     ]
    },
    {
     "name": "stdout",
     "output_type": "stream",
     "text": [
      "Map saved as D:\\df\\maps\\map_878.html\n",
      "Map saved as D:\\df\\maps\\map_879.html\n",
      "Map saved as D:\\df\\maps\\map_880.html\n"
     ]
    },
    {
     "name": "stderr",
     "output_type": "stream",
     "text": [
      "C:\\Users\\Fenin Jose\\AppData\\Local\\Temp\\ipykernel_17548\\574676199.py:17: FutureWarning: The default of observed=False is deprecated and will be changed to True in a future version of pandas. Pass observed=False to retain current behavior or observed=True to adopt the future default and silence this warning.\n",
      "  df_unique = df_new.groupby('name').agg({'lat': 'first', 'lng': 'first'}).reset_index()\n",
      "C:\\Users\\Fenin Jose\\AppData\\Local\\Temp\\ipykernel_17548\\574676199.py:17: FutureWarning: The default of observed=False is deprecated and will be changed to True in a future version of pandas. Pass observed=False to retain current behavior or observed=True to adopt the future default and silence this warning.\n",
      "  df_unique = df_new.groupby('name').agg({'lat': 'first', 'lng': 'first'}).reset_index()\n",
      "C:\\Users\\Fenin Jose\\AppData\\Local\\Temp\\ipykernel_17548\\574676199.py:17: FutureWarning: The default of observed=False is deprecated and will be changed to True in a future version of pandas. Pass observed=False to retain current behavior or observed=True to adopt the future default and silence this warning.\n",
      "  df_unique = df_new.groupby('name').agg({'lat': 'first', 'lng': 'first'}).reset_index()\n"
     ]
    },
    {
     "name": "stdout",
     "output_type": "stream",
     "text": [
      "Map saved as D:\\df\\maps\\map_881.html\n",
      "Map saved as D:\\df\\maps\\map_882.html\n",
      "Map saved as D:\\df\\maps\\map_883.html\n"
     ]
    },
    {
     "name": "stderr",
     "output_type": "stream",
     "text": [
      "C:\\Users\\Fenin Jose\\AppData\\Local\\Temp\\ipykernel_17548\\574676199.py:17: FutureWarning: The default of observed=False is deprecated and will be changed to True in a future version of pandas. Pass observed=False to retain current behavior or observed=True to adopt the future default and silence this warning.\n",
      "  df_unique = df_new.groupby('name').agg({'lat': 'first', 'lng': 'first'}).reset_index()\n",
      "C:\\Users\\Fenin Jose\\AppData\\Local\\Temp\\ipykernel_17548\\574676199.py:17: FutureWarning: The default of observed=False is deprecated and will be changed to True in a future version of pandas. Pass observed=False to retain current behavior or observed=True to adopt the future default and silence this warning.\n",
      "  df_unique = df_new.groupby('name').agg({'lat': 'first', 'lng': 'first'}).reset_index()\n",
      "C:\\Users\\Fenin Jose\\AppData\\Local\\Temp\\ipykernel_17548\\574676199.py:17: FutureWarning: The default of observed=False is deprecated and will be changed to True in a future version of pandas. Pass observed=False to retain current behavior or observed=True to adopt the future default and silence this warning.\n",
      "  df_unique = df_new.groupby('name').agg({'lat': 'first', 'lng': 'first'}).reset_index()\n",
      "C:\\Users\\Fenin Jose\\AppData\\Local\\Temp\\ipykernel_17548\\574676199.py:17: FutureWarning: The default of observed=False is deprecated and will be changed to True in a future version of pandas. Pass observed=False to retain current behavior or observed=True to adopt the future default and silence this warning.\n",
      "  df_unique = df_new.groupby('name').agg({'lat': 'first', 'lng': 'first'}).reset_index()\n"
     ]
    },
    {
     "name": "stdout",
     "output_type": "stream",
     "text": [
      "Map saved as D:\\df\\maps\\map_884.html\n",
      "Map saved as D:\\df\\maps\\map_885.html\n",
      "Map saved as D:\\df\\maps\\map_886.html\n"
     ]
    },
    {
     "name": "stderr",
     "output_type": "stream",
     "text": [
      "C:\\Users\\Fenin Jose\\AppData\\Local\\Temp\\ipykernel_17548\\574676199.py:17: FutureWarning: The default of observed=False is deprecated and will be changed to True in a future version of pandas. Pass observed=False to retain current behavior or observed=True to adopt the future default and silence this warning.\n",
      "  df_unique = df_new.groupby('name').agg({'lat': 'first', 'lng': 'first'}).reset_index()\n",
      "C:\\Users\\Fenin Jose\\AppData\\Local\\Temp\\ipykernel_17548\\574676199.py:17: FutureWarning: The default of observed=False is deprecated and will be changed to True in a future version of pandas. Pass observed=False to retain current behavior or observed=True to adopt the future default and silence this warning.\n",
      "  df_unique = df_new.groupby('name').agg({'lat': 'first', 'lng': 'first'}).reset_index()\n",
      "C:\\Users\\Fenin Jose\\AppData\\Local\\Temp\\ipykernel_17548\\574676199.py:17: FutureWarning: The default of observed=False is deprecated and will be changed to True in a future version of pandas. Pass observed=False to retain current behavior or observed=True to adopt the future default and silence this warning.\n",
      "  df_unique = df_new.groupby('name').agg({'lat': 'first', 'lng': 'first'}).reset_index()\n"
     ]
    },
    {
     "name": "stdout",
     "output_type": "stream",
     "text": [
      "Map saved as D:\\df\\maps\\map_887.html\n",
      "Map saved as D:\\df\\maps\\map_888.html\n",
      "Map saved as D:\\df\\maps\\map_889.html\n"
     ]
    },
    {
     "name": "stderr",
     "output_type": "stream",
     "text": [
      "C:\\Users\\Fenin Jose\\AppData\\Local\\Temp\\ipykernel_17548\\574676199.py:17: FutureWarning: The default of observed=False is deprecated and will be changed to True in a future version of pandas. Pass observed=False to retain current behavior or observed=True to adopt the future default and silence this warning.\n",
      "  df_unique = df_new.groupby('name').agg({'lat': 'first', 'lng': 'first'}).reset_index()\n",
      "C:\\Users\\Fenin Jose\\AppData\\Local\\Temp\\ipykernel_17548\\574676199.py:17: FutureWarning: The default of observed=False is deprecated and will be changed to True in a future version of pandas. Pass observed=False to retain current behavior or observed=True to adopt the future default and silence this warning.\n",
      "  df_unique = df_new.groupby('name').agg({'lat': 'first', 'lng': 'first'}).reset_index()\n"
     ]
    },
    {
     "name": "stdout",
     "output_type": "stream",
     "text": [
      "Map saved as D:\\df\\maps\\map_890.html\n",
      "Map saved as D:\\df\\maps\\map_891.html\n"
     ]
    },
    {
     "name": "stderr",
     "output_type": "stream",
     "text": [
      "C:\\Users\\Fenin Jose\\AppData\\Local\\Temp\\ipykernel_17548\\574676199.py:17: FutureWarning: The default of observed=False is deprecated and will be changed to True in a future version of pandas. Pass observed=False to retain current behavior or observed=True to adopt the future default and silence this warning.\n",
      "  df_unique = df_new.groupby('name').agg({'lat': 'first', 'lng': 'first'}).reset_index()\n",
      "C:\\Users\\Fenin Jose\\AppData\\Local\\Temp\\ipykernel_17548\\574676199.py:17: FutureWarning: The default of observed=False is deprecated and will be changed to True in a future version of pandas. Pass observed=False to retain current behavior or observed=True to adopt the future default and silence this warning.\n",
      "  df_unique = df_new.groupby('name').agg({'lat': 'first', 'lng': 'first'}).reset_index()\n",
      "C:\\Users\\Fenin Jose\\AppData\\Local\\Temp\\ipykernel_17548\\574676199.py:17: FutureWarning: The default of observed=False is deprecated and will be changed to True in a future version of pandas. Pass observed=False to retain current behavior or observed=True to adopt the future default and silence this warning.\n",
      "  df_unique = df_new.groupby('name').agg({'lat': 'first', 'lng': 'first'}).reset_index()\n"
     ]
    },
    {
     "name": "stdout",
     "output_type": "stream",
     "text": [
      "Map saved as D:\\df\\maps\\map_892.html\n",
      "Map saved as D:\\df\\maps\\map_893.html\n"
     ]
    },
    {
     "name": "stderr",
     "output_type": "stream",
     "text": [
      "C:\\Users\\Fenin Jose\\AppData\\Local\\Temp\\ipykernel_17548\\574676199.py:17: FutureWarning: The default of observed=False is deprecated and will be changed to True in a future version of pandas. Pass observed=False to retain current behavior or observed=True to adopt the future default and silence this warning.\n",
      "  df_unique = df_new.groupby('name').agg({'lat': 'first', 'lng': 'first'}).reset_index()\n",
      "C:\\Users\\Fenin Jose\\AppData\\Local\\Temp\\ipykernel_17548\\574676199.py:17: FutureWarning: The default of observed=False is deprecated and will be changed to True in a future version of pandas. Pass observed=False to retain current behavior or observed=True to adopt the future default and silence this warning.\n",
      "  df_unique = df_new.groupby('name').agg({'lat': 'first', 'lng': 'first'}).reset_index()\n"
     ]
    },
    {
     "name": "stdout",
     "output_type": "stream",
     "text": [
      "Map saved as D:\\df\\maps\\map_894.html\n",
      "Map saved as D:\\df\\maps\\map_895.html\n"
     ]
    },
    {
     "name": "stderr",
     "output_type": "stream",
     "text": [
      "C:\\Users\\Fenin Jose\\AppData\\Local\\Temp\\ipykernel_17548\\574676199.py:17: FutureWarning: The default of observed=False is deprecated and will be changed to True in a future version of pandas. Pass observed=False to retain current behavior or observed=True to adopt the future default and silence this warning.\n",
      "  df_unique = df_new.groupby('name').agg({'lat': 'first', 'lng': 'first'}).reset_index()\n",
      "C:\\Users\\Fenin Jose\\AppData\\Local\\Temp\\ipykernel_17548\\574676199.py:17: FutureWarning: The default of observed=False is deprecated and will be changed to True in a future version of pandas. Pass observed=False to retain current behavior or observed=True to adopt the future default and silence this warning.\n",
      "  df_unique = df_new.groupby('name').agg({'lat': 'first', 'lng': 'first'}).reset_index()\n"
     ]
    },
    {
     "name": "stdout",
     "output_type": "stream",
     "text": [
      "Map saved as D:\\df\\maps\\map_896.html\n",
      "Map saved as D:\\df\\maps\\map_897.html\n"
     ]
    },
    {
     "name": "stderr",
     "output_type": "stream",
     "text": [
      "C:\\Users\\Fenin Jose\\AppData\\Local\\Temp\\ipykernel_17548\\574676199.py:17: FutureWarning: The default of observed=False is deprecated and will be changed to True in a future version of pandas. Pass observed=False to retain current behavior or observed=True to adopt the future default and silence this warning.\n",
      "  df_unique = df_new.groupby('name').agg({'lat': 'first', 'lng': 'first'}).reset_index()\n",
      "C:\\Users\\Fenin Jose\\AppData\\Local\\Temp\\ipykernel_17548\\574676199.py:17: FutureWarning: The default of observed=False is deprecated and will be changed to True in a future version of pandas. Pass observed=False to retain current behavior or observed=True to adopt the future default and silence this warning.\n",
      "  df_unique = df_new.groupby('name').agg({'lat': 'first', 'lng': 'first'}).reset_index()\n"
     ]
    },
    {
     "name": "stdout",
     "output_type": "stream",
     "text": [
      "Map saved as D:\\df\\maps\\map_898.html\n",
      "Map saved as D:\\df\\maps\\map_899.html\n"
     ]
    },
    {
     "name": "stderr",
     "output_type": "stream",
     "text": [
      "C:\\Users\\Fenin Jose\\AppData\\Local\\Temp\\ipykernel_17548\\574676199.py:17: FutureWarning: The default of observed=False is deprecated and will be changed to True in a future version of pandas. Pass observed=False to retain current behavior or observed=True to adopt the future default and silence this warning.\n",
      "  df_unique = df_new.groupby('name').agg({'lat': 'first', 'lng': 'first'}).reset_index()\n"
     ]
    },
    {
     "name": "stdout",
     "output_type": "stream",
     "text": [
      "Map saved as D:\\df\\maps\\map_900.html\n",
      "Map saved as D:\\df\\maps\\map_901.html\n"
     ]
    },
    {
     "name": "stderr",
     "output_type": "stream",
     "text": [
      "C:\\Users\\Fenin Jose\\AppData\\Local\\Temp\\ipykernel_17548\\574676199.py:17: FutureWarning: The default of observed=False is deprecated and will be changed to True in a future version of pandas. Pass observed=False to retain current behavior or observed=True to adopt the future default and silence this warning.\n",
      "  df_unique = df_new.groupby('name').agg({'lat': 'first', 'lng': 'first'}).reset_index()\n",
      "C:\\Users\\Fenin Jose\\AppData\\Local\\Temp\\ipykernel_17548\\574676199.py:17: FutureWarning: The default of observed=False is deprecated and will be changed to True in a future version of pandas. Pass observed=False to retain current behavior or observed=True to adopt the future default and silence this warning.\n",
      "  df_unique = df_new.groupby('name').agg({'lat': 'first', 'lng': 'first'}).reset_index()\n"
     ]
    },
    {
     "name": "stdout",
     "output_type": "stream",
     "text": [
      "Map saved as D:\\df\\maps\\map_902.html\n",
      "Map saved as D:\\df\\maps\\map_903.html\n"
     ]
    },
    {
     "name": "stderr",
     "output_type": "stream",
     "text": [
      "C:\\Users\\Fenin Jose\\AppData\\Local\\Temp\\ipykernel_17548\\574676199.py:17: FutureWarning: The default of observed=False is deprecated and will be changed to True in a future version of pandas. Pass observed=False to retain current behavior or observed=True to adopt the future default and silence this warning.\n",
      "  df_unique = df_new.groupby('name').agg({'lat': 'first', 'lng': 'first'}).reset_index()\n",
      "C:\\Users\\Fenin Jose\\AppData\\Local\\Temp\\ipykernel_17548\\574676199.py:17: FutureWarning: The default of observed=False is deprecated and will be changed to True in a future version of pandas. Pass observed=False to retain current behavior or observed=True to adopt the future default and silence this warning.\n",
      "  df_unique = df_new.groupby('name').agg({'lat': 'first', 'lng': 'first'}).reset_index()\n"
     ]
    },
    {
     "name": "stdout",
     "output_type": "stream",
     "text": [
      "Map saved as D:\\df\\maps\\map_904.html\n",
      "Map saved as D:\\df\\maps\\map_905.html\n"
     ]
    },
    {
     "name": "stderr",
     "output_type": "stream",
     "text": [
      "C:\\Users\\Fenin Jose\\AppData\\Local\\Temp\\ipykernel_17548\\574676199.py:17: FutureWarning: The default of observed=False is deprecated and will be changed to True in a future version of pandas. Pass observed=False to retain current behavior or observed=True to adopt the future default and silence this warning.\n",
      "  df_unique = df_new.groupby('name').agg({'lat': 'first', 'lng': 'first'}).reset_index()\n",
      "C:\\Users\\Fenin Jose\\AppData\\Local\\Temp\\ipykernel_17548\\574676199.py:17: FutureWarning: The default of observed=False is deprecated and will be changed to True in a future version of pandas. Pass observed=False to retain current behavior or observed=True to adopt the future default and silence this warning.\n",
      "  df_unique = df_new.groupby('name').agg({'lat': 'first', 'lng': 'first'}).reset_index()\n",
      "C:\\Users\\Fenin Jose\\AppData\\Local\\Temp\\ipykernel_17548\\574676199.py:17: FutureWarning: The default of observed=False is deprecated and will be changed to True in a future version of pandas. Pass observed=False to retain current behavior or observed=True to adopt the future default and silence this warning.\n",
      "  df_unique = df_new.groupby('name').agg({'lat': 'first', 'lng': 'first'}).reset_index()\n"
     ]
    },
    {
     "name": "stdout",
     "output_type": "stream",
     "text": [
      "Map saved as D:\\df\\maps\\map_906.html\n",
      "Map saved as D:\\df\\maps\\map_907.html\n",
      "Map saved as D:\\df\\maps\\map_908.html\n"
     ]
    },
    {
     "name": "stderr",
     "output_type": "stream",
     "text": [
      "C:\\Users\\Fenin Jose\\AppData\\Local\\Temp\\ipykernel_17548\\574676199.py:17: FutureWarning: The default of observed=False is deprecated and will be changed to True in a future version of pandas. Pass observed=False to retain current behavior or observed=True to adopt the future default and silence this warning.\n",
      "  df_unique = df_new.groupby('name').agg({'lat': 'first', 'lng': 'first'}).reset_index()\n",
      "C:\\Users\\Fenin Jose\\AppData\\Local\\Temp\\ipykernel_17548\\574676199.py:17: FutureWarning: The default of observed=False is deprecated and will be changed to True in a future version of pandas. Pass observed=False to retain current behavior or observed=True to adopt the future default and silence this warning.\n",
      "  df_unique = df_new.groupby('name').agg({'lat': 'first', 'lng': 'first'}).reset_index()\n"
     ]
    },
    {
     "name": "stdout",
     "output_type": "stream",
     "text": [
      "Map saved as D:\\df\\maps\\map_909.html\n",
      "Map saved as D:\\df\\maps\\map_910.html\n"
     ]
    },
    {
     "name": "stderr",
     "output_type": "stream",
     "text": [
      "C:\\Users\\Fenin Jose\\AppData\\Local\\Temp\\ipykernel_17548\\574676199.py:17: FutureWarning: The default of observed=False is deprecated and will be changed to True in a future version of pandas. Pass observed=False to retain current behavior or observed=True to adopt the future default and silence this warning.\n",
      "  df_unique = df_new.groupby('name').agg({'lat': 'first', 'lng': 'first'}).reset_index()\n",
      "C:\\Users\\Fenin Jose\\AppData\\Local\\Temp\\ipykernel_17548\\574676199.py:17: FutureWarning: The default of observed=False is deprecated and will be changed to True in a future version of pandas. Pass observed=False to retain current behavior or observed=True to adopt the future default and silence this warning.\n",
      "  df_unique = df_new.groupby('name').agg({'lat': 'first', 'lng': 'first'}).reset_index()\n"
     ]
    },
    {
     "name": "stdout",
     "output_type": "stream",
     "text": [
      "Map saved as D:\\df\\maps\\map_911.html\n",
      "Map saved as D:\\df\\maps\\map_912.html\n",
      "Map saved as D:\\df\\maps\\map_913.html\n"
     ]
    },
    {
     "name": "stderr",
     "output_type": "stream",
     "text": [
      "C:\\Users\\Fenin Jose\\AppData\\Local\\Temp\\ipykernel_17548\\574676199.py:17: FutureWarning: The default of observed=False is deprecated and will be changed to True in a future version of pandas. Pass observed=False to retain current behavior or observed=True to adopt the future default and silence this warning.\n",
      "  df_unique = df_new.groupby('name').agg({'lat': 'first', 'lng': 'first'}).reset_index()\n",
      "C:\\Users\\Fenin Jose\\AppData\\Local\\Temp\\ipykernel_17548\\574676199.py:17: FutureWarning: The default of observed=False is deprecated and will be changed to True in a future version of pandas. Pass observed=False to retain current behavior or observed=True to adopt the future default and silence this warning.\n",
      "  df_unique = df_new.groupby('name').agg({'lat': 'first', 'lng': 'first'}).reset_index()\n",
      "C:\\Users\\Fenin Jose\\AppData\\Local\\Temp\\ipykernel_17548\\574676199.py:17: FutureWarning: The default of observed=False is deprecated and will be changed to True in a future version of pandas. Pass observed=False to retain current behavior or observed=True to adopt the future default and silence this warning.\n",
      "  df_unique = df_new.groupby('name').agg({'lat': 'first', 'lng': 'first'}).reset_index()\n"
     ]
    },
    {
     "name": "stdout",
     "output_type": "stream",
     "text": [
      "Map saved as D:\\df\\maps\\map_914.html\n",
      "Map saved as D:\\df\\maps\\map_915.html\n"
     ]
    },
    {
     "name": "stderr",
     "output_type": "stream",
     "text": [
      "C:\\Users\\Fenin Jose\\AppData\\Local\\Temp\\ipykernel_17548\\574676199.py:17: FutureWarning: The default of observed=False is deprecated and will be changed to True in a future version of pandas. Pass observed=False to retain current behavior or observed=True to adopt the future default and silence this warning.\n",
      "  df_unique = df_new.groupby('name').agg({'lat': 'first', 'lng': 'first'}).reset_index()\n",
      "C:\\Users\\Fenin Jose\\AppData\\Local\\Temp\\ipykernel_17548\\574676199.py:17: FutureWarning: The default of observed=False is deprecated and will be changed to True in a future version of pandas. Pass observed=False to retain current behavior or observed=True to adopt the future default and silence this warning.\n",
      "  df_unique = df_new.groupby('name').agg({'lat': 'first', 'lng': 'first'}).reset_index()\n"
     ]
    },
    {
     "name": "stdout",
     "output_type": "stream",
     "text": [
      "Map saved as D:\\df\\maps\\map_916.html\n",
      "Map saved as D:\\df\\maps\\map_917.html\n",
      "Map saved as D:\\df\\maps\\map_918.html\n"
     ]
    },
    {
     "name": "stderr",
     "output_type": "stream",
     "text": [
      "C:\\Users\\Fenin Jose\\AppData\\Local\\Temp\\ipykernel_17548\\574676199.py:17: FutureWarning: The default of observed=False is deprecated and will be changed to True in a future version of pandas. Pass observed=False to retain current behavior or observed=True to adopt the future default and silence this warning.\n",
      "  df_unique = df_new.groupby('name').agg({'lat': 'first', 'lng': 'first'}).reset_index()\n",
      "C:\\Users\\Fenin Jose\\AppData\\Local\\Temp\\ipykernel_17548\\574676199.py:17: FutureWarning: The default of observed=False is deprecated and will be changed to True in a future version of pandas. Pass observed=False to retain current behavior or observed=True to adopt the future default and silence this warning.\n",
      "  df_unique = df_new.groupby('name').agg({'lat': 'first', 'lng': 'first'}).reset_index()\n",
      "C:\\Users\\Fenin Jose\\AppData\\Local\\Temp\\ipykernel_17548\\574676199.py:17: FutureWarning: The default of observed=False is deprecated and will be changed to True in a future version of pandas. Pass observed=False to retain current behavior or observed=True to adopt the future default and silence this warning.\n",
      "  df_unique = df_new.groupby('name').agg({'lat': 'first', 'lng': 'first'}).reset_index()\n"
     ]
    },
    {
     "name": "stdout",
     "output_type": "stream",
     "text": [
      "Map saved as D:\\df\\maps\\map_919.html\n",
      "Map saved as D:\\df\\maps\\map_920.html\n"
     ]
    },
    {
     "name": "stderr",
     "output_type": "stream",
     "text": [
      "C:\\Users\\Fenin Jose\\AppData\\Local\\Temp\\ipykernel_17548\\574676199.py:17: FutureWarning: The default of observed=False is deprecated and will be changed to True in a future version of pandas. Pass observed=False to retain current behavior or observed=True to adopt the future default and silence this warning.\n",
      "  df_unique = df_new.groupby('name').agg({'lat': 'first', 'lng': 'first'}).reset_index()\n",
      "C:\\Users\\Fenin Jose\\AppData\\Local\\Temp\\ipykernel_17548\\574676199.py:17: FutureWarning: The default of observed=False is deprecated and will be changed to True in a future version of pandas. Pass observed=False to retain current behavior or observed=True to adopt the future default and silence this warning.\n",
      "  df_unique = df_new.groupby('name').agg({'lat': 'first', 'lng': 'first'}).reset_index()\n"
     ]
    },
    {
     "name": "stdout",
     "output_type": "stream",
     "text": [
      "Map saved as D:\\df\\maps\\map_921.html\n",
      "Map saved as D:\\df\\maps\\map_922.html\n",
      "Map saved as D:\\df\\maps\\map_923.html\n"
     ]
    },
    {
     "name": "stderr",
     "output_type": "stream",
     "text": [
      "C:\\Users\\Fenin Jose\\AppData\\Local\\Temp\\ipykernel_17548\\574676199.py:17: FutureWarning: The default of observed=False is deprecated and will be changed to True in a future version of pandas. Pass observed=False to retain current behavior or observed=True to adopt the future default and silence this warning.\n",
      "  df_unique = df_new.groupby('name').agg({'lat': 'first', 'lng': 'first'}).reset_index()\n",
      "C:\\Users\\Fenin Jose\\AppData\\Local\\Temp\\ipykernel_17548\\574676199.py:17: FutureWarning: The default of observed=False is deprecated and will be changed to True in a future version of pandas. Pass observed=False to retain current behavior or observed=True to adopt the future default and silence this warning.\n",
      "  df_unique = df_new.groupby('name').agg({'lat': 'first', 'lng': 'first'}).reset_index()\n",
      "C:\\Users\\Fenin Jose\\AppData\\Local\\Temp\\ipykernel_17548\\574676199.py:17: FutureWarning: The default of observed=False is deprecated and will be changed to True in a future version of pandas. Pass observed=False to retain current behavior or observed=True to adopt the future default and silence this warning.\n",
      "  df_unique = df_new.groupby('name').agg({'lat': 'first', 'lng': 'first'}).reset_index()\n"
     ]
    },
    {
     "name": "stdout",
     "output_type": "stream",
     "text": [
      "Map saved as D:\\df\\maps\\map_924.html\n",
      "Map saved as D:\\df\\maps\\map_925.html\n"
     ]
    },
    {
     "name": "stderr",
     "output_type": "stream",
     "text": [
      "C:\\Users\\Fenin Jose\\AppData\\Local\\Temp\\ipykernel_17548\\574676199.py:17: FutureWarning: The default of observed=False is deprecated and will be changed to True in a future version of pandas. Pass observed=False to retain current behavior or observed=True to adopt the future default and silence this warning.\n",
      "  df_unique = df_new.groupby('name').agg({'lat': 'first', 'lng': 'first'}).reset_index()\n",
      "C:\\Users\\Fenin Jose\\AppData\\Local\\Temp\\ipykernel_17548\\574676199.py:17: FutureWarning: The default of observed=False is deprecated and will be changed to True in a future version of pandas. Pass observed=False to retain current behavior or observed=True to adopt the future default and silence this warning.\n",
      "  df_unique = df_new.groupby('name').agg({'lat': 'first', 'lng': 'first'}).reset_index()\n"
     ]
    },
    {
     "name": "stdout",
     "output_type": "stream",
     "text": [
      "Map saved as D:\\df\\maps\\map_926.html\n",
      "Map saved as D:\\df\\maps\\map_927.html\n",
      "Map saved as D:\\df\\maps\\map_928.html\n"
     ]
    },
    {
     "name": "stderr",
     "output_type": "stream",
     "text": [
      "C:\\Users\\Fenin Jose\\AppData\\Local\\Temp\\ipykernel_17548\\574676199.py:17: FutureWarning: The default of observed=False is deprecated and will be changed to True in a future version of pandas. Pass observed=False to retain current behavior or observed=True to adopt the future default and silence this warning.\n",
      "  df_unique = df_new.groupby('name').agg({'lat': 'first', 'lng': 'first'}).reset_index()\n",
      "C:\\Users\\Fenin Jose\\AppData\\Local\\Temp\\ipykernel_17548\\574676199.py:17: FutureWarning: The default of observed=False is deprecated and will be changed to True in a future version of pandas. Pass observed=False to retain current behavior or observed=True to adopt the future default and silence this warning.\n",
      "  df_unique = df_new.groupby('name').agg({'lat': 'first', 'lng': 'first'}).reset_index()\n",
      "C:\\Users\\Fenin Jose\\AppData\\Local\\Temp\\ipykernel_17548\\574676199.py:17: FutureWarning: The default of observed=False is deprecated and will be changed to True in a future version of pandas. Pass observed=False to retain current behavior or observed=True to adopt the future default and silence this warning.\n",
      "  df_unique = df_new.groupby('name').agg({'lat': 'first', 'lng': 'first'}).reset_index()\n"
     ]
    },
    {
     "name": "stdout",
     "output_type": "stream",
     "text": [
      "Map saved as D:\\df\\maps\\map_929.html\n",
      "Map saved as D:\\df\\maps\\map_930.html\n",
      "Map saved as D:\\df\\maps\\map_931.html\n",
      "Map saved as D:\\df\\maps\\map_932.html\n",
      "Map saved as D:\\df\\maps\\map_933.html\n"
     ]
    },
    {
     "name": "stderr",
     "output_type": "stream",
     "text": [
      "C:\\Users\\Fenin Jose\\AppData\\Local\\Temp\\ipykernel_17548\\574676199.py:17: FutureWarning: The default of observed=False is deprecated and will be changed to True in a future version of pandas. Pass observed=False to retain current behavior or observed=True to adopt the future default and silence this warning.\n",
      "  df_unique = df_new.groupby('name').agg({'lat': 'first', 'lng': 'first'}).reset_index()\n",
      "C:\\Users\\Fenin Jose\\AppData\\Local\\Temp\\ipykernel_17548\\574676199.py:17: FutureWarning: The default of observed=False is deprecated and will be changed to True in a future version of pandas. Pass observed=False to retain current behavior or observed=True to adopt the future default and silence this warning.\n",
      "  df_unique = df_new.groupby('name').agg({'lat': 'first', 'lng': 'first'}).reset_index()\n",
      "C:\\Users\\Fenin Jose\\AppData\\Local\\Temp\\ipykernel_17548\\574676199.py:17: FutureWarning: The default of observed=False is deprecated and will be changed to True in a future version of pandas. Pass observed=False to retain current behavior or observed=True to adopt the future default and silence this warning.\n",
      "  df_unique = df_new.groupby('name').agg({'lat': 'first', 'lng': 'first'}).reset_index()\n",
      "C:\\Users\\Fenin Jose\\AppData\\Local\\Temp\\ipykernel_17548\\574676199.py:17: FutureWarning: The default of observed=False is deprecated and will be changed to True in a future version of pandas. Pass observed=False to retain current behavior or observed=True to adopt the future default and silence this warning.\n",
      "  df_unique = df_new.groupby('name').agg({'lat': 'first', 'lng': 'first'}).reset_index()\n",
      "C:\\Users\\Fenin Jose\\AppData\\Local\\Temp\\ipykernel_17548\\574676199.py:17: FutureWarning: The default of observed=False is deprecated and will be changed to True in a future version of pandas. Pass observed=False to retain current behavior or observed=True to adopt the future default and silence this warning.\n",
      "  df_unique = df_new.groupby('name').agg({'lat': 'first', 'lng': 'first'}).reset_index()\n"
     ]
    },
    {
     "name": "stdout",
     "output_type": "stream",
     "text": [
      "Map saved as D:\\df\\maps\\map_934.html\n"
     ]
    },
    {
     "name": "stderr",
     "output_type": "stream",
     "text": [
      "C:\\Users\\Fenin Jose\\AppData\\Local\\Temp\\ipykernel_17548\\574676199.py:17: FutureWarning: The default of observed=False is deprecated and will be changed to True in a future version of pandas. Pass observed=False to retain current behavior or observed=True to adopt the future default and silence this warning.\n",
      "  df_unique = df_new.groupby('name').agg({'lat': 'first', 'lng': 'first'}).reset_index()\n",
      "C:\\Users\\Fenin Jose\\AppData\\Local\\Temp\\ipykernel_17548\\574676199.py:17: FutureWarning: The default of observed=False is deprecated and will be changed to True in a future version of pandas. Pass observed=False to retain current behavior or observed=True to adopt the future default and silence this warning.\n",
      "  df_unique = df_new.groupby('name').agg({'lat': 'first', 'lng': 'first'}).reset_index()\n"
     ]
    },
    {
     "name": "stdout",
     "output_type": "stream",
     "text": [
      "Map saved as D:\\df\\maps\\map_935.html\n",
      "Map saved as D:\\df\\maps\\map_936.html\n"
     ]
    },
    {
     "name": "stderr",
     "output_type": "stream",
     "text": [
      "C:\\Users\\Fenin Jose\\AppData\\Local\\Temp\\ipykernel_17548\\574676199.py:17: FutureWarning: The default of observed=False is deprecated and will be changed to True in a future version of pandas. Pass observed=False to retain current behavior or observed=True to adopt the future default and silence this warning.\n",
      "  df_unique = df_new.groupby('name').agg({'lat': 'first', 'lng': 'first'}).reset_index()\n"
     ]
    },
    {
     "name": "stdout",
     "output_type": "stream",
     "text": [
      "Map saved as D:\\df\\maps\\map_937.html\n"
     ]
    },
    {
     "name": "stderr",
     "output_type": "stream",
     "text": [
      "C:\\Users\\Fenin Jose\\AppData\\Local\\Temp\\ipykernel_17548\\574676199.py:17: FutureWarning: The default of observed=False is deprecated and will be changed to True in a future version of pandas. Pass observed=False to retain current behavior or observed=True to adopt the future default and silence this warning.\n",
      "  df_unique = df_new.groupby('name').agg({'lat': 'first', 'lng': 'first'}).reset_index()\n",
      "C:\\Users\\Fenin Jose\\AppData\\Local\\Temp\\ipykernel_17548\\574676199.py:17: FutureWarning: The default of observed=False is deprecated and will be changed to True in a future version of pandas. Pass observed=False to retain current behavior or observed=True to adopt the future default and silence this warning.\n",
      "  df_unique = df_new.groupby('name').agg({'lat': 'first', 'lng': 'first'}).reset_index()\n"
     ]
    },
    {
     "name": "stdout",
     "output_type": "stream",
     "text": [
      "Map saved as D:\\df\\maps\\map_938.html\n",
      "Map saved as D:\\df\\maps\\map_939.html\n",
      "Map saved as D:\\df\\maps\\map_940.html\n"
     ]
    },
    {
     "name": "stderr",
     "output_type": "stream",
     "text": [
      "C:\\Users\\Fenin Jose\\AppData\\Local\\Temp\\ipykernel_17548\\574676199.py:17: FutureWarning: The default of observed=False is deprecated and will be changed to True in a future version of pandas. Pass observed=False to retain current behavior or observed=True to adopt the future default and silence this warning.\n",
      "  df_unique = df_new.groupby('name').agg({'lat': 'first', 'lng': 'first'}).reset_index()\n",
      "C:\\Users\\Fenin Jose\\AppData\\Local\\Temp\\ipykernel_17548\\574676199.py:17: FutureWarning: The default of observed=False is deprecated and will be changed to True in a future version of pandas. Pass observed=False to retain current behavior or observed=True to adopt the future default and silence this warning.\n",
      "  df_unique = df_new.groupby('name').agg({'lat': 'first', 'lng': 'first'}).reset_index()\n"
     ]
    },
    {
     "name": "stdout",
     "output_type": "stream",
     "text": [
      "Map saved as D:\\df\\maps\\map_941.html\n"
     ]
    },
    {
     "name": "stderr",
     "output_type": "stream",
     "text": [
      "C:\\Users\\Fenin Jose\\AppData\\Local\\Temp\\ipykernel_17548\\574676199.py:17: FutureWarning: The default of observed=False is deprecated and will be changed to True in a future version of pandas. Pass observed=False to retain current behavior or observed=True to adopt the future default and silence this warning.\n",
      "  df_unique = df_new.groupby('name').agg({'lat': 'first', 'lng': 'first'}).reset_index()\n"
     ]
    },
    {
     "name": "stdout",
     "output_type": "stream",
     "text": [
      "Map saved as D:\\df\\maps\\map_942.html\n",
      "Map saved as D:\\df\\maps\\map_943.html\n"
     ]
    },
    {
     "name": "stderr",
     "output_type": "stream",
     "text": [
      "C:\\Users\\Fenin Jose\\AppData\\Local\\Temp\\ipykernel_17548\\574676199.py:17: FutureWarning: The default of observed=False is deprecated and will be changed to True in a future version of pandas. Pass observed=False to retain current behavior or observed=True to adopt the future default and silence this warning.\n",
      "  df_unique = df_new.groupby('name').agg({'lat': 'first', 'lng': 'first'}).reset_index()\n",
      "C:\\Users\\Fenin Jose\\AppData\\Local\\Temp\\ipykernel_17548\\574676199.py:17: FutureWarning: The default of observed=False is deprecated and will be changed to True in a future version of pandas. Pass observed=False to retain current behavior or observed=True to adopt the future default and silence this warning.\n",
      "  df_unique = df_new.groupby('name').agg({'lat': 'first', 'lng': 'first'}).reset_index()\n"
     ]
    },
    {
     "name": "stdout",
     "output_type": "stream",
     "text": [
      "Map saved as D:\\df\\maps\\map_944.html\n",
      "Map saved as D:\\df\\maps\\map_945.html\n"
     ]
    },
    {
     "name": "stderr",
     "output_type": "stream",
     "text": [
      "C:\\Users\\Fenin Jose\\AppData\\Local\\Temp\\ipykernel_17548\\574676199.py:17: FutureWarning: The default of observed=False is deprecated and will be changed to True in a future version of pandas. Pass observed=False to retain current behavior or observed=True to adopt the future default and silence this warning.\n",
      "  df_unique = df_new.groupby('name').agg({'lat': 'first', 'lng': 'first'}).reset_index()\n",
      "C:\\Users\\Fenin Jose\\AppData\\Local\\Temp\\ipykernel_17548\\574676199.py:17: FutureWarning: The default of observed=False is deprecated and will be changed to True in a future version of pandas. Pass observed=False to retain current behavior or observed=True to adopt the future default and silence this warning.\n",
      "  df_unique = df_new.groupby('name').agg({'lat': 'first', 'lng': 'first'}).reset_index()\n"
     ]
    },
    {
     "name": "stdout",
     "output_type": "stream",
     "text": [
      "Map saved as D:\\df\\maps\\map_946.html\n",
      "Map saved as D:\\df\\maps\\map_947.html\n"
     ]
    },
    {
     "name": "stderr",
     "output_type": "stream",
     "text": [
      "C:\\Users\\Fenin Jose\\AppData\\Local\\Temp\\ipykernel_17548\\574676199.py:17: FutureWarning: The default of observed=False is deprecated and will be changed to True in a future version of pandas. Pass observed=False to retain current behavior or observed=True to adopt the future default and silence this warning.\n",
      "  df_unique = df_new.groupby('name').agg({'lat': 'first', 'lng': 'first'}).reset_index()\n",
      "C:\\Users\\Fenin Jose\\AppData\\Local\\Temp\\ipykernel_17548\\574676199.py:17: FutureWarning: The default of observed=False is deprecated and will be changed to True in a future version of pandas. Pass observed=False to retain current behavior or observed=True to adopt the future default and silence this warning.\n",
      "  df_unique = df_new.groupby('name').agg({'lat': 'first', 'lng': 'first'}).reset_index()\n"
     ]
    },
    {
     "name": "stdout",
     "output_type": "stream",
     "text": [
      "Map saved as D:\\df\\maps\\map_948.html\n"
     ]
    },
    {
     "name": "stderr",
     "output_type": "stream",
     "text": [
      "C:\\Users\\Fenin Jose\\AppData\\Local\\Temp\\ipykernel_17548\\574676199.py:17: FutureWarning: The default of observed=False is deprecated and will be changed to True in a future version of pandas. Pass observed=False to retain current behavior or observed=True to adopt the future default and silence this warning.\n",
      "  df_unique = df_new.groupby('name').agg({'lat': 'first', 'lng': 'first'}).reset_index()\n",
      "C:\\Users\\Fenin Jose\\AppData\\Local\\Temp\\ipykernel_17548\\574676199.py:17: FutureWarning: The default of observed=False is deprecated and will be changed to True in a future version of pandas. Pass observed=False to retain current behavior or observed=True to adopt the future default and silence this warning.\n",
      "  df_unique = df_new.groupby('name').agg({'lat': 'first', 'lng': 'first'}).reset_index()\n"
     ]
    },
    {
     "name": "stdout",
     "output_type": "stream",
     "text": [
      "Map saved as D:\\df\\maps\\map_949.html\n",
      "Map saved as D:\\df\\maps\\map_950.html\n"
     ]
    },
    {
     "name": "stderr",
     "output_type": "stream",
     "text": [
      "C:\\Users\\Fenin Jose\\AppData\\Local\\Temp\\ipykernel_17548\\574676199.py:17: FutureWarning: The default of observed=False is deprecated and will be changed to True in a future version of pandas. Pass observed=False to retain current behavior or observed=True to adopt the future default and silence this warning.\n",
      "  df_unique = df_new.groupby('name').agg({'lat': 'first', 'lng': 'first'}).reset_index()\n",
      "C:\\Users\\Fenin Jose\\AppData\\Local\\Temp\\ipykernel_17548\\574676199.py:17: FutureWarning: The default of observed=False is deprecated and will be changed to True in a future version of pandas. Pass observed=False to retain current behavior or observed=True to adopt the future default and silence this warning.\n",
      "  df_unique = df_new.groupby('name').agg({'lat': 'first', 'lng': 'first'}).reset_index()\n"
     ]
    },
    {
     "name": "stdout",
     "output_type": "stream",
     "text": [
      "Map saved as D:\\df\\maps\\map_951.html\n",
      "Map saved as D:\\df\\maps\\map_952.html\n"
     ]
    },
    {
     "name": "stderr",
     "output_type": "stream",
     "text": [
      "C:\\Users\\Fenin Jose\\AppData\\Local\\Temp\\ipykernel_17548\\574676199.py:17: FutureWarning: The default of observed=False is deprecated and will be changed to True in a future version of pandas. Pass observed=False to retain current behavior or observed=True to adopt the future default and silence this warning.\n",
      "  df_unique = df_new.groupby('name').agg({'lat': 'first', 'lng': 'first'}).reset_index()\n",
      "C:\\Users\\Fenin Jose\\AppData\\Local\\Temp\\ipykernel_17548\\574676199.py:17: FutureWarning: The default of observed=False is deprecated and will be changed to True in a future version of pandas. Pass observed=False to retain current behavior or observed=True to adopt the future default and silence this warning.\n",
      "  df_unique = df_new.groupby('name').agg({'lat': 'first', 'lng': 'first'}).reset_index()\n"
     ]
    },
    {
     "name": "stdout",
     "output_type": "stream",
     "text": [
      "Map saved as D:\\df\\maps\\map_953.html\n",
      "Map saved as D:\\df\\maps\\map_954.html\n"
     ]
    },
    {
     "name": "stderr",
     "output_type": "stream",
     "text": [
      "C:\\Users\\Fenin Jose\\AppData\\Local\\Temp\\ipykernel_17548\\574676199.py:17: FutureWarning: The default of observed=False is deprecated and will be changed to True in a future version of pandas. Pass observed=False to retain current behavior or observed=True to adopt the future default and silence this warning.\n",
      "  df_unique = df_new.groupby('name').agg({'lat': 'first', 'lng': 'first'}).reset_index()\n",
      "C:\\Users\\Fenin Jose\\AppData\\Local\\Temp\\ipykernel_17548\\574676199.py:17: FutureWarning: The default of observed=False is deprecated and will be changed to True in a future version of pandas. Pass observed=False to retain current behavior or observed=True to adopt the future default and silence this warning.\n",
      "  df_unique = df_new.groupby('name').agg({'lat': 'first', 'lng': 'first'}).reset_index()\n"
     ]
    },
    {
     "name": "stdout",
     "output_type": "stream",
     "text": [
      "Map saved as D:\\df\\maps\\map_955.html\n",
      "Map saved as D:\\df\\maps\\map_956.html\n"
     ]
    },
    {
     "name": "stderr",
     "output_type": "stream",
     "text": [
      "C:\\Users\\Fenin Jose\\AppData\\Local\\Temp\\ipykernel_17548\\574676199.py:17: FutureWarning: The default of observed=False is deprecated and will be changed to True in a future version of pandas. Pass observed=False to retain current behavior or observed=True to adopt the future default and silence this warning.\n",
      "  df_unique = df_new.groupby('name').agg({'lat': 'first', 'lng': 'first'}).reset_index()\n"
     ]
    },
    {
     "name": "stdout",
     "output_type": "stream",
     "text": [
      "Map saved as D:\\df\\maps\\map_957.html\n",
      "Map saved as D:\\df\\maps\\map_958.html\n"
     ]
    },
    {
     "name": "stderr",
     "output_type": "stream",
     "text": [
      "C:\\Users\\Fenin Jose\\AppData\\Local\\Temp\\ipykernel_17548\\574676199.py:17: FutureWarning: The default of observed=False is deprecated and will be changed to True in a future version of pandas. Pass observed=False to retain current behavior or observed=True to adopt the future default and silence this warning.\n",
      "  df_unique = df_new.groupby('name').agg({'lat': 'first', 'lng': 'first'}).reset_index()\n",
      "C:\\Users\\Fenin Jose\\AppData\\Local\\Temp\\ipykernel_17548\\574676199.py:17: FutureWarning: The default of observed=False is deprecated and will be changed to True in a future version of pandas. Pass observed=False to retain current behavior or observed=True to adopt the future default and silence this warning.\n",
      "  df_unique = df_new.groupby('name').agg({'lat': 'first', 'lng': 'first'}).reset_index()\n"
     ]
    },
    {
     "name": "stdout",
     "output_type": "stream",
     "text": [
      "Map saved as D:\\df\\maps\\map_959.html\n",
      "Map saved as D:\\df\\maps\\map_960.html\n",
      "Map saved as D:\\df\\maps\\map_961.html\n"
     ]
    },
    {
     "name": "stderr",
     "output_type": "stream",
     "text": [
      "C:\\Users\\Fenin Jose\\AppData\\Local\\Temp\\ipykernel_17548\\574676199.py:17: FutureWarning: The default of observed=False is deprecated and will be changed to True in a future version of pandas. Pass observed=False to retain current behavior or observed=True to adopt the future default and silence this warning.\n",
      "  df_unique = df_new.groupby('name').agg({'lat': 'first', 'lng': 'first'}).reset_index()\n",
      "C:\\Users\\Fenin Jose\\AppData\\Local\\Temp\\ipykernel_17548\\574676199.py:17: FutureWarning: The default of observed=False is deprecated and will be changed to True in a future version of pandas. Pass observed=False to retain current behavior or observed=True to adopt the future default and silence this warning.\n",
      "  df_unique = df_new.groupby('name').agg({'lat': 'first', 'lng': 'first'}).reset_index()\n",
      "C:\\Users\\Fenin Jose\\AppData\\Local\\Temp\\ipykernel_17548\\574676199.py:17: FutureWarning: The default of observed=False is deprecated and will be changed to True in a future version of pandas. Pass observed=False to retain current behavior or observed=True to adopt the future default and silence this warning.\n",
      "  df_unique = df_new.groupby('name').agg({'lat': 'first', 'lng': 'first'}).reset_index()\n"
     ]
    },
    {
     "name": "stdout",
     "output_type": "stream",
     "text": [
      "Map saved as D:\\df\\maps\\map_962.html\n"
     ]
    },
    {
     "name": "stderr",
     "output_type": "stream",
     "text": [
      "C:\\Users\\Fenin Jose\\AppData\\Local\\Temp\\ipykernel_17548\\574676199.py:17: FutureWarning: The default of observed=False is deprecated and will be changed to True in a future version of pandas. Pass observed=False to retain current behavior or observed=True to adopt the future default and silence this warning.\n",
      "  df_unique = df_new.groupby('name').agg({'lat': 'first', 'lng': 'first'}).reset_index()\n"
     ]
    },
    {
     "name": "stdout",
     "output_type": "stream",
     "text": [
      "Map saved as D:\\df\\maps\\map_963.html\n",
      "Map saved as D:\\df\\maps\\map_964.html\n"
     ]
    },
    {
     "name": "stderr",
     "output_type": "stream",
     "text": [
      "C:\\Users\\Fenin Jose\\AppData\\Local\\Temp\\ipykernel_17548\\574676199.py:17: FutureWarning: The default of observed=False is deprecated and will be changed to True in a future version of pandas. Pass observed=False to retain current behavior or observed=True to adopt the future default and silence this warning.\n",
      "  df_unique = df_new.groupby('name').agg({'lat': 'first', 'lng': 'first'}).reset_index()\n",
      "C:\\Users\\Fenin Jose\\AppData\\Local\\Temp\\ipykernel_17548\\574676199.py:17: FutureWarning: The default of observed=False is deprecated and will be changed to True in a future version of pandas. Pass observed=False to retain current behavior or observed=True to adopt the future default and silence this warning.\n",
      "  df_unique = df_new.groupby('name').agg({'lat': 'first', 'lng': 'first'}).reset_index()\n"
     ]
    },
    {
     "name": "stdout",
     "output_type": "stream",
     "text": [
      "Map saved as D:\\df\\maps\\map_965.html\n",
      "Map saved as D:\\df\\maps\\map_966.html\n"
     ]
    },
    {
     "name": "stderr",
     "output_type": "stream",
     "text": [
      "C:\\Users\\Fenin Jose\\AppData\\Local\\Temp\\ipykernel_17548\\574676199.py:17: FutureWarning: The default of observed=False is deprecated and will be changed to True in a future version of pandas. Pass observed=False to retain current behavior or observed=True to adopt the future default and silence this warning.\n",
      "  df_unique = df_new.groupby('name').agg({'lat': 'first', 'lng': 'first'}).reset_index()\n",
      "C:\\Users\\Fenin Jose\\AppData\\Local\\Temp\\ipykernel_17548\\574676199.py:17: FutureWarning: The default of observed=False is deprecated and will be changed to True in a future version of pandas. Pass observed=False to retain current behavior or observed=True to adopt the future default and silence this warning.\n",
      "  df_unique = df_new.groupby('name').agg({'lat': 'first', 'lng': 'first'}).reset_index()\n"
     ]
    },
    {
     "name": "stdout",
     "output_type": "stream",
     "text": [
      "Map saved as D:\\df\\maps\\map_967.html\n",
      "Map saved as D:\\df\\maps\\map_968.html\n"
     ]
    },
    {
     "name": "stderr",
     "output_type": "stream",
     "text": [
      "C:\\Users\\Fenin Jose\\AppData\\Local\\Temp\\ipykernel_17548\\574676199.py:17: FutureWarning: The default of observed=False is deprecated and will be changed to True in a future version of pandas. Pass observed=False to retain current behavior or observed=True to adopt the future default and silence this warning.\n",
      "  df_unique = df_new.groupby('name').agg({'lat': 'first', 'lng': 'first'}).reset_index()\n",
      "C:\\Users\\Fenin Jose\\AppData\\Local\\Temp\\ipykernel_17548\\574676199.py:17: FutureWarning: The default of observed=False is deprecated and will be changed to True in a future version of pandas. Pass observed=False to retain current behavior or observed=True to adopt the future default and silence this warning.\n",
      "  df_unique = df_new.groupby('name').agg({'lat': 'first', 'lng': 'first'}).reset_index()\n"
     ]
    },
    {
     "name": "stdout",
     "output_type": "stream",
     "text": [
      "Map saved as D:\\df\\maps\\map_969.html\n",
      "Map saved as D:\\df\\maps\\map_970.html\n"
     ]
    },
    {
     "name": "stderr",
     "output_type": "stream",
     "text": [
      "C:\\Users\\Fenin Jose\\AppData\\Local\\Temp\\ipykernel_17548\\574676199.py:17: FutureWarning: The default of observed=False is deprecated and will be changed to True in a future version of pandas. Pass observed=False to retain current behavior or observed=True to adopt the future default and silence this warning.\n",
      "  df_unique = df_new.groupby('name').agg({'lat': 'first', 'lng': 'first'}).reset_index()\n",
      "C:\\Users\\Fenin Jose\\AppData\\Local\\Temp\\ipykernel_17548\\574676199.py:17: FutureWarning: The default of observed=False is deprecated and will be changed to True in a future version of pandas. Pass observed=False to retain current behavior or observed=True to adopt the future default and silence this warning.\n",
      "  df_unique = df_new.groupby('name').agg({'lat': 'first', 'lng': 'first'}).reset_index()\n"
     ]
    },
    {
     "name": "stdout",
     "output_type": "stream",
     "text": [
      "Map saved as D:\\df\\maps\\map_971.html\n",
      "Map saved as D:\\df\\maps\\map_972.html\n"
     ]
    },
    {
     "name": "stderr",
     "output_type": "stream",
     "text": [
      "C:\\Users\\Fenin Jose\\AppData\\Local\\Temp\\ipykernel_17548\\574676199.py:17: FutureWarning: The default of observed=False is deprecated and will be changed to True in a future version of pandas. Pass observed=False to retain current behavior or observed=True to adopt the future default and silence this warning.\n",
      "  df_unique = df_new.groupby('name').agg({'lat': 'first', 'lng': 'first'}).reset_index()\n",
      "C:\\Users\\Fenin Jose\\AppData\\Local\\Temp\\ipykernel_17548\\574676199.py:17: FutureWarning: The default of observed=False is deprecated and will be changed to True in a future version of pandas. Pass observed=False to retain current behavior or observed=True to adopt the future default and silence this warning.\n",
      "  df_unique = df_new.groupby('name').agg({'lat': 'first', 'lng': 'first'}).reset_index()\n"
     ]
    },
    {
     "name": "stdout",
     "output_type": "stream",
     "text": [
      "Map saved as D:\\df\\maps\\map_973.html\n",
      "Map saved as D:\\df\\maps\\map_974.html\n"
     ]
    },
    {
     "name": "stderr",
     "output_type": "stream",
     "text": [
      "C:\\Users\\Fenin Jose\\AppData\\Local\\Temp\\ipykernel_17548\\574676199.py:17: FutureWarning: The default of observed=False is deprecated and will be changed to True in a future version of pandas. Pass observed=False to retain current behavior or observed=True to adopt the future default and silence this warning.\n",
      "  df_unique = df_new.groupby('name').agg({'lat': 'first', 'lng': 'first'}).reset_index()\n",
      "C:\\Users\\Fenin Jose\\AppData\\Local\\Temp\\ipykernel_17548\\574676199.py:17: FutureWarning: The default of observed=False is deprecated and will be changed to True in a future version of pandas. Pass observed=False to retain current behavior or observed=True to adopt the future default and silence this warning.\n",
      "  df_unique = df_new.groupby('name').agg({'lat': 'first', 'lng': 'first'}).reset_index()\n"
     ]
    },
    {
     "name": "stdout",
     "output_type": "stream",
     "text": [
      "Map saved as D:\\df\\maps\\map_975.html\n",
      "Map saved as D:\\df\\maps\\map_976.html\n"
     ]
    },
    {
     "name": "stderr",
     "output_type": "stream",
     "text": [
      "C:\\Users\\Fenin Jose\\AppData\\Local\\Temp\\ipykernel_17548\\574676199.py:17: FutureWarning: The default of observed=False is deprecated and will be changed to True in a future version of pandas. Pass observed=False to retain current behavior or observed=True to adopt the future default and silence this warning.\n",
      "  df_unique = df_new.groupby('name').agg({'lat': 'first', 'lng': 'first'}).reset_index()\n",
      "C:\\Users\\Fenin Jose\\AppData\\Local\\Temp\\ipykernel_17548\\574676199.py:17: FutureWarning: The default of observed=False is deprecated and will be changed to True in a future version of pandas. Pass observed=False to retain current behavior or observed=True to adopt the future default and silence this warning.\n",
      "  df_unique = df_new.groupby('name').agg({'lat': 'first', 'lng': 'first'}).reset_index()\n",
      "C:\\Users\\Fenin Jose\\AppData\\Local\\Temp\\ipykernel_17548\\574676199.py:17: FutureWarning: The default of observed=False is deprecated and will be changed to True in a future version of pandas. Pass observed=False to retain current behavior or observed=True to adopt the future default and silence this warning.\n",
      "  df_unique = df_new.groupby('name').agg({'lat': 'first', 'lng': 'first'}).reset_index()\n"
     ]
    },
    {
     "name": "stdout",
     "output_type": "stream",
     "text": [
      "Map saved as D:\\df\\maps\\map_977.html\n",
      "Map saved as D:\\df\\maps\\map_978.html\n",
      "Map saved as D:\\df\\maps\\map_979.html\n"
     ]
    },
    {
     "name": "stderr",
     "output_type": "stream",
     "text": [
      "C:\\Users\\Fenin Jose\\AppData\\Local\\Temp\\ipykernel_17548\\574676199.py:17: FutureWarning: The default of observed=False is deprecated and will be changed to True in a future version of pandas. Pass observed=False to retain current behavior or observed=True to adopt the future default and silence this warning.\n",
      "  df_unique = df_new.groupby('name').agg({'lat': 'first', 'lng': 'first'}).reset_index()\n",
      "C:\\Users\\Fenin Jose\\AppData\\Local\\Temp\\ipykernel_17548\\574676199.py:17: FutureWarning: The default of observed=False is deprecated and will be changed to True in a future version of pandas. Pass observed=False to retain current behavior or observed=True to adopt the future default and silence this warning.\n",
      "  df_unique = df_new.groupby('name').agg({'lat': 'first', 'lng': 'first'}).reset_index()\n"
     ]
    },
    {
     "name": "stdout",
     "output_type": "stream",
     "text": [
      "Map saved as D:\\df\\maps\\map_980.html\n",
      "Map saved as D:\\df\\maps\\map_981.html\n"
     ]
    },
    {
     "name": "stderr",
     "output_type": "stream",
     "text": [
      "C:\\Users\\Fenin Jose\\AppData\\Local\\Temp\\ipykernel_17548\\574676199.py:17: FutureWarning: The default of observed=False is deprecated and will be changed to True in a future version of pandas. Pass observed=False to retain current behavior or observed=True to adopt the future default and silence this warning.\n",
      "  df_unique = df_new.groupby('name').agg({'lat': 'first', 'lng': 'first'}).reset_index()\n",
      "C:\\Users\\Fenin Jose\\AppData\\Local\\Temp\\ipykernel_17548\\574676199.py:17: FutureWarning: The default of observed=False is deprecated and will be changed to True in a future version of pandas. Pass observed=False to retain current behavior or observed=True to adopt the future default and silence this warning.\n",
      "  df_unique = df_new.groupby('name').agg({'lat': 'first', 'lng': 'first'}).reset_index()\n",
      "C:\\Users\\Fenin Jose\\AppData\\Local\\Temp\\ipykernel_17548\\574676199.py:17: FutureWarning: The default of observed=False is deprecated and will be changed to True in a future version of pandas. Pass observed=False to retain current behavior or observed=True to adopt the future default and silence this warning.\n",
      "  df_unique = df_new.groupby('name').agg({'lat': 'first', 'lng': 'first'}).reset_index()\n"
     ]
    },
    {
     "name": "stdout",
     "output_type": "stream",
     "text": [
      "Map saved as D:\\df\\maps\\map_982.html\n",
      "Map saved as D:\\df\\maps\\map_983.html\n"
     ]
    },
    {
     "name": "stderr",
     "output_type": "stream",
     "text": [
      "C:\\Users\\Fenin Jose\\AppData\\Local\\Temp\\ipykernel_17548\\574676199.py:17: FutureWarning: The default of observed=False is deprecated and will be changed to True in a future version of pandas. Pass observed=False to retain current behavior or observed=True to adopt the future default and silence this warning.\n",
      "  df_unique = df_new.groupby('name').agg({'lat': 'first', 'lng': 'first'}).reset_index()\n"
     ]
    },
    {
     "name": "stdout",
     "output_type": "stream",
     "text": [
      "Map saved as D:\\df\\maps\\map_984.html\n",
      "Map saved as D:\\df\\maps\\map_985.html\n"
     ]
    },
    {
     "name": "stderr",
     "output_type": "stream",
     "text": [
      "C:\\Users\\Fenin Jose\\AppData\\Local\\Temp\\ipykernel_17548\\574676199.py:17: FutureWarning: The default of observed=False is deprecated and will be changed to True in a future version of pandas. Pass observed=False to retain current behavior or observed=True to adopt the future default and silence this warning.\n",
      "  df_unique = df_new.groupby('name').agg({'lat': 'first', 'lng': 'first'}).reset_index()\n",
      "C:\\Users\\Fenin Jose\\AppData\\Local\\Temp\\ipykernel_17548\\574676199.py:17: FutureWarning: The default of observed=False is deprecated and will be changed to True in a future version of pandas. Pass observed=False to retain current behavior or observed=True to adopt the future default and silence this warning.\n",
      "  df_unique = df_new.groupby('name').agg({'lat': 'first', 'lng': 'first'}).reset_index()\n",
      "C:\\Users\\Fenin Jose\\AppData\\Local\\Temp\\ipykernel_17548\\574676199.py:17: FutureWarning: The default of observed=False is deprecated and will be changed to True in a future version of pandas. Pass observed=False to retain current behavior or observed=True to adopt the future default and silence this warning.\n",
      "  df_unique = df_new.groupby('name').agg({'lat': 'first', 'lng': 'first'}).reset_index()\n"
     ]
    },
    {
     "name": "stdout",
     "output_type": "stream",
     "text": [
      "Map saved as D:\\df\\maps\\map_986.html\n",
      "Map saved as D:\\df\\maps\\map_987.html\n"
     ]
    },
    {
     "name": "stderr",
     "output_type": "stream",
     "text": [
      "C:\\Users\\Fenin Jose\\AppData\\Local\\Temp\\ipykernel_17548\\574676199.py:17: FutureWarning: The default of observed=False is deprecated and will be changed to True in a future version of pandas. Pass observed=False to retain current behavior or observed=True to adopt the future default and silence this warning.\n",
      "  df_unique = df_new.groupby('name').agg({'lat': 'first', 'lng': 'first'}).reset_index()\n"
     ]
    },
    {
     "name": "stdout",
     "output_type": "stream",
     "text": [
      "Map saved as D:\\df\\maps\\map_988.html\n",
      "Map saved as D:\\df\\maps\\map_989.html\n"
     ]
    },
    {
     "name": "stderr",
     "output_type": "stream",
     "text": [
      "C:\\Users\\Fenin Jose\\AppData\\Local\\Temp\\ipykernel_17548\\574676199.py:17: FutureWarning: The default of observed=False is deprecated and will be changed to True in a future version of pandas. Pass observed=False to retain current behavior or observed=True to adopt the future default and silence this warning.\n",
      "  df_unique = df_new.groupby('name').agg({'lat': 'first', 'lng': 'first'}).reset_index()\n",
      "C:\\Users\\Fenin Jose\\AppData\\Local\\Temp\\ipykernel_17548\\574676199.py:17: FutureWarning: The default of observed=False is deprecated and will be changed to True in a future version of pandas. Pass observed=False to retain current behavior or observed=True to adopt the future default and silence this warning.\n",
      "  df_unique = df_new.groupby('name').agg({'lat': 'first', 'lng': 'first'}).reset_index()\n"
     ]
    },
    {
     "name": "stdout",
     "output_type": "stream",
     "text": [
      "Map saved as D:\\df\\maps\\map_990.html\n",
      "Map saved as D:\\df\\maps\\map_991.html\n"
     ]
    },
    {
     "name": "stderr",
     "output_type": "stream",
     "text": [
      "C:\\Users\\Fenin Jose\\AppData\\Local\\Temp\\ipykernel_17548\\574676199.py:17: FutureWarning: The default of observed=False is deprecated and will be changed to True in a future version of pandas. Pass observed=False to retain current behavior or observed=True to adopt the future default and silence this warning.\n",
      "  df_unique = df_new.groupby('name').agg({'lat': 'first', 'lng': 'first'}).reset_index()\n",
      "C:\\Users\\Fenin Jose\\AppData\\Local\\Temp\\ipykernel_17548\\574676199.py:17: FutureWarning: The default of observed=False is deprecated and will be changed to True in a future version of pandas. Pass observed=False to retain current behavior or observed=True to adopt the future default and silence this warning.\n",
      "  df_unique = df_new.groupby('name').agg({'lat': 'first', 'lng': 'first'}).reset_index()\n"
     ]
    },
    {
     "name": "stdout",
     "output_type": "stream",
     "text": [
      "Map saved as D:\\df\\maps\\map_992.html\n",
      "Map saved as D:\\df\\maps\\map_993.html\n"
     ]
    },
    {
     "name": "stderr",
     "output_type": "stream",
     "text": [
      "C:\\Users\\Fenin Jose\\AppData\\Local\\Temp\\ipykernel_17548\\574676199.py:17: FutureWarning: The default of observed=False is deprecated and will be changed to True in a future version of pandas. Pass observed=False to retain current behavior or observed=True to adopt the future default and silence this warning.\n",
      "  df_unique = df_new.groupby('name').agg({'lat': 'first', 'lng': 'first'}).reset_index()\n",
      "C:\\Users\\Fenin Jose\\AppData\\Local\\Temp\\ipykernel_17548\\574676199.py:17: FutureWarning: The default of observed=False is deprecated and will be changed to True in a future version of pandas. Pass observed=False to retain current behavior or observed=True to adopt the future default and silence this warning.\n",
      "  df_unique = df_new.groupby('name').agg({'lat': 'first', 'lng': 'first'}).reset_index()\n"
     ]
    },
    {
     "name": "stdout",
     "output_type": "stream",
     "text": [
      "Map saved as D:\\df\\maps\\map_994.html\n",
      "Map saved as D:\\df\\maps\\map_995.html\n"
     ]
    },
    {
     "name": "stderr",
     "output_type": "stream",
     "text": [
      "C:\\Users\\Fenin Jose\\AppData\\Local\\Temp\\ipykernel_17548\\574676199.py:17: FutureWarning: The default of observed=False is deprecated and will be changed to True in a future version of pandas. Pass observed=False to retain current behavior or observed=True to adopt the future default and silence this warning.\n",
      "  df_unique = df_new.groupby('name').agg({'lat': 'first', 'lng': 'first'}).reset_index()\n",
      "C:\\Users\\Fenin Jose\\AppData\\Local\\Temp\\ipykernel_17548\\574676199.py:17: FutureWarning: The default of observed=False is deprecated and will be changed to True in a future version of pandas. Pass observed=False to retain current behavior or observed=True to adopt the future default and silence this warning.\n",
      "  df_unique = df_new.groupby('name').agg({'lat': 'first', 'lng': 'first'}).reset_index()\n"
     ]
    },
    {
     "name": "stdout",
     "output_type": "stream",
     "text": [
      "Map saved as D:\\df\\maps\\map_996.html\n",
      "Map saved as D:\\df\\maps\\map_997.html\n"
     ]
    },
    {
     "name": "stderr",
     "output_type": "stream",
     "text": [
      "C:\\Users\\Fenin Jose\\AppData\\Local\\Temp\\ipykernel_17548\\574676199.py:17: FutureWarning: The default of observed=False is deprecated and will be changed to True in a future version of pandas. Pass observed=False to retain current behavior or observed=True to adopt the future default and silence this warning.\n",
      "  df_unique = df_new.groupby('name').agg({'lat': 'first', 'lng': 'first'}).reset_index()\n",
      "C:\\Users\\Fenin Jose\\AppData\\Local\\Temp\\ipykernel_17548\\574676199.py:17: FutureWarning: The default of observed=False is deprecated and will be changed to True in a future version of pandas. Pass observed=False to retain current behavior or observed=True to adopt the future default and silence this warning.\n",
      "  df_unique = df_new.groupby('name').agg({'lat': 'first', 'lng': 'first'}).reset_index()\n"
     ]
    },
    {
     "name": "stdout",
     "output_type": "stream",
     "text": [
      "Map saved as D:\\df\\maps\\map_998.html\n"
     ]
    },
    {
     "name": "stderr",
     "output_type": "stream",
     "text": [
      "C:\\Users\\Fenin Jose\\AppData\\Local\\Temp\\ipykernel_17548\\574676199.py:17: FutureWarning: The default of observed=False is deprecated and will be changed to True in a future version of pandas. Pass observed=False to retain current behavior or observed=True to adopt the future default and silence this warning.\n",
      "  df_unique = df_new.groupby('name').agg({'lat': 'first', 'lng': 'first'}).reset_index()\n"
     ]
    },
    {
     "name": "stdout",
     "output_type": "stream",
     "text": [
      "Map saved as D:\\df\\maps\\map_999.html\n"
     ]
    },
    {
     "name": "stderr",
     "output_type": "stream",
     "text": [
      "C:\\Users\\Fenin Jose\\AppData\\Local\\Temp\\ipykernel_17548\\574676199.py:17: FutureWarning: The default of observed=False is deprecated and will be changed to True in a future version of pandas. Pass observed=False to retain current behavior or observed=True to adopt the future default and silence this warning.\n",
      "  df_unique = df_new.groupby('name').agg({'lat': 'first', 'lng': 'first'}).reset_index()\n",
      "C:\\Users\\Fenin Jose\\AppData\\Local\\Temp\\ipykernel_17548\\574676199.py:17: FutureWarning: The default of observed=False is deprecated and will be changed to True in a future version of pandas. Pass observed=False to retain current behavior or observed=True to adopt the future default and silence this warning.\n",
      "  df_unique = df_new.groupby('name').agg({'lat': 'first', 'lng': 'first'}).reset_index()\n",
      "C:\\Users\\Fenin Jose\\AppData\\Local\\Temp\\ipykernel_17548\\574676199.py:17: FutureWarning: The default of observed=False is deprecated and will be changed to True in a future version of pandas. Pass observed=False to retain current behavior or observed=True to adopt the future default and silence this warning.\n",
      "  df_unique = df_new.groupby('name').agg({'lat': 'first', 'lng': 'first'}).reset_index()\n"
     ]
    },
    {
     "name": "stdout",
     "output_type": "stream",
     "text": [
      "Map saved as D:\\df\\maps\\map_1000.html\n",
      "Map saved as D:\\df\\maps\\map_1001.html\n",
      "Map saved as D:\\df\\maps\\map_1002.html\n"
     ]
    },
    {
     "name": "stderr",
     "output_type": "stream",
     "text": [
      "C:\\Users\\Fenin Jose\\AppData\\Local\\Temp\\ipykernel_17548\\574676199.py:17: FutureWarning: The default of observed=False is deprecated and will be changed to True in a future version of pandas. Pass observed=False to retain current behavior or observed=True to adopt the future default and silence this warning.\n",
      "  df_unique = df_new.groupby('name').agg({'lat': 'first', 'lng': 'first'}).reset_index()\n",
      "C:\\Users\\Fenin Jose\\AppData\\Local\\Temp\\ipykernel_17548\\574676199.py:17: FutureWarning: The default of observed=False is deprecated and will be changed to True in a future version of pandas. Pass observed=False to retain current behavior or observed=True to adopt the future default and silence this warning.\n",
      "  df_unique = df_new.groupby('name').agg({'lat': 'first', 'lng': 'first'}).reset_index()\n",
      "C:\\Users\\Fenin Jose\\AppData\\Local\\Temp\\ipykernel_17548\\574676199.py:17: FutureWarning: The default of observed=False is deprecated and will be changed to True in a future version of pandas. Pass observed=False to retain current behavior or observed=True to adopt the future default and silence this warning.\n",
      "  df_unique = df_new.groupby('name').agg({'lat': 'first', 'lng': 'first'}).reset_index()\n"
     ]
    },
    {
     "name": "stdout",
     "output_type": "stream",
     "text": [
      "Map saved as D:\\df\\maps\\map_1003.html\n",
      "Map saved as D:\\df\\maps\\map_1004.html\n",
      "Map saved as D:\\df\\maps\\map_1005.html\n",
      "Map saved as D:\\df\\maps\\map_1006.html\n"
     ]
    },
    {
     "name": "stderr",
     "output_type": "stream",
     "text": [
      "C:\\Users\\Fenin Jose\\AppData\\Local\\Temp\\ipykernel_17548\\574676199.py:17: FutureWarning: The default of observed=False is deprecated and will be changed to True in a future version of pandas. Pass observed=False to retain current behavior or observed=True to adopt the future default and silence this warning.\n",
      "  df_unique = df_new.groupby('name').agg({'lat': 'first', 'lng': 'first'}).reset_index()\n",
      "C:\\Users\\Fenin Jose\\AppData\\Local\\Temp\\ipykernel_17548\\574676199.py:17: FutureWarning: The default of observed=False is deprecated and will be changed to True in a future version of pandas. Pass observed=False to retain current behavior or observed=True to adopt the future default and silence this warning.\n",
      "  df_unique = df_new.groupby('name').agg({'lat': 'first', 'lng': 'first'}).reset_index()\n"
     ]
    },
    {
     "name": "stdout",
     "output_type": "stream",
     "text": [
      "Map saved as D:\\df\\maps\\map_1007.html\n",
      "Map saved as D:\\df\\maps\\map_1008.html\n",
      "Map saved as D:\\df\\maps\\map_1009.html\n"
     ]
    },
    {
     "name": "stderr",
     "output_type": "stream",
     "text": [
      "C:\\Users\\Fenin Jose\\AppData\\Local\\Temp\\ipykernel_17548\\574676199.py:17: FutureWarning: The default of observed=False is deprecated and will be changed to True in a future version of pandas. Pass observed=False to retain current behavior or observed=True to adopt the future default and silence this warning.\n",
      "  df_unique = df_new.groupby('name').agg({'lat': 'first', 'lng': 'first'}).reset_index()\n",
      "C:\\Users\\Fenin Jose\\AppData\\Local\\Temp\\ipykernel_17548\\574676199.py:17: FutureWarning: The default of observed=False is deprecated and will be changed to True in a future version of pandas. Pass observed=False to retain current behavior or observed=True to adopt the future default and silence this warning.\n",
      "  df_unique = df_new.groupby('name').agg({'lat': 'first', 'lng': 'first'}).reset_index()\n",
      "C:\\Users\\Fenin Jose\\AppData\\Local\\Temp\\ipykernel_17548\\574676199.py:17: FutureWarning: The default of observed=False is deprecated and will be changed to True in a future version of pandas. Pass observed=False to retain current behavior or observed=True to adopt the future default and silence this warning.\n",
      "  df_unique = df_new.groupby('name').agg({'lat': 'first', 'lng': 'first'}).reset_index()\n"
     ]
    },
    {
     "name": "stdout",
     "output_type": "stream",
     "text": [
      "Map saved as D:\\df\\maps\\map_1010.html\n"
     ]
    },
    {
     "name": "stderr",
     "output_type": "stream",
     "text": [
      "C:\\Users\\Fenin Jose\\AppData\\Local\\Temp\\ipykernel_17548\\574676199.py:17: FutureWarning: The default of observed=False is deprecated and will be changed to True in a future version of pandas. Pass observed=False to retain current behavior or observed=True to adopt the future default and silence this warning.\n",
      "  df_unique = df_new.groupby('name').agg({'lat': 'first', 'lng': 'first'}).reset_index()\n",
      "C:\\Users\\Fenin Jose\\AppData\\Local\\Temp\\ipykernel_17548\\574676199.py:17: FutureWarning: The default of observed=False is deprecated and will be changed to True in a future version of pandas. Pass observed=False to retain current behavior or observed=True to adopt the future default and silence this warning.\n",
      "  df_unique = df_new.groupby('name').agg({'lat': 'first', 'lng': 'first'}).reset_index()\n"
     ]
    },
    {
     "name": "stdout",
     "output_type": "stream",
     "text": [
      "Map saved as D:\\df\\maps\\map_1011.html\n",
      "Map saved as D:\\df\\maps\\map_1012.html\n"
     ]
    },
    {
     "name": "stderr",
     "output_type": "stream",
     "text": [
      "C:\\Users\\Fenin Jose\\AppData\\Local\\Temp\\ipykernel_17548\\574676199.py:17: FutureWarning: The default of observed=False is deprecated and will be changed to True in a future version of pandas. Pass observed=False to retain current behavior or observed=True to adopt the future default and silence this warning.\n",
      "  df_unique = df_new.groupby('name').agg({'lat': 'first', 'lng': 'first'}).reset_index()\n",
      "C:\\Users\\Fenin Jose\\AppData\\Local\\Temp\\ipykernel_17548\\574676199.py:17: FutureWarning: The default of observed=False is deprecated and will be changed to True in a future version of pandas. Pass observed=False to retain current behavior or observed=True to adopt the future default and silence this warning.\n",
      "  df_unique = df_new.groupby('name').agg({'lat': 'first', 'lng': 'first'}).reset_index()\n"
     ]
    },
    {
     "name": "stdout",
     "output_type": "stream",
     "text": [
      "Map saved as D:\\df\\maps\\map_1013.html\n",
      "Map saved as D:\\df\\maps\\map_1014.html\n",
      "Map saved as D:\\df\\maps\\map_1015.html\n"
     ]
    },
    {
     "name": "stderr",
     "output_type": "stream",
     "text": [
      "C:\\Users\\Fenin Jose\\AppData\\Local\\Temp\\ipykernel_17548\\574676199.py:17: FutureWarning: The default of observed=False is deprecated and will be changed to True in a future version of pandas. Pass observed=False to retain current behavior or observed=True to adopt the future default and silence this warning.\n",
      "  df_unique = df_new.groupby('name').agg({'lat': 'first', 'lng': 'first'}).reset_index()\n",
      "C:\\Users\\Fenin Jose\\AppData\\Local\\Temp\\ipykernel_17548\\574676199.py:17: FutureWarning: The default of observed=False is deprecated and will be changed to True in a future version of pandas. Pass observed=False to retain current behavior or observed=True to adopt the future default and silence this warning.\n",
      "  df_unique = df_new.groupby('name').agg({'lat': 'first', 'lng': 'first'}).reset_index()\n",
      "C:\\Users\\Fenin Jose\\AppData\\Local\\Temp\\ipykernel_17548\\574676199.py:17: FutureWarning: The default of observed=False is deprecated and will be changed to True in a future version of pandas. Pass observed=False to retain current behavior or observed=True to adopt the future default and silence this warning.\n",
      "  df_unique = df_new.groupby('name').agg({'lat': 'first', 'lng': 'first'}).reset_index()\n"
     ]
    },
    {
     "name": "stdout",
     "output_type": "stream",
     "text": [
      "Map saved as D:\\df\\maps\\map_1016.html\n",
      "Map saved as D:\\df\\maps\\map_1017.html\n",
      "Map saved as D:\\df\\maps\\map_1018.html\n"
     ]
    },
    {
     "name": "stderr",
     "output_type": "stream",
     "text": [
      "C:\\Users\\Fenin Jose\\AppData\\Local\\Temp\\ipykernel_17548\\574676199.py:17: FutureWarning: The default of observed=False is deprecated and will be changed to True in a future version of pandas. Pass observed=False to retain current behavior or observed=True to adopt the future default and silence this warning.\n",
      "  df_unique = df_new.groupby('name').agg({'lat': 'first', 'lng': 'first'}).reset_index()\n",
      "C:\\Users\\Fenin Jose\\AppData\\Local\\Temp\\ipykernel_17548\\574676199.py:17: FutureWarning: The default of observed=False is deprecated and will be changed to True in a future version of pandas. Pass observed=False to retain current behavior or observed=True to adopt the future default and silence this warning.\n",
      "  df_unique = df_new.groupby('name').agg({'lat': 'first', 'lng': 'first'}).reset_index()\n",
      "C:\\Users\\Fenin Jose\\AppData\\Local\\Temp\\ipykernel_17548\\574676199.py:17: FutureWarning: The default of observed=False is deprecated and will be changed to True in a future version of pandas. Pass observed=False to retain current behavior or observed=True to adopt the future default and silence this warning.\n",
      "  df_unique = df_new.groupby('name').agg({'lat': 'first', 'lng': 'first'}).reset_index()\n"
     ]
    },
    {
     "name": "stdout",
     "output_type": "stream",
     "text": [
      "Map saved as D:\\df\\maps\\map_1019.html\n",
      "Map saved as D:\\df\\maps\\map_1020.html\n"
     ]
    },
    {
     "name": "stderr",
     "output_type": "stream",
     "text": [
      "C:\\Users\\Fenin Jose\\AppData\\Local\\Temp\\ipykernel_17548\\574676199.py:17: FutureWarning: The default of observed=False is deprecated and will be changed to True in a future version of pandas. Pass observed=False to retain current behavior or observed=True to adopt the future default and silence this warning.\n",
      "  df_unique = df_new.groupby('name').agg({'lat': 'first', 'lng': 'first'}).reset_index()\n",
      "C:\\Users\\Fenin Jose\\AppData\\Local\\Temp\\ipykernel_17548\\574676199.py:17: FutureWarning: The default of observed=False is deprecated and will be changed to True in a future version of pandas. Pass observed=False to retain current behavior or observed=True to adopt the future default and silence this warning.\n",
      "  df_unique = df_new.groupby('name').agg({'lat': 'first', 'lng': 'first'}).reset_index()\n"
     ]
    },
    {
     "name": "stdout",
     "output_type": "stream",
     "text": [
      "Map saved as D:\\df\\maps\\map_1021.html\n",
      "Map saved as D:\\df\\maps\\map_1022.html\n"
     ]
    },
    {
     "name": "stderr",
     "output_type": "stream",
     "text": [
      "C:\\Users\\Fenin Jose\\AppData\\Local\\Temp\\ipykernel_17548\\574676199.py:17: FutureWarning: The default of observed=False is deprecated and will be changed to True in a future version of pandas. Pass observed=False to retain current behavior or observed=True to adopt the future default and silence this warning.\n",
      "  df_unique = df_new.groupby('name').agg({'lat': 'first', 'lng': 'first'}).reset_index()\n",
      "C:\\Users\\Fenin Jose\\AppData\\Local\\Temp\\ipykernel_17548\\574676199.py:17: FutureWarning: The default of observed=False is deprecated and will be changed to True in a future version of pandas. Pass observed=False to retain current behavior or observed=True to adopt the future default and silence this warning.\n",
      "  df_unique = df_new.groupby('name').agg({'lat': 'first', 'lng': 'first'}).reset_index()\n",
      "C:\\Users\\Fenin Jose\\AppData\\Local\\Temp\\ipykernel_17548\\574676199.py:17: FutureWarning: The default of observed=False is deprecated and will be changed to True in a future version of pandas. Pass observed=False to retain current behavior or observed=True to adopt the future default and silence this warning.\n",
      "  df_unique = df_new.groupby('name').agg({'lat': 'first', 'lng': 'first'}).reset_index()\n"
     ]
    },
    {
     "name": "stdout",
     "output_type": "stream",
     "text": [
      "Map saved as D:\\df\\maps\\map_1023.html\n",
      "Map saved as D:\\df\\maps\\map_1024.html\n",
      "Map saved as D:\\df\\maps\\map_1025.html\n",
      "Map saved as D:\\df\\maps\\map_1026.html\n"
     ]
    },
    {
     "name": "stderr",
     "output_type": "stream",
     "text": [
      "C:\\Users\\Fenin Jose\\AppData\\Local\\Temp\\ipykernel_17548\\574676199.py:17: FutureWarning: The default of observed=False is deprecated and will be changed to True in a future version of pandas. Pass observed=False to retain current behavior or observed=True to adopt the future default and silence this warning.\n",
      "  df_unique = df_new.groupby('name').agg({'lat': 'first', 'lng': 'first'}).reset_index()\n",
      "C:\\Users\\Fenin Jose\\AppData\\Local\\Temp\\ipykernel_17548\\574676199.py:17: FutureWarning: The default of observed=False is deprecated and will be changed to True in a future version of pandas. Pass observed=False to retain current behavior or observed=True to adopt the future default and silence this warning.\n",
      "  df_unique = df_new.groupby('name').agg({'lat': 'first', 'lng': 'first'}).reset_index()\n"
     ]
    },
    {
     "name": "stdout",
     "output_type": "stream",
     "text": [
      "Map saved as D:\\df\\maps\\map_1027.html\n",
      "Map saved as D:\\df\\maps\\map_1028.html\n"
     ]
    },
    {
     "name": "stderr",
     "output_type": "stream",
     "text": [
      "C:\\Users\\Fenin Jose\\AppData\\Local\\Temp\\ipykernel_17548\\574676199.py:17: FutureWarning: The default of observed=False is deprecated and will be changed to True in a future version of pandas. Pass observed=False to retain current behavior or observed=True to adopt the future default and silence this warning.\n",
      "  df_unique = df_new.groupby('name').agg({'lat': 'first', 'lng': 'first'}).reset_index()\n",
      "C:\\Users\\Fenin Jose\\AppData\\Local\\Temp\\ipykernel_17548\\574676199.py:17: FutureWarning: The default of observed=False is deprecated and will be changed to True in a future version of pandas. Pass observed=False to retain current behavior or observed=True to adopt the future default and silence this warning.\n",
      "  df_unique = df_new.groupby('name').agg({'lat': 'first', 'lng': 'first'}).reset_index()\n"
     ]
    },
    {
     "name": "stdout",
     "output_type": "stream",
     "text": [
      "Map saved as D:\\df\\maps\\map_1029.html\n",
      "Map saved as D:\\df\\maps\\map_1030.html\n"
     ]
    },
    {
     "name": "stderr",
     "output_type": "stream",
     "text": [
      "C:\\Users\\Fenin Jose\\AppData\\Local\\Temp\\ipykernel_17548\\574676199.py:17: FutureWarning: The default of observed=False is deprecated and will be changed to True in a future version of pandas. Pass observed=False to retain current behavior or observed=True to adopt the future default and silence this warning.\n",
      "  df_unique = df_new.groupby('name').agg({'lat': 'first', 'lng': 'first'}).reset_index()\n",
      "C:\\Users\\Fenin Jose\\AppData\\Local\\Temp\\ipykernel_17548\\574676199.py:17: FutureWarning: The default of observed=False is deprecated and will be changed to True in a future version of pandas. Pass observed=False to retain current behavior or observed=True to adopt the future default and silence this warning.\n",
      "  df_unique = df_new.groupby('name').agg({'lat': 'first', 'lng': 'first'}).reset_index()\n"
     ]
    },
    {
     "name": "stdout",
     "output_type": "stream",
     "text": [
      "Map saved as D:\\df\\maps\\map_1031.html\n",
      "Map saved as D:\\df\\maps\\map_1032.html\n",
      "Map saved as D:\\df\\maps\\map_1033.html\n"
     ]
    },
    {
     "name": "stderr",
     "output_type": "stream",
     "text": [
      "C:\\Users\\Fenin Jose\\AppData\\Local\\Temp\\ipykernel_17548\\574676199.py:17: FutureWarning: The default of observed=False is deprecated and will be changed to True in a future version of pandas. Pass observed=False to retain current behavior or observed=True to adopt the future default and silence this warning.\n",
      "  df_unique = df_new.groupby('name').agg({'lat': 'first', 'lng': 'first'}).reset_index()\n",
      "C:\\Users\\Fenin Jose\\AppData\\Local\\Temp\\ipykernel_17548\\574676199.py:17: FutureWarning: The default of observed=False is deprecated and will be changed to True in a future version of pandas. Pass observed=False to retain current behavior or observed=True to adopt the future default and silence this warning.\n",
      "  df_unique = df_new.groupby('name').agg({'lat': 'first', 'lng': 'first'}).reset_index()\n",
      "C:\\Users\\Fenin Jose\\AppData\\Local\\Temp\\ipykernel_17548\\574676199.py:17: FutureWarning: The default of observed=False is deprecated and will be changed to True in a future version of pandas. Pass observed=False to retain current behavior or observed=True to adopt the future default and silence this warning.\n",
      "  df_unique = df_new.groupby('name').agg({'lat': 'first', 'lng': 'first'}).reset_index()\n"
     ]
    },
    {
     "name": "stdout",
     "output_type": "stream",
     "text": [
      "Map saved as D:\\df\\maps\\map_1034.html\n",
      "Map saved as D:\\df\\maps\\map_1035.html\n",
      "Map saved as D:\\df\\maps\\map_1036.html\n"
     ]
    },
    {
     "name": "stderr",
     "output_type": "stream",
     "text": [
      "C:\\Users\\Fenin Jose\\AppData\\Local\\Temp\\ipykernel_17548\\574676199.py:17: FutureWarning: The default of observed=False is deprecated and will be changed to True in a future version of pandas. Pass observed=False to retain current behavior or observed=True to adopt the future default and silence this warning.\n",
      "  df_unique = df_new.groupby('name').agg({'lat': 'first', 'lng': 'first'}).reset_index()\n",
      "C:\\Users\\Fenin Jose\\AppData\\Local\\Temp\\ipykernel_17548\\574676199.py:17: FutureWarning: The default of observed=False is deprecated and will be changed to True in a future version of pandas. Pass observed=False to retain current behavior or observed=True to adopt the future default and silence this warning.\n",
      "  df_unique = df_new.groupby('name').agg({'lat': 'first', 'lng': 'first'}).reset_index()\n",
      "C:\\Users\\Fenin Jose\\AppData\\Local\\Temp\\ipykernel_17548\\574676199.py:17: FutureWarning: The default of observed=False is deprecated and will be changed to True in a future version of pandas. Pass observed=False to retain current behavior or observed=True to adopt the future default and silence this warning.\n",
      "  df_unique = df_new.groupby('name').agg({'lat': 'first', 'lng': 'first'}).reset_index()\n"
     ]
    },
    {
     "name": "stdout",
     "output_type": "stream",
     "text": [
      "Map saved as D:\\df\\maps\\map_1037.html\n",
      "Map saved as D:\\df\\maps\\map_1038.html\n",
      "Map saved as D:\\df\\maps\\map_1039.html\n"
     ]
    },
    {
     "name": "stderr",
     "output_type": "stream",
     "text": [
      "C:\\Users\\Fenin Jose\\AppData\\Local\\Temp\\ipykernel_17548\\574676199.py:17: FutureWarning: The default of observed=False is deprecated and will be changed to True in a future version of pandas. Pass observed=False to retain current behavior or observed=True to adopt the future default and silence this warning.\n",
      "  df_unique = df_new.groupby('name').agg({'lat': 'first', 'lng': 'first'}).reset_index()\n",
      "C:\\Users\\Fenin Jose\\AppData\\Local\\Temp\\ipykernel_17548\\574676199.py:17: FutureWarning: The default of observed=False is deprecated and will be changed to True in a future version of pandas. Pass observed=False to retain current behavior or observed=True to adopt the future default and silence this warning.\n",
      "  df_unique = df_new.groupby('name').agg({'lat': 'first', 'lng': 'first'}).reset_index()\n",
      "C:\\Users\\Fenin Jose\\AppData\\Local\\Temp\\ipykernel_17548\\574676199.py:17: FutureWarning: The default of observed=False is deprecated and will be changed to True in a future version of pandas. Pass observed=False to retain current behavior or observed=True to adopt the future default and silence this warning.\n",
      "  df_unique = df_new.groupby('name').agg({'lat': 'first', 'lng': 'first'}).reset_index()\n"
     ]
    },
    {
     "name": "stdout",
     "output_type": "stream",
     "text": [
      "Map saved as D:\\df\\maps\\map_1040.html\n",
      "Map saved as D:\\df\\maps\\map_1041.html\n",
      "Map saved as D:\\df\\maps\\map_1042.html\n"
     ]
    },
    {
     "name": "stderr",
     "output_type": "stream",
     "text": [
      "C:\\Users\\Fenin Jose\\AppData\\Local\\Temp\\ipykernel_17548\\574676199.py:17: FutureWarning: The default of observed=False is deprecated and will be changed to True in a future version of pandas. Pass observed=False to retain current behavior or observed=True to adopt the future default and silence this warning.\n",
      "  df_unique = df_new.groupby('name').agg({'lat': 'first', 'lng': 'first'}).reset_index()\n",
      "C:\\Users\\Fenin Jose\\AppData\\Local\\Temp\\ipykernel_17548\\574676199.py:17: FutureWarning: The default of observed=False is deprecated and will be changed to True in a future version of pandas. Pass observed=False to retain current behavior or observed=True to adopt the future default and silence this warning.\n",
      "  df_unique = df_new.groupby('name').agg({'lat': 'first', 'lng': 'first'}).reset_index()\n",
      "C:\\Users\\Fenin Jose\\AppData\\Local\\Temp\\ipykernel_17548\\574676199.py:17: FutureWarning: The default of observed=False is deprecated and will be changed to True in a future version of pandas. Pass observed=False to retain current behavior or observed=True to adopt the future default and silence this warning.\n",
      "  df_unique = df_new.groupby('name').agg({'lat': 'first', 'lng': 'first'}).reset_index()\n"
     ]
    },
    {
     "name": "stdout",
     "output_type": "stream",
     "text": [
      "Map saved as D:\\df\\maps\\map_1043.html\n",
      "Map saved as D:\\df\\maps\\map_1044.html\n",
      "Map saved as D:\\df\\maps\\map_1045.html\n"
     ]
    },
    {
     "name": "stderr",
     "output_type": "stream",
     "text": [
      "C:\\Users\\Fenin Jose\\AppData\\Local\\Temp\\ipykernel_17548\\574676199.py:17: FutureWarning: The default of observed=False is deprecated and will be changed to True in a future version of pandas. Pass observed=False to retain current behavior or observed=True to adopt the future default and silence this warning.\n",
      "  df_unique = df_new.groupby('name').agg({'lat': 'first', 'lng': 'first'}).reset_index()\n",
      "C:\\Users\\Fenin Jose\\AppData\\Local\\Temp\\ipykernel_17548\\574676199.py:17: FutureWarning: The default of observed=False is deprecated and will be changed to True in a future version of pandas. Pass observed=False to retain current behavior or observed=True to adopt the future default and silence this warning.\n",
      "  df_unique = df_new.groupby('name').agg({'lat': 'first', 'lng': 'first'}).reset_index()\n",
      "C:\\Users\\Fenin Jose\\AppData\\Local\\Temp\\ipykernel_17548\\574676199.py:17: FutureWarning: The default of observed=False is deprecated and will be changed to True in a future version of pandas. Pass observed=False to retain current behavior or observed=True to adopt the future default and silence this warning.\n",
      "  df_unique = df_new.groupby('name').agg({'lat': 'first', 'lng': 'first'}).reset_index()\n"
     ]
    },
    {
     "name": "stdout",
     "output_type": "stream",
     "text": [
      "Map saved as D:\\df\\maps\\map_1046.html\n",
      "Map saved as D:\\df\\maps\\map_1047.html\n"
     ]
    },
    {
     "name": "stderr",
     "output_type": "stream",
     "text": [
      "C:\\Users\\Fenin Jose\\AppData\\Local\\Temp\\ipykernel_17548\\574676199.py:17: FutureWarning: The default of observed=False is deprecated and will be changed to True in a future version of pandas. Pass observed=False to retain current behavior or observed=True to adopt the future default and silence this warning.\n",
      "  df_unique = df_new.groupby('name').agg({'lat': 'first', 'lng': 'first'}).reset_index()\n",
      "C:\\Users\\Fenin Jose\\AppData\\Local\\Temp\\ipykernel_17548\\574676199.py:17: FutureWarning: The default of observed=False is deprecated and will be changed to True in a future version of pandas. Pass observed=False to retain current behavior or observed=True to adopt the future default and silence this warning.\n",
      "  df_unique = df_new.groupby('name').agg({'lat': 'first', 'lng': 'first'}).reset_index()\n"
     ]
    },
    {
     "name": "stdout",
     "output_type": "stream",
     "text": [
      "Map saved as D:\\df\\maps\\map_1048.html\n",
      "Map saved as D:\\df\\maps\\map_1049.html\n"
     ]
    },
    {
     "name": "stderr",
     "output_type": "stream",
     "text": [
      "C:\\Users\\Fenin Jose\\AppData\\Local\\Temp\\ipykernel_17548\\574676199.py:17: FutureWarning: The default of observed=False is deprecated and will be changed to True in a future version of pandas. Pass observed=False to retain current behavior or observed=True to adopt the future default and silence this warning.\n",
      "  df_unique = df_new.groupby('name').agg({'lat': 'first', 'lng': 'first'}).reset_index()\n",
      "C:\\Users\\Fenin Jose\\AppData\\Local\\Temp\\ipykernel_17548\\574676199.py:17: FutureWarning: The default of observed=False is deprecated and will be changed to True in a future version of pandas. Pass observed=False to retain current behavior or observed=True to adopt the future default and silence this warning.\n",
      "  df_unique = df_new.groupby('name').agg({'lat': 'first', 'lng': 'first'}).reset_index()\n"
     ]
    },
    {
     "name": "stdout",
     "output_type": "stream",
     "text": [
      "Map saved as D:\\df\\maps\\map_1050.html\n",
      "Map saved as D:\\df\\maps\\map_1051.html\n"
     ]
    },
    {
     "name": "stderr",
     "output_type": "stream",
     "text": [
      "C:\\Users\\Fenin Jose\\AppData\\Local\\Temp\\ipykernel_17548\\574676199.py:17: FutureWarning: The default of observed=False is deprecated and will be changed to True in a future version of pandas. Pass observed=False to retain current behavior or observed=True to adopt the future default and silence this warning.\n",
      "  df_unique = df_new.groupby('name').agg({'lat': 'first', 'lng': 'first'}).reset_index()\n",
      "C:\\Users\\Fenin Jose\\AppData\\Local\\Temp\\ipykernel_17548\\574676199.py:17: FutureWarning: The default of observed=False is deprecated and will be changed to True in a future version of pandas. Pass observed=False to retain current behavior or observed=True to adopt the future default and silence this warning.\n",
      "  df_unique = df_new.groupby('name').agg({'lat': 'first', 'lng': 'first'}).reset_index()\n"
     ]
    },
    {
     "name": "stdout",
     "output_type": "stream",
     "text": [
      "Map saved as D:\\df\\maps\\map_1052.html\n",
      "Map saved as D:\\df\\maps\\map_1053.html\n",
      "Map saved as D:\\df\\maps\\map_1054.html\n"
     ]
    },
    {
     "name": "stderr",
     "output_type": "stream",
     "text": [
      "C:\\Users\\Fenin Jose\\AppData\\Local\\Temp\\ipykernel_17548\\574676199.py:17: FutureWarning: The default of observed=False is deprecated and will be changed to True in a future version of pandas. Pass observed=False to retain current behavior or observed=True to adopt the future default and silence this warning.\n",
      "  df_unique = df_new.groupby('name').agg({'lat': 'first', 'lng': 'first'}).reset_index()\n",
      "C:\\Users\\Fenin Jose\\AppData\\Local\\Temp\\ipykernel_17548\\574676199.py:17: FutureWarning: The default of observed=False is deprecated and will be changed to True in a future version of pandas. Pass observed=False to retain current behavior or observed=True to adopt the future default and silence this warning.\n",
      "  df_unique = df_new.groupby('name').agg({'lat': 'first', 'lng': 'first'}).reset_index()\n",
      "C:\\Users\\Fenin Jose\\AppData\\Local\\Temp\\ipykernel_17548\\574676199.py:17: FutureWarning: The default of observed=False is deprecated and will be changed to True in a future version of pandas. Pass observed=False to retain current behavior or observed=True to adopt the future default and silence this warning.\n",
      "  df_unique = df_new.groupby('name').agg({'lat': 'first', 'lng': 'first'}).reset_index()\n"
     ]
    },
    {
     "name": "stdout",
     "output_type": "stream",
     "text": [
      "Map saved as D:\\df\\maps\\map_1055.html\n",
      "Map saved as D:\\df\\maps\\map_1056.html\n",
      "Map saved as D:\\df\\maps\\map_1057.html\n"
     ]
    },
    {
     "name": "stderr",
     "output_type": "stream",
     "text": [
      "C:\\Users\\Fenin Jose\\AppData\\Local\\Temp\\ipykernel_17548\\574676199.py:17: FutureWarning: The default of observed=False is deprecated and will be changed to True in a future version of pandas. Pass observed=False to retain current behavior or observed=True to adopt the future default and silence this warning.\n",
      "  df_unique = df_new.groupby('name').agg({'lat': 'first', 'lng': 'first'}).reset_index()\n",
      "C:\\Users\\Fenin Jose\\AppData\\Local\\Temp\\ipykernel_17548\\574676199.py:17: FutureWarning: The default of observed=False is deprecated and will be changed to True in a future version of pandas. Pass observed=False to retain current behavior or observed=True to adopt the future default and silence this warning.\n",
      "  df_unique = df_new.groupby('name').agg({'lat': 'first', 'lng': 'first'}).reset_index()\n",
      "C:\\Users\\Fenin Jose\\AppData\\Local\\Temp\\ipykernel_17548\\574676199.py:17: FutureWarning: The default of observed=False is deprecated and will be changed to True in a future version of pandas. Pass observed=False to retain current behavior or observed=True to adopt the future default and silence this warning.\n",
      "  df_unique = df_new.groupby('name').agg({'lat': 'first', 'lng': 'first'}).reset_index()\n"
     ]
    },
    {
     "name": "stdout",
     "output_type": "stream",
     "text": [
      "Map saved as D:\\df\\maps\\map_1058.html\n",
      "Map saved as D:\\df\\maps\\map_1059.html\n",
      "Map saved as D:\\df\\maps\\map_1060.html\n"
     ]
    },
    {
     "name": "stderr",
     "output_type": "stream",
     "text": [
      "C:\\Users\\Fenin Jose\\AppData\\Local\\Temp\\ipykernel_17548\\574676199.py:17: FutureWarning: The default of observed=False is deprecated and will be changed to True in a future version of pandas. Pass observed=False to retain current behavior or observed=True to adopt the future default and silence this warning.\n",
      "  df_unique = df_new.groupby('name').agg({'lat': 'first', 'lng': 'first'}).reset_index()\n",
      "C:\\Users\\Fenin Jose\\AppData\\Local\\Temp\\ipykernel_17548\\574676199.py:17: FutureWarning: The default of observed=False is deprecated and will be changed to True in a future version of pandas. Pass observed=False to retain current behavior or observed=True to adopt the future default and silence this warning.\n",
      "  df_unique = df_new.groupby('name').agg({'lat': 'first', 'lng': 'first'}).reset_index()\n",
      "C:\\Users\\Fenin Jose\\AppData\\Local\\Temp\\ipykernel_17548\\574676199.py:17: FutureWarning: The default of observed=False is deprecated and will be changed to True in a future version of pandas. Pass observed=False to retain current behavior or observed=True to adopt the future default and silence this warning.\n",
      "  df_unique = df_new.groupby('name').agg({'lat': 'first', 'lng': 'first'}).reset_index()\n",
      "C:\\Users\\Fenin Jose\\AppData\\Local\\Temp\\ipykernel_17548\\574676199.py:17: FutureWarning: The default of observed=False is deprecated and will be changed to True in a future version of pandas. Pass observed=False to retain current behavior or observed=True to adopt the future default and silence this warning.\n",
      "  df_unique = df_new.groupby('name').agg({'lat': 'first', 'lng': 'first'}).reset_index()\n",
      "C:\\Users\\Fenin Jose\\AppData\\Local\\Temp\\ipykernel_17548\\574676199.py:17: FutureWarning: The default of observed=False is deprecated and will be changed to True in a future version of pandas. Pass observed=False to retain current behavior or observed=True to adopt the future default and silence this warning.\n",
      "  df_unique = df_new.groupby('name').agg({'lat': 'first', 'lng': 'first'}).reset_index()\n"
     ]
    },
    {
     "name": "stdout",
     "output_type": "stream",
     "text": [
      "Map saved as D:\\df\\maps\\map_1061.html\n",
      "Map saved as D:\\df\\maps\\map_1062.html\n",
      "Map saved as D:\\df\\maps\\map_1063.html\n"
     ]
    },
    {
     "name": "stderr",
     "output_type": "stream",
     "text": [
      "C:\\Users\\Fenin Jose\\AppData\\Local\\Temp\\ipykernel_17548\\574676199.py:17: FutureWarning: The default of observed=False is deprecated and will be changed to True in a future version of pandas. Pass observed=False to retain current behavior or observed=True to adopt the future default and silence this warning.\n",
      "  df_unique = df_new.groupby('name').agg({'lat': 'first', 'lng': 'first'}).reset_index()\n"
     ]
    },
    {
     "name": "stdout",
     "output_type": "stream",
     "text": [
      "Map saved as D:\\df\\maps\\map_1064.html\n",
      "Map saved as D:\\df\\maps\\map_1065.html\n"
     ]
    },
    {
     "name": "stderr",
     "output_type": "stream",
     "text": [
      "C:\\Users\\Fenin Jose\\AppData\\Local\\Temp\\ipykernel_17548\\574676199.py:17: FutureWarning: The default of observed=False is deprecated and will be changed to True in a future version of pandas. Pass observed=False to retain current behavior or observed=True to adopt the future default and silence this warning.\n",
      "  df_unique = df_new.groupby('name').agg({'lat': 'first', 'lng': 'first'}).reset_index()\n",
      "C:\\Users\\Fenin Jose\\AppData\\Local\\Temp\\ipykernel_17548\\574676199.py:17: FutureWarning: The default of observed=False is deprecated and will be changed to True in a future version of pandas. Pass observed=False to retain current behavior or observed=True to adopt the future default and silence this warning.\n",
      "  df_unique = df_new.groupby('name').agg({'lat': 'first', 'lng': 'first'}).reset_index()\n"
     ]
    },
    {
     "name": "stdout",
     "output_type": "stream",
     "text": [
      "Map saved as D:\\df\\maps\\map_1066.html\n"
     ]
    },
    {
     "name": "stderr",
     "output_type": "stream",
     "text": [
      "C:\\Users\\Fenin Jose\\AppData\\Local\\Temp\\ipykernel_17548\\574676199.py:17: FutureWarning: The default of observed=False is deprecated and will be changed to True in a future version of pandas. Pass observed=False to retain current behavior or observed=True to adopt the future default and silence this warning.\n",
      "  df_unique = df_new.groupby('name').agg({'lat': 'first', 'lng': 'first'}).reset_index()\n"
     ]
    },
    {
     "name": "stdout",
     "output_type": "stream",
     "text": [
      "Map saved as D:\\df\\maps\\map_1067.html\n",
      "Map saved as D:\\df\\maps\\map_1068.html\n"
     ]
    },
    {
     "name": "stderr",
     "output_type": "stream",
     "text": [
      "C:\\Users\\Fenin Jose\\AppData\\Local\\Temp\\ipykernel_17548\\574676199.py:17: FutureWarning: The default of observed=False is deprecated and will be changed to True in a future version of pandas. Pass observed=False to retain current behavior or observed=True to adopt the future default and silence this warning.\n",
      "  df_unique = df_new.groupby('name').agg({'lat': 'first', 'lng': 'first'}).reset_index()\n",
      "C:\\Users\\Fenin Jose\\AppData\\Local\\Temp\\ipykernel_17548\\574676199.py:17: FutureWarning: The default of observed=False is deprecated and will be changed to True in a future version of pandas. Pass observed=False to retain current behavior or observed=True to adopt the future default and silence this warning.\n",
      "  df_unique = df_new.groupby('name').agg({'lat': 'first', 'lng': 'first'}).reset_index()\n",
      "C:\\Users\\Fenin Jose\\AppData\\Local\\Temp\\ipykernel_17548\\574676199.py:17: FutureWarning: The default of observed=False is deprecated and will be changed to True in a future version of pandas. Pass observed=False to retain current behavior or observed=True to adopt the future default and silence this warning.\n",
      "  df_unique = df_new.groupby('name').agg({'lat': 'first', 'lng': 'first'}).reset_index()\n"
     ]
    },
    {
     "name": "stdout",
     "output_type": "stream",
     "text": [
      "Map saved as D:\\df\\maps\\map_1069.html\n",
      "Map saved as D:\\df\\maps\\map_1070.html\n"
     ]
    },
    {
     "name": "stderr",
     "output_type": "stream",
     "text": [
      "C:\\Users\\Fenin Jose\\AppData\\Local\\Temp\\ipykernel_17548\\574676199.py:17: FutureWarning: The default of observed=False is deprecated and will be changed to True in a future version of pandas. Pass observed=False to retain current behavior or observed=True to adopt the future default and silence this warning.\n",
      "  df_unique = df_new.groupby('name').agg({'lat': 'first', 'lng': 'first'}).reset_index()\n",
      "C:\\Users\\Fenin Jose\\AppData\\Local\\Temp\\ipykernel_17548\\574676199.py:17: FutureWarning: The default of observed=False is deprecated and will be changed to True in a future version of pandas. Pass observed=False to retain current behavior or observed=True to adopt the future default and silence this warning.\n",
      "  df_unique = df_new.groupby('name').agg({'lat': 'first', 'lng': 'first'}).reset_index()\n",
      "C:\\Users\\Fenin Jose\\AppData\\Local\\Temp\\ipykernel_17548\\574676199.py:17: FutureWarning: The default of observed=False is deprecated and will be changed to True in a future version of pandas. Pass observed=False to retain current behavior or observed=True to adopt the future default and silence this warning.\n",
      "  df_unique = df_new.groupby('name').agg({'lat': 'first', 'lng': 'first'}).reset_index()\n"
     ]
    },
    {
     "name": "stdout",
     "output_type": "stream",
     "text": [
      "Map saved as D:\\df\\maps\\map_1071.html\n",
      "Map saved as D:\\df\\maps\\map_1072.html\n",
      "Map saved as D:\\df\\maps\\map_1073.html\n",
      "Map saved as D:\\df\\maps\\map_1074.html\n"
     ]
    },
    {
     "name": "stderr",
     "output_type": "stream",
     "text": [
      "C:\\Users\\Fenin Jose\\AppData\\Local\\Temp\\ipykernel_17548\\574676199.py:17: FutureWarning: The default of observed=False is deprecated and will be changed to True in a future version of pandas. Pass observed=False to retain current behavior or observed=True to adopt the future default and silence this warning.\n",
      "  df_unique = df_new.groupby('name').agg({'lat': 'first', 'lng': 'first'}).reset_index()\n",
      "C:\\Users\\Fenin Jose\\AppData\\Local\\Temp\\ipykernel_17548\\574676199.py:17: FutureWarning: The default of observed=False is deprecated and will be changed to True in a future version of pandas. Pass observed=False to retain current behavior or observed=True to adopt the future default and silence this warning.\n",
      "  df_unique = df_new.groupby('name').agg({'lat': 'first', 'lng': 'first'}).reset_index()\n",
      "C:\\Users\\Fenin Jose\\AppData\\Local\\Temp\\ipykernel_17548\\574676199.py:17: FutureWarning: The default of observed=False is deprecated and will be changed to True in a future version of pandas. Pass observed=False to retain current behavior or observed=True to adopt the future default and silence this warning.\n",
      "  df_unique = df_new.groupby('name').agg({'lat': 'first', 'lng': 'first'}).reset_index()\n"
     ]
    },
    {
     "name": "stdout",
     "output_type": "stream",
     "text": [
      "Map saved as D:\\df\\maps\\map_1075.html\n",
      "Map saved as D:\\df\\maps\\map_1076.html\n"
     ]
    },
    {
     "name": "stderr",
     "output_type": "stream",
     "text": [
      "C:\\Users\\Fenin Jose\\AppData\\Local\\Temp\\ipykernel_17548\\574676199.py:17: FutureWarning: The default of observed=False is deprecated and will be changed to True in a future version of pandas. Pass observed=False to retain current behavior or observed=True to adopt the future default and silence this warning.\n",
      "  df_unique = df_new.groupby('name').agg({'lat': 'first', 'lng': 'first'}).reset_index()\n",
      "C:\\Users\\Fenin Jose\\AppData\\Local\\Temp\\ipykernel_17548\\574676199.py:17: FutureWarning: The default of observed=False is deprecated and will be changed to True in a future version of pandas. Pass observed=False to retain current behavior or observed=True to adopt the future default and silence this warning.\n",
      "  df_unique = df_new.groupby('name').agg({'lat': 'first', 'lng': 'first'}).reset_index()\n"
     ]
    },
    {
     "name": "stdout",
     "output_type": "stream",
     "text": [
      "Map saved as D:\\df\\maps\\map_1077.html\n",
      "Map saved as D:\\df\\maps\\map_1078.html\n"
     ]
    },
    {
     "name": "stderr",
     "output_type": "stream",
     "text": [
      "C:\\Users\\Fenin Jose\\AppData\\Local\\Temp\\ipykernel_17548\\574676199.py:17: FutureWarning: The default of observed=False is deprecated and will be changed to True in a future version of pandas. Pass observed=False to retain current behavior or observed=True to adopt the future default and silence this warning.\n",
      "  df_unique = df_new.groupby('name').agg({'lat': 'first', 'lng': 'first'}).reset_index()\n",
      "C:\\Users\\Fenin Jose\\AppData\\Local\\Temp\\ipykernel_17548\\574676199.py:17: FutureWarning: The default of observed=False is deprecated and will be changed to True in a future version of pandas. Pass observed=False to retain current behavior or observed=True to adopt the future default and silence this warning.\n",
      "  df_unique = df_new.groupby('name').agg({'lat': 'first', 'lng': 'first'}).reset_index()\n"
     ]
    },
    {
     "name": "stdout",
     "output_type": "stream",
     "text": [
      "Map saved as D:\\df\\maps\\map_1079.html\n",
      "Map saved as D:\\df\\maps\\map_1080.html\n"
     ]
    },
    {
     "name": "stderr",
     "output_type": "stream",
     "text": [
      "C:\\Users\\Fenin Jose\\AppData\\Local\\Temp\\ipykernel_17548\\574676199.py:17: FutureWarning: The default of observed=False is deprecated and will be changed to True in a future version of pandas. Pass observed=False to retain current behavior or observed=True to adopt the future default and silence this warning.\n",
      "  df_unique = df_new.groupby('name').agg({'lat': 'first', 'lng': 'first'}).reset_index()\n",
      "C:\\Users\\Fenin Jose\\AppData\\Local\\Temp\\ipykernel_17548\\574676199.py:17: FutureWarning: The default of observed=False is deprecated and will be changed to True in a future version of pandas. Pass observed=False to retain current behavior or observed=True to adopt the future default and silence this warning.\n",
      "  df_unique = df_new.groupby('name').agg({'lat': 'first', 'lng': 'first'}).reset_index()\n",
      "C:\\Users\\Fenin Jose\\AppData\\Local\\Temp\\ipykernel_17548\\574676199.py:17: FutureWarning: The default of observed=False is deprecated and will be changed to True in a future version of pandas. Pass observed=False to retain current behavior or observed=True to adopt the future default and silence this warning.\n",
      "  df_unique = df_new.groupby('name').agg({'lat': 'first', 'lng': 'first'}).reset_index()\n"
     ]
    },
    {
     "name": "stdout",
     "output_type": "stream",
     "text": [
      "Map saved as D:\\df\\maps\\map_1081.html\n",
      "Map saved as D:\\df\\maps\\map_1082.html\n",
      "Map saved as D:\\df\\maps\\map_1083.html\n"
     ]
    },
    {
     "name": "stderr",
     "output_type": "stream",
     "text": [
      "C:\\Users\\Fenin Jose\\AppData\\Local\\Temp\\ipykernel_17548\\574676199.py:17: FutureWarning: The default of observed=False is deprecated and will be changed to True in a future version of pandas. Pass observed=False to retain current behavior or observed=True to adopt the future default and silence this warning.\n",
      "  df_unique = df_new.groupby('name').agg({'lat': 'first', 'lng': 'first'}).reset_index()\n",
      "C:\\Users\\Fenin Jose\\AppData\\Local\\Temp\\ipykernel_17548\\574676199.py:17: FutureWarning: The default of observed=False is deprecated and will be changed to True in a future version of pandas. Pass observed=False to retain current behavior or observed=True to adopt the future default and silence this warning.\n",
      "  df_unique = df_new.groupby('name').agg({'lat': 'first', 'lng': 'first'}).reset_index()\n",
      "C:\\Users\\Fenin Jose\\AppData\\Local\\Temp\\ipykernel_17548\\574676199.py:17: FutureWarning: The default of observed=False is deprecated and will be changed to True in a future version of pandas. Pass observed=False to retain current behavior or observed=True to adopt the future default and silence this warning.\n",
      "  df_unique = df_new.groupby('name').agg({'lat': 'first', 'lng': 'first'}).reset_index()\n"
     ]
    },
    {
     "name": "stdout",
     "output_type": "stream",
     "text": [
      "Map saved as D:\\df\\maps\\map_1084.html\n",
      "Map saved as D:\\df\\maps\\map_1085.html\n",
      "Map saved as D:\\df\\maps\\map_1086.html\n"
     ]
    },
    {
     "name": "stderr",
     "output_type": "stream",
     "text": [
      "C:\\Users\\Fenin Jose\\AppData\\Local\\Temp\\ipykernel_17548\\574676199.py:17: FutureWarning: The default of observed=False is deprecated and will be changed to True in a future version of pandas. Pass observed=False to retain current behavior or observed=True to adopt the future default and silence this warning.\n",
      "  df_unique = df_new.groupby('name').agg({'lat': 'first', 'lng': 'first'}).reset_index()\n",
      "C:\\Users\\Fenin Jose\\AppData\\Local\\Temp\\ipykernel_17548\\574676199.py:17: FutureWarning: The default of observed=False is deprecated and will be changed to True in a future version of pandas. Pass observed=False to retain current behavior or observed=True to adopt the future default and silence this warning.\n",
      "  df_unique = df_new.groupby('name').agg({'lat': 'first', 'lng': 'first'}).reset_index()\n"
     ]
    },
    {
     "name": "stdout",
     "output_type": "stream",
     "text": [
      "Map saved as D:\\df\\maps\\map_1087.html\n",
      "Map saved as D:\\df\\maps\\map_1088.html\n",
      "Map saved as D:\\df\\maps\\map_1089.html\n"
     ]
    },
    {
     "name": "stderr",
     "output_type": "stream",
     "text": [
      "C:\\Users\\Fenin Jose\\AppData\\Local\\Temp\\ipykernel_17548\\574676199.py:17: FutureWarning: The default of observed=False is deprecated and will be changed to True in a future version of pandas. Pass observed=False to retain current behavior or observed=True to adopt the future default and silence this warning.\n",
      "  df_unique = df_new.groupby('name').agg({'lat': 'first', 'lng': 'first'}).reset_index()\n",
      "C:\\Users\\Fenin Jose\\AppData\\Local\\Temp\\ipykernel_17548\\574676199.py:17: FutureWarning: The default of observed=False is deprecated and will be changed to True in a future version of pandas. Pass observed=False to retain current behavior or observed=True to adopt the future default and silence this warning.\n",
      "  df_unique = df_new.groupby('name').agg({'lat': 'first', 'lng': 'first'}).reset_index()\n"
     ]
    },
    {
     "name": "stdout",
     "output_type": "stream",
     "text": [
      "Map saved as D:\\df\\maps\\map_1090.html\n",
      "Map saved as D:\\df\\maps\\map_1091.html\n"
     ]
    },
    {
     "name": "stderr",
     "output_type": "stream",
     "text": [
      "C:\\Users\\Fenin Jose\\AppData\\Local\\Temp\\ipykernel_17548\\574676199.py:17: FutureWarning: The default of observed=False is deprecated and will be changed to True in a future version of pandas. Pass observed=False to retain current behavior or observed=True to adopt the future default and silence this warning.\n",
      "  df_unique = df_new.groupby('name').agg({'lat': 'first', 'lng': 'first'}).reset_index()\n",
      "C:\\Users\\Fenin Jose\\AppData\\Local\\Temp\\ipykernel_17548\\574676199.py:17: FutureWarning: The default of observed=False is deprecated and will be changed to True in a future version of pandas. Pass observed=False to retain current behavior or observed=True to adopt the future default and silence this warning.\n",
      "  df_unique = df_new.groupby('name').agg({'lat': 'first', 'lng': 'first'}).reset_index()\n"
     ]
    },
    {
     "name": "stdout",
     "output_type": "stream",
     "text": [
      "Map saved as D:\\df\\maps\\map_1092.html\n",
      "Map saved as D:\\df\\maps\\map_1093.html\n"
     ]
    },
    {
     "name": "stderr",
     "output_type": "stream",
     "text": [
      "C:\\Users\\Fenin Jose\\AppData\\Local\\Temp\\ipykernel_17548\\574676199.py:17: FutureWarning: The default of observed=False is deprecated and will be changed to True in a future version of pandas. Pass observed=False to retain current behavior or observed=True to adopt the future default and silence this warning.\n",
      "  df_unique = df_new.groupby('name').agg({'lat': 'first', 'lng': 'first'}).reset_index()\n",
      "C:\\Users\\Fenin Jose\\AppData\\Local\\Temp\\ipykernel_17548\\574676199.py:17: FutureWarning: The default of observed=False is deprecated and will be changed to True in a future version of pandas. Pass observed=False to retain current behavior or observed=True to adopt the future default and silence this warning.\n",
      "  df_unique = df_new.groupby('name').agg({'lat': 'first', 'lng': 'first'}).reset_index()\n",
      "C:\\Users\\Fenin Jose\\AppData\\Local\\Temp\\ipykernel_17548\\574676199.py:17: FutureWarning: The default of observed=False is deprecated and will be changed to True in a future version of pandas. Pass observed=False to retain current behavior or observed=True to adopt the future default and silence this warning.\n",
      "  df_unique = df_new.groupby('name').agg({'lat': 'first', 'lng': 'first'}).reset_index()\n"
     ]
    },
    {
     "name": "stdout",
     "output_type": "stream",
     "text": [
      "Map saved as D:\\df\\maps\\map_1094.html\n",
      "Map saved as D:\\df\\maps\\map_1095.html\n"
     ]
    },
    {
     "name": "stderr",
     "output_type": "stream",
     "text": [
      "C:\\Users\\Fenin Jose\\AppData\\Local\\Temp\\ipykernel_17548\\574676199.py:17: FutureWarning: The default of observed=False is deprecated and will be changed to True in a future version of pandas. Pass observed=False to retain current behavior or observed=True to adopt the future default and silence this warning.\n",
      "  df_unique = df_new.groupby('name').agg({'lat': 'first', 'lng': 'first'}).reset_index()\n",
      "C:\\Users\\Fenin Jose\\AppData\\Local\\Temp\\ipykernel_17548\\574676199.py:17: FutureWarning: The default of observed=False is deprecated and will be changed to True in a future version of pandas. Pass observed=False to retain current behavior or observed=True to adopt the future default and silence this warning.\n",
      "  df_unique = df_new.groupby('name').agg({'lat': 'first', 'lng': 'first'}).reset_index()\n"
     ]
    },
    {
     "name": "stdout",
     "output_type": "stream",
     "text": [
      "Map saved as D:\\df\\maps\\map_1096.html\n",
      "Map saved as D:\\df\\maps\\map_1097.html\n",
      "Map saved as D:\\df\\maps\\map_1098.html\n"
     ]
    },
    {
     "name": "stderr",
     "output_type": "stream",
     "text": [
      "C:\\Users\\Fenin Jose\\AppData\\Local\\Temp\\ipykernel_17548\\574676199.py:17: FutureWarning: The default of observed=False is deprecated and will be changed to True in a future version of pandas. Pass observed=False to retain current behavior or observed=True to adopt the future default and silence this warning.\n",
      "  df_unique = df_new.groupby('name').agg({'lat': 'first', 'lng': 'first'}).reset_index()\n",
      "C:\\Users\\Fenin Jose\\AppData\\Local\\Temp\\ipykernel_17548\\574676199.py:17: FutureWarning: The default of observed=False is deprecated and will be changed to True in a future version of pandas. Pass observed=False to retain current behavior or observed=True to adopt the future default and silence this warning.\n",
      "  df_unique = df_new.groupby('name').agg({'lat': 'first', 'lng': 'first'}).reset_index()\n"
     ]
    },
    {
     "name": "stdout",
     "output_type": "stream",
     "text": [
      "Map saved as D:\\df\\maps\\map_1099.html\n",
      "Map saved as D:\\df\\maps\\map_1100.html\n",
      "Map saved as D:\\df\\maps\\map_1101.html\n"
     ]
    },
    {
     "name": "stderr",
     "output_type": "stream",
     "text": [
      "C:\\Users\\Fenin Jose\\AppData\\Local\\Temp\\ipykernel_17548\\574676199.py:17: FutureWarning: The default of observed=False is deprecated and will be changed to True in a future version of pandas. Pass observed=False to retain current behavior or observed=True to adopt the future default and silence this warning.\n",
      "  df_unique = df_new.groupby('name').agg({'lat': 'first', 'lng': 'first'}).reset_index()\n",
      "C:\\Users\\Fenin Jose\\AppData\\Local\\Temp\\ipykernel_17548\\574676199.py:17: FutureWarning: The default of observed=False is deprecated and will be changed to True in a future version of pandas. Pass observed=False to retain current behavior or observed=True to adopt the future default and silence this warning.\n",
      "  df_unique = df_new.groupby('name').agg({'lat': 'first', 'lng': 'first'}).reset_index()\n",
      "C:\\Users\\Fenin Jose\\AppData\\Local\\Temp\\ipykernel_17548\\574676199.py:17: FutureWarning: The default of observed=False is deprecated and will be changed to True in a future version of pandas. Pass observed=False to retain current behavior or observed=True to adopt the future default and silence this warning.\n",
      "  df_unique = df_new.groupby('name').agg({'lat': 'first', 'lng': 'first'}).reset_index()\n"
     ]
    },
    {
     "name": "stdout",
     "output_type": "stream",
     "text": [
      "Map saved as D:\\df\\maps\\map_1102.html\n",
      "Map saved as D:\\df\\maps\\map_1103.html\n",
      "Map saved as D:\\df\\maps\\map_1104.html\n"
     ]
    },
    {
     "name": "stderr",
     "output_type": "stream",
     "text": [
      "C:\\Users\\Fenin Jose\\AppData\\Local\\Temp\\ipykernel_17548\\574676199.py:17: FutureWarning: The default of observed=False is deprecated and will be changed to True in a future version of pandas. Pass observed=False to retain current behavior or observed=True to adopt the future default and silence this warning.\n",
      "  df_unique = df_new.groupby('name').agg({'lat': 'first', 'lng': 'first'}).reset_index()\n",
      "C:\\Users\\Fenin Jose\\AppData\\Local\\Temp\\ipykernel_17548\\574676199.py:17: FutureWarning: The default of observed=False is deprecated and will be changed to True in a future version of pandas. Pass observed=False to retain current behavior or observed=True to adopt the future default and silence this warning.\n",
      "  df_unique = df_new.groupby('name').agg({'lat': 'first', 'lng': 'first'}).reset_index()\n",
      "C:\\Users\\Fenin Jose\\AppData\\Local\\Temp\\ipykernel_17548\\574676199.py:17: FutureWarning: The default of observed=False is deprecated and will be changed to True in a future version of pandas. Pass observed=False to retain current behavior or observed=True to adopt the future default and silence this warning.\n",
      "  df_unique = df_new.groupby('name').agg({'lat': 'first', 'lng': 'first'}).reset_index()\n"
     ]
    },
    {
     "name": "stdout",
     "output_type": "stream",
     "text": [
      "Map saved as D:\\df\\maps\\map_1105.html\n",
      "Map saved as D:\\df\\maps\\map_1106.html\n",
      "Map saved as D:\\df\\maps\\map_1107.html\n"
     ]
    },
    {
     "name": "stderr",
     "output_type": "stream",
     "text": [
      "C:\\Users\\Fenin Jose\\AppData\\Local\\Temp\\ipykernel_17548\\574676199.py:17: FutureWarning: The default of observed=False is deprecated and will be changed to True in a future version of pandas. Pass observed=False to retain current behavior or observed=True to adopt the future default and silence this warning.\n",
      "  df_unique = df_new.groupby('name').agg({'lat': 'first', 'lng': 'first'}).reset_index()\n",
      "C:\\Users\\Fenin Jose\\AppData\\Local\\Temp\\ipykernel_17548\\574676199.py:17: FutureWarning: The default of observed=False is deprecated and will be changed to True in a future version of pandas. Pass observed=False to retain current behavior or observed=True to adopt the future default and silence this warning.\n",
      "  df_unique = df_new.groupby('name').agg({'lat': 'first', 'lng': 'first'}).reset_index()\n",
      "C:\\Users\\Fenin Jose\\AppData\\Local\\Temp\\ipykernel_17548\\574676199.py:17: FutureWarning: The default of observed=False is deprecated and will be changed to True in a future version of pandas. Pass observed=False to retain current behavior or observed=True to adopt the future default and silence this warning.\n",
      "  df_unique = df_new.groupby('name').agg({'lat': 'first', 'lng': 'first'}).reset_index()\n"
     ]
    },
    {
     "name": "stdout",
     "output_type": "stream",
     "text": [
      "Map saved as D:\\df\\maps\\map_1108.html\n",
      "Map saved as D:\\df\\maps\\map_1109.html\n",
      "Map saved as D:\\df\\maps\\map_1110.html\n"
     ]
    },
    {
     "name": "stderr",
     "output_type": "stream",
     "text": [
      "C:\\Users\\Fenin Jose\\AppData\\Local\\Temp\\ipykernel_17548\\574676199.py:17: FutureWarning: The default of observed=False is deprecated and will be changed to True in a future version of pandas. Pass observed=False to retain current behavior or observed=True to adopt the future default and silence this warning.\n",
      "  df_unique = df_new.groupby('name').agg({'lat': 'first', 'lng': 'first'}).reset_index()\n",
      "C:\\Users\\Fenin Jose\\AppData\\Local\\Temp\\ipykernel_17548\\574676199.py:17: FutureWarning: The default of observed=False is deprecated and will be changed to True in a future version of pandas. Pass observed=False to retain current behavior or observed=True to adopt the future default and silence this warning.\n",
      "  df_unique = df_new.groupby('name').agg({'lat': 'first', 'lng': 'first'}).reset_index()\n",
      "C:\\Users\\Fenin Jose\\AppData\\Local\\Temp\\ipykernel_17548\\574676199.py:17: FutureWarning: The default of observed=False is deprecated and will be changed to True in a future version of pandas. Pass observed=False to retain current behavior or observed=True to adopt the future default and silence this warning.\n",
      "  df_unique = df_new.groupby('name').agg({'lat': 'first', 'lng': 'first'}).reset_index()\n"
     ]
    },
    {
     "name": "stdout",
     "output_type": "stream",
     "text": [
      "Map saved as D:\\df\\maps\\map_1111.html\n",
      "Map saved as D:\\df\\maps\\map_1112.html\n",
      "Map saved as D:\\df\\maps\\map_1113.html\n"
     ]
    },
    {
     "name": "stderr",
     "output_type": "stream",
     "text": [
      "C:\\Users\\Fenin Jose\\AppData\\Local\\Temp\\ipykernel_17548\\574676199.py:17: FutureWarning: The default of observed=False is deprecated and will be changed to True in a future version of pandas. Pass observed=False to retain current behavior or observed=True to adopt the future default and silence this warning.\n",
      "  df_unique = df_new.groupby('name').agg({'lat': 'first', 'lng': 'first'}).reset_index()\n",
      "C:\\Users\\Fenin Jose\\AppData\\Local\\Temp\\ipykernel_17548\\574676199.py:17: FutureWarning: The default of observed=False is deprecated and will be changed to True in a future version of pandas. Pass observed=False to retain current behavior or observed=True to adopt the future default and silence this warning.\n",
      "  df_unique = df_new.groupby('name').agg({'lat': 'first', 'lng': 'first'}).reset_index()\n",
      "C:\\Users\\Fenin Jose\\AppData\\Local\\Temp\\ipykernel_17548\\574676199.py:17: FutureWarning: The default of observed=False is deprecated and will be changed to True in a future version of pandas. Pass observed=False to retain current behavior or observed=True to adopt the future default and silence this warning.\n",
      "  df_unique = df_new.groupby('name').agg({'lat': 'first', 'lng': 'first'}).reset_index()\n"
     ]
    },
    {
     "name": "stdout",
     "output_type": "stream",
     "text": [
      "Map saved as D:\\df\\maps\\map_1114.html\n",
      "Map saved as D:\\df\\maps\\map_1115.html\n",
      "Map saved as D:\\df\\maps\\map_1116.html\n"
     ]
    },
    {
     "name": "stderr",
     "output_type": "stream",
     "text": [
      "C:\\Users\\Fenin Jose\\AppData\\Local\\Temp\\ipykernel_17548\\574676199.py:17: FutureWarning: The default of observed=False is deprecated and will be changed to True in a future version of pandas. Pass observed=False to retain current behavior or observed=True to adopt the future default and silence this warning.\n",
      "  df_unique = df_new.groupby('name').agg({'lat': 'first', 'lng': 'first'}).reset_index()\n",
      "C:\\Users\\Fenin Jose\\AppData\\Local\\Temp\\ipykernel_17548\\574676199.py:17: FutureWarning: The default of observed=False is deprecated and will be changed to True in a future version of pandas. Pass observed=False to retain current behavior or observed=True to adopt the future default and silence this warning.\n",
      "  df_unique = df_new.groupby('name').agg({'lat': 'first', 'lng': 'first'}).reset_index()\n",
      "C:\\Users\\Fenin Jose\\AppData\\Local\\Temp\\ipykernel_17548\\574676199.py:17: FutureWarning: The default of observed=False is deprecated and will be changed to True in a future version of pandas. Pass observed=False to retain current behavior or observed=True to adopt the future default and silence this warning.\n",
      "  df_unique = df_new.groupby('name').agg({'lat': 'first', 'lng': 'first'}).reset_index()\n"
     ]
    },
    {
     "name": "stdout",
     "output_type": "stream",
     "text": [
      "Map saved as D:\\df\\maps\\map_1117.html\n",
      "Map saved as D:\\df\\maps\\map_1118.html\n",
      "Map saved as D:\\df\\maps\\map_1119.html\n"
     ]
    },
    {
     "name": "stderr",
     "output_type": "stream",
     "text": [
      "C:\\Users\\Fenin Jose\\AppData\\Local\\Temp\\ipykernel_17548\\574676199.py:17: FutureWarning: The default of observed=False is deprecated and will be changed to True in a future version of pandas. Pass observed=False to retain current behavior or observed=True to adopt the future default and silence this warning.\n",
      "  df_unique = df_new.groupby('name').agg({'lat': 'first', 'lng': 'first'}).reset_index()\n",
      "C:\\Users\\Fenin Jose\\AppData\\Local\\Temp\\ipykernel_17548\\574676199.py:17: FutureWarning: The default of observed=False is deprecated and will be changed to True in a future version of pandas. Pass observed=False to retain current behavior or observed=True to adopt the future default and silence this warning.\n",
      "  df_unique = df_new.groupby('name').agg({'lat': 'first', 'lng': 'first'}).reset_index()\n",
      "C:\\Users\\Fenin Jose\\AppData\\Local\\Temp\\ipykernel_17548\\574676199.py:17: FutureWarning: The default of observed=False is deprecated and will be changed to True in a future version of pandas. Pass observed=False to retain current behavior or observed=True to adopt the future default and silence this warning.\n",
      "  df_unique = df_new.groupby('name').agg({'lat': 'first', 'lng': 'first'}).reset_index()\n"
     ]
    },
    {
     "name": "stdout",
     "output_type": "stream",
     "text": [
      "Map saved as D:\\df\\maps\\map_1120.html\n",
      "Map saved as D:\\df\\maps\\map_1121.html\n"
     ]
    },
    {
     "name": "stderr",
     "output_type": "stream",
     "text": [
      "C:\\Users\\Fenin Jose\\AppData\\Local\\Temp\\ipykernel_17548\\574676199.py:17: FutureWarning: The default of observed=False is deprecated and will be changed to True in a future version of pandas. Pass observed=False to retain current behavior or observed=True to adopt the future default and silence this warning.\n",
      "  df_unique = df_new.groupby('name').agg({'lat': 'first', 'lng': 'first'}).reset_index()\n",
      "C:\\Users\\Fenin Jose\\AppData\\Local\\Temp\\ipykernel_17548\\574676199.py:17: FutureWarning: The default of observed=False is deprecated and will be changed to True in a future version of pandas. Pass observed=False to retain current behavior or observed=True to adopt the future default and silence this warning.\n",
      "  df_unique = df_new.groupby('name').agg({'lat': 'first', 'lng': 'first'}).reset_index()\n"
     ]
    },
    {
     "name": "stdout",
     "output_type": "stream",
     "text": [
      "Map saved as D:\\df\\maps\\map_1122.html\n",
      "Map saved as D:\\df\\maps\\map_1123.html\n",
      "Map saved as D:\\df\\maps\\map_1124.html\n"
     ]
    },
    {
     "name": "stderr",
     "output_type": "stream",
     "text": [
      "C:\\Users\\Fenin Jose\\AppData\\Local\\Temp\\ipykernel_17548\\574676199.py:17: FutureWarning: The default of observed=False is deprecated and will be changed to True in a future version of pandas. Pass observed=False to retain current behavior or observed=True to adopt the future default and silence this warning.\n",
      "  df_unique = df_new.groupby('name').agg({'lat': 'first', 'lng': 'first'}).reset_index()\n",
      "C:\\Users\\Fenin Jose\\AppData\\Local\\Temp\\ipykernel_17548\\574676199.py:17: FutureWarning: The default of observed=False is deprecated and will be changed to True in a future version of pandas. Pass observed=False to retain current behavior or observed=True to adopt the future default and silence this warning.\n",
      "  df_unique = df_new.groupby('name').agg({'lat': 'first', 'lng': 'first'}).reset_index()\n",
      "C:\\Users\\Fenin Jose\\AppData\\Local\\Temp\\ipykernel_17548\\574676199.py:17: FutureWarning: The default of observed=False is deprecated and will be changed to True in a future version of pandas. Pass observed=False to retain current behavior or observed=True to adopt the future default and silence this warning.\n",
      "  df_unique = df_new.groupby('name').agg({'lat': 'first', 'lng': 'first'}).reset_index()\n"
     ]
    },
    {
     "name": "stdout",
     "output_type": "stream",
     "text": [
      "Map saved as D:\\df\\maps\\map_1125.html\n",
      "Map saved as D:\\df\\maps\\map_1126.html\n",
      "Map saved as D:\\df\\maps\\map_1127.html\n"
     ]
    },
    {
     "name": "stderr",
     "output_type": "stream",
     "text": [
      "C:\\Users\\Fenin Jose\\AppData\\Local\\Temp\\ipykernel_17548\\574676199.py:17: FutureWarning: The default of observed=False is deprecated and will be changed to True in a future version of pandas. Pass observed=False to retain current behavior or observed=True to adopt the future default and silence this warning.\n",
      "  df_unique = df_new.groupby('name').agg({'lat': 'first', 'lng': 'first'}).reset_index()\n",
      "C:\\Users\\Fenin Jose\\AppData\\Local\\Temp\\ipykernel_17548\\574676199.py:17: FutureWarning: The default of observed=False is deprecated and will be changed to True in a future version of pandas. Pass observed=False to retain current behavior or observed=True to adopt the future default and silence this warning.\n",
      "  df_unique = df_new.groupby('name').agg({'lat': 'first', 'lng': 'first'}).reset_index()\n",
      "C:\\Users\\Fenin Jose\\AppData\\Local\\Temp\\ipykernel_17548\\574676199.py:17: FutureWarning: The default of observed=False is deprecated and will be changed to True in a future version of pandas. Pass observed=False to retain current behavior or observed=True to adopt the future default and silence this warning.\n",
      "  df_unique = df_new.groupby('name').agg({'lat': 'first', 'lng': 'first'}).reset_index()\n"
     ]
    },
    {
     "name": "stdout",
     "output_type": "stream",
     "text": [
      "Map saved as D:\\df\\maps\\map_1128.html\n",
      "Map saved as D:\\df\\maps\\map_1129.html\n",
      "Map saved as D:\\df\\maps\\map_1130.html\n"
     ]
    },
    {
     "name": "stderr",
     "output_type": "stream",
     "text": [
      "C:\\Users\\Fenin Jose\\AppData\\Local\\Temp\\ipykernel_17548\\574676199.py:17: FutureWarning: The default of observed=False is deprecated and will be changed to True in a future version of pandas. Pass observed=False to retain current behavior or observed=True to adopt the future default and silence this warning.\n",
      "  df_unique = df_new.groupby('name').agg({'lat': 'first', 'lng': 'first'}).reset_index()\n",
      "C:\\Users\\Fenin Jose\\AppData\\Local\\Temp\\ipykernel_17548\\574676199.py:17: FutureWarning: The default of observed=False is deprecated and will be changed to True in a future version of pandas. Pass observed=False to retain current behavior or observed=True to adopt the future default and silence this warning.\n",
      "  df_unique = df_new.groupby('name').agg({'lat': 'first', 'lng': 'first'}).reset_index()\n",
      "C:\\Users\\Fenin Jose\\AppData\\Local\\Temp\\ipykernel_17548\\574676199.py:17: FutureWarning: The default of observed=False is deprecated and will be changed to True in a future version of pandas. Pass observed=False to retain current behavior or observed=True to adopt the future default and silence this warning.\n",
      "  df_unique = df_new.groupby('name').agg({'lat': 'first', 'lng': 'first'}).reset_index()\n"
     ]
    },
    {
     "name": "stdout",
     "output_type": "stream",
     "text": [
      "Map saved as D:\\df\\maps\\map_1131.html\n",
      "Map saved as D:\\df\\maps\\map_1132.html\n",
      "Map saved as D:\\df\\maps\\map_1133.html\n"
     ]
    },
    {
     "name": "stderr",
     "output_type": "stream",
     "text": [
      "C:\\Users\\Fenin Jose\\AppData\\Local\\Temp\\ipykernel_17548\\574676199.py:17: FutureWarning: The default of observed=False is deprecated and will be changed to True in a future version of pandas. Pass observed=False to retain current behavior or observed=True to adopt the future default and silence this warning.\n",
      "  df_unique = df_new.groupby('name').agg({'lat': 'first', 'lng': 'first'}).reset_index()\n",
      "C:\\Users\\Fenin Jose\\AppData\\Local\\Temp\\ipykernel_17548\\574676199.py:17: FutureWarning: The default of observed=False is deprecated and will be changed to True in a future version of pandas. Pass observed=False to retain current behavior or observed=True to adopt the future default and silence this warning.\n",
      "  df_unique = df_new.groupby('name').agg({'lat': 'first', 'lng': 'first'}).reset_index()\n",
      "C:\\Users\\Fenin Jose\\AppData\\Local\\Temp\\ipykernel_17548\\574676199.py:17: FutureWarning: The default of observed=False is deprecated and will be changed to True in a future version of pandas. Pass observed=False to retain current behavior or observed=True to adopt the future default and silence this warning.\n",
      "  df_unique = df_new.groupby('name').agg({'lat': 'first', 'lng': 'first'}).reset_index()\n"
     ]
    },
    {
     "name": "stdout",
     "output_type": "stream",
     "text": [
      "Map saved as D:\\df\\maps\\map_1134.html\n",
      "Map saved as D:\\df\\maps\\map_1135.html\n"
     ]
    },
    {
     "name": "stderr",
     "output_type": "stream",
     "text": [
      "C:\\Users\\Fenin Jose\\AppData\\Local\\Temp\\ipykernel_17548\\574676199.py:17: FutureWarning: The default of observed=False is deprecated and will be changed to True in a future version of pandas. Pass observed=False to retain current behavior or observed=True to adopt the future default and silence this warning.\n",
      "  df_unique = df_new.groupby('name').agg({'lat': 'first', 'lng': 'first'}).reset_index()\n",
      "C:\\Users\\Fenin Jose\\AppData\\Local\\Temp\\ipykernel_17548\\574676199.py:17: FutureWarning: The default of observed=False is deprecated and will be changed to True in a future version of pandas. Pass observed=False to retain current behavior or observed=True to adopt the future default and silence this warning.\n",
      "  df_unique = df_new.groupby('name').agg({'lat': 'first', 'lng': 'first'}).reset_index()\n"
     ]
    },
    {
     "name": "stdout",
     "output_type": "stream",
     "text": [
      "Map saved as D:\\df\\maps\\map_1136.html\n",
      "Map saved as D:\\df\\maps\\map_1137.html\n"
     ]
    },
    {
     "name": "stderr",
     "output_type": "stream",
     "text": [
      "C:\\Users\\Fenin Jose\\AppData\\Local\\Temp\\ipykernel_17548\\574676199.py:17: FutureWarning: The default of observed=False is deprecated and will be changed to True in a future version of pandas. Pass observed=False to retain current behavior or observed=True to adopt the future default and silence this warning.\n",
      "  df_unique = df_new.groupby('name').agg({'lat': 'first', 'lng': 'first'}).reset_index()\n",
      "C:\\Users\\Fenin Jose\\AppData\\Local\\Temp\\ipykernel_17548\\574676199.py:17: FutureWarning: The default of observed=False is deprecated and will be changed to True in a future version of pandas. Pass observed=False to retain current behavior or observed=True to adopt the future default and silence this warning.\n",
      "  df_unique = df_new.groupby('name').agg({'lat': 'first', 'lng': 'first'}).reset_index()\n"
     ]
    },
    {
     "name": "stdout",
     "output_type": "stream",
     "text": [
      "Map saved as D:\\df\\maps\\map_1138.html\n",
      "Map saved as D:\\df\\maps\\map_1139.html\n",
      "Map saved as D:\\df\\maps\\map_1140.html\n"
     ]
    },
    {
     "name": "stderr",
     "output_type": "stream",
     "text": [
      "C:\\Users\\Fenin Jose\\AppData\\Local\\Temp\\ipykernel_17548\\574676199.py:17: FutureWarning: The default of observed=False is deprecated and will be changed to True in a future version of pandas. Pass observed=False to retain current behavior or observed=True to adopt the future default and silence this warning.\n",
      "  df_unique = df_new.groupby('name').agg({'lat': 'first', 'lng': 'first'}).reset_index()\n",
      "C:\\Users\\Fenin Jose\\AppData\\Local\\Temp\\ipykernel_17548\\574676199.py:17: FutureWarning: The default of observed=False is deprecated and will be changed to True in a future version of pandas. Pass observed=False to retain current behavior or observed=True to adopt the future default and silence this warning.\n",
      "  df_unique = df_new.groupby('name').agg({'lat': 'first', 'lng': 'first'}).reset_index()\n",
      "C:\\Users\\Fenin Jose\\AppData\\Local\\Temp\\ipykernel_17548\\574676199.py:17: FutureWarning: The default of observed=False is deprecated and will be changed to True in a future version of pandas. Pass observed=False to retain current behavior or observed=True to adopt the future default and silence this warning.\n",
      "  df_unique = df_new.groupby('name').agg({'lat': 'first', 'lng': 'first'}).reset_index()\n"
     ]
    },
    {
     "name": "stdout",
     "output_type": "stream",
     "text": [
      "Map saved as D:\\df\\maps\\map_1141.html\n"
     ]
    },
    {
     "name": "stderr",
     "output_type": "stream",
     "text": [
      "C:\\Users\\Fenin Jose\\AppData\\Local\\Temp\\ipykernel_17548\\574676199.py:17: FutureWarning: The default of observed=False is deprecated and will be changed to True in a future version of pandas. Pass observed=False to retain current behavior or observed=True to adopt the future default and silence this warning.\n",
      "  df_unique = df_new.groupby('name').agg({'lat': 'first', 'lng': 'first'}).reset_index()\n"
     ]
    },
    {
     "name": "stdout",
     "output_type": "stream",
     "text": [
      "Map saved as D:\\df\\maps\\map_1142.html\n",
      "Map saved as D:\\df\\maps\\map_1143.html\n",
      "Map saved as D:\\df\\maps\\map_1144.html\n"
     ]
    },
    {
     "name": "stderr",
     "output_type": "stream",
     "text": [
      "C:\\Users\\Fenin Jose\\AppData\\Local\\Temp\\ipykernel_17548\\574676199.py:17: FutureWarning: The default of observed=False is deprecated and will be changed to True in a future version of pandas. Pass observed=False to retain current behavior or observed=True to adopt the future default and silence this warning.\n",
      "  df_unique = df_new.groupby('name').agg({'lat': 'first', 'lng': 'first'}).reset_index()\n",
      "C:\\Users\\Fenin Jose\\AppData\\Local\\Temp\\ipykernel_17548\\574676199.py:17: FutureWarning: The default of observed=False is deprecated and will be changed to True in a future version of pandas. Pass observed=False to retain current behavior or observed=True to adopt the future default and silence this warning.\n",
      "  df_unique = df_new.groupby('name').agg({'lat': 'first', 'lng': 'first'}).reset_index()\n",
      "C:\\Users\\Fenin Jose\\AppData\\Local\\Temp\\ipykernel_17548\\574676199.py:17: FutureWarning: The default of observed=False is deprecated and will be changed to True in a future version of pandas. Pass observed=False to retain current behavior or observed=True to adopt the future default and silence this warning.\n",
      "  df_unique = df_new.groupby('name').agg({'lat': 'first', 'lng': 'first'}).reset_index()\n",
      "C:\\Users\\Fenin Jose\\AppData\\Local\\Temp\\ipykernel_17548\\574676199.py:17: FutureWarning: The default of observed=False is deprecated and will be changed to True in a future version of pandas. Pass observed=False to retain current behavior or observed=True to adopt the future default and silence this warning.\n",
      "  df_unique = df_new.groupby('name').agg({'lat': 'first', 'lng': 'first'}).reset_index()\n"
     ]
    },
    {
     "name": "stdout",
     "output_type": "stream",
     "text": [
      "Map saved as D:\\df\\maps\\map_1145.html\n",
      "Map saved as D:\\df\\maps\\map_1146.html\n"
     ]
    },
    {
     "name": "stderr",
     "output_type": "stream",
     "text": [
      "C:\\Users\\Fenin Jose\\AppData\\Local\\Temp\\ipykernel_17548\\574676199.py:17: FutureWarning: The default of observed=False is deprecated and will be changed to True in a future version of pandas. Pass observed=False to retain current behavior or observed=True to adopt the future default and silence this warning.\n",
      "  df_unique = df_new.groupby('name').agg({'lat': 'first', 'lng': 'first'}).reset_index()\n",
      "C:\\Users\\Fenin Jose\\AppData\\Local\\Temp\\ipykernel_17548\\574676199.py:17: FutureWarning: The default of observed=False is deprecated and will be changed to True in a future version of pandas. Pass observed=False to retain current behavior or observed=True to adopt the future default and silence this warning.\n",
      "  df_unique = df_new.groupby('name').agg({'lat': 'first', 'lng': 'first'}).reset_index()\n",
      "C:\\Users\\Fenin Jose\\AppData\\Local\\Temp\\ipykernel_17548\\574676199.py:17: FutureWarning: The default of observed=False is deprecated and will be changed to True in a future version of pandas. Pass observed=False to retain current behavior or observed=True to adopt the future default and silence this warning.\n",
      "  df_unique = df_new.groupby('name').agg({'lat': 'first', 'lng': 'first'}).reset_index()\n"
     ]
    },
    {
     "name": "stdout",
     "output_type": "stream",
     "text": [
      "Map saved as D:\\df\\maps\\map_1147.html\n",
      "Map saved as D:\\df\\maps\\map_1148.html\n",
      "Map saved as D:\\df\\maps\\map_1149.html\n"
     ]
    },
    {
     "name": "stderr",
     "output_type": "stream",
     "text": [
      "C:\\Users\\Fenin Jose\\AppData\\Local\\Temp\\ipykernel_17548\\574676199.py:17: FutureWarning: The default of observed=False is deprecated and will be changed to True in a future version of pandas. Pass observed=False to retain current behavior or observed=True to adopt the future default and silence this warning.\n",
      "  df_unique = df_new.groupby('name').agg({'lat': 'first', 'lng': 'first'}).reset_index()\n",
      "C:\\Users\\Fenin Jose\\AppData\\Local\\Temp\\ipykernel_17548\\574676199.py:17: FutureWarning: The default of observed=False is deprecated and will be changed to True in a future version of pandas. Pass observed=False to retain current behavior or observed=True to adopt the future default and silence this warning.\n",
      "  df_unique = df_new.groupby('name').agg({'lat': 'first', 'lng': 'first'}).reset_index()\n",
      "C:\\Users\\Fenin Jose\\AppData\\Local\\Temp\\ipykernel_17548\\574676199.py:17: FutureWarning: The default of observed=False is deprecated and will be changed to True in a future version of pandas. Pass observed=False to retain current behavior or observed=True to adopt the future default and silence this warning.\n",
      "  df_unique = df_new.groupby('name').agg({'lat': 'first', 'lng': 'first'}).reset_index()\n"
     ]
    },
    {
     "name": "stdout",
     "output_type": "stream",
     "text": [
      "Map saved as D:\\df\\maps\\map_1150.html\n",
      "Map saved as D:\\df\\maps\\map_1151.html\n",
      "Map saved as D:\\df\\maps\\map_1152.html\n"
     ]
    },
    {
     "name": "stderr",
     "output_type": "stream",
     "text": [
      "C:\\Users\\Fenin Jose\\AppData\\Local\\Temp\\ipykernel_17548\\574676199.py:17: FutureWarning: The default of observed=False is deprecated and will be changed to True in a future version of pandas. Pass observed=False to retain current behavior or observed=True to adopt the future default and silence this warning.\n",
      "  df_unique = df_new.groupby('name').agg({'lat': 'first', 'lng': 'first'}).reset_index()\n",
      "C:\\Users\\Fenin Jose\\AppData\\Local\\Temp\\ipykernel_17548\\574676199.py:17: FutureWarning: The default of observed=False is deprecated and will be changed to True in a future version of pandas. Pass observed=False to retain current behavior or observed=True to adopt the future default and silence this warning.\n",
      "  df_unique = df_new.groupby('name').agg({'lat': 'first', 'lng': 'first'}).reset_index()\n",
      "C:\\Users\\Fenin Jose\\AppData\\Local\\Temp\\ipykernel_17548\\574676199.py:17: FutureWarning: The default of observed=False is deprecated and will be changed to True in a future version of pandas. Pass observed=False to retain current behavior or observed=True to adopt the future default and silence this warning.\n",
      "  df_unique = df_new.groupby('name').agg({'lat': 'first', 'lng': 'first'}).reset_index()\n"
     ]
    },
    {
     "name": "stdout",
     "output_type": "stream",
     "text": [
      "Map saved as D:\\df\\maps\\map_1153.html\n",
      "Map saved as D:\\df\\maps\\map_1154.html\n",
      "Map saved as D:\\df\\maps\\map_1155.html\n"
     ]
    },
    {
     "name": "stderr",
     "output_type": "stream",
     "text": [
      "C:\\Users\\Fenin Jose\\AppData\\Local\\Temp\\ipykernel_17548\\574676199.py:17: FutureWarning: The default of observed=False is deprecated and will be changed to True in a future version of pandas. Pass observed=False to retain current behavior or observed=True to adopt the future default and silence this warning.\n",
      "  df_unique = df_new.groupby('name').agg({'lat': 'first', 'lng': 'first'}).reset_index()\n",
      "C:\\Users\\Fenin Jose\\AppData\\Local\\Temp\\ipykernel_17548\\574676199.py:17: FutureWarning: The default of observed=False is deprecated and will be changed to True in a future version of pandas. Pass observed=False to retain current behavior or observed=True to adopt the future default and silence this warning.\n",
      "  df_unique = df_new.groupby('name').agg({'lat': 'first', 'lng': 'first'}).reset_index()\n",
      "C:\\Users\\Fenin Jose\\AppData\\Local\\Temp\\ipykernel_17548\\574676199.py:17: FutureWarning: The default of observed=False is deprecated and will be changed to True in a future version of pandas. Pass observed=False to retain current behavior or observed=True to adopt the future default and silence this warning.\n",
      "  df_unique = df_new.groupby('name').agg({'lat': 'first', 'lng': 'first'}).reset_index()\n"
     ]
    },
    {
     "name": "stdout",
     "output_type": "stream",
     "text": [
      "Map saved as D:\\df\\maps\\map_1156.html\n",
      "Map saved as D:\\df\\maps\\map_1157.html\n",
      "Map saved as D:\\df\\maps\\map_1158.html\n",
      "Map saved as D:\\df\\maps\\map_1159.html\n",
      "Map saved as D:\\df\\maps\\map_1160.html\n"
     ]
    },
    {
     "name": "stderr",
     "output_type": "stream",
     "text": [
      "C:\\Users\\Fenin Jose\\AppData\\Local\\Temp\\ipykernel_17548\\574676199.py:17: FutureWarning: The default of observed=False is deprecated and will be changed to True in a future version of pandas. Pass observed=False to retain current behavior or observed=True to adopt the future default and silence this warning.\n",
      "  df_unique = df_new.groupby('name').agg({'lat': 'first', 'lng': 'first'}).reset_index()\n",
      "C:\\Users\\Fenin Jose\\AppData\\Local\\Temp\\ipykernel_17548\\574676199.py:17: FutureWarning: The default of observed=False is deprecated and will be changed to True in a future version of pandas. Pass observed=False to retain current behavior or observed=True to adopt the future default and silence this warning.\n",
      "  df_unique = df_new.groupby('name').agg({'lat': 'first', 'lng': 'first'}).reset_index()\n",
      "C:\\Users\\Fenin Jose\\AppData\\Local\\Temp\\ipykernel_17548\\574676199.py:17: FutureWarning: The default of observed=False is deprecated and will be changed to True in a future version of pandas. Pass observed=False to retain current behavior or observed=True to adopt the future default and silence this warning.\n",
      "  df_unique = df_new.groupby('name').agg({'lat': 'first', 'lng': 'first'}).reset_index()\n"
     ]
    },
    {
     "name": "stdout",
     "output_type": "stream",
     "text": [
      "Map saved as D:\\df\\maps\\map_1161.html\n",
      "Map saved as D:\\df\\maps\\map_1162.html\n"
     ]
    },
    {
     "name": "stderr",
     "output_type": "stream",
     "text": [
      "C:\\Users\\Fenin Jose\\AppData\\Local\\Temp\\ipykernel_17548\\574676199.py:17: FutureWarning: The default of observed=False is deprecated and will be changed to True in a future version of pandas. Pass observed=False to retain current behavior or observed=True to adopt the future default and silence this warning.\n",
      "  df_unique = df_new.groupby('name').agg({'lat': 'first', 'lng': 'first'}).reset_index()\n",
      "C:\\Users\\Fenin Jose\\AppData\\Local\\Temp\\ipykernel_17548\\574676199.py:17: FutureWarning: The default of observed=False is deprecated and will be changed to True in a future version of pandas. Pass observed=False to retain current behavior or observed=True to adopt the future default and silence this warning.\n",
      "  df_unique = df_new.groupby('name').agg({'lat': 'first', 'lng': 'first'}).reset_index()\n"
     ]
    },
    {
     "name": "stdout",
     "output_type": "stream",
     "text": [
      "Map saved as D:\\df\\maps\\map_1163.html\n",
      "Map saved as D:\\df\\maps\\map_1164.html\n",
      "Map saved as D:\\df\\maps\\map_1165.html\n"
     ]
    },
    {
     "name": "stderr",
     "output_type": "stream",
     "text": [
      "C:\\Users\\Fenin Jose\\AppData\\Local\\Temp\\ipykernel_17548\\574676199.py:17: FutureWarning: The default of observed=False is deprecated and will be changed to True in a future version of pandas. Pass observed=False to retain current behavior or observed=True to adopt the future default and silence this warning.\n",
      "  df_unique = df_new.groupby('name').agg({'lat': 'first', 'lng': 'first'}).reset_index()\n",
      "C:\\Users\\Fenin Jose\\AppData\\Local\\Temp\\ipykernel_17548\\574676199.py:17: FutureWarning: The default of observed=False is deprecated and will be changed to True in a future version of pandas. Pass observed=False to retain current behavior or observed=True to adopt the future default and silence this warning.\n",
      "  df_unique = df_new.groupby('name').agg({'lat': 'first', 'lng': 'first'}).reset_index()\n",
      "C:\\Users\\Fenin Jose\\AppData\\Local\\Temp\\ipykernel_17548\\574676199.py:17: FutureWarning: The default of observed=False is deprecated and will be changed to True in a future version of pandas. Pass observed=False to retain current behavior or observed=True to adopt the future default and silence this warning.\n",
      "  df_unique = df_new.groupby('name').agg({'lat': 'first', 'lng': 'first'}).reset_index()\n"
     ]
    },
    {
     "name": "stdout",
     "output_type": "stream",
     "text": [
      "Map saved as D:\\df\\maps\\map_1166.html\n",
      "Map saved as D:\\df\\maps\\map_1167.html\n",
      "Map saved as D:\\df\\maps\\map_1168.html\n"
     ]
    },
    {
     "name": "stderr",
     "output_type": "stream",
     "text": [
      "C:\\Users\\Fenin Jose\\AppData\\Local\\Temp\\ipykernel_17548\\574676199.py:17: FutureWarning: The default of observed=False is deprecated and will be changed to True in a future version of pandas. Pass observed=False to retain current behavior or observed=True to adopt the future default and silence this warning.\n",
      "  df_unique = df_new.groupby('name').agg({'lat': 'first', 'lng': 'first'}).reset_index()\n",
      "C:\\Users\\Fenin Jose\\AppData\\Local\\Temp\\ipykernel_17548\\574676199.py:17: FutureWarning: The default of observed=False is deprecated and will be changed to True in a future version of pandas. Pass observed=False to retain current behavior or observed=True to adopt the future default and silence this warning.\n",
      "  df_unique = df_new.groupby('name').agg({'lat': 'first', 'lng': 'first'}).reset_index()\n",
      "C:\\Users\\Fenin Jose\\AppData\\Local\\Temp\\ipykernel_17548\\574676199.py:17: FutureWarning: The default of observed=False is deprecated and will be changed to True in a future version of pandas. Pass observed=False to retain current behavior or observed=True to adopt the future default and silence this warning.\n",
      "  df_unique = df_new.groupby('name').agg({'lat': 'first', 'lng': 'first'}).reset_index()\n"
     ]
    },
    {
     "name": "stdout",
     "output_type": "stream",
     "text": [
      "Map saved as D:\\df\\maps\\map_1169.html\n",
      "Map saved as D:\\df\\maps\\map_1170.html\n",
      "Map saved as D:\\df\\maps\\map_1171.html\n"
     ]
    },
    {
     "name": "stderr",
     "output_type": "stream",
     "text": [
      "C:\\Users\\Fenin Jose\\AppData\\Local\\Temp\\ipykernel_17548\\574676199.py:17: FutureWarning: The default of observed=False is deprecated and will be changed to True in a future version of pandas. Pass observed=False to retain current behavior or observed=True to adopt the future default and silence this warning.\n",
      "  df_unique = df_new.groupby('name').agg({'lat': 'first', 'lng': 'first'}).reset_index()\n",
      "C:\\Users\\Fenin Jose\\AppData\\Local\\Temp\\ipykernel_17548\\574676199.py:17: FutureWarning: The default of observed=False is deprecated and will be changed to True in a future version of pandas. Pass observed=False to retain current behavior or observed=True to adopt the future default and silence this warning.\n",
      "  df_unique = df_new.groupby('name').agg({'lat': 'first', 'lng': 'first'}).reset_index()\n",
      "C:\\Users\\Fenin Jose\\AppData\\Local\\Temp\\ipykernel_17548\\574676199.py:17: FutureWarning: The default of observed=False is deprecated and will be changed to True in a future version of pandas. Pass observed=False to retain current behavior or observed=True to adopt the future default and silence this warning.\n",
      "  df_unique = df_new.groupby('name').agg({'lat': 'first', 'lng': 'first'}).reset_index()\n",
      "C:\\Users\\Fenin Jose\\AppData\\Local\\Temp\\ipykernel_17548\\574676199.py:17: FutureWarning: The default of observed=False is deprecated and will be changed to True in a future version of pandas. Pass observed=False to retain current behavior or observed=True to adopt the future default and silence this warning.\n",
      "  df_unique = df_new.groupby('name').agg({'lat': 'first', 'lng': 'first'}).reset_index()\n",
      "C:\\Users\\Fenin Jose\\AppData\\Local\\Temp\\ipykernel_17548\\574676199.py:17: FutureWarning: The default of observed=False is deprecated and will be changed to True in a future version of pandas. Pass observed=False to retain current behavior or observed=True to adopt the future default and silence this warning.\n",
      "  df_unique = df_new.groupby('name').agg({'lat': 'first', 'lng': 'first'}).reset_index()\n"
     ]
    },
    {
     "name": "stdout",
     "output_type": "stream",
     "text": [
      "Map saved as D:\\df\\maps\\map_1172.html\n",
      "Map saved as D:\\df\\maps\\map_1173.html\n",
      "Map saved as D:\\df\\maps\\map_1174.html\n"
     ]
    },
    {
     "name": "stderr",
     "output_type": "stream",
     "text": [
      "C:\\Users\\Fenin Jose\\AppData\\Local\\Temp\\ipykernel_17548\\574676199.py:17: FutureWarning: The default of observed=False is deprecated and will be changed to True in a future version of pandas. Pass observed=False to retain current behavior or observed=True to adopt the future default and silence this warning.\n",
      "  df_unique = df_new.groupby('name').agg({'lat': 'first', 'lng': 'first'}).reset_index()\n",
      "C:\\Users\\Fenin Jose\\AppData\\Local\\Temp\\ipykernel_17548\\574676199.py:17: FutureWarning: The default of observed=False is deprecated and will be changed to True in a future version of pandas. Pass observed=False to retain current behavior or observed=True to adopt the future default and silence this warning.\n",
      "  df_unique = df_new.groupby('name').agg({'lat': 'first', 'lng': 'first'}).reset_index()\n"
     ]
    },
    {
     "name": "stdout",
     "output_type": "stream",
     "text": [
      "Map saved as D:\\df\\maps\\map_1175.html\n",
      "Map saved as D:\\df\\maps\\map_1176.html\n"
     ]
    },
    {
     "name": "stderr",
     "output_type": "stream",
     "text": [
      "C:\\Users\\Fenin Jose\\AppData\\Local\\Temp\\ipykernel_17548\\574676199.py:17: FutureWarning: The default of observed=False is deprecated and will be changed to True in a future version of pandas. Pass observed=False to retain current behavior or observed=True to adopt the future default and silence this warning.\n",
      "  df_unique = df_new.groupby('name').agg({'lat': 'first', 'lng': 'first'}).reset_index()\n",
      "C:\\Users\\Fenin Jose\\AppData\\Local\\Temp\\ipykernel_17548\\574676199.py:17: FutureWarning: The default of observed=False is deprecated and will be changed to True in a future version of pandas. Pass observed=False to retain current behavior or observed=True to adopt the future default and silence this warning.\n",
      "  df_unique = df_new.groupby('name').agg({'lat': 'first', 'lng': 'first'}).reset_index()\n",
      "C:\\Users\\Fenin Jose\\AppData\\Local\\Temp\\ipykernel_17548\\574676199.py:17: FutureWarning: The default of observed=False is deprecated and will be changed to True in a future version of pandas. Pass observed=False to retain current behavior or observed=True to adopt the future default and silence this warning.\n",
      "  df_unique = df_new.groupby('name').agg({'lat': 'first', 'lng': 'first'}).reset_index()\n"
     ]
    },
    {
     "name": "stdout",
     "output_type": "stream",
     "text": [
      "Map saved as D:\\df\\maps\\map_1177.html\n",
      "Map saved as D:\\df\\maps\\map_1178.html\n",
      "Map saved as D:\\df\\maps\\map_1179.html\n",
      "Map saved as D:\\df\\maps\\map_1180.html\n"
     ]
    },
    {
     "name": "stderr",
     "output_type": "stream",
     "text": [
      "C:\\Users\\Fenin Jose\\AppData\\Local\\Temp\\ipykernel_17548\\574676199.py:17: FutureWarning: The default of observed=False is deprecated and will be changed to True in a future version of pandas. Pass observed=False to retain current behavior or observed=True to adopt the future default and silence this warning.\n",
      "  df_unique = df_new.groupby('name').agg({'lat': 'first', 'lng': 'first'}).reset_index()\n",
      "C:\\Users\\Fenin Jose\\AppData\\Local\\Temp\\ipykernel_17548\\574676199.py:17: FutureWarning: The default of observed=False is deprecated and will be changed to True in a future version of pandas. Pass observed=False to retain current behavior or observed=True to adopt the future default and silence this warning.\n",
      "  df_unique = df_new.groupby('name').agg({'lat': 'first', 'lng': 'first'}).reset_index()\n"
     ]
    },
    {
     "name": "stdout",
     "output_type": "stream",
     "text": [
      "Map saved as D:\\df\\maps\\map_1181.html\n",
      "Map saved as D:\\df\\maps\\map_1182.html\n",
      "Map saved as D:\\df\\maps\\map_1183.html\n"
     ]
    },
    {
     "name": "stderr",
     "output_type": "stream",
     "text": [
      "C:\\Users\\Fenin Jose\\AppData\\Local\\Temp\\ipykernel_17548\\574676199.py:17: FutureWarning: The default of observed=False is deprecated and will be changed to True in a future version of pandas. Pass observed=False to retain current behavior or observed=True to adopt the future default and silence this warning.\n",
      "  df_unique = df_new.groupby('name').agg({'lat': 'first', 'lng': 'first'}).reset_index()\n",
      "C:\\Users\\Fenin Jose\\AppData\\Local\\Temp\\ipykernel_17548\\574676199.py:17: FutureWarning: The default of observed=False is deprecated and will be changed to True in a future version of pandas. Pass observed=False to retain current behavior or observed=True to adopt the future default and silence this warning.\n",
      "  df_unique = df_new.groupby('name').agg({'lat': 'first', 'lng': 'first'}).reset_index()\n",
      "C:\\Users\\Fenin Jose\\AppData\\Local\\Temp\\ipykernel_17548\\574676199.py:17: FutureWarning: The default of observed=False is deprecated and will be changed to True in a future version of pandas. Pass observed=False to retain current behavior or observed=True to adopt the future default and silence this warning.\n",
      "  df_unique = df_new.groupby('name').agg({'lat': 'first', 'lng': 'first'}).reset_index()\n"
     ]
    },
    {
     "name": "stdout",
     "output_type": "stream",
     "text": [
      "Map saved as D:\\df\\maps\\map_1184.html\n",
      "Map saved as D:\\df\\maps\\map_1185.html\n"
     ]
    },
    {
     "name": "stderr",
     "output_type": "stream",
     "text": [
      "C:\\Users\\Fenin Jose\\AppData\\Local\\Temp\\ipykernel_17548\\574676199.py:17: FutureWarning: The default of observed=False is deprecated and will be changed to True in a future version of pandas. Pass observed=False to retain current behavior or observed=True to adopt the future default and silence this warning.\n",
      "  df_unique = df_new.groupby('name').agg({'lat': 'first', 'lng': 'first'}).reset_index()\n",
      "C:\\Users\\Fenin Jose\\AppData\\Local\\Temp\\ipykernel_17548\\574676199.py:17: FutureWarning: The default of observed=False is deprecated and will be changed to True in a future version of pandas. Pass observed=False to retain current behavior or observed=True to adopt the future default and silence this warning.\n",
      "  df_unique = df_new.groupby('name').agg({'lat': 'first', 'lng': 'first'}).reset_index()\n"
     ]
    },
    {
     "name": "stdout",
     "output_type": "stream",
     "text": [
      "Map saved as D:\\df\\maps\\map_1186.html\n",
      "Map saved as D:\\df\\maps\\map_1187.html\n",
      "Map saved as D:\\df\\maps\\map_1188.html\n"
     ]
    },
    {
     "name": "stderr",
     "output_type": "stream",
     "text": [
      "C:\\Users\\Fenin Jose\\AppData\\Local\\Temp\\ipykernel_17548\\574676199.py:17: FutureWarning: The default of observed=False is deprecated and will be changed to True in a future version of pandas. Pass observed=False to retain current behavior or observed=True to adopt the future default and silence this warning.\n",
      "  df_unique = df_new.groupby('name').agg({'lat': 'first', 'lng': 'first'}).reset_index()\n",
      "C:\\Users\\Fenin Jose\\AppData\\Local\\Temp\\ipykernel_17548\\574676199.py:17: FutureWarning: The default of observed=False is deprecated and will be changed to True in a future version of pandas. Pass observed=False to retain current behavior or observed=True to adopt the future default and silence this warning.\n",
      "  df_unique = df_new.groupby('name').agg({'lat': 'first', 'lng': 'first'}).reset_index()\n",
      "C:\\Users\\Fenin Jose\\AppData\\Local\\Temp\\ipykernel_17548\\574676199.py:17: FutureWarning: The default of observed=False is deprecated and will be changed to True in a future version of pandas. Pass observed=False to retain current behavior or observed=True to adopt the future default and silence this warning.\n",
      "  df_unique = df_new.groupby('name').agg({'lat': 'first', 'lng': 'first'}).reset_index()\n"
     ]
    },
    {
     "name": "stdout",
     "output_type": "stream",
     "text": [
      "Map saved as D:\\df\\maps\\map_1189.html\n",
      "Map saved as D:\\df\\maps\\map_1190.html\n",
      "Map saved as D:\\df\\maps\\map_1191.html\n"
     ]
    },
    {
     "name": "stderr",
     "output_type": "stream",
     "text": [
      "C:\\Users\\Fenin Jose\\AppData\\Local\\Temp\\ipykernel_17548\\574676199.py:17: FutureWarning: The default of observed=False is deprecated and will be changed to True in a future version of pandas. Pass observed=False to retain current behavior or observed=True to adopt the future default and silence this warning.\n",
      "  df_unique = df_new.groupby('name').agg({'lat': 'first', 'lng': 'first'}).reset_index()\n",
      "C:\\Users\\Fenin Jose\\AppData\\Local\\Temp\\ipykernel_17548\\574676199.py:17: FutureWarning: The default of observed=False is deprecated and will be changed to True in a future version of pandas. Pass observed=False to retain current behavior or observed=True to adopt the future default and silence this warning.\n",
      "  df_unique = df_new.groupby('name').agg({'lat': 'first', 'lng': 'first'}).reset_index()\n",
      "C:\\Users\\Fenin Jose\\AppData\\Local\\Temp\\ipykernel_17548\\574676199.py:17: FutureWarning: The default of observed=False is deprecated and will be changed to True in a future version of pandas. Pass observed=False to retain current behavior or observed=True to adopt the future default and silence this warning.\n",
      "  df_unique = df_new.groupby('name').agg({'lat': 'first', 'lng': 'first'}).reset_index()\n"
     ]
    },
    {
     "name": "stdout",
     "output_type": "stream",
     "text": [
      "Map saved as D:\\df\\maps\\map_1192.html\n",
      "Map saved as D:\\df\\maps\\map_1193.html\n",
      "Map saved as D:\\df\\maps\\map_1194.html\n"
     ]
    },
    {
     "name": "stderr",
     "output_type": "stream",
     "text": [
      "C:\\Users\\Fenin Jose\\AppData\\Local\\Temp\\ipykernel_17548\\574676199.py:17: FutureWarning: The default of observed=False is deprecated and will be changed to True in a future version of pandas. Pass observed=False to retain current behavior or observed=True to adopt the future default and silence this warning.\n",
      "  df_unique = df_new.groupby('name').agg({'lat': 'first', 'lng': 'first'}).reset_index()\n",
      "C:\\Users\\Fenin Jose\\AppData\\Local\\Temp\\ipykernel_17548\\574676199.py:17: FutureWarning: The default of observed=False is deprecated and will be changed to True in a future version of pandas. Pass observed=False to retain current behavior or observed=True to adopt the future default and silence this warning.\n",
      "  df_unique = df_new.groupby('name').agg({'lat': 'first', 'lng': 'first'}).reset_index()\n",
      "C:\\Users\\Fenin Jose\\AppData\\Local\\Temp\\ipykernel_17548\\574676199.py:17: FutureWarning: The default of observed=False is deprecated and will be changed to True in a future version of pandas. Pass observed=False to retain current behavior or observed=True to adopt the future default and silence this warning.\n",
      "  df_unique = df_new.groupby('name').agg({'lat': 'first', 'lng': 'first'}).reset_index()\n"
     ]
    },
    {
     "name": "stdout",
     "output_type": "stream",
     "text": [
      "Map saved as D:\\df\\maps\\map_1195.html\n",
      "Map saved as D:\\df\\maps\\map_1196.html\n",
      "Map saved as D:\\df\\maps\\map_1197.html\n"
     ]
    },
    {
     "name": "stderr",
     "output_type": "stream",
     "text": [
      "C:\\Users\\Fenin Jose\\AppData\\Local\\Temp\\ipykernel_17548\\574676199.py:17: FutureWarning: The default of observed=False is deprecated and will be changed to True in a future version of pandas. Pass observed=False to retain current behavior or observed=True to adopt the future default and silence this warning.\n",
      "  df_unique = df_new.groupby('name').agg({'lat': 'first', 'lng': 'first'}).reset_index()\n",
      "C:\\Users\\Fenin Jose\\AppData\\Local\\Temp\\ipykernel_17548\\574676199.py:17: FutureWarning: The default of observed=False is deprecated and will be changed to True in a future version of pandas. Pass observed=False to retain current behavior or observed=True to adopt the future default and silence this warning.\n",
      "  df_unique = df_new.groupby('name').agg({'lat': 'first', 'lng': 'first'}).reset_index()\n",
      "C:\\Users\\Fenin Jose\\AppData\\Local\\Temp\\ipykernel_17548\\574676199.py:17: FutureWarning: The default of observed=False is deprecated and will be changed to True in a future version of pandas. Pass observed=False to retain current behavior or observed=True to adopt the future default and silence this warning.\n",
      "  df_unique = df_new.groupby('name').agg({'lat': 'first', 'lng': 'first'}).reset_index()\n"
     ]
    },
    {
     "name": "stdout",
     "output_type": "stream",
     "text": [
      "Map saved as D:\\df\\maps\\map_1198.html\n",
      "Map saved as D:\\df\\maps\\map_1199.html\n"
     ]
    },
    {
     "name": "stderr",
     "output_type": "stream",
     "text": [
      "C:\\Users\\Fenin Jose\\AppData\\Local\\Temp\\ipykernel_17548\\574676199.py:17: FutureWarning: The default of observed=False is deprecated and will be changed to True in a future version of pandas. Pass observed=False to retain current behavior or observed=True to adopt the future default and silence this warning.\n",
      "  df_unique = df_new.groupby('name').agg({'lat': 'first', 'lng': 'first'}).reset_index()\n",
      "C:\\Users\\Fenin Jose\\AppData\\Local\\Temp\\ipykernel_17548\\574676199.py:17: FutureWarning: The default of observed=False is deprecated and will be changed to True in a future version of pandas. Pass observed=False to retain current behavior or observed=True to adopt the future default and silence this warning.\n",
      "  df_unique = df_new.groupby('name').agg({'lat': 'first', 'lng': 'first'}).reset_index()\n"
     ]
    },
    {
     "name": "stdout",
     "output_type": "stream",
     "text": [
      "Map saved as D:\\df\\maps\\map_1200.html\n",
      "Map saved as D:\\df\\maps\\map_1201.html\n"
     ]
    },
    {
     "name": "stderr",
     "output_type": "stream",
     "text": [
      "C:\\Users\\Fenin Jose\\AppData\\Local\\Temp\\ipykernel_17548\\574676199.py:17: FutureWarning: The default of observed=False is deprecated and will be changed to True in a future version of pandas. Pass observed=False to retain current behavior or observed=True to adopt the future default and silence this warning.\n",
      "  df_unique = df_new.groupby('name').agg({'lat': 'first', 'lng': 'first'}).reset_index()\n",
      "C:\\Users\\Fenin Jose\\AppData\\Local\\Temp\\ipykernel_17548\\574676199.py:17: FutureWarning: The default of observed=False is deprecated and will be changed to True in a future version of pandas. Pass observed=False to retain current behavior or observed=True to adopt the future default and silence this warning.\n",
      "  df_unique = df_new.groupby('name').agg({'lat': 'first', 'lng': 'first'}).reset_index()\n"
     ]
    },
    {
     "name": "stdout",
     "output_type": "stream",
     "text": [
      "Map saved as D:\\df\\maps\\map_1202.html\n",
      "Map saved as D:\\df\\maps\\map_1203.html\n"
     ]
    },
    {
     "name": "stderr",
     "output_type": "stream",
     "text": [
      "C:\\Users\\Fenin Jose\\AppData\\Local\\Temp\\ipykernel_17548\\574676199.py:17: FutureWarning: The default of observed=False is deprecated and will be changed to True in a future version of pandas. Pass observed=False to retain current behavior or observed=True to adopt the future default and silence this warning.\n",
      "  df_unique = df_new.groupby('name').agg({'lat': 'first', 'lng': 'first'}).reset_index()\n",
      "C:\\Users\\Fenin Jose\\AppData\\Local\\Temp\\ipykernel_17548\\574676199.py:17: FutureWarning: The default of observed=False is deprecated and will be changed to True in a future version of pandas. Pass observed=False to retain current behavior or observed=True to adopt the future default and silence this warning.\n",
      "  df_unique = df_new.groupby('name').agg({'lat': 'first', 'lng': 'first'}).reset_index()\n",
      "C:\\Users\\Fenin Jose\\AppData\\Local\\Temp\\ipykernel_17548\\574676199.py:17: FutureWarning: The default of observed=False is deprecated and will be changed to True in a future version of pandas. Pass observed=False to retain current behavior or observed=True to adopt the future default and silence this warning.\n",
      "  df_unique = df_new.groupby('name').agg({'lat': 'first', 'lng': 'first'}).reset_index()\n"
     ]
    },
    {
     "name": "stdout",
     "output_type": "stream",
     "text": [
      "Map saved as D:\\df\\maps\\map_1204.html\n",
      "Map saved as D:\\df\\maps\\map_1205.html\n"
     ]
    },
    {
     "name": "stderr",
     "output_type": "stream",
     "text": [
      "C:\\Users\\Fenin Jose\\AppData\\Local\\Temp\\ipykernel_17548\\574676199.py:17: FutureWarning: The default of observed=False is deprecated and will be changed to True in a future version of pandas. Pass observed=False to retain current behavior or observed=True to adopt the future default and silence this warning.\n",
      "  df_unique = df_new.groupby('name').agg({'lat': 'first', 'lng': 'first'}).reset_index()\n",
      "C:\\Users\\Fenin Jose\\AppData\\Local\\Temp\\ipykernel_17548\\574676199.py:17: FutureWarning: The default of observed=False is deprecated and will be changed to True in a future version of pandas. Pass observed=False to retain current behavior or observed=True to adopt the future default and silence this warning.\n",
      "  df_unique = df_new.groupby('name').agg({'lat': 'first', 'lng': 'first'}).reset_index()\n",
      "C:\\Users\\Fenin Jose\\AppData\\Local\\Temp\\ipykernel_17548\\574676199.py:17: FutureWarning: The default of observed=False is deprecated and will be changed to True in a future version of pandas. Pass observed=False to retain current behavior or observed=True to adopt the future default and silence this warning.\n",
      "  df_unique = df_new.groupby('name').agg({'lat': 'first', 'lng': 'first'}).reset_index()\n"
     ]
    },
    {
     "name": "stdout",
     "output_type": "stream",
     "text": [
      "Map saved as D:\\df\\maps\\map_1206.html\n",
      "Map saved as D:\\df\\maps\\map_1207.html\n",
      "Map saved as D:\\df\\maps\\map_1208.html\n",
      "Map saved as D:\\df\\maps\\map_1209.html\n",
      "Map saved as D:\\df\\maps\\map_1210.html\n"
     ]
    },
    {
     "name": "stderr",
     "output_type": "stream",
     "text": [
      "C:\\Users\\Fenin Jose\\AppData\\Local\\Temp\\ipykernel_17548\\574676199.py:17: FutureWarning: The default of observed=False is deprecated and will be changed to True in a future version of pandas. Pass observed=False to retain current behavior or observed=True to adopt the future default and silence this warning.\n",
      "  df_unique = df_new.groupby('name').agg({'lat': 'first', 'lng': 'first'}).reset_index()\n",
      "C:\\Users\\Fenin Jose\\AppData\\Local\\Temp\\ipykernel_17548\\574676199.py:17: FutureWarning: The default of observed=False is deprecated and will be changed to True in a future version of pandas. Pass observed=False to retain current behavior or observed=True to adopt the future default and silence this warning.\n",
      "  df_unique = df_new.groupby('name').agg({'lat': 'first', 'lng': 'first'}).reset_index()\n",
      "C:\\Users\\Fenin Jose\\AppData\\Local\\Temp\\ipykernel_17548\\574676199.py:17: FutureWarning: The default of observed=False is deprecated and will be changed to True in a future version of pandas. Pass observed=False to retain current behavior or observed=True to adopt the future default and silence this warning.\n",
      "  df_unique = df_new.groupby('name').agg({'lat': 'first', 'lng': 'first'}).reset_index()\n"
     ]
    },
    {
     "name": "stdout",
     "output_type": "stream",
     "text": [
      "Map saved as D:\\df\\maps\\map_1211.html\n",
      "Map saved as D:\\df\\maps\\map_1212.html\n",
      "Map saved as D:\\df\\maps\\map_1213.html\n",
      "Map saved as D:\\df\\maps\\map_1214.html\n"
     ]
    },
    {
     "name": "stderr",
     "output_type": "stream",
     "text": [
      "C:\\Users\\Fenin Jose\\AppData\\Local\\Temp\\ipykernel_17548\\574676199.py:17: FutureWarning: The default of observed=False is deprecated and will be changed to True in a future version of pandas. Pass observed=False to retain current behavior or observed=True to adopt the future default and silence this warning.\n",
      "  df_unique = df_new.groupby('name').agg({'lat': 'first', 'lng': 'first'}).reset_index()\n",
      "C:\\Users\\Fenin Jose\\AppData\\Local\\Temp\\ipykernel_17548\\574676199.py:17: FutureWarning: The default of observed=False is deprecated and will be changed to True in a future version of pandas. Pass observed=False to retain current behavior or observed=True to adopt the future default and silence this warning.\n",
      "  df_unique = df_new.groupby('name').agg({'lat': 'first', 'lng': 'first'}).reset_index()\n",
      "C:\\Users\\Fenin Jose\\AppData\\Local\\Temp\\ipykernel_17548\\574676199.py:17: FutureWarning: The default of observed=False is deprecated and will be changed to True in a future version of pandas. Pass observed=False to retain current behavior or observed=True to adopt the future default and silence this warning.\n",
      "  df_unique = df_new.groupby('name').agg({'lat': 'first', 'lng': 'first'}).reset_index()\n",
      "C:\\Users\\Fenin Jose\\AppData\\Local\\Temp\\ipykernel_17548\\574676199.py:17: FutureWarning: The default of observed=False is deprecated and will be changed to True in a future version of pandas. Pass observed=False to retain current behavior or observed=True to adopt the future default and silence this warning.\n",
      "  df_unique = df_new.groupby('name').agg({'lat': 'first', 'lng': 'first'}).reset_index()\n",
      "C:\\Users\\Fenin Jose\\AppData\\Local\\Temp\\ipykernel_17548\\574676199.py:17: FutureWarning: The default of observed=False is deprecated and will be changed to True in a future version of pandas. Pass observed=False to retain current behavior or observed=True to adopt the future default and silence this warning.\n",
      "  df_unique = df_new.groupby('name').agg({'lat': 'first', 'lng': 'first'}).reset_index()\n",
      "C:\\Users\\Fenin Jose\\AppData\\Local\\Temp\\ipykernel_17548\\574676199.py:17: FutureWarning: The default of observed=False is deprecated and will be changed to True in a future version of pandas. Pass observed=False to retain current behavior or observed=True to adopt the future default and silence this warning.\n",
      "  df_unique = df_new.groupby('name').agg({'lat': 'first', 'lng': 'first'}).reset_index()\n"
     ]
    },
    {
     "name": "stdout",
     "output_type": "stream",
     "text": [
      "Map saved as D:\\df\\maps\\map_1215.html\n",
      "Map saved as D:\\df\\maps\\map_1216.html\n",
      "Map saved as D:\\df\\maps\\map_1217.html\n",
      "Map saved as D:\\df\\maps\\map_1218.html\n"
     ]
    },
    {
     "name": "stderr",
     "output_type": "stream",
     "text": [
      "C:\\Users\\Fenin Jose\\AppData\\Local\\Temp\\ipykernel_17548\\574676199.py:17: FutureWarning: The default of observed=False is deprecated and will be changed to True in a future version of pandas. Pass observed=False to retain current behavior or observed=True to adopt the future default and silence this warning.\n",
      "  df_unique = df_new.groupby('name').agg({'lat': 'first', 'lng': 'first'}).reset_index()\n",
      "C:\\Users\\Fenin Jose\\AppData\\Local\\Temp\\ipykernel_17548\\574676199.py:17: FutureWarning: The default of observed=False is deprecated and will be changed to True in a future version of pandas. Pass observed=False to retain current behavior or observed=True to adopt the future default and silence this warning.\n",
      "  df_unique = df_new.groupby('name').agg({'lat': 'first', 'lng': 'first'}).reset_index()\n"
     ]
    },
    {
     "name": "stdout",
     "output_type": "stream",
     "text": [
      "Map saved as D:\\df\\maps\\map_1219.html\n",
      "Map saved as D:\\df\\maps\\map_1220.html\n",
      "Map saved as D:\\df\\maps\\map_1221.html\n"
     ]
    },
    {
     "name": "stderr",
     "output_type": "stream",
     "text": [
      "C:\\Users\\Fenin Jose\\AppData\\Local\\Temp\\ipykernel_17548\\574676199.py:17: FutureWarning: The default of observed=False is deprecated and will be changed to True in a future version of pandas. Pass observed=False to retain current behavior or observed=True to adopt the future default and silence this warning.\n",
      "  df_unique = df_new.groupby('name').agg({'lat': 'first', 'lng': 'first'}).reset_index()\n",
      "C:\\Users\\Fenin Jose\\AppData\\Local\\Temp\\ipykernel_17548\\574676199.py:17: FutureWarning: The default of observed=False is deprecated and will be changed to True in a future version of pandas. Pass observed=False to retain current behavior or observed=True to adopt the future default and silence this warning.\n",
      "  df_unique = df_new.groupby('name').agg({'lat': 'first', 'lng': 'first'}).reset_index()\n",
      "C:\\Users\\Fenin Jose\\AppData\\Local\\Temp\\ipykernel_17548\\574676199.py:17: FutureWarning: The default of observed=False is deprecated and will be changed to True in a future version of pandas. Pass observed=False to retain current behavior or observed=True to adopt the future default and silence this warning.\n",
      "  df_unique = df_new.groupby('name').agg({'lat': 'first', 'lng': 'first'}).reset_index()\n"
     ]
    },
    {
     "name": "stdout",
     "output_type": "stream",
     "text": [
      "Map saved as D:\\df\\maps\\map_1222.html\n",
      "Map saved as D:\\df\\maps\\map_1223.html\n"
     ]
    },
    {
     "name": "stderr",
     "output_type": "stream",
     "text": [
      "C:\\Users\\Fenin Jose\\AppData\\Local\\Temp\\ipykernel_17548\\574676199.py:17: FutureWarning: The default of observed=False is deprecated and will be changed to True in a future version of pandas. Pass observed=False to retain current behavior or observed=True to adopt the future default and silence this warning.\n",
      "  df_unique = df_new.groupby('name').agg({'lat': 'first', 'lng': 'first'}).reset_index()\n",
      "C:\\Users\\Fenin Jose\\AppData\\Local\\Temp\\ipykernel_17548\\574676199.py:17: FutureWarning: The default of observed=False is deprecated and will be changed to True in a future version of pandas. Pass observed=False to retain current behavior or observed=True to adopt the future default and silence this warning.\n",
      "  df_unique = df_new.groupby('name').agg({'lat': 'first', 'lng': 'first'}).reset_index()\n"
     ]
    },
    {
     "name": "stdout",
     "output_type": "stream",
     "text": [
      "Map saved as D:\\df\\maps\\map_1224.html\n",
      "Map saved as D:\\df\\maps\\map_1225.html\n",
      "Map saved as D:\\df\\maps\\map_1226.html\n"
     ]
    },
    {
     "name": "stderr",
     "output_type": "stream",
     "text": [
      "C:\\Users\\Fenin Jose\\AppData\\Local\\Temp\\ipykernel_17548\\574676199.py:17: FutureWarning: The default of observed=False is deprecated and will be changed to True in a future version of pandas. Pass observed=False to retain current behavior or observed=True to adopt the future default and silence this warning.\n",
      "  df_unique = df_new.groupby('name').agg({'lat': 'first', 'lng': 'first'}).reset_index()\n",
      "C:\\Users\\Fenin Jose\\AppData\\Local\\Temp\\ipykernel_17548\\574676199.py:17: FutureWarning: The default of observed=False is deprecated and will be changed to True in a future version of pandas. Pass observed=False to retain current behavior or observed=True to adopt the future default and silence this warning.\n",
      "  df_unique = df_new.groupby('name').agg({'lat': 'first', 'lng': 'first'}).reset_index()\n",
      "C:\\Users\\Fenin Jose\\AppData\\Local\\Temp\\ipykernel_17548\\574676199.py:17: FutureWarning: The default of observed=False is deprecated and will be changed to True in a future version of pandas. Pass observed=False to retain current behavior or observed=True to adopt the future default and silence this warning.\n",
      "  df_unique = df_new.groupby('name').agg({'lat': 'first', 'lng': 'first'}).reset_index()\n"
     ]
    },
    {
     "name": "stdout",
     "output_type": "stream",
     "text": [
      "Map saved as D:\\df\\maps\\map_1227.html\n",
      "Map saved as D:\\df\\maps\\map_1228.html\n"
     ]
    },
    {
     "name": "stderr",
     "output_type": "stream",
     "text": [
      "C:\\Users\\Fenin Jose\\AppData\\Local\\Temp\\ipykernel_17548\\574676199.py:17: FutureWarning: The default of observed=False is deprecated and will be changed to True in a future version of pandas. Pass observed=False to retain current behavior or observed=True to adopt the future default and silence this warning.\n",
      "  df_unique = df_new.groupby('name').agg({'lat': 'first', 'lng': 'first'}).reset_index()\n",
      "C:\\Users\\Fenin Jose\\AppData\\Local\\Temp\\ipykernel_17548\\574676199.py:17: FutureWarning: The default of observed=False is deprecated and will be changed to True in a future version of pandas. Pass observed=False to retain current behavior or observed=True to adopt the future default and silence this warning.\n",
      "  df_unique = df_new.groupby('name').agg({'lat': 'first', 'lng': 'first'}).reset_index()\n"
     ]
    },
    {
     "name": "stdout",
     "output_type": "stream",
     "text": [
      "Map saved as D:\\df\\maps\\map_1229.html\n",
      "Map saved as D:\\df\\maps\\map_1230.html\n",
      "Map saved as D:\\df\\maps\\map_1231.html\n"
     ]
    },
    {
     "name": "stderr",
     "output_type": "stream",
     "text": [
      "C:\\Users\\Fenin Jose\\AppData\\Local\\Temp\\ipykernel_17548\\574676199.py:17: FutureWarning: The default of observed=False is deprecated and will be changed to True in a future version of pandas. Pass observed=False to retain current behavior or observed=True to adopt the future default and silence this warning.\n",
      "  df_unique = df_new.groupby('name').agg({'lat': 'first', 'lng': 'first'}).reset_index()\n",
      "C:\\Users\\Fenin Jose\\AppData\\Local\\Temp\\ipykernel_17548\\574676199.py:17: FutureWarning: The default of observed=False is deprecated and will be changed to True in a future version of pandas. Pass observed=False to retain current behavior or observed=True to adopt the future default and silence this warning.\n",
      "  df_unique = df_new.groupby('name').agg({'lat': 'first', 'lng': 'first'}).reset_index()\n",
      "C:\\Users\\Fenin Jose\\AppData\\Local\\Temp\\ipykernel_17548\\574676199.py:17: FutureWarning: The default of observed=False is deprecated and will be changed to True in a future version of pandas. Pass observed=False to retain current behavior or observed=True to adopt the future default and silence this warning.\n",
      "  df_unique = df_new.groupby('name').agg({'lat': 'first', 'lng': 'first'}).reset_index()\n"
     ]
    },
    {
     "name": "stdout",
     "output_type": "stream",
     "text": [
      "Map saved as D:\\df\\maps\\map_1232.html\n",
      "Map saved as D:\\df\\maps\\map_1233.html\n",
      "Map saved as D:\\df\\maps\\map_1234.html\n"
     ]
    },
    {
     "name": "stderr",
     "output_type": "stream",
     "text": [
      "C:\\Users\\Fenin Jose\\AppData\\Local\\Temp\\ipykernel_17548\\574676199.py:17: FutureWarning: The default of observed=False is deprecated and will be changed to True in a future version of pandas. Pass observed=False to retain current behavior or observed=True to adopt the future default and silence this warning.\n",
      "  df_unique = df_new.groupby('name').agg({'lat': 'first', 'lng': 'first'}).reset_index()\n",
      "C:\\Users\\Fenin Jose\\AppData\\Local\\Temp\\ipykernel_17548\\574676199.py:17: FutureWarning: The default of observed=False is deprecated and will be changed to True in a future version of pandas. Pass observed=False to retain current behavior or observed=True to adopt the future default and silence this warning.\n",
      "  df_unique = df_new.groupby('name').agg({'lat': 'first', 'lng': 'first'}).reset_index()\n",
      "C:\\Users\\Fenin Jose\\AppData\\Local\\Temp\\ipykernel_17548\\574676199.py:17: FutureWarning: The default of observed=False is deprecated and will be changed to True in a future version of pandas. Pass observed=False to retain current behavior or observed=True to adopt the future default and silence this warning.\n",
      "  df_unique = df_new.groupby('name').agg({'lat': 'first', 'lng': 'first'}).reset_index()\n"
     ]
    },
    {
     "name": "stdout",
     "output_type": "stream",
     "text": [
      "Map saved as D:\\df\\maps\\map_1235.html\n"
     ]
    },
    {
     "name": "stderr",
     "output_type": "stream",
     "text": [
      "C:\\Users\\Fenin Jose\\AppData\\Local\\Temp\\ipykernel_17548\\574676199.py:17: FutureWarning: The default of observed=False is deprecated and will be changed to True in a future version of pandas. Pass observed=False to retain current behavior or observed=True to adopt the future default and silence this warning.\n",
      "  df_unique = df_new.groupby('name').agg({'lat': 'first', 'lng': 'first'}).reset_index()\n"
     ]
    },
    {
     "name": "stdout",
     "output_type": "stream",
     "text": [
      "Map saved as D:\\df\\maps\\map_1236.html\n",
      "Map saved as D:\\df\\maps\\map_1237.html\n",
      "Map saved as D:\\df\\maps\\map_1238.html\n"
     ]
    },
    {
     "name": "stderr",
     "output_type": "stream",
     "text": [
      "C:\\Users\\Fenin Jose\\AppData\\Local\\Temp\\ipykernel_17548\\574676199.py:17: FutureWarning: The default of observed=False is deprecated and will be changed to True in a future version of pandas. Pass observed=False to retain current behavior or observed=True to adopt the future default and silence this warning.\n",
      "  df_unique = df_new.groupby('name').agg({'lat': 'first', 'lng': 'first'}).reset_index()\n",
      "C:\\Users\\Fenin Jose\\AppData\\Local\\Temp\\ipykernel_17548\\574676199.py:17: FutureWarning: The default of observed=False is deprecated and will be changed to True in a future version of pandas. Pass observed=False to retain current behavior or observed=True to adopt the future default and silence this warning.\n",
      "  df_unique = df_new.groupby('name').agg({'lat': 'first', 'lng': 'first'}).reset_index()\n",
      "C:\\Users\\Fenin Jose\\AppData\\Local\\Temp\\ipykernel_17548\\574676199.py:17: FutureWarning: The default of observed=False is deprecated and will be changed to True in a future version of pandas. Pass observed=False to retain current behavior or observed=True to adopt the future default and silence this warning.\n",
      "  df_unique = df_new.groupby('name').agg({'lat': 'first', 'lng': 'first'}).reset_index()\n"
     ]
    },
    {
     "name": "stdout",
     "output_type": "stream",
     "text": [
      "Map saved as D:\\df\\maps\\map_1239.html\n",
      "Map saved as D:\\df\\maps\\map_1240.html\n",
      "Map saved as D:\\df\\maps\\map_1241.html\n"
     ]
    },
    {
     "name": "stderr",
     "output_type": "stream",
     "text": [
      "C:\\Users\\Fenin Jose\\AppData\\Local\\Temp\\ipykernel_17548\\574676199.py:17: FutureWarning: The default of observed=False is deprecated and will be changed to True in a future version of pandas. Pass observed=False to retain current behavior or observed=True to adopt the future default and silence this warning.\n",
      "  df_unique = df_new.groupby('name').agg({'lat': 'first', 'lng': 'first'}).reset_index()\n",
      "C:\\Users\\Fenin Jose\\AppData\\Local\\Temp\\ipykernel_17548\\574676199.py:17: FutureWarning: The default of observed=False is deprecated and will be changed to True in a future version of pandas. Pass observed=False to retain current behavior or observed=True to adopt the future default and silence this warning.\n",
      "  df_unique = df_new.groupby('name').agg({'lat': 'first', 'lng': 'first'}).reset_index()\n",
      "C:\\Users\\Fenin Jose\\AppData\\Local\\Temp\\ipykernel_17548\\574676199.py:17: FutureWarning: The default of observed=False is deprecated and will be changed to True in a future version of pandas. Pass observed=False to retain current behavior or observed=True to adopt the future default and silence this warning.\n",
      "  df_unique = df_new.groupby('name').agg({'lat': 'first', 'lng': 'first'}).reset_index()\n"
     ]
    },
    {
     "name": "stdout",
     "output_type": "stream",
     "text": [
      "Map saved as D:\\df\\maps\\map_1242.html\n",
      "Map saved as D:\\df\\maps\\map_1243.html\n",
      "Map saved as D:\\df\\maps\\map_1244.html\n"
     ]
    },
    {
     "name": "stderr",
     "output_type": "stream",
     "text": [
      "C:\\Users\\Fenin Jose\\AppData\\Local\\Temp\\ipykernel_17548\\574676199.py:17: FutureWarning: The default of observed=False is deprecated and will be changed to True in a future version of pandas. Pass observed=False to retain current behavior or observed=True to adopt the future default and silence this warning.\n",
      "  df_unique = df_new.groupby('name').agg({'lat': 'first', 'lng': 'first'}).reset_index()\n",
      "C:\\Users\\Fenin Jose\\AppData\\Local\\Temp\\ipykernel_17548\\574676199.py:17: FutureWarning: The default of observed=False is deprecated and will be changed to True in a future version of pandas. Pass observed=False to retain current behavior or observed=True to adopt the future default and silence this warning.\n",
      "  df_unique = df_new.groupby('name').agg({'lat': 'first', 'lng': 'first'}).reset_index()\n",
      "C:\\Users\\Fenin Jose\\AppData\\Local\\Temp\\ipykernel_17548\\574676199.py:17: FutureWarning: The default of observed=False is deprecated and will be changed to True in a future version of pandas. Pass observed=False to retain current behavior or observed=True to adopt the future default and silence this warning.\n",
      "  df_unique = df_new.groupby('name').agg({'lat': 'first', 'lng': 'first'}).reset_index()\n"
     ]
    },
    {
     "name": "stdout",
     "output_type": "stream",
     "text": [
      "Map saved as D:\\df\\maps\\map_1245.html\n",
      "Map saved as D:\\df\\maps\\map_1246.html\n"
     ]
    },
    {
     "name": "stderr",
     "output_type": "stream",
     "text": [
      "C:\\Users\\Fenin Jose\\AppData\\Local\\Temp\\ipykernel_17548\\574676199.py:17: FutureWarning: The default of observed=False is deprecated and will be changed to True in a future version of pandas. Pass observed=False to retain current behavior or observed=True to adopt the future default and silence this warning.\n",
      "  df_unique = df_new.groupby('name').agg({'lat': 'first', 'lng': 'first'}).reset_index()\n",
      "C:\\Users\\Fenin Jose\\AppData\\Local\\Temp\\ipykernel_17548\\574676199.py:17: FutureWarning: The default of observed=False is deprecated and will be changed to True in a future version of pandas. Pass observed=False to retain current behavior or observed=True to adopt the future default and silence this warning.\n",
      "  df_unique = df_new.groupby('name').agg({'lat': 'first', 'lng': 'first'}).reset_index()\n"
     ]
    },
    {
     "name": "stdout",
     "output_type": "stream",
     "text": [
      "Map saved as D:\\df\\maps\\map_1247.html\n",
      "Map saved as D:\\df\\maps\\map_1248.html\n",
      "Map saved as D:\\df\\maps\\map_1249.html\n"
     ]
    },
    {
     "name": "stderr",
     "output_type": "stream",
     "text": [
      "C:\\Users\\Fenin Jose\\AppData\\Local\\Temp\\ipykernel_17548\\574676199.py:17: FutureWarning: The default of observed=False is deprecated and will be changed to True in a future version of pandas. Pass observed=False to retain current behavior or observed=True to adopt the future default and silence this warning.\n",
      "  df_unique = df_new.groupby('name').agg({'lat': 'first', 'lng': 'first'}).reset_index()\n",
      "C:\\Users\\Fenin Jose\\AppData\\Local\\Temp\\ipykernel_17548\\574676199.py:17: FutureWarning: The default of observed=False is deprecated and will be changed to True in a future version of pandas. Pass observed=False to retain current behavior or observed=True to adopt the future default and silence this warning.\n",
      "  df_unique = df_new.groupby('name').agg({'lat': 'first', 'lng': 'first'}).reset_index()\n",
      "C:\\Users\\Fenin Jose\\AppData\\Local\\Temp\\ipykernel_17548\\574676199.py:17: FutureWarning: The default of observed=False is deprecated and will be changed to True in a future version of pandas. Pass observed=False to retain current behavior or observed=True to adopt the future default and silence this warning.\n",
      "  df_unique = df_new.groupby('name').agg({'lat': 'first', 'lng': 'first'}).reset_index()\n"
     ]
    },
    {
     "name": "stdout",
     "output_type": "stream",
     "text": [
      "Map saved as D:\\df\\maps\\map_1250.html\n",
      "Map saved as D:\\df\\maps\\map_1251.html\n",
      "Map saved as D:\\df\\maps\\map_1252.html\n"
     ]
    },
    {
     "name": "stderr",
     "output_type": "stream",
     "text": [
      "C:\\Users\\Fenin Jose\\AppData\\Local\\Temp\\ipykernel_17548\\574676199.py:17: FutureWarning: The default of observed=False is deprecated and will be changed to True in a future version of pandas. Pass observed=False to retain current behavior or observed=True to adopt the future default and silence this warning.\n",
      "  df_unique = df_new.groupby('name').agg({'lat': 'first', 'lng': 'first'}).reset_index()\n",
      "C:\\Users\\Fenin Jose\\AppData\\Local\\Temp\\ipykernel_17548\\574676199.py:17: FutureWarning: The default of observed=False is deprecated and will be changed to True in a future version of pandas. Pass observed=False to retain current behavior or observed=True to adopt the future default and silence this warning.\n",
      "  df_unique = df_new.groupby('name').agg({'lat': 'first', 'lng': 'first'}).reset_index()\n",
      "C:\\Users\\Fenin Jose\\AppData\\Local\\Temp\\ipykernel_17548\\574676199.py:17: FutureWarning: The default of observed=False is deprecated and will be changed to True in a future version of pandas. Pass observed=False to retain current behavior or observed=True to adopt the future default and silence this warning.\n",
      "  df_unique = df_new.groupby('name').agg({'lat': 'first', 'lng': 'first'}).reset_index()\n"
     ]
    },
    {
     "name": "stdout",
     "output_type": "stream",
     "text": [
      "Map saved as D:\\df\\maps\\map_1253.html\n",
      "Map saved as D:\\df\\maps\\map_1254.html\n",
      "Map saved as D:\\df\\maps\\map_1255.html\n",
      "Map saved as D:\\df\\maps\\map_1256.html\n"
     ]
    },
    {
     "name": "stderr",
     "output_type": "stream",
     "text": [
      "C:\\Users\\Fenin Jose\\AppData\\Local\\Temp\\ipykernel_17548\\574676199.py:17: FutureWarning: The default of observed=False is deprecated and will be changed to True in a future version of pandas. Pass observed=False to retain current behavior or observed=True to adopt the future default and silence this warning.\n",
      "  df_unique = df_new.groupby('name').agg({'lat': 'first', 'lng': 'first'}).reset_index()\n",
      "C:\\Users\\Fenin Jose\\AppData\\Local\\Temp\\ipykernel_17548\\574676199.py:17: FutureWarning: The default of observed=False is deprecated and will be changed to True in a future version of pandas. Pass observed=False to retain current behavior or observed=True to adopt the future default and silence this warning.\n",
      "  df_unique = df_new.groupby('name').agg({'lat': 'first', 'lng': 'first'}).reset_index()\n",
      "C:\\Users\\Fenin Jose\\AppData\\Local\\Temp\\ipykernel_17548\\574676199.py:17: FutureWarning: The default of observed=False is deprecated and will be changed to True in a future version of pandas. Pass observed=False to retain current behavior or observed=True to adopt the future default and silence this warning.\n",
      "  df_unique = df_new.groupby('name').agg({'lat': 'first', 'lng': 'first'}).reset_index()\n",
      "C:\\Users\\Fenin Jose\\AppData\\Local\\Temp\\ipykernel_17548\\574676199.py:17: FutureWarning: The default of observed=False is deprecated and will be changed to True in a future version of pandas. Pass observed=False to retain current behavior or observed=True to adopt the future default and silence this warning.\n",
      "  df_unique = df_new.groupby('name').agg({'lat': 'first', 'lng': 'first'}).reset_index()\n"
     ]
    },
    {
     "name": "stdout",
     "output_type": "stream",
     "text": [
      "Map saved as D:\\df\\maps\\map_1257.html\n",
      "Map saved as D:\\df\\maps\\map_1258.html\n",
      "Map saved as D:\\df\\maps\\map_1259.html\n",
      "Map saved as D:\\df\\maps\\map_1260.html\n"
     ]
    },
    {
     "name": "stderr",
     "output_type": "stream",
     "text": [
      "C:\\Users\\Fenin Jose\\AppData\\Local\\Temp\\ipykernel_17548\\574676199.py:17: FutureWarning: The default of observed=False is deprecated and will be changed to True in a future version of pandas. Pass observed=False to retain current behavior or observed=True to adopt the future default and silence this warning.\n",
      "  df_unique = df_new.groupby('name').agg({'lat': 'first', 'lng': 'first'}).reset_index()\n",
      "C:\\Users\\Fenin Jose\\AppData\\Local\\Temp\\ipykernel_17548\\574676199.py:17: FutureWarning: The default of observed=False is deprecated and will be changed to True in a future version of pandas. Pass observed=False to retain current behavior or observed=True to adopt the future default and silence this warning.\n",
      "  df_unique = df_new.groupby('name').agg({'lat': 'first', 'lng': 'first'}).reset_index()\n",
      "C:\\Users\\Fenin Jose\\AppData\\Local\\Temp\\ipykernel_17548\\574676199.py:17: FutureWarning: The default of observed=False is deprecated and will be changed to True in a future version of pandas. Pass observed=False to retain current behavior or observed=True to adopt the future default and silence this warning.\n",
      "  df_unique = df_new.groupby('name').agg({'lat': 'first', 'lng': 'first'}).reset_index()\n",
      "C:\\Users\\Fenin Jose\\AppData\\Local\\Temp\\ipykernel_17548\\574676199.py:17: FutureWarning: The default of observed=False is deprecated and will be changed to True in a future version of pandas. Pass observed=False to retain current behavior or observed=True to adopt the future default and silence this warning.\n",
      "  df_unique = df_new.groupby('name').agg({'lat': 'first', 'lng': 'first'}).reset_index()\n"
     ]
    },
    {
     "name": "stdout",
     "output_type": "stream",
     "text": [
      "Map saved as D:\\df\\maps\\map_1261.html\n",
      "Map saved as D:\\df\\maps\\map_1262.html\n"
     ]
    },
    {
     "name": "stderr",
     "output_type": "stream",
     "text": [
      "C:\\Users\\Fenin Jose\\AppData\\Local\\Temp\\ipykernel_17548\\574676199.py:17: FutureWarning: The default of observed=False is deprecated and will be changed to True in a future version of pandas. Pass observed=False to retain current behavior or observed=True to adopt the future default and silence this warning.\n",
      "  df_unique = df_new.groupby('name').agg({'lat': 'first', 'lng': 'first'}).reset_index()\n",
      "C:\\Users\\Fenin Jose\\AppData\\Local\\Temp\\ipykernel_17548\\574676199.py:17: FutureWarning: The default of observed=False is deprecated and will be changed to True in a future version of pandas. Pass observed=False to retain current behavior or observed=True to adopt the future default and silence this warning.\n",
      "  df_unique = df_new.groupby('name').agg({'lat': 'first', 'lng': 'first'}).reset_index()\n"
     ]
    },
    {
     "name": "stdout",
     "output_type": "stream",
     "text": [
      "Map saved as D:\\df\\maps\\map_1263.html\n",
      "Map saved as D:\\df\\maps\\map_1264.html\n",
      "Map saved as D:\\df\\maps\\map_1265.html\n"
     ]
    },
    {
     "name": "stderr",
     "output_type": "stream",
     "text": [
      "C:\\Users\\Fenin Jose\\AppData\\Local\\Temp\\ipykernel_17548\\574676199.py:17: FutureWarning: The default of observed=False is deprecated and will be changed to True in a future version of pandas. Pass observed=False to retain current behavior or observed=True to adopt the future default and silence this warning.\n",
      "  df_unique = df_new.groupby('name').agg({'lat': 'first', 'lng': 'first'}).reset_index()\n",
      "C:\\Users\\Fenin Jose\\AppData\\Local\\Temp\\ipykernel_17548\\574676199.py:17: FutureWarning: The default of observed=False is deprecated and will be changed to True in a future version of pandas. Pass observed=False to retain current behavior or observed=True to adopt the future default and silence this warning.\n",
      "  df_unique = df_new.groupby('name').agg({'lat': 'first', 'lng': 'first'}).reset_index()\n",
      "C:\\Users\\Fenin Jose\\AppData\\Local\\Temp\\ipykernel_17548\\574676199.py:17: FutureWarning: The default of observed=False is deprecated and will be changed to True in a future version of pandas. Pass observed=False to retain current behavior or observed=True to adopt the future default and silence this warning.\n",
      "  df_unique = df_new.groupby('name').agg({'lat': 'first', 'lng': 'first'}).reset_index()\n"
     ]
    },
    {
     "name": "stdout",
     "output_type": "stream",
     "text": [
      "Map saved as D:\\df\\maps\\map_1266.html\n",
      "Map saved as D:\\df\\maps\\map_1267.html\n",
      "Map saved as D:\\df\\maps\\map_1268.html\n",
      "Map saved as D:\\df\\maps\\map_1269.html\n"
     ]
    },
    {
     "name": "stderr",
     "output_type": "stream",
     "text": [
      "C:\\Users\\Fenin Jose\\AppData\\Local\\Temp\\ipykernel_17548\\574676199.py:17: FutureWarning: The default of observed=False is deprecated and will be changed to True in a future version of pandas. Pass observed=False to retain current behavior or observed=True to adopt the future default and silence this warning.\n",
      "  df_unique = df_new.groupby('name').agg({'lat': 'first', 'lng': 'first'}).reset_index()\n",
      "C:\\Users\\Fenin Jose\\AppData\\Local\\Temp\\ipykernel_17548\\574676199.py:17: FutureWarning: The default of observed=False is deprecated and will be changed to True in a future version of pandas. Pass observed=False to retain current behavior or observed=True to adopt the future default and silence this warning.\n",
      "  df_unique = df_new.groupby('name').agg({'lat': 'first', 'lng': 'first'}).reset_index()\n",
      "C:\\Users\\Fenin Jose\\AppData\\Local\\Temp\\ipykernel_17548\\574676199.py:17: FutureWarning: The default of observed=False is deprecated and will be changed to True in a future version of pandas. Pass observed=False to retain current behavior or observed=True to adopt the future default and silence this warning.\n",
      "  df_unique = df_new.groupby('name').agg({'lat': 'first', 'lng': 'first'}).reset_index()\n",
      "C:\\Users\\Fenin Jose\\AppData\\Local\\Temp\\ipykernel_17548\\574676199.py:17: FutureWarning: The default of observed=False is deprecated and will be changed to True in a future version of pandas. Pass observed=False to retain current behavior or observed=True to adopt the future default and silence this warning.\n",
      "  df_unique = df_new.groupby('name').agg({'lat': 'first', 'lng': 'first'}).reset_index()\n"
     ]
    },
    {
     "name": "stdout",
     "output_type": "stream",
     "text": [
      "Map saved as D:\\df\\maps\\map_1270.html\n",
      "Map saved as D:\\df\\maps\\map_1271.html\n",
      "Map saved as D:\\df\\maps\\map_1272.html\n"
     ]
    },
    {
     "name": "stderr",
     "output_type": "stream",
     "text": [
      "C:\\Users\\Fenin Jose\\AppData\\Local\\Temp\\ipykernel_17548\\574676199.py:17: FutureWarning: The default of observed=False is deprecated and will be changed to True in a future version of pandas. Pass observed=False to retain current behavior or observed=True to adopt the future default and silence this warning.\n",
      "  df_unique = df_new.groupby('name').agg({'lat': 'first', 'lng': 'first'}).reset_index()\n",
      "C:\\Users\\Fenin Jose\\AppData\\Local\\Temp\\ipykernel_17548\\574676199.py:17: FutureWarning: The default of observed=False is deprecated and will be changed to True in a future version of pandas. Pass observed=False to retain current behavior or observed=True to adopt the future default and silence this warning.\n",
      "  df_unique = df_new.groupby('name').agg({'lat': 'first', 'lng': 'first'}).reset_index()\n",
      "C:\\Users\\Fenin Jose\\AppData\\Local\\Temp\\ipykernel_17548\\574676199.py:17: FutureWarning: The default of observed=False is deprecated and will be changed to True in a future version of pandas. Pass observed=False to retain current behavior or observed=True to adopt the future default and silence this warning.\n",
      "  df_unique = df_new.groupby('name').agg({'lat': 'first', 'lng': 'first'}).reset_index()\n"
     ]
    },
    {
     "name": "stdout",
     "output_type": "stream",
     "text": [
      "Map saved as D:\\df\\maps\\map_1273.html\n",
      "Map saved as D:\\df\\maps\\map_1274.html\n",
      "Map saved as D:\\df\\maps\\map_1275.html\n"
     ]
    },
    {
     "name": "stderr",
     "output_type": "stream",
     "text": [
      "C:\\Users\\Fenin Jose\\AppData\\Local\\Temp\\ipykernel_17548\\574676199.py:17: FutureWarning: The default of observed=False is deprecated and will be changed to True in a future version of pandas. Pass observed=False to retain current behavior or observed=True to adopt the future default and silence this warning.\n",
      "  df_unique = df_new.groupby('name').agg({'lat': 'first', 'lng': 'first'}).reset_index()\n",
      "C:\\Users\\Fenin Jose\\AppData\\Local\\Temp\\ipykernel_17548\\574676199.py:17: FutureWarning: The default of observed=False is deprecated and will be changed to True in a future version of pandas. Pass observed=False to retain current behavior or observed=True to adopt the future default and silence this warning.\n",
      "  df_unique = df_new.groupby('name').agg({'lat': 'first', 'lng': 'first'}).reset_index()\n",
      "C:\\Users\\Fenin Jose\\AppData\\Local\\Temp\\ipykernel_17548\\574676199.py:17: FutureWarning: The default of observed=False is deprecated and will be changed to True in a future version of pandas. Pass observed=False to retain current behavior or observed=True to adopt the future default and silence this warning.\n",
      "  df_unique = df_new.groupby('name').agg({'lat': 'first', 'lng': 'first'}).reset_index()\n"
     ]
    },
    {
     "name": "stdout",
     "output_type": "stream",
     "text": [
      "Map saved as D:\\df\\maps\\map_1276.html\n",
      "Map saved as D:\\df\\maps\\map_1277.html\n",
      "Map saved as D:\\df\\maps\\map_1278.html\n",
      "Map saved as D:\\df\\maps\\map_1279.html\n",
      "Map saved as D:\\df\\maps\\map_1280.html\n"
     ]
    },
    {
     "name": "stderr",
     "output_type": "stream",
     "text": [
      "C:\\Users\\Fenin Jose\\AppData\\Local\\Temp\\ipykernel_17548\\574676199.py:17: FutureWarning: The default of observed=False is deprecated and will be changed to True in a future version of pandas. Pass observed=False to retain current behavior or observed=True to adopt the future default and silence this warning.\n",
      "  df_unique = df_new.groupby('name').agg({'lat': 'first', 'lng': 'first'}).reset_index()\n",
      "C:\\Users\\Fenin Jose\\AppData\\Local\\Temp\\ipykernel_17548\\574676199.py:17: FutureWarning: The default of observed=False is deprecated and will be changed to True in a future version of pandas. Pass observed=False to retain current behavior or observed=True to adopt the future default and silence this warning.\n",
      "  df_unique = df_new.groupby('name').agg({'lat': 'first', 'lng': 'first'}).reset_index()\n",
      "C:\\Users\\Fenin Jose\\AppData\\Local\\Temp\\ipykernel_17548\\574676199.py:17: FutureWarning: The default of observed=False is deprecated and will be changed to True in a future version of pandas. Pass observed=False to retain current behavior or observed=True to adopt the future default and silence this warning.\n",
      "  df_unique = df_new.groupby('name').agg({'lat': 'first', 'lng': 'first'}).reset_index()\n",
      "C:\\Users\\Fenin Jose\\AppData\\Local\\Temp\\ipykernel_17548\\574676199.py:17: FutureWarning: The default of observed=False is deprecated and will be changed to True in a future version of pandas. Pass observed=False to retain current behavior or observed=True to adopt the future default and silence this warning.\n",
      "  df_unique = df_new.groupby('name').agg({'lat': 'first', 'lng': 'first'}).reset_index()\n",
      "C:\\Users\\Fenin Jose\\AppData\\Local\\Temp\\ipykernel_17548\\574676199.py:17: FutureWarning: The default of observed=False is deprecated and will be changed to True in a future version of pandas. Pass observed=False to retain current behavior or observed=True to adopt the future default and silence this warning.\n",
      "  df_unique = df_new.groupby('name').agg({'lat': 'first', 'lng': 'first'}).reset_index()\n"
     ]
    },
    {
     "name": "stdout",
     "output_type": "stream",
     "text": [
      "Map saved as D:\\df\\maps\\map_1281.html\n",
      "Map saved as D:\\df\\maps\\map_1282.html\n",
      "Map saved as D:\\df\\maps\\map_1283.html\n",
      "Map saved as D:\\df\\maps\\map_1284.html\n"
     ]
    },
    {
     "name": "stderr",
     "output_type": "stream",
     "text": [
      "C:\\Users\\Fenin Jose\\AppData\\Local\\Temp\\ipykernel_17548\\574676199.py:17: FutureWarning: The default of observed=False is deprecated and will be changed to True in a future version of pandas. Pass observed=False to retain current behavior or observed=True to adopt the future default and silence this warning.\n",
      "  df_unique = df_new.groupby('name').agg({'lat': 'first', 'lng': 'first'}).reset_index()\n",
      "C:\\Users\\Fenin Jose\\AppData\\Local\\Temp\\ipykernel_17548\\574676199.py:17: FutureWarning: The default of observed=False is deprecated and will be changed to True in a future version of pandas. Pass observed=False to retain current behavior or observed=True to adopt the future default and silence this warning.\n",
      "  df_unique = df_new.groupby('name').agg({'lat': 'first', 'lng': 'first'}).reset_index()\n",
      "C:\\Users\\Fenin Jose\\AppData\\Local\\Temp\\ipykernel_17548\\574676199.py:17: FutureWarning: The default of observed=False is deprecated and will be changed to True in a future version of pandas. Pass observed=False to retain current behavior or observed=True to adopt the future default and silence this warning.\n",
      "  df_unique = df_new.groupby('name').agg({'lat': 'first', 'lng': 'first'}).reset_index()\n",
      "C:\\Users\\Fenin Jose\\AppData\\Local\\Temp\\ipykernel_17548\\574676199.py:17: FutureWarning: The default of observed=False is deprecated and will be changed to True in a future version of pandas. Pass observed=False to retain current behavior or observed=True to adopt the future default and silence this warning.\n",
      "  df_unique = df_new.groupby('name').agg({'lat': 'first', 'lng': 'first'}).reset_index()\n"
     ]
    },
    {
     "name": "stdout",
     "output_type": "stream",
     "text": [
      "Map saved as D:\\df\\maps\\map_1285.html\n",
      "Map saved as D:\\df\\maps\\map_1286.html\n",
      "Map saved as D:\\df\\maps\\map_1287.html\n"
     ]
    },
    {
     "name": "stderr",
     "output_type": "stream",
     "text": [
      "C:\\Users\\Fenin Jose\\AppData\\Local\\Temp\\ipykernel_17548\\574676199.py:17: FutureWarning: The default of observed=False is deprecated and will be changed to True in a future version of pandas. Pass observed=False to retain current behavior or observed=True to adopt the future default and silence this warning.\n",
      "  df_unique = df_new.groupby('name').agg({'lat': 'first', 'lng': 'first'}).reset_index()\n",
      "C:\\Users\\Fenin Jose\\AppData\\Local\\Temp\\ipykernel_17548\\574676199.py:17: FutureWarning: The default of observed=False is deprecated and will be changed to True in a future version of pandas. Pass observed=False to retain current behavior or observed=True to adopt the future default and silence this warning.\n",
      "  df_unique = df_new.groupby('name').agg({'lat': 'first', 'lng': 'first'}).reset_index()\n",
      "C:\\Users\\Fenin Jose\\AppData\\Local\\Temp\\ipykernel_17548\\574676199.py:17: FutureWarning: The default of observed=False is deprecated and will be changed to True in a future version of pandas. Pass observed=False to retain current behavior or observed=True to adopt the future default and silence this warning.\n",
      "  df_unique = df_new.groupby('name').agg({'lat': 'first', 'lng': 'first'}).reset_index()\n"
     ]
    },
    {
     "name": "stdout",
     "output_type": "stream",
     "text": [
      "Map saved as D:\\df\\maps\\map_1288.html\n",
      "Map saved as D:\\df\\maps\\map_1289.html\n",
      "Map saved as D:\\df\\maps\\map_1290.html\n"
     ]
    },
    {
     "name": "stderr",
     "output_type": "stream",
     "text": [
      "C:\\Users\\Fenin Jose\\AppData\\Local\\Temp\\ipykernel_17548\\574676199.py:17: FutureWarning: The default of observed=False is deprecated and will be changed to True in a future version of pandas. Pass observed=False to retain current behavior or observed=True to adopt the future default and silence this warning.\n",
      "  df_unique = df_new.groupby('name').agg({'lat': 'first', 'lng': 'first'}).reset_index()\n",
      "C:\\Users\\Fenin Jose\\AppData\\Local\\Temp\\ipykernel_17548\\574676199.py:17: FutureWarning: The default of observed=False is deprecated and will be changed to True in a future version of pandas. Pass observed=False to retain current behavior or observed=True to adopt the future default and silence this warning.\n",
      "  df_unique = df_new.groupby('name').agg({'lat': 'first', 'lng': 'first'}).reset_index()\n",
      "C:\\Users\\Fenin Jose\\AppData\\Local\\Temp\\ipykernel_17548\\574676199.py:17: FutureWarning: The default of observed=False is deprecated and will be changed to True in a future version of pandas. Pass observed=False to retain current behavior or observed=True to adopt the future default and silence this warning.\n",
      "  df_unique = df_new.groupby('name').agg({'lat': 'first', 'lng': 'first'}).reset_index()\n"
     ]
    },
    {
     "name": "stdout",
     "output_type": "stream",
     "text": [
      "Map saved as D:\\df\\maps\\map_1291.html\n",
      "Map saved as D:\\df\\maps\\map_1292.html\n",
      "Map saved as D:\\df\\maps\\map_1293.html\n",
      "Map saved as D:\\df\\maps\\map_1294.html\n",
      "Map saved as D:\\df\\maps\\map_1295.html\n"
     ]
    },
    {
     "name": "stderr",
     "output_type": "stream",
     "text": [
      "C:\\Users\\Fenin Jose\\AppData\\Local\\Temp\\ipykernel_17548\\574676199.py:17: FutureWarning: The default of observed=False is deprecated and will be changed to True in a future version of pandas. Pass observed=False to retain current behavior or observed=True to adopt the future default and silence this warning.\n",
      "  df_unique = df_new.groupby('name').agg({'lat': 'first', 'lng': 'first'}).reset_index()\n",
      "C:\\Users\\Fenin Jose\\AppData\\Local\\Temp\\ipykernel_17548\\574676199.py:17: FutureWarning: The default of observed=False is deprecated and will be changed to True in a future version of pandas. Pass observed=False to retain current behavior or observed=True to adopt the future default and silence this warning.\n",
      "  df_unique = df_new.groupby('name').agg({'lat': 'first', 'lng': 'first'}).reset_index()\n",
      "C:\\Users\\Fenin Jose\\AppData\\Local\\Temp\\ipykernel_17548\\574676199.py:17: FutureWarning: The default of observed=False is deprecated and will be changed to True in a future version of pandas. Pass observed=False to retain current behavior or observed=True to adopt the future default and silence this warning.\n",
      "  df_unique = df_new.groupby('name').agg({'lat': 'first', 'lng': 'first'}).reset_index()\n",
      "C:\\Users\\Fenin Jose\\AppData\\Local\\Temp\\ipykernel_17548\\574676199.py:17: FutureWarning: The default of observed=False is deprecated and will be changed to True in a future version of pandas. Pass observed=False to retain current behavior or observed=True to adopt the future default and silence this warning.\n",
      "  df_unique = df_new.groupby('name').agg({'lat': 'first', 'lng': 'first'}).reset_index()\n",
      "C:\\Users\\Fenin Jose\\AppData\\Local\\Temp\\ipykernel_17548\\574676199.py:17: FutureWarning: The default of observed=False is deprecated and will be changed to True in a future version of pandas. Pass observed=False to retain current behavior or observed=True to adopt the future default and silence this warning.\n",
      "  df_unique = df_new.groupby('name').agg({'lat': 'first', 'lng': 'first'}).reset_index()\n"
     ]
    },
    {
     "name": "stdout",
     "output_type": "stream",
     "text": [
      "Map saved as D:\\df\\maps\\map_1296.html\n",
      "Map saved as D:\\df\\maps\\map_1297.html\n",
      "Map saved as D:\\df\\maps\\map_1298.html\n",
      "Map saved as D:\\df\\maps\\map_1299.html\n",
      "Map saved as D:\\df\\maps\\map_1300.html\n"
     ]
    },
    {
     "name": "stderr",
     "output_type": "stream",
     "text": [
      "C:\\Users\\Fenin Jose\\AppData\\Local\\Temp\\ipykernel_17548\\574676199.py:17: FutureWarning: The default of observed=False is deprecated and will be changed to True in a future version of pandas. Pass observed=False to retain current behavior or observed=True to adopt the future default and silence this warning.\n",
      "  df_unique = df_new.groupby('name').agg({'lat': 'first', 'lng': 'first'}).reset_index()\n",
      "C:\\Users\\Fenin Jose\\AppData\\Local\\Temp\\ipykernel_17548\\574676199.py:17: FutureWarning: The default of observed=False is deprecated and will be changed to True in a future version of pandas. Pass observed=False to retain current behavior or observed=True to adopt the future default and silence this warning.\n",
      "  df_unique = df_new.groupby('name').agg({'lat': 'first', 'lng': 'first'}).reset_index()\n",
      "C:\\Users\\Fenin Jose\\AppData\\Local\\Temp\\ipykernel_17548\\574676199.py:17: FutureWarning: The default of observed=False is deprecated and will be changed to True in a future version of pandas. Pass observed=False to retain current behavior or observed=True to adopt the future default and silence this warning.\n",
      "  df_unique = df_new.groupby('name').agg({'lat': 'first', 'lng': 'first'}).reset_index()\n",
      "C:\\Users\\Fenin Jose\\AppData\\Local\\Temp\\ipykernel_17548\\574676199.py:17: FutureWarning: The default of observed=False is deprecated and will be changed to True in a future version of pandas. Pass observed=False to retain current behavior or observed=True to adopt the future default and silence this warning.\n",
      "  df_unique = df_new.groupby('name').agg({'lat': 'first', 'lng': 'first'}).reset_index()\n",
      "C:\\Users\\Fenin Jose\\AppData\\Local\\Temp\\ipykernel_17548\\574676199.py:17: FutureWarning: The default of observed=False is deprecated and will be changed to True in a future version of pandas. Pass observed=False to retain current behavior or observed=True to adopt the future default and silence this warning.\n",
      "  df_unique = df_new.groupby('name').agg({'lat': 'first', 'lng': 'first'}).reset_index()\n"
     ]
    },
    {
     "name": "stdout",
     "output_type": "stream",
     "text": [
      "Map saved as D:\\df\\maps\\map_1301.html\n",
      "Map saved as D:\\df\\maps\\map_1302.html\n",
      "Map saved as D:\\df\\maps\\map_1303.html\n",
      "Map saved as D:\\df\\maps\\map_1304.html\n"
     ]
    },
    {
     "name": "stderr",
     "output_type": "stream",
     "text": [
      "C:\\Users\\Fenin Jose\\AppData\\Local\\Temp\\ipykernel_17548\\574676199.py:17: FutureWarning: The default of observed=False is deprecated and will be changed to True in a future version of pandas. Pass observed=False to retain current behavior or observed=True to adopt the future default and silence this warning.\n",
      "  df_unique = df_new.groupby('name').agg({'lat': 'first', 'lng': 'first'}).reset_index()\n",
      "C:\\Users\\Fenin Jose\\AppData\\Local\\Temp\\ipykernel_17548\\574676199.py:17: FutureWarning: The default of observed=False is deprecated and will be changed to True in a future version of pandas. Pass observed=False to retain current behavior or observed=True to adopt the future default and silence this warning.\n",
      "  df_unique = df_new.groupby('name').agg({'lat': 'first', 'lng': 'first'}).reset_index()\n",
      "C:\\Users\\Fenin Jose\\AppData\\Local\\Temp\\ipykernel_17548\\574676199.py:17: FutureWarning: The default of observed=False is deprecated and will be changed to True in a future version of pandas. Pass observed=False to retain current behavior or observed=True to adopt the future default and silence this warning.\n",
      "  df_unique = df_new.groupby('name').agg({'lat': 'first', 'lng': 'first'}).reset_index()\n",
      "C:\\Users\\Fenin Jose\\AppData\\Local\\Temp\\ipykernel_17548\\574676199.py:17: FutureWarning: The default of observed=False is deprecated and will be changed to True in a future version of pandas. Pass observed=False to retain current behavior or observed=True to adopt the future default and silence this warning.\n",
      "  df_unique = df_new.groupby('name').agg({'lat': 'first', 'lng': 'first'}).reset_index()\n",
      "C:\\Users\\Fenin Jose\\AppData\\Local\\Temp\\ipykernel_17548\\574676199.py:17: FutureWarning: The default of observed=False is deprecated and will be changed to True in a future version of pandas. Pass observed=False to retain current behavior or observed=True to adopt the future default and silence this warning.\n",
      "  df_unique = df_new.groupby('name').agg({'lat': 'first', 'lng': 'first'}).reset_index()\n",
      "C:\\Users\\Fenin Jose\\AppData\\Local\\Temp\\ipykernel_17548\\574676199.py:17: FutureWarning: The default of observed=False is deprecated and will be changed to True in a future version of pandas. Pass observed=False to retain current behavior or observed=True to adopt the future default and silence this warning.\n",
      "  df_unique = df_new.groupby('name').agg({'lat': 'first', 'lng': 'first'}).reset_index()\n"
     ]
    },
    {
     "name": "stdout",
     "output_type": "stream",
     "text": [
      "Map saved as D:\\df\\maps\\map_1305.html\n",
      "Map saved as D:\\df\\maps\\map_1306.html\n",
      "Map saved as D:\\df\\maps\\map_1307.html\n",
      "Map saved as D:\\df\\maps\\map_1308.html\n",
      "Map saved as D:\\df\\maps\\map_1309.html\n"
     ]
    },
    {
     "name": "stderr",
     "output_type": "stream",
     "text": [
      "C:\\Users\\Fenin Jose\\AppData\\Local\\Temp\\ipykernel_17548\\574676199.py:17: FutureWarning: The default of observed=False is deprecated and will be changed to True in a future version of pandas. Pass observed=False to retain current behavior or observed=True to adopt the future default and silence this warning.\n",
      "  df_unique = df_new.groupby('name').agg({'lat': 'first', 'lng': 'first'}).reset_index()\n",
      "C:\\Users\\Fenin Jose\\AppData\\Local\\Temp\\ipykernel_17548\\574676199.py:17: FutureWarning: The default of observed=False is deprecated and will be changed to True in a future version of pandas. Pass observed=False to retain current behavior or observed=True to adopt the future default and silence this warning.\n",
      "  df_unique = df_new.groupby('name').agg({'lat': 'first', 'lng': 'first'}).reset_index()\n",
      "C:\\Users\\Fenin Jose\\AppData\\Local\\Temp\\ipykernel_17548\\574676199.py:17: FutureWarning: The default of observed=False is deprecated and will be changed to True in a future version of pandas. Pass observed=False to retain current behavior or observed=True to adopt the future default and silence this warning.\n",
      "  df_unique = df_new.groupby('name').agg({'lat': 'first', 'lng': 'first'}).reset_index()\n"
     ]
    },
    {
     "name": "stdout",
     "output_type": "stream",
     "text": [
      "Map saved as D:\\df\\maps\\map_1310.html\n",
      "Map saved as D:\\df\\maps\\map_1311.html\n",
      "Map saved as D:\\df\\maps\\map_1312.html\n"
     ]
    },
    {
     "name": "stderr",
     "output_type": "stream",
     "text": [
      "C:\\Users\\Fenin Jose\\AppData\\Local\\Temp\\ipykernel_17548\\574676199.py:17: FutureWarning: The default of observed=False is deprecated and will be changed to True in a future version of pandas. Pass observed=False to retain current behavior or observed=True to adopt the future default and silence this warning.\n",
      "  df_unique = df_new.groupby('name').agg({'lat': 'first', 'lng': 'first'}).reset_index()\n",
      "C:\\Users\\Fenin Jose\\AppData\\Local\\Temp\\ipykernel_17548\\574676199.py:17: FutureWarning: The default of observed=False is deprecated and will be changed to True in a future version of pandas. Pass observed=False to retain current behavior or observed=True to adopt the future default and silence this warning.\n",
      "  df_unique = df_new.groupby('name').agg({'lat': 'first', 'lng': 'first'}).reset_index()\n",
      "C:\\Users\\Fenin Jose\\AppData\\Local\\Temp\\ipykernel_17548\\574676199.py:17: FutureWarning: The default of observed=False is deprecated and will be changed to True in a future version of pandas. Pass observed=False to retain current behavior or observed=True to adopt the future default and silence this warning.\n",
      "  df_unique = df_new.groupby('name').agg({'lat': 'first', 'lng': 'first'}).reset_index()\n"
     ]
    },
    {
     "name": "stdout",
     "output_type": "stream",
     "text": [
      "Map saved as D:\\df\\maps\\map_1313.html\n",
      "Map saved as D:\\df\\maps\\map_1314.html\n",
      "Map saved as D:\\df\\maps\\map_1315.html\n",
      "Map saved as D:\\df\\maps\\map_1316.html\n"
     ]
    },
    {
     "name": "stderr",
     "output_type": "stream",
     "text": [
      "C:\\Users\\Fenin Jose\\AppData\\Local\\Temp\\ipykernel_17548\\574676199.py:17: FutureWarning: The default of observed=False is deprecated and will be changed to True in a future version of pandas. Pass observed=False to retain current behavior or observed=True to adopt the future default and silence this warning.\n",
      "  df_unique = df_new.groupby('name').agg({'lat': 'first', 'lng': 'first'}).reset_index()\n",
      "C:\\Users\\Fenin Jose\\AppData\\Local\\Temp\\ipykernel_17548\\574676199.py:17: FutureWarning: The default of observed=False is deprecated and will be changed to True in a future version of pandas. Pass observed=False to retain current behavior or observed=True to adopt the future default and silence this warning.\n",
      "  df_unique = df_new.groupby('name').agg({'lat': 'first', 'lng': 'first'}).reset_index()\n",
      "C:\\Users\\Fenin Jose\\AppData\\Local\\Temp\\ipykernel_17548\\574676199.py:17: FutureWarning: The default of observed=False is deprecated and will be changed to True in a future version of pandas. Pass observed=False to retain current behavior or observed=True to adopt the future default and silence this warning.\n",
      "  df_unique = df_new.groupby('name').agg({'lat': 'first', 'lng': 'first'}).reset_index()\n",
      "C:\\Users\\Fenin Jose\\AppData\\Local\\Temp\\ipykernel_17548\\574676199.py:17: FutureWarning: The default of observed=False is deprecated and will be changed to True in a future version of pandas. Pass observed=False to retain current behavior or observed=True to adopt the future default and silence this warning.\n",
      "  df_unique = df_new.groupby('name').agg({'lat': 'first', 'lng': 'first'}).reset_index()\n"
     ]
    },
    {
     "name": "stdout",
     "output_type": "stream",
     "text": [
      "Map saved as D:\\df\\maps\\map_1317.html\n",
      "Map saved as D:\\df\\maps\\map_1318.html\n"
     ]
    },
    {
     "name": "stderr",
     "output_type": "stream",
     "text": [
      "C:\\Users\\Fenin Jose\\AppData\\Local\\Temp\\ipykernel_17548\\574676199.py:17: FutureWarning: The default of observed=False is deprecated and will be changed to True in a future version of pandas. Pass observed=False to retain current behavior or observed=True to adopt the future default and silence this warning.\n",
      "  df_unique = df_new.groupby('name').agg({'lat': 'first', 'lng': 'first'}).reset_index()\n",
      "C:\\Users\\Fenin Jose\\AppData\\Local\\Temp\\ipykernel_17548\\574676199.py:17: FutureWarning: The default of observed=False is deprecated and will be changed to True in a future version of pandas. Pass observed=False to retain current behavior or observed=True to adopt the future default and silence this warning.\n",
      "  df_unique = df_new.groupby('name').agg({'lat': 'first', 'lng': 'first'}).reset_index()\n"
     ]
    },
    {
     "name": "stdout",
     "output_type": "stream",
     "text": [
      "Map saved as D:\\df\\maps\\map_1319.html\n",
      "Map saved as D:\\df\\maps\\map_1320.html\n",
      "Map saved as D:\\df\\maps\\map_1321.html\n",
      "Map saved as D:\\df\\maps\\map_1322.html\n",
      "Map saved as D:\\df\\maps\\map_1323.html\n"
     ]
    },
    {
     "name": "stderr",
     "output_type": "stream",
     "text": [
      "C:\\Users\\Fenin Jose\\AppData\\Local\\Temp\\ipykernel_17548\\574676199.py:17: FutureWarning: The default of observed=False is deprecated and will be changed to True in a future version of pandas. Pass observed=False to retain current behavior or observed=True to adopt the future default and silence this warning.\n",
      "  df_unique = df_new.groupby('name').agg({'lat': 'first', 'lng': 'first'}).reset_index()\n",
      "C:\\Users\\Fenin Jose\\AppData\\Local\\Temp\\ipykernel_17548\\574676199.py:17: FutureWarning: The default of observed=False is deprecated and will be changed to True in a future version of pandas. Pass observed=False to retain current behavior or observed=True to adopt the future default and silence this warning.\n",
      "  df_unique = df_new.groupby('name').agg({'lat': 'first', 'lng': 'first'}).reset_index()\n",
      "C:\\Users\\Fenin Jose\\AppData\\Local\\Temp\\ipykernel_17548\\574676199.py:17: FutureWarning: The default of observed=False is deprecated and will be changed to True in a future version of pandas. Pass observed=False to retain current behavior or observed=True to adopt the future default and silence this warning.\n",
      "  df_unique = df_new.groupby('name').agg({'lat': 'first', 'lng': 'first'}).reset_index()\n",
      "C:\\Users\\Fenin Jose\\AppData\\Local\\Temp\\ipykernel_17548\\574676199.py:17: FutureWarning: The default of observed=False is deprecated and will be changed to True in a future version of pandas. Pass observed=False to retain current behavior or observed=True to adopt the future default and silence this warning.\n",
      "  df_unique = df_new.groupby('name').agg({'lat': 'first', 'lng': 'first'}).reset_index()\n",
      "C:\\Users\\Fenin Jose\\AppData\\Local\\Temp\\ipykernel_17548\\574676199.py:17: FutureWarning: The default of observed=False is deprecated and will be changed to True in a future version of pandas. Pass observed=False to retain current behavior or observed=True to adopt the future default and silence this warning.\n",
      "  df_unique = df_new.groupby('name').agg({'lat': 'first', 'lng': 'first'}).reset_index()\n"
     ]
    },
    {
     "name": "stdout",
     "output_type": "stream",
     "text": [
      "Map saved as D:\\df\\maps\\map_1324.html\n",
      "Map saved as D:\\df\\maps\\map_1325.html\n",
      "Map saved as D:\\df\\maps\\map_1326.html\n",
      "Map saved as D:\\df\\maps\\map_1327.html\n"
     ]
    },
    {
     "name": "stderr",
     "output_type": "stream",
     "text": [
      "C:\\Users\\Fenin Jose\\AppData\\Local\\Temp\\ipykernel_17548\\574676199.py:17: FutureWarning: The default of observed=False is deprecated and will be changed to True in a future version of pandas. Pass observed=False to retain current behavior or observed=True to adopt the future default and silence this warning.\n",
      "  df_unique = df_new.groupby('name').agg({'lat': 'first', 'lng': 'first'}).reset_index()\n",
      "C:\\Users\\Fenin Jose\\AppData\\Local\\Temp\\ipykernel_17548\\574676199.py:17: FutureWarning: The default of observed=False is deprecated and will be changed to True in a future version of pandas. Pass observed=False to retain current behavior or observed=True to adopt the future default and silence this warning.\n",
      "  df_unique = df_new.groupby('name').agg({'lat': 'first', 'lng': 'first'}).reset_index()\n",
      "C:\\Users\\Fenin Jose\\AppData\\Local\\Temp\\ipykernel_17548\\574676199.py:17: FutureWarning: The default of observed=False is deprecated and will be changed to True in a future version of pandas. Pass observed=False to retain current behavior or observed=True to adopt the future default and silence this warning.\n",
      "  df_unique = df_new.groupby('name').agg({'lat': 'first', 'lng': 'first'}).reset_index()\n",
      "C:\\Users\\Fenin Jose\\AppData\\Local\\Temp\\ipykernel_17548\\574676199.py:17: FutureWarning: The default of observed=False is deprecated and will be changed to True in a future version of pandas. Pass observed=False to retain current behavior or observed=True to adopt the future default and silence this warning.\n",
      "  df_unique = df_new.groupby('name').agg({'lat': 'first', 'lng': 'first'}).reset_index()\n"
     ]
    },
    {
     "name": "stdout",
     "output_type": "stream",
     "text": [
      "Map saved as D:\\df\\maps\\map_1328.html\n",
      "Map saved as D:\\df\\maps\\map_1329.html\n",
      "Map saved as D:\\df\\maps\\map_1330.html\n",
      "Map saved as D:\\df\\maps\\map_1331.html\n"
     ]
    },
    {
     "name": "stderr",
     "output_type": "stream",
     "text": [
      "C:\\Users\\Fenin Jose\\AppData\\Local\\Temp\\ipykernel_17548\\574676199.py:17: FutureWarning: The default of observed=False is deprecated and will be changed to True in a future version of pandas. Pass observed=False to retain current behavior or observed=True to adopt the future default and silence this warning.\n",
      "  df_unique = df_new.groupby('name').agg({'lat': 'first', 'lng': 'first'}).reset_index()\n",
      "C:\\Users\\Fenin Jose\\AppData\\Local\\Temp\\ipykernel_17548\\574676199.py:17: FutureWarning: The default of observed=False is deprecated and will be changed to True in a future version of pandas. Pass observed=False to retain current behavior or observed=True to adopt the future default and silence this warning.\n",
      "  df_unique = df_new.groupby('name').agg({'lat': 'first', 'lng': 'first'}).reset_index()\n",
      "C:\\Users\\Fenin Jose\\AppData\\Local\\Temp\\ipykernel_17548\\574676199.py:17: FutureWarning: The default of observed=False is deprecated and will be changed to True in a future version of pandas. Pass observed=False to retain current behavior or observed=True to adopt the future default and silence this warning.\n",
      "  df_unique = df_new.groupby('name').agg({'lat': 'first', 'lng': 'first'}).reset_index()\n",
      "C:\\Users\\Fenin Jose\\AppData\\Local\\Temp\\ipykernel_17548\\574676199.py:17: FutureWarning: The default of observed=False is deprecated and will be changed to True in a future version of pandas. Pass observed=False to retain current behavior or observed=True to adopt the future default and silence this warning.\n",
      "  df_unique = df_new.groupby('name').agg({'lat': 'first', 'lng': 'first'}).reset_index()\n"
     ]
    },
    {
     "name": "stdout",
     "output_type": "stream",
     "text": [
      "Map saved as D:\\df\\maps\\map_1332.html\n",
      "Map saved as D:\\df\\maps\\map_1333.html\n",
      "Map saved as D:\\df\\maps\\map_1334.html\n"
     ]
    },
    {
     "name": "stderr",
     "output_type": "stream",
     "text": [
      "C:\\Users\\Fenin Jose\\AppData\\Local\\Temp\\ipykernel_17548\\574676199.py:17: FutureWarning: The default of observed=False is deprecated and will be changed to True in a future version of pandas. Pass observed=False to retain current behavior or observed=True to adopt the future default and silence this warning.\n",
      "  df_unique = df_new.groupby('name').agg({'lat': 'first', 'lng': 'first'}).reset_index()\n",
      "C:\\Users\\Fenin Jose\\AppData\\Local\\Temp\\ipykernel_17548\\574676199.py:17: FutureWarning: The default of observed=False is deprecated and will be changed to True in a future version of pandas. Pass observed=False to retain current behavior or observed=True to adopt the future default and silence this warning.\n",
      "  df_unique = df_new.groupby('name').agg({'lat': 'first', 'lng': 'first'}).reset_index()\n",
      "C:\\Users\\Fenin Jose\\AppData\\Local\\Temp\\ipykernel_17548\\574676199.py:17: FutureWarning: The default of observed=False is deprecated and will be changed to True in a future version of pandas. Pass observed=False to retain current behavior or observed=True to adopt the future default and silence this warning.\n",
      "  df_unique = df_new.groupby('name').agg({'lat': 'first', 'lng': 'first'}).reset_index()\n"
     ]
    },
    {
     "name": "stdout",
     "output_type": "stream",
     "text": [
      "Map saved as D:\\df\\maps\\map_1335.html\n",
      "Map saved as D:\\df\\maps\\map_1336.html\n",
      "Map saved as D:\\df\\maps\\map_1337.html\n",
      "Map saved as D:\\df\\maps\\map_1338.html\n"
     ]
    },
    {
     "name": "stderr",
     "output_type": "stream",
     "text": [
      "C:\\Users\\Fenin Jose\\AppData\\Local\\Temp\\ipykernel_17548\\574676199.py:17: FutureWarning: The default of observed=False is deprecated and will be changed to True in a future version of pandas. Pass observed=False to retain current behavior or observed=True to adopt the future default and silence this warning.\n",
      "  df_unique = df_new.groupby('name').agg({'lat': 'first', 'lng': 'first'}).reset_index()\n",
      "C:\\Users\\Fenin Jose\\AppData\\Local\\Temp\\ipykernel_17548\\574676199.py:17: FutureWarning: The default of observed=False is deprecated and will be changed to True in a future version of pandas. Pass observed=False to retain current behavior or observed=True to adopt the future default and silence this warning.\n",
      "  df_unique = df_new.groupby('name').agg({'lat': 'first', 'lng': 'first'}).reset_index()\n",
      "C:\\Users\\Fenin Jose\\AppData\\Local\\Temp\\ipykernel_17548\\574676199.py:17: FutureWarning: The default of observed=False is deprecated and will be changed to True in a future version of pandas. Pass observed=False to retain current behavior or observed=True to adopt the future default and silence this warning.\n",
      "  df_unique = df_new.groupby('name').agg({'lat': 'first', 'lng': 'first'}).reset_index()\n",
      "C:\\Users\\Fenin Jose\\AppData\\Local\\Temp\\ipykernel_17548\\574676199.py:17: FutureWarning: The default of observed=False is deprecated and will be changed to True in a future version of pandas. Pass observed=False to retain current behavior or observed=True to adopt the future default and silence this warning.\n",
      "  df_unique = df_new.groupby('name').agg({'lat': 'first', 'lng': 'first'}).reset_index()\n"
     ]
    },
    {
     "name": "stdout",
     "output_type": "stream",
     "text": [
      "Map saved as D:\\df\\maps\\map_1339.html\n",
      "Map saved as D:\\df\\maps\\map_1340.html\n",
      "Map saved as D:\\df\\maps\\map_1341.html\n",
      "Map saved as D:\\df\\maps\\map_1342.html\n"
     ]
    },
    {
     "name": "stderr",
     "output_type": "stream",
     "text": [
      "C:\\Users\\Fenin Jose\\AppData\\Local\\Temp\\ipykernel_17548\\574676199.py:17: FutureWarning: The default of observed=False is deprecated and will be changed to True in a future version of pandas. Pass observed=False to retain current behavior or observed=True to adopt the future default and silence this warning.\n",
      "  df_unique = df_new.groupby('name').agg({'lat': 'first', 'lng': 'first'}).reset_index()\n",
      "C:\\Users\\Fenin Jose\\AppData\\Local\\Temp\\ipykernel_17548\\574676199.py:17: FutureWarning: The default of observed=False is deprecated and will be changed to True in a future version of pandas. Pass observed=False to retain current behavior or observed=True to adopt the future default and silence this warning.\n",
      "  df_unique = df_new.groupby('name').agg({'lat': 'first', 'lng': 'first'}).reset_index()\n",
      "C:\\Users\\Fenin Jose\\AppData\\Local\\Temp\\ipykernel_17548\\574676199.py:17: FutureWarning: The default of observed=False is deprecated and will be changed to True in a future version of pandas. Pass observed=False to retain current behavior or observed=True to adopt the future default and silence this warning.\n",
      "  df_unique = df_new.groupby('name').agg({'lat': 'first', 'lng': 'first'}).reset_index()\n",
      "C:\\Users\\Fenin Jose\\AppData\\Local\\Temp\\ipykernel_17548\\574676199.py:17: FutureWarning: The default of observed=False is deprecated and will be changed to True in a future version of pandas. Pass observed=False to retain current behavior or observed=True to adopt the future default and silence this warning.\n",
      "  df_unique = df_new.groupby('name').agg({'lat': 'first', 'lng': 'first'}).reset_index()\n"
     ]
    },
    {
     "name": "stdout",
     "output_type": "stream",
     "text": [
      "Map saved as D:\\df\\maps\\map_1343.html\n",
      "Map saved as D:\\df\\maps\\map_1344.html\n",
      "Map saved as D:\\df\\maps\\map_1345.html\n",
      "Map saved as D:\\df\\maps\\map_1346.html\n"
     ]
    },
    {
     "name": "stderr",
     "output_type": "stream",
     "text": [
      "C:\\Users\\Fenin Jose\\AppData\\Local\\Temp\\ipykernel_17548\\574676199.py:17: FutureWarning: The default of observed=False is deprecated and will be changed to True in a future version of pandas. Pass observed=False to retain current behavior or observed=True to adopt the future default and silence this warning.\n",
      "  df_unique = df_new.groupby('name').agg({'lat': 'first', 'lng': 'first'}).reset_index()\n",
      "C:\\Users\\Fenin Jose\\AppData\\Local\\Temp\\ipykernel_17548\\574676199.py:17: FutureWarning: The default of observed=False is deprecated and will be changed to True in a future version of pandas. Pass observed=False to retain current behavior or observed=True to adopt the future default and silence this warning.\n",
      "  df_unique = df_new.groupby('name').agg({'lat': 'first', 'lng': 'first'}).reset_index()\n",
      "C:\\Users\\Fenin Jose\\AppData\\Local\\Temp\\ipykernel_17548\\574676199.py:17: FutureWarning: The default of observed=False is deprecated and will be changed to True in a future version of pandas. Pass observed=False to retain current behavior or observed=True to adopt the future default and silence this warning.\n",
      "  df_unique = df_new.groupby('name').agg({'lat': 'first', 'lng': 'first'}).reset_index()\n",
      "C:\\Users\\Fenin Jose\\AppData\\Local\\Temp\\ipykernel_17548\\574676199.py:17: FutureWarning: The default of observed=False is deprecated and will be changed to True in a future version of pandas. Pass observed=False to retain current behavior or observed=True to adopt the future default and silence this warning.\n",
      "  df_unique = df_new.groupby('name').agg({'lat': 'first', 'lng': 'first'}).reset_index()\n"
     ]
    },
    {
     "name": "stdout",
     "output_type": "stream",
     "text": [
      "Map saved as D:\\df\\maps\\map_1347.html\n",
      "Map saved as D:\\df\\maps\\map_1348.html\n",
      "Map saved as D:\\df\\maps\\map_1349.html\n"
     ]
    },
    {
     "name": "stderr",
     "output_type": "stream",
     "text": [
      "C:\\Users\\Fenin Jose\\AppData\\Local\\Temp\\ipykernel_17548\\574676199.py:17: FutureWarning: The default of observed=False is deprecated and will be changed to True in a future version of pandas. Pass observed=False to retain current behavior or observed=True to adopt the future default and silence this warning.\n",
      "  df_unique = df_new.groupby('name').agg({'lat': 'first', 'lng': 'first'}).reset_index()\n",
      "C:\\Users\\Fenin Jose\\AppData\\Local\\Temp\\ipykernel_17548\\574676199.py:17: FutureWarning: The default of observed=False is deprecated and will be changed to True in a future version of pandas. Pass observed=False to retain current behavior or observed=True to adopt the future default and silence this warning.\n",
      "  df_unique = df_new.groupby('name').agg({'lat': 'first', 'lng': 'first'}).reset_index()\n",
      "C:\\Users\\Fenin Jose\\AppData\\Local\\Temp\\ipykernel_17548\\574676199.py:17: FutureWarning: The default of observed=False is deprecated and will be changed to True in a future version of pandas. Pass observed=False to retain current behavior or observed=True to adopt the future default and silence this warning.\n",
      "  df_unique = df_new.groupby('name').agg({'lat': 'first', 'lng': 'first'}).reset_index()\n"
     ]
    },
    {
     "name": "stdout",
     "output_type": "stream",
     "text": [
      "Map saved as D:\\df\\maps\\map_1350.html\n",
      "Map saved as D:\\df\\maps\\map_1351.html\n",
      "Map saved as D:\\df\\maps\\map_1352.html\n",
      "Map saved as D:\\df\\maps\\map_1353.html\n",
      "Map saved as D:\\df\\maps\\map_1354.html\n"
     ]
    },
    {
     "name": "stderr",
     "output_type": "stream",
     "text": [
      "C:\\Users\\Fenin Jose\\AppData\\Local\\Temp\\ipykernel_17548\\574676199.py:17: FutureWarning: The default of observed=False is deprecated and will be changed to True in a future version of pandas. Pass observed=False to retain current behavior or observed=True to adopt the future default and silence this warning.\n",
      "  df_unique = df_new.groupby('name').agg({'lat': 'first', 'lng': 'first'}).reset_index()\n",
      "C:\\Users\\Fenin Jose\\AppData\\Local\\Temp\\ipykernel_17548\\574676199.py:17: FutureWarning: The default of observed=False is deprecated and will be changed to True in a future version of pandas. Pass observed=False to retain current behavior or observed=True to adopt the future default and silence this warning.\n",
      "  df_unique = df_new.groupby('name').agg({'lat': 'first', 'lng': 'first'}).reset_index()\n",
      "C:\\Users\\Fenin Jose\\AppData\\Local\\Temp\\ipykernel_17548\\574676199.py:17: FutureWarning: The default of observed=False is deprecated and will be changed to True in a future version of pandas. Pass observed=False to retain current behavior or observed=True to adopt the future default and silence this warning.\n",
      "  df_unique = df_new.groupby('name').agg({'lat': 'first', 'lng': 'first'}).reset_index()\n",
      "C:\\Users\\Fenin Jose\\AppData\\Local\\Temp\\ipykernel_17548\\574676199.py:17: FutureWarning: The default of observed=False is deprecated and will be changed to True in a future version of pandas. Pass observed=False to retain current behavior or observed=True to adopt the future default and silence this warning.\n",
      "  df_unique = df_new.groupby('name').agg({'lat': 'first', 'lng': 'first'}).reset_index()\n",
      "C:\\Users\\Fenin Jose\\AppData\\Local\\Temp\\ipykernel_17548\\574676199.py:17: FutureWarning: The default of observed=False is deprecated and will be changed to True in a future version of pandas. Pass observed=False to retain current behavior or observed=True to adopt the future default and silence this warning.\n",
      "  df_unique = df_new.groupby('name').agg({'lat': 'first', 'lng': 'first'}).reset_index()\n"
     ]
    },
    {
     "name": "stdout",
     "output_type": "stream",
     "text": [
      "Map saved as D:\\df\\maps\\map_1355.html\n",
      "Map saved as D:\\df\\maps\\map_1356.html\n",
      "Map saved as D:\\df\\maps\\map_1357.html\n",
      "Map saved as D:\\df\\maps\\map_1358.html\n",
      "Map saved as D:\\df\\maps\\map_1359.html\n"
     ]
    },
    {
     "name": "stderr",
     "output_type": "stream",
     "text": [
      "C:\\Users\\Fenin Jose\\AppData\\Local\\Temp\\ipykernel_17548\\574676199.py:17: FutureWarning: The default of observed=False is deprecated and will be changed to True in a future version of pandas. Pass observed=False to retain current behavior or observed=True to adopt the future default and silence this warning.\n",
      "  df_unique = df_new.groupby('name').agg({'lat': 'first', 'lng': 'first'}).reset_index()\n",
      "C:\\Users\\Fenin Jose\\AppData\\Local\\Temp\\ipykernel_17548\\574676199.py:17: FutureWarning: The default of observed=False is deprecated and will be changed to True in a future version of pandas. Pass observed=False to retain current behavior or observed=True to adopt the future default and silence this warning.\n",
      "  df_unique = df_new.groupby('name').agg({'lat': 'first', 'lng': 'first'}).reset_index()\n",
      "C:\\Users\\Fenin Jose\\AppData\\Local\\Temp\\ipykernel_17548\\574676199.py:17: FutureWarning: The default of observed=False is deprecated and will be changed to True in a future version of pandas. Pass observed=False to retain current behavior or observed=True to adopt the future default and silence this warning.\n",
      "  df_unique = df_new.groupby('name').agg({'lat': 'first', 'lng': 'first'}).reset_index()\n",
      "C:\\Users\\Fenin Jose\\AppData\\Local\\Temp\\ipykernel_17548\\574676199.py:17: FutureWarning: The default of observed=False is deprecated and will be changed to True in a future version of pandas. Pass observed=False to retain current behavior or observed=True to adopt the future default and silence this warning.\n",
      "  df_unique = df_new.groupby('name').agg({'lat': 'first', 'lng': 'first'}).reset_index()\n",
      "C:\\Users\\Fenin Jose\\AppData\\Local\\Temp\\ipykernel_17548\\574676199.py:17: FutureWarning: The default of observed=False is deprecated and will be changed to True in a future version of pandas. Pass observed=False to retain current behavior or observed=True to adopt the future default and silence this warning.\n",
      "  df_unique = df_new.groupby('name').agg({'lat': 'first', 'lng': 'first'}).reset_index()\n"
     ]
    },
    {
     "name": "stdout",
     "output_type": "stream",
     "text": [
      "Map saved as D:\\df\\maps\\map_1360.html\n",
      "Map saved as D:\\df\\maps\\map_1361.html\n",
      "Map saved as D:\\df\\maps\\map_1362.html\n",
      "Map saved as D:\\df\\maps\\map_1363.html\n",
      "Map saved as D:\\df\\maps\\map_1364.html\n"
     ]
    },
    {
     "name": "stderr",
     "output_type": "stream",
     "text": [
      "C:\\Users\\Fenin Jose\\AppData\\Local\\Temp\\ipykernel_17548\\574676199.py:17: FutureWarning: The default of observed=False is deprecated and will be changed to True in a future version of pandas. Pass observed=False to retain current behavior or observed=True to adopt the future default and silence this warning.\n",
      "  df_unique = df_new.groupby('name').agg({'lat': 'first', 'lng': 'first'}).reset_index()\n",
      "C:\\Users\\Fenin Jose\\AppData\\Local\\Temp\\ipykernel_17548\\574676199.py:17: FutureWarning: The default of observed=False is deprecated and will be changed to True in a future version of pandas. Pass observed=False to retain current behavior or observed=True to adopt the future default and silence this warning.\n",
      "  df_unique = df_new.groupby('name').agg({'lat': 'first', 'lng': 'first'}).reset_index()\n",
      "C:\\Users\\Fenin Jose\\AppData\\Local\\Temp\\ipykernel_17548\\574676199.py:17: FutureWarning: The default of observed=False is deprecated and will be changed to True in a future version of pandas. Pass observed=False to retain current behavior or observed=True to adopt the future default and silence this warning.\n",
      "  df_unique = df_new.groupby('name').agg({'lat': 'first', 'lng': 'first'}).reset_index()\n",
      "C:\\Users\\Fenin Jose\\AppData\\Local\\Temp\\ipykernel_17548\\574676199.py:17: FutureWarning: The default of observed=False is deprecated and will be changed to True in a future version of pandas. Pass observed=False to retain current behavior or observed=True to adopt the future default and silence this warning.\n",
      "  df_unique = df_new.groupby('name').agg({'lat': 'first', 'lng': 'first'}).reset_index()\n",
      "C:\\Users\\Fenin Jose\\AppData\\Local\\Temp\\ipykernel_17548\\574676199.py:17: FutureWarning: The default of observed=False is deprecated and will be changed to True in a future version of pandas. Pass observed=False to retain current behavior or observed=True to adopt the future default and silence this warning.\n",
      "  df_unique = df_new.groupby('name').agg({'lat': 'first', 'lng': 'first'}).reset_index()\n"
     ]
    },
    {
     "name": "stdout",
     "output_type": "stream",
     "text": [
      "Map saved as D:\\df\\maps\\map_1365.html\n",
      "Map saved as D:\\df\\maps\\map_1366.html\n",
      "Map saved as D:\\df\\maps\\map_1367.html\n",
      "Map saved as D:\\df\\maps\\map_1368.html\n",
      "Map saved as D:\\df\\maps\\map_1369.html\n"
     ]
    },
    {
     "name": "stderr",
     "output_type": "stream",
     "text": [
      "C:\\Users\\Fenin Jose\\AppData\\Local\\Temp\\ipykernel_17548\\574676199.py:17: FutureWarning: The default of observed=False is deprecated and will be changed to True in a future version of pandas. Pass observed=False to retain current behavior or observed=True to adopt the future default and silence this warning.\n",
      "  df_unique = df_new.groupby('name').agg({'lat': 'first', 'lng': 'first'}).reset_index()\n",
      "C:\\Users\\Fenin Jose\\AppData\\Local\\Temp\\ipykernel_17548\\574676199.py:17: FutureWarning: The default of observed=False is deprecated and will be changed to True in a future version of pandas. Pass observed=False to retain current behavior or observed=True to adopt the future default and silence this warning.\n",
      "  df_unique = df_new.groupby('name').agg({'lat': 'first', 'lng': 'first'}).reset_index()\n",
      "C:\\Users\\Fenin Jose\\AppData\\Local\\Temp\\ipykernel_17548\\574676199.py:17: FutureWarning: The default of observed=False is deprecated and will be changed to True in a future version of pandas. Pass observed=False to retain current behavior or observed=True to adopt the future default and silence this warning.\n",
      "  df_unique = df_new.groupby('name').agg({'lat': 'first', 'lng': 'first'}).reset_index()\n",
      "C:\\Users\\Fenin Jose\\AppData\\Local\\Temp\\ipykernel_17548\\574676199.py:17: FutureWarning: The default of observed=False is deprecated and will be changed to True in a future version of pandas. Pass observed=False to retain current behavior or observed=True to adopt the future default and silence this warning.\n",
      "  df_unique = df_new.groupby('name').agg({'lat': 'first', 'lng': 'first'}).reset_index()\n",
      "C:\\Users\\Fenin Jose\\AppData\\Local\\Temp\\ipykernel_17548\\574676199.py:17: FutureWarning: The default of observed=False is deprecated and will be changed to True in a future version of pandas. Pass observed=False to retain current behavior or observed=True to adopt the future default and silence this warning.\n",
      "  df_unique = df_new.groupby('name').agg({'lat': 'first', 'lng': 'first'}).reset_index()\n"
     ]
    },
    {
     "name": "stdout",
     "output_type": "stream",
     "text": [
      "Map saved as D:\\df\\maps\\map_1370.html\n",
      "Map saved as D:\\df\\maps\\map_1371.html\n",
      "Map saved as D:\\df\\maps\\map_1372.html\n",
      "Map saved as D:\\df\\maps\\map_1373.html\n"
     ]
    },
    {
     "name": "stderr",
     "output_type": "stream",
     "text": [
      "C:\\Users\\Fenin Jose\\AppData\\Local\\Temp\\ipykernel_17548\\574676199.py:17: FutureWarning: The default of observed=False is deprecated and will be changed to True in a future version of pandas. Pass observed=False to retain current behavior or observed=True to adopt the future default and silence this warning.\n",
      "  df_unique = df_new.groupby('name').agg({'lat': 'first', 'lng': 'first'}).reset_index()\n",
      "C:\\Users\\Fenin Jose\\AppData\\Local\\Temp\\ipykernel_17548\\574676199.py:17: FutureWarning: The default of observed=False is deprecated and will be changed to True in a future version of pandas. Pass observed=False to retain current behavior or observed=True to adopt the future default and silence this warning.\n",
      "  df_unique = df_new.groupby('name').agg({'lat': 'first', 'lng': 'first'}).reset_index()\n",
      "C:\\Users\\Fenin Jose\\AppData\\Local\\Temp\\ipykernel_17548\\574676199.py:17: FutureWarning: The default of observed=False is deprecated and will be changed to True in a future version of pandas. Pass observed=False to retain current behavior or observed=True to adopt the future default and silence this warning.\n",
      "  df_unique = df_new.groupby('name').agg({'lat': 'first', 'lng': 'first'}).reset_index()\n",
      "C:\\Users\\Fenin Jose\\AppData\\Local\\Temp\\ipykernel_17548\\574676199.py:17: FutureWarning: The default of observed=False is deprecated and will be changed to True in a future version of pandas. Pass observed=False to retain current behavior or observed=True to adopt the future default and silence this warning.\n",
      "  df_unique = df_new.groupby('name').agg({'lat': 'first', 'lng': 'first'}).reset_index()\n"
     ]
    },
    {
     "name": "stdout",
     "output_type": "stream",
     "text": [
      "Map saved as D:\\df\\maps\\map_1374.html\n",
      "Map saved as D:\\df\\maps\\map_1375.html\n",
      "Map saved as D:\\df\\maps\\map_1376.html\n",
      "Map saved as D:\\df\\maps\\map_1377.html\n"
     ]
    },
    {
     "name": "stderr",
     "output_type": "stream",
     "text": [
      "C:\\Users\\Fenin Jose\\AppData\\Local\\Temp\\ipykernel_17548\\574676199.py:17: FutureWarning: The default of observed=False is deprecated and will be changed to True in a future version of pandas. Pass observed=False to retain current behavior or observed=True to adopt the future default and silence this warning.\n",
      "  df_unique = df_new.groupby('name').agg({'lat': 'first', 'lng': 'first'}).reset_index()\n",
      "C:\\Users\\Fenin Jose\\AppData\\Local\\Temp\\ipykernel_17548\\574676199.py:17: FutureWarning: The default of observed=False is deprecated and will be changed to True in a future version of pandas. Pass observed=False to retain current behavior or observed=True to adopt the future default and silence this warning.\n",
      "  df_unique = df_new.groupby('name').agg({'lat': 'first', 'lng': 'first'}).reset_index()\n",
      "C:\\Users\\Fenin Jose\\AppData\\Local\\Temp\\ipykernel_17548\\574676199.py:17: FutureWarning: The default of observed=False is deprecated and will be changed to True in a future version of pandas. Pass observed=False to retain current behavior or observed=True to adopt the future default and silence this warning.\n",
      "  df_unique = df_new.groupby('name').agg({'lat': 'first', 'lng': 'first'}).reset_index()\n",
      "C:\\Users\\Fenin Jose\\AppData\\Local\\Temp\\ipykernel_17548\\574676199.py:17: FutureWarning: The default of observed=False is deprecated and will be changed to True in a future version of pandas. Pass observed=False to retain current behavior or observed=True to adopt the future default and silence this warning.\n",
      "  df_unique = df_new.groupby('name').agg({'lat': 'first', 'lng': 'first'}).reset_index()\n"
     ]
    },
    {
     "name": "stdout",
     "output_type": "stream",
     "text": [
      "Map saved as D:\\df\\maps\\map_1378.html\n",
      "Map saved as D:\\df\\maps\\map_1379.html\n",
      "Map saved as D:\\df\\maps\\map_1380.html\n"
     ]
    },
    {
     "name": "stderr",
     "output_type": "stream",
     "text": [
      "C:\\Users\\Fenin Jose\\AppData\\Local\\Temp\\ipykernel_17548\\574676199.py:17: FutureWarning: The default of observed=False is deprecated and will be changed to True in a future version of pandas. Pass observed=False to retain current behavior or observed=True to adopt the future default and silence this warning.\n",
      "  df_unique = df_new.groupby('name').agg({'lat': 'first', 'lng': 'first'}).reset_index()\n",
      "C:\\Users\\Fenin Jose\\AppData\\Local\\Temp\\ipykernel_17548\\574676199.py:17: FutureWarning: The default of observed=False is deprecated and will be changed to True in a future version of pandas. Pass observed=False to retain current behavior or observed=True to adopt the future default and silence this warning.\n",
      "  df_unique = df_new.groupby('name').agg({'lat': 'first', 'lng': 'first'}).reset_index()\n",
      "C:\\Users\\Fenin Jose\\AppData\\Local\\Temp\\ipykernel_17548\\574676199.py:17: FutureWarning: The default of observed=False is deprecated and will be changed to True in a future version of pandas. Pass observed=False to retain current behavior or observed=True to adopt the future default and silence this warning.\n",
      "  df_unique = df_new.groupby('name').agg({'lat': 'first', 'lng': 'first'}).reset_index()\n"
     ]
    },
    {
     "name": "stdout",
     "output_type": "stream",
     "text": [
      "Map saved as D:\\df\\maps\\map_1381.html\n",
      "Map saved as D:\\df\\maps\\map_1382.html\n",
      "Map saved as D:\\df\\maps\\map_1383.html\n",
      "Map saved as D:\\df\\maps\\map_1384.html\n"
     ]
    },
    {
     "name": "stderr",
     "output_type": "stream",
     "text": [
      "C:\\Users\\Fenin Jose\\AppData\\Local\\Temp\\ipykernel_17548\\574676199.py:17: FutureWarning: The default of observed=False is deprecated and will be changed to True in a future version of pandas. Pass observed=False to retain current behavior or observed=True to adopt the future default and silence this warning.\n",
      "  df_unique = df_new.groupby('name').agg({'lat': 'first', 'lng': 'first'}).reset_index()\n",
      "C:\\Users\\Fenin Jose\\AppData\\Local\\Temp\\ipykernel_17548\\574676199.py:17: FutureWarning: The default of observed=False is deprecated and will be changed to True in a future version of pandas. Pass observed=False to retain current behavior or observed=True to adopt the future default and silence this warning.\n",
      "  df_unique = df_new.groupby('name').agg({'lat': 'first', 'lng': 'first'}).reset_index()\n",
      "C:\\Users\\Fenin Jose\\AppData\\Local\\Temp\\ipykernel_17548\\574676199.py:17: FutureWarning: The default of observed=False is deprecated and will be changed to True in a future version of pandas. Pass observed=False to retain current behavior or observed=True to adopt the future default and silence this warning.\n",
      "  df_unique = df_new.groupby('name').agg({'lat': 'first', 'lng': 'first'}).reset_index()\n",
      "C:\\Users\\Fenin Jose\\AppData\\Local\\Temp\\ipykernel_17548\\574676199.py:17: FutureWarning: The default of observed=False is deprecated and will be changed to True in a future version of pandas. Pass observed=False to retain current behavior or observed=True to adopt the future default and silence this warning.\n",
      "  df_unique = df_new.groupby('name').agg({'lat': 'first', 'lng': 'first'}).reset_index()\n",
      "C:\\Users\\Fenin Jose\\AppData\\Local\\Temp\\ipykernel_17548\\574676199.py:17: FutureWarning: The default of observed=False is deprecated and will be changed to True in a future version of pandas. Pass observed=False to retain current behavior or observed=True to adopt the future default and silence this warning.\n",
      "  df_unique = df_new.groupby('name').agg({'lat': 'first', 'lng': 'first'}).reset_index()\n",
      "C:\\Users\\Fenin Jose\\AppData\\Local\\Temp\\ipykernel_17548\\574676199.py:17: FutureWarning: The default of observed=False is deprecated and will be changed to True in a future version of pandas. Pass observed=False to retain current behavior or observed=True to adopt the future default and silence this warning.\n",
      "  df_unique = df_new.groupby('name').agg({'lat': 'first', 'lng': 'first'}).reset_index()\n",
      "C:\\Users\\Fenin Jose\\AppData\\Local\\Temp\\ipykernel_17548\\574676199.py:17: FutureWarning: The default of observed=False is deprecated and will be changed to True in a future version of pandas. Pass observed=False to retain current behavior or observed=True to adopt the future default and silence this warning.\n",
      "  df_unique = df_new.groupby('name').agg({'lat': 'first', 'lng': 'first'}).reset_index()\n"
     ]
    },
    {
     "name": "stdout",
     "output_type": "stream",
     "text": [
      "Map saved as D:\\df\\maps\\map_1385.html\n",
      "Map saved as D:\\df\\maps\\map_1386.html\n",
      "Map saved as D:\\df\\maps\\map_1387.html\n",
      "Map saved as D:\\df\\maps\\map_1388.html\n"
     ]
    },
    {
     "name": "stderr",
     "output_type": "stream",
     "text": [
      "C:\\Users\\Fenin Jose\\AppData\\Local\\Temp\\ipykernel_17548\\574676199.py:17: FutureWarning: The default of observed=False is deprecated and will be changed to True in a future version of pandas. Pass observed=False to retain current behavior or observed=True to adopt the future default and silence this warning.\n",
      "  df_unique = df_new.groupby('name').agg({'lat': 'first', 'lng': 'first'}).reset_index()\n",
      "C:\\Users\\Fenin Jose\\AppData\\Local\\Temp\\ipykernel_17548\\574676199.py:17: FutureWarning: The default of observed=False is deprecated and will be changed to True in a future version of pandas. Pass observed=False to retain current behavior or observed=True to adopt the future default and silence this warning.\n",
      "  df_unique = df_new.groupby('name').agg({'lat': 'first', 'lng': 'first'}).reset_index()\n",
      "C:\\Users\\Fenin Jose\\AppData\\Local\\Temp\\ipykernel_17548\\574676199.py:17: FutureWarning: The default of observed=False is deprecated and will be changed to True in a future version of pandas. Pass observed=False to retain current behavior or observed=True to adopt the future default and silence this warning.\n",
      "  df_unique = df_new.groupby('name').agg({'lat': 'first', 'lng': 'first'}).reset_index()\n",
      "C:\\Users\\Fenin Jose\\AppData\\Local\\Temp\\ipykernel_17548\\574676199.py:17: FutureWarning: The default of observed=False is deprecated and will be changed to True in a future version of pandas. Pass observed=False to retain current behavior or observed=True to adopt the future default and silence this warning.\n",
      "  df_unique = df_new.groupby('name').agg({'lat': 'first', 'lng': 'first'}).reset_index()\n",
      "C:\\Users\\Fenin Jose\\AppData\\Local\\Temp\\ipykernel_17548\\574676199.py:17: FutureWarning: The default of observed=False is deprecated and will be changed to True in a future version of pandas. Pass observed=False to retain current behavior or observed=True to adopt the future default and silence this warning.\n",
      "  df_unique = df_new.groupby('name').agg({'lat': 'first', 'lng': 'first'}).reset_index()\n"
     ]
    },
    {
     "name": "stdout",
     "output_type": "stream",
     "text": [
      "Map saved as D:\\df\\maps\\map_1389.html\n",
      "Map saved as D:\\df\\maps\\map_1390.html\n",
      "Map saved as D:\\df\\maps\\map_1391.html\n",
      "Map saved as D:\\df\\maps\\map_1392.html\n",
      "Map saved as D:\\df\\maps\\map_1393.html\n"
     ]
    },
    {
     "name": "stderr",
     "output_type": "stream",
     "text": [
      "C:\\Users\\Fenin Jose\\AppData\\Local\\Temp\\ipykernel_17548\\574676199.py:17: FutureWarning: The default of observed=False is deprecated and will be changed to True in a future version of pandas. Pass observed=False to retain current behavior or observed=True to adopt the future default and silence this warning.\n",
      "  df_unique = df_new.groupby('name').agg({'lat': 'first', 'lng': 'first'}).reset_index()\n",
      "C:\\Users\\Fenin Jose\\AppData\\Local\\Temp\\ipykernel_17548\\574676199.py:17: FutureWarning: The default of observed=False is deprecated and will be changed to True in a future version of pandas. Pass observed=False to retain current behavior or observed=True to adopt the future default and silence this warning.\n",
      "  df_unique = df_new.groupby('name').agg({'lat': 'first', 'lng': 'first'}).reset_index()\n",
      "C:\\Users\\Fenin Jose\\AppData\\Local\\Temp\\ipykernel_17548\\574676199.py:17: FutureWarning: The default of observed=False is deprecated and will be changed to True in a future version of pandas. Pass observed=False to retain current behavior or observed=True to adopt the future default and silence this warning.\n",
      "  df_unique = df_new.groupby('name').agg({'lat': 'first', 'lng': 'first'}).reset_index()\n",
      "C:\\Users\\Fenin Jose\\AppData\\Local\\Temp\\ipykernel_17548\\574676199.py:17: FutureWarning: The default of observed=False is deprecated and will be changed to True in a future version of pandas. Pass observed=False to retain current behavior or observed=True to adopt the future default and silence this warning.\n",
      "  df_unique = df_new.groupby('name').agg({'lat': 'first', 'lng': 'first'}).reset_index()\n",
      "C:\\Users\\Fenin Jose\\AppData\\Local\\Temp\\ipykernel_17548\\574676199.py:17: FutureWarning: The default of observed=False is deprecated and will be changed to True in a future version of pandas. Pass observed=False to retain current behavior or observed=True to adopt the future default and silence this warning.\n",
      "  df_unique = df_new.groupby('name').agg({'lat': 'first', 'lng': 'first'}).reset_index()\n"
     ]
    },
    {
     "name": "stdout",
     "output_type": "stream",
     "text": [
      "Map saved as D:\\df\\maps\\map_1394.html\n",
      "Map saved as D:\\df\\maps\\map_1395.html\n",
      "Map saved as D:\\df\\maps\\map_1396.html\n",
      "Map saved as D:\\df\\maps\\map_1397.html\n",
      "Map saved as D:\\df\\maps\\map_1398.html\n"
     ]
    },
    {
     "name": "stderr",
     "output_type": "stream",
     "text": [
      "C:\\Users\\Fenin Jose\\AppData\\Local\\Temp\\ipykernel_17548\\574676199.py:17: FutureWarning: The default of observed=False is deprecated and will be changed to True in a future version of pandas. Pass observed=False to retain current behavior or observed=True to adopt the future default and silence this warning.\n",
      "  df_unique = df_new.groupby('name').agg({'lat': 'first', 'lng': 'first'}).reset_index()\n",
      "C:\\Users\\Fenin Jose\\AppData\\Local\\Temp\\ipykernel_17548\\574676199.py:17: FutureWarning: The default of observed=False is deprecated and will be changed to True in a future version of pandas. Pass observed=False to retain current behavior or observed=True to adopt the future default and silence this warning.\n",
      "  df_unique = df_new.groupby('name').agg({'lat': 'first', 'lng': 'first'}).reset_index()\n",
      "C:\\Users\\Fenin Jose\\AppData\\Local\\Temp\\ipykernel_17548\\574676199.py:17: FutureWarning: The default of observed=False is deprecated and will be changed to True in a future version of pandas. Pass observed=False to retain current behavior or observed=True to adopt the future default and silence this warning.\n",
      "  df_unique = df_new.groupby('name').agg({'lat': 'first', 'lng': 'first'}).reset_index()\n",
      "C:\\Users\\Fenin Jose\\AppData\\Local\\Temp\\ipykernel_17548\\574676199.py:17: FutureWarning: The default of observed=False is deprecated and will be changed to True in a future version of pandas. Pass observed=False to retain current behavior or observed=True to adopt the future default and silence this warning.\n",
      "  df_unique = df_new.groupby('name').agg({'lat': 'first', 'lng': 'first'}).reset_index()\n"
     ]
    },
    {
     "name": "stdout",
     "output_type": "stream",
     "text": [
      "Map saved as D:\\df\\maps\\map_1399.html\n",
      "Map saved as D:\\df\\maps\\map_1400.html\n",
      "Map saved as D:\\df\\maps\\map_1401.html\n",
      "Map saved as D:\\df\\maps\\map_1402.html\n"
     ]
    },
    {
     "name": "stderr",
     "output_type": "stream",
     "text": [
      "C:\\Users\\Fenin Jose\\AppData\\Local\\Temp\\ipykernel_17548\\574676199.py:17: FutureWarning: The default of observed=False is deprecated and will be changed to True in a future version of pandas. Pass observed=False to retain current behavior or observed=True to adopt the future default and silence this warning.\n",
      "  df_unique = df_new.groupby('name').agg({'lat': 'first', 'lng': 'first'}).reset_index()\n",
      "C:\\Users\\Fenin Jose\\AppData\\Local\\Temp\\ipykernel_17548\\574676199.py:17: FutureWarning: The default of observed=False is deprecated and will be changed to True in a future version of pandas. Pass observed=False to retain current behavior or observed=True to adopt the future default and silence this warning.\n",
      "  df_unique = df_new.groupby('name').agg({'lat': 'first', 'lng': 'first'}).reset_index()\n",
      "C:\\Users\\Fenin Jose\\AppData\\Local\\Temp\\ipykernel_17548\\574676199.py:17: FutureWarning: The default of observed=False is deprecated and will be changed to True in a future version of pandas. Pass observed=False to retain current behavior or observed=True to adopt the future default and silence this warning.\n",
      "  df_unique = df_new.groupby('name').agg({'lat': 'first', 'lng': 'first'}).reset_index()\n",
      "C:\\Users\\Fenin Jose\\AppData\\Local\\Temp\\ipykernel_17548\\574676199.py:17: FutureWarning: The default of observed=False is deprecated and will be changed to True in a future version of pandas. Pass observed=False to retain current behavior or observed=True to adopt the future default and silence this warning.\n",
      "  df_unique = df_new.groupby('name').agg({'lat': 'first', 'lng': 'first'}).reset_index()\n",
      "C:\\Users\\Fenin Jose\\AppData\\Local\\Temp\\ipykernel_17548\\574676199.py:17: FutureWarning: The default of observed=False is deprecated and will be changed to True in a future version of pandas. Pass observed=False to retain current behavior or observed=True to adopt the future default and silence this warning.\n",
      "  df_unique = df_new.groupby('name').agg({'lat': 'first', 'lng': 'first'}).reset_index()\n"
     ]
    },
    {
     "name": "stdout",
     "output_type": "stream",
     "text": [
      "Map saved as D:\\df\\maps\\map_1403.html\n",
      "Map saved as D:\\df\\maps\\map_1404.html\n",
      "Map saved as D:\\df\\maps\\map_1405.html\n",
      "Map saved as D:\\df\\maps\\map_1406.html\n",
      "Map saved as D:\\df\\maps\\map_1407.html\n"
     ]
    },
    {
     "name": "stderr",
     "output_type": "stream",
     "text": [
      "C:\\Users\\Fenin Jose\\AppData\\Local\\Temp\\ipykernel_17548\\574676199.py:17: FutureWarning: The default of observed=False is deprecated and will be changed to True in a future version of pandas. Pass observed=False to retain current behavior or observed=True to adopt the future default and silence this warning.\n",
      "  df_unique = df_new.groupby('name').agg({'lat': 'first', 'lng': 'first'}).reset_index()\n",
      "C:\\Users\\Fenin Jose\\AppData\\Local\\Temp\\ipykernel_17548\\574676199.py:17: FutureWarning: The default of observed=False is deprecated and will be changed to True in a future version of pandas. Pass observed=False to retain current behavior or observed=True to adopt the future default and silence this warning.\n",
      "  df_unique = df_new.groupby('name').agg({'lat': 'first', 'lng': 'first'}).reset_index()\n"
     ]
    },
    {
     "name": "stdout",
     "output_type": "stream",
     "text": [
      "Map saved as D:\\df\\maps\\map_1408.html\n",
      "Map saved as D:\\df\\maps\\map_1409.html\n",
      "Map saved as D:\\df\\maps\\map_1410.html\n",
      "Map saved as D:\\df\\maps\\map_1411.html\n"
     ]
    },
    {
     "name": "stderr",
     "output_type": "stream",
     "text": [
      "C:\\Users\\Fenin Jose\\AppData\\Local\\Temp\\ipykernel_17548\\574676199.py:17: FutureWarning: The default of observed=False is deprecated and will be changed to True in a future version of pandas. Pass observed=False to retain current behavior or observed=True to adopt the future default and silence this warning.\n",
      "  df_unique = df_new.groupby('name').agg({'lat': 'first', 'lng': 'first'}).reset_index()\n",
      "C:\\Users\\Fenin Jose\\AppData\\Local\\Temp\\ipykernel_17548\\574676199.py:17: FutureWarning: The default of observed=False is deprecated and will be changed to True in a future version of pandas. Pass observed=False to retain current behavior or observed=True to adopt the future default and silence this warning.\n",
      "  df_unique = df_new.groupby('name').agg({'lat': 'first', 'lng': 'first'}).reset_index()\n",
      "C:\\Users\\Fenin Jose\\AppData\\Local\\Temp\\ipykernel_17548\\574676199.py:17: FutureWarning: The default of observed=False is deprecated and will be changed to True in a future version of pandas. Pass observed=False to retain current behavior or observed=True to adopt the future default and silence this warning.\n",
      "  df_unique = df_new.groupby('name').agg({'lat': 'first', 'lng': 'first'}).reset_index()\n",
      "C:\\Users\\Fenin Jose\\AppData\\Local\\Temp\\ipykernel_17548\\574676199.py:17: FutureWarning: The default of observed=False is deprecated and will be changed to True in a future version of pandas. Pass observed=False to retain current behavior or observed=True to adopt the future default and silence this warning.\n",
      "  df_unique = df_new.groupby('name').agg({'lat': 'first', 'lng': 'first'}).reset_index()\n"
     ]
    },
    {
     "name": "stdout",
     "output_type": "stream",
     "text": [
      "Map saved as D:\\df\\maps\\map_1412.html\n",
      "Map saved as D:\\df\\maps\\map_1413.html\n",
      "Map saved as D:\\df\\maps\\map_1414.html\n",
      "Map saved as D:\\df\\maps\\map_1415.html\n",
      "Map saved as D:\\df\\maps\\map_1416.html\n"
     ]
    },
    {
     "name": "stderr",
     "output_type": "stream",
     "text": [
      "C:\\Users\\Fenin Jose\\AppData\\Local\\Temp\\ipykernel_17548\\574676199.py:17: FutureWarning: The default of observed=False is deprecated and will be changed to True in a future version of pandas. Pass observed=False to retain current behavior or observed=True to adopt the future default and silence this warning.\n",
      "  df_unique = df_new.groupby('name').agg({'lat': 'first', 'lng': 'first'}).reset_index()\n",
      "C:\\Users\\Fenin Jose\\AppData\\Local\\Temp\\ipykernel_17548\\574676199.py:17: FutureWarning: The default of observed=False is deprecated and will be changed to True in a future version of pandas. Pass observed=False to retain current behavior or observed=True to adopt the future default and silence this warning.\n",
      "  df_unique = df_new.groupby('name').agg({'lat': 'first', 'lng': 'first'}).reset_index()\n",
      "C:\\Users\\Fenin Jose\\AppData\\Local\\Temp\\ipykernel_17548\\574676199.py:17: FutureWarning: The default of observed=False is deprecated and will be changed to True in a future version of pandas. Pass observed=False to retain current behavior or observed=True to adopt the future default and silence this warning.\n",
      "  df_unique = df_new.groupby('name').agg({'lat': 'first', 'lng': 'first'}).reset_index()\n",
      "C:\\Users\\Fenin Jose\\AppData\\Local\\Temp\\ipykernel_17548\\574676199.py:17: FutureWarning: The default of observed=False is deprecated and will be changed to True in a future version of pandas. Pass observed=False to retain current behavior or observed=True to adopt the future default and silence this warning.\n",
      "  df_unique = df_new.groupby('name').agg({'lat': 'first', 'lng': 'first'}).reset_index()\n"
     ]
    },
    {
     "name": "stdout",
     "output_type": "stream",
     "text": [
      "Map saved as D:\\df\\maps\\map_1417.html\n",
      "Map saved as D:\\df\\maps\\map_1418.html\n",
      "Map saved as D:\\df\\maps\\map_1419.html\n",
      "Map saved as D:\\df\\maps\\map_1420.html\n",
      "Map saved as D:\\df\\maps\\map_1421.html\n"
     ]
    },
    {
     "name": "stderr",
     "output_type": "stream",
     "text": [
      "C:\\Users\\Fenin Jose\\AppData\\Local\\Temp\\ipykernel_17548\\574676199.py:17: FutureWarning: The default of observed=False is deprecated and will be changed to True in a future version of pandas. Pass observed=False to retain current behavior or observed=True to adopt the future default and silence this warning.\n",
      "  df_unique = df_new.groupby('name').agg({'lat': 'first', 'lng': 'first'}).reset_index()\n",
      "C:\\Users\\Fenin Jose\\AppData\\Local\\Temp\\ipykernel_17548\\574676199.py:17: FutureWarning: The default of observed=False is deprecated and will be changed to True in a future version of pandas. Pass observed=False to retain current behavior or observed=True to adopt the future default and silence this warning.\n",
      "  df_unique = df_new.groupby('name').agg({'lat': 'first', 'lng': 'first'}).reset_index()\n",
      "C:\\Users\\Fenin Jose\\AppData\\Local\\Temp\\ipykernel_17548\\574676199.py:17: FutureWarning: The default of observed=False is deprecated and will be changed to True in a future version of pandas. Pass observed=False to retain current behavior or observed=True to adopt the future default and silence this warning.\n",
      "  df_unique = df_new.groupby('name').agg({'lat': 'first', 'lng': 'first'}).reset_index()\n",
      "C:\\Users\\Fenin Jose\\AppData\\Local\\Temp\\ipykernel_17548\\574676199.py:17: FutureWarning: The default of observed=False is deprecated and will be changed to True in a future version of pandas. Pass observed=False to retain current behavior or observed=True to adopt the future default and silence this warning.\n",
      "  df_unique = df_new.groupby('name').agg({'lat': 'first', 'lng': 'first'}).reset_index()\n",
      "C:\\Users\\Fenin Jose\\AppData\\Local\\Temp\\ipykernel_17548\\574676199.py:17: FutureWarning: The default of observed=False is deprecated and will be changed to True in a future version of pandas. Pass observed=False to retain current behavior or observed=True to adopt the future default and silence this warning.\n",
      "  df_unique = df_new.groupby('name').agg({'lat': 'first', 'lng': 'first'}).reset_index()\n"
     ]
    },
    {
     "name": "stdout",
     "output_type": "stream",
     "text": [
      "Map saved as D:\\df\\maps\\map_1422.html\n",
      "Map saved as D:\\df\\maps\\map_1423.html\n",
      "Map saved as D:\\df\\maps\\map_1424.html\n"
     ]
    },
    {
     "name": "stderr",
     "output_type": "stream",
     "text": [
      "C:\\Users\\Fenin Jose\\AppData\\Local\\Temp\\ipykernel_17548\\574676199.py:17: FutureWarning: The default of observed=False is deprecated and will be changed to True in a future version of pandas. Pass observed=False to retain current behavior or observed=True to adopt the future default and silence this warning.\n",
      "  df_unique = df_new.groupby('name').agg({'lat': 'first', 'lng': 'first'}).reset_index()\n",
      "C:\\Users\\Fenin Jose\\AppData\\Local\\Temp\\ipykernel_17548\\574676199.py:17: FutureWarning: The default of observed=False is deprecated and will be changed to True in a future version of pandas. Pass observed=False to retain current behavior or observed=True to adopt the future default and silence this warning.\n",
      "  df_unique = df_new.groupby('name').agg({'lat': 'first', 'lng': 'first'}).reset_index()\n",
      "C:\\Users\\Fenin Jose\\AppData\\Local\\Temp\\ipykernel_17548\\574676199.py:17: FutureWarning: The default of observed=False is deprecated and will be changed to True in a future version of pandas. Pass observed=False to retain current behavior or observed=True to adopt the future default and silence this warning.\n",
      "  df_unique = df_new.groupby('name').agg({'lat': 'first', 'lng': 'first'}).reset_index()\n"
     ]
    },
    {
     "name": "stdout",
     "output_type": "stream",
     "text": [
      "Map saved as D:\\df\\maps\\map_1425.html\n",
      "Map saved as D:\\df\\maps\\map_1426.html\n",
      "Map saved as D:\\df\\maps\\map_1427.html\n",
      "Map saved as D:\\df\\maps\\map_1428.html\n"
     ]
    },
    {
     "name": "stderr",
     "output_type": "stream",
     "text": [
      "C:\\Users\\Fenin Jose\\AppData\\Local\\Temp\\ipykernel_17548\\574676199.py:17: FutureWarning: The default of observed=False is deprecated and will be changed to True in a future version of pandas. Pass observed=False to retain current behavior or observed=True to adopt the future default and silence this warning.\n",
      "  df_unique = df_new.groupby('name').agg({'lat': 'first', 'lng': 'first'}).reset_index()\n",
      "C:\\Users\\Fenin Jose\\AppData\\Local\\Temp\\ipykernel_17548\\574676199.py:17: FutureWarning: The default of observed=False is deprecated and will be changed to True in a future version of pandas. Pass observed=False to retain current behavior or observed=True to adopt the future default and silence this warning.\n",
      "  df_unique = df_new.groupby('name').agg({'lat': 'first', 'lng': 'first'}).reset_index()\n",
      "C:\\Users\\Fenin Jose\\AppData\\Local\\Temp\\ipykernel_17548\\574676199.py:17: FutureWarning: The default of observed=False is deprecated and will be changed to True in a future version of pandas. Pass observed=False to retain current behavior or observed=True to adopt the future default and silence this warning.\n",
      "  df_unique = df_new.groupby('name').agg({'lat': 'first', 'lng': 'first'}).reset_index()\n",
      "C:\\Users\\Fenin Jose\\AppData\\Local\\Temp\\ipykernel_17548\\574676199.py:17: FutureWarning: The default of observed=False is deprecated and will be changed to True in a future version of pandas. Pass observed=False to retain current behavior or observed=True to adopt the future default and silence this warning.\n",
      "  df_unique = df_new.groupby('name').agg({'lat': 'first', 'lng': 'first'}).reset_index()\n"
     ]
    },
    {
     "name": "stdout",
     "output_type": "stream",
     "text": [
      "Map saved as D:\\df\\maps\\map_1429.html\n",
      "Map saved as D:\\df\\maps\\map_1430.html\n",
      "Map saved as D:\\df\\maps\\map_1431.html\n",
      "Map saved as D:\\df\\maps\\map_1432.html\n",
      "Map saved as D:\\df\\maps\\map_1433.html\n"
     ]
    },
    {
     "name": "stderr",
     "output_type": "stream",
     "text": [
      "C:\\Users\\Fenin Jose\\AppData\\Local\\Temp\\ipykernel_17548\\574676199.py:17: FutureWarning: The default of observed=False is deprecated and will be changed to True in a future version of pandas. Pass observed=False to retain current behavior or observed=True to adopt the future default and silence this warning.\n",
      "  df_unique = df_new.groupby('name').agg({'lat': 'first', 'lng': 'first'}).reset_index()\n",
      "C:\\Users\\Fenin Jose\\AppData\\Local\\Temp\\ipykernel_17548\\574676199.py:17: FutureWarning: The default of observed=False is deprecated and will be changed to True in a future version of pandas. Pass observed=False to retain current behavior or observed=True to adopt the future default and silence this warning.\n",
      "  df_unique = df_new.groupby('name').agg({'lat': 'first', 'lng': 'first'}).reset_index()\n",
      "C:\\Users\\Fenin Jose\\AppData\\Local\\Temp\\ipykernel_17548\\574676199.py:17: FutureWarning: The default of observed=False is deprecated and will be changed to True in a future version of pandas. Pass observed=False to retain current behavior or observed=True to adopt the future default and silence this warning.\n",
      "  df_unique = df_new.groupby('name').agg({'lat': 'first', 'lng': 'first'}).reset_index()\n",
      "C:\\Users\\Fenin Jose\\AppData\\Local\\Temp\\ipykernel_17548\\574676199.py:17: FutureWarning: The default of observed=False is deprecated and will be changed to True in a future version of pandas. Pass observed=False to retain current behavior or observed=True to adopt the future default and silence this warning.\n",
      "  df_unique = df_new.groupby('name').agg({'lat': 'first', 'lng': 'first'}).reset_index()\n",
      "C:\\Users\\Fenin Jose\\AppData\\Local\\Temp\\ipykernel_17548\\574676199.py:17: FutureWarning: The default of observed=False is deprecated and will be changed to True in a future version of pandas. Pass observed=False to retain current behavior or observed=True to adopt the future default and silence this warning.\n",
      "  df_unique = df_new.groupby('name').agg({'lat': 'first', 'lng': 'first'}).reset_index()\n",
      "C:\\Users\\Fenin Jose\\AppData\\Local\\Temp\\ipykernel_17548\\574676199.py:17: FutureWarning: The default of observed=False is deprecated and will be changed to True in a future version of pandas. Pass observed=False to retain current behavior or observed=True to adopt the future default and silence this warning.\n",
      "  df_unique = df_new.groupby('name').agg({'lat': 'first', 'lng': 'first'}).reset_index()\n",
      "C:\\Users\\Fenin Jose\\AppData\\Local\\Temp\\ipykernel_17548\\574676199.py:17: FutureWarning: The default of observed=False is deprecated and will be changed to True in a future version of pandas. Pass observed=False to retain current behavior or observed=True to adopt the future default and silence this warning.\n",
      "  df_unique = df_new.groupby('name').agg({'lat': 'first', 'lng': 'first'}).reset_index()\n"
     ]
    },
    {
     "name": "stdout",
     "output_type": "stream",
     "text": [
      "Map saved as D:\\df\\maps\\map_1434.html\n",
      "Map saved as D:\\df\\maps\\map_1435.html\n",
      "Map saved as D:\\df\\maps\\map_1436.html\n"
     ]
    },
    {
     "name": "stderr",
     "output_type": "stream",
     "text": [
      "C:\\Users\\Fenin Jose\\AppData\\Local\\Temp\\ipykernel_17548\\574676199.py:17: FutureWarning: The default of observed=False is deprecated and will be changed to True in a future version of pandas. Pass observed=False to retain current behavior or observed=True to adopt the future default and silence this warning.\n",
      "  df_unique = df_new.groupby('name').agg({'lat': 'first', 'lng': 'first'}).reset_index()\n",
      "C:\\Users\\Fenin Jose\\AppData\\Local\\Temp\\ipykernel_17548\\574676199.py:17: FutureWarning: The default of observed=False is deprecated and will be changed to True in a future version of pandas. Pass observed=False to retain current behavior or observed=True to adopt the future default and silence this warning.\n",
      "  df_unique = df_new.groupby('name').agg({'lat': 'first', 'lng': 'first'}).reset_index()\n",
      "C:\\Users\\Fenin Jose\\AppData\\Local\\Temp\\ipykernel_17548\\574676199.py:17: FutureWarning: The default of observed=False is deprecated and will be changed to True in a future version of pandas. Pass observed=False to retain current behavior or observed=True to adopt the future default and silence this warning.\n",
      "  df_unique = df_new.groupby('name').agg({'lat': 'first', 'lng': 'first'}).reset_index()\n",
      "C:\\Users\\Fenin Jose\\AppData\\Local\\Temp\\ipykernel_17548\\574676199.py:17: FutureWarning: The default of observed=False is deprecated and will be changed to True in a future version of pandas. Pass observed=False to retain current behavior or observed=True to adopt the future default and silence this warning.\n",
      "  df_unique = df_new.groupby('name').agg({'lat': 'first', 'lng': 'first'}).reset_index()\n"
     ]
    },
    {
     "name": "stdout",
     "output_type": "stream",
     "text": [
      "Map saved as D:\\df\\maps\\map_1437.html\n",
      "Map saved as D:\\df\\maps\\map_1438.html\n",
      "Map saved as D:\\df\\maps\\map_1439.html\n",
      "Map saved as D:\\df\\maps\\map_1440.html\n"
     ]
    }
   ],
   "source": [
    "if __name__ == '__main__':\n",
    "    output_folder = 'D:\\\\df\\\\maps'\n",
    "\n",
    "    # Loop through each DataFrame and create/save a map\n",
    "    for i in range(len(data)):\n",
    "        maintenance_map(data, output_folder, i)\n",
    "     \n",
    "    \n",
    "    \n",
    "    \n",
    "\n",
    "\n",
    "\n",
    "    \n",
    "    \n",
    "\n",
    "    "
   ]
  }
 ],
 "metadata": {
  "kernelspec": {
   "display_name": "my_virtual_env",
   "language": "python",
   "name": "python3"
  },
  "language_info": {
   "codemirror_mode": {
    "name": "ipython",
    "version": 3
   },
   "file_extension": ".py",
   "mimetype": "text/x-python",
   "name": "python",
   "nbconvert_exporter": "python",
   "pygments_lexer": "ipython3",
   "version": "3.10.11"
  }
 },
 "nbformat": 4,
 "nbformat_minor": 2
}
